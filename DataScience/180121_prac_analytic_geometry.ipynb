{
 "cells": [
  {
   "cell_type": "markdown",
   "metadata": {},
   "source": [
    "#### 연습 문제 1\n",
    "만약  $v$ 가 원점을 지나는 직선의 방향을 나타내는 단위 벡터라고 하자. 이 때 어떤 점  $x$ 와 그 직선과의 거리의 제곱이 다음과 같음을 증명하라.\n",
    "$$ \\Vert x \\Vert^2 - \\left(x^Tv\\right)^2$$"
   ]
  },
  {
   "cell_type": "markdown",
   "metadata": {},
   "source": [
    "---"
   ]
  },
  {
   "cell_type": "markdown",
   "metadata": {},
   "source": [
    "임의의 점 $x_0$를 지나는 직선 $$w^Tx_0-w_0 = 0 $$ \n",
    "임의의 점 $x_0$와 원점을 지나는 직선 $$w^Tx_0 = 0 $$\n",
    "원점을 지나는 직선의 방향을 나타내는 단위벡터 $v$, \n",
    "$v$가 직선위에 있을 경우, $v$와 원점을 지나는 직선 $$w^Tv = 0 $$\n"
   ]
  },
  {
   "cell_type": "markdown",
   "metadata": {},
   "source": [
    "위 직선과 어떤 점 $x$의 거리제곱은 원점$(0, 0)$으로부터 $x$의 거리제곱에서 단위벡터 $v$에 대한 $x$의 프로젝션 벡터제곱을 뺀 값의 절대값\n",
    "\n",
    "$$ \\begin{eqnarray}\n",
    "\\left| \\,\\|x\\|^2 - \\|x^{\\Vert v}\\|^2 \\right|\n",
    "&=& \\left| \\,\\|x\\|^2 - \\left| \\dfrac{(x^Tv)}{\\|v\\|}\\right|^2 \\right|\\\\\n",
    "&=& \\left| \\, \\|x\\|^2 - (x^Tv)^2 \\right| \\end{eqnarray}$$"
   ]
  },
  {
   "cell_type": "code",
   "execution_count": null,
   "metadata": {
    "collapsed": true
   },
   "outputs": [],
   "source": []
  }
 ],
 "metadata": {
  "kernelspec": {
   "display_name": "Python 3",
   "language": "python",
   "name": "python3"
  },
  "language_info": {
   "codemirror_mode": {
    "name": "ipython",
    "version": 3
   },
   "file_extension": ".py",
   "mimetype": "text/x-python",
   "name": "python",
   "nbconvert_exporter": "python",
   "pygments_lexer": "ipython3",
   "version": "3.6.4"
  }
 },
 "nbformat": 4,
 "nbformat_minor": 2
}
