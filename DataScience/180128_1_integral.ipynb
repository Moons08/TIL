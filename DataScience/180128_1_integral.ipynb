{
 "cells": [
  {
   "cell_type": "code",
   "execution_count": 2,
   "metadata": {
    "collapsed": true
   },
   "outputs": [],
   "source": [
    "import tangent"
   ]
  },
  {
   "cell_type": "code",
   "execution_count": 3,
   "metadata": {
    "collapsed": true
   },
   "outputs": [],
   "source": [
    "def f(x):\n",
    "    return x**3 -  3*x**2 + x"
   ]
  },
  {
   "cell_type": "code",
   "execution_count": 4,
   "metadata": {
    "collapsed": true
   },
   "outputs": [],
   "source": [
    "x = np.linspace(-1, 3, 10)"
   ]
  },
  {
   "cell_type": "code",
   "execution_count": 5,
   "metadata": {},
   "outputs": [
    {
     "data": {
      "text/plain": [
       "array([-5.        , -1.65294925, -0.14951989,  0.03703704, -0.56652949,\n",
       "       -1.43347051, -2.03703704, -1.85048011, -0.34705075,  3.        ])"
      ]
     },
     "execution_count": 5,
     "metadata": {},
     "output_type": "execute_result"
    }
   ],
   "source": [
    "f(x)"
   ]
  },
  {
   "cell_type": "code",
   "execution_count": 8,
   "metadata": {
    "collapsed": true
   },
   "outputs": [],
   "source": [
    "fprime0 = tangent.grad(f)"
   ]
  },
  {
   "cell_type": "code",
   "execution_count": 10,
   "metadata": {},
   "outputs": [
    {
     "data": {
      "text/plain": [
       "-2.0"
      ]
     },
     "execution_count": 10,
     "metadata": {},
     "output_type": "execute_result"
    }
   ],
   "source": [
    "fprime0(1)"
   ]
  },
  {
   "cell_type": "code",
   "execution_count": 11,
   "metadata": {
    "collapsed": true
   },
   "outputs": [],
   "source": [
    "fprime = np.vectorize(fprime0)"
   ]
  },
  {
   "cell_type": "code",
   "execution_count": 12,
   "metadata": {},
   "outputs": [
    {
     "data": {
      "text/plain": [
       "array([ 10.        ,   5.25925926,   1.7037037 ,  -0.66666667,\n",
       "        -1.85185185,  -1.85185185,  -0.66666667,   1.7037037 ,\n",
       "         5.25925926,  10.        ])"
      ]
     },
     "execution_count": 12,
     "metadata": {},
     "output_type": "execute_result"
    }
   ],
   "source": [
    "fprime(x)"
   ]
  },
  {
   "cell_type": "markdown",
   "metadata": {},
   "source": [
    "--- "
   ]
  },
  {
   "cell_type": "markdown",
   "metadata": {},
   "source": [
    "## indefinite integral\n",
    "\n",
    "= anti derivative\n",
    "\n",
    "$$ \\dfrac{dF(x)}{dx} = f(x)  \n",
    "\\;\\;\\leftrightarrow \\;\\; F(x) = \\int f(x)dx + C $$\n",
    "\n",
    "- ex\n",
    "$$ \\int 3x^2 dx= x^3 + c$$\n",
    "\n",
    "\n",
    "$$ \\int (3x^2-6x+1)dx = x^3 -3x^2 + x + c $$\n",
    "\n",
    "\n",
    "$$\\int(2 + 6x+ 4\\exp(x) + \\dfrac{5}{x})dx = 2x + 3x^2 + 4\\exp (x) + 5\\log x + c$$\n",
    "\n",
    "$$ \\int \\dfrac{2x}{x^2-1}dx = \\log (x^2-1) + c$$"
   ]
  },
  {
   "cell_type": "markdown",
   "metadata": {},
   "source": [
    "---"
   ]
  },
  {
   "cell_type": "markdown",
   "metadata": {},
   "source": [
    "## derivative of partial differentiation\n",
    "\n",
    "$$ \\dfrac{\\partial F_1(x, y)}{\\partial x} = f(x, y) \\;\\; \\leftrightarrow \\;\\; \n",
    "F_1(x, y) = \\int f(x, y)dx + C(y) $$\n",
    "\n",
    "$$ \\dfrac{\\partial F_2(x, y)}{\\partial x} = f(x, y) \\;\\; \\leftrightarrow \\;\\; \n",
    "F_2(x, y) = \\int f(x, y)dy + C(x) $$\n",
    "\n",
    "- ex\n",
    "$$ \\int (1+ xy)dx = x + \\dfrac{1}{2}x^2y + C(y)$$\n",
    "$$ \\int xy\\exp(x^2+y^2)dx = \\dfrac{1}{2}y\\exp(x^2+y^2) + C(y) $$"
   ]
  },
  {
   "cell_type": "markdown",
   "metadata": {},
   "source": [
    "---"
   ]
  },
  {
   "cell_type": "markdown",
   "metadata": {},
   "source": [
    "## $n$th derivative, multiple integration\n",
    "- also called higher derivative\n",
    "\n",
    "\n",
    "$$ \\dfrac{\\partial^2 F_3(x)}{\\partial x\\partial y} = f(x, y) \\;\\;\\leftrightarrow \\;\\;\n",
    "F_3(x, y) = \\iint f(x, y)dxdy $$\n",
    "\n",
    "- ex\n",
    "$$\\iint xy \\exp({x^2 + y^2}) dxdy\n",
    "\\;\\; = \\dfrac{1}{4}\\exp(x^2+y^2)$$"
   ]
  },
  {
   "cell_type": "markdown",
   "metadata": {},
   "source": [
    "---"
   ]
  },
  {
   "cell_type": "markdown",
   "metadata": {},
   "source": [
    "## integration by SymPy"
   ]
  },
  {
   "cell_type": "code",
   "execution_count": 1,
   "metadata": {
    "collapsed": true
   },
   "outputs": [],
   "source": [
    "import sympy\n",
    "sympy.init_printing(use_latex='mathjax')"
   ]
  },
  {
   "cell_type": "code",
   "execution_count": 2,
   "metadata": {},
   "outputs": [
    {
     "data": {
      "text/latex": [
       "$$x y e^{x^{2} + y^{2}}$$"
      ],
      "text/plain": [
       "      2    2\n",
       "     x  + y \n",
       "x⋅y⋅ℯ       "
      ]
     },
     "execution_count": 2,
     "metadata": {},
     "output_type": "execute_result"
    }
   ],
   "source": [
    "x, y = sympy.symbols('x y')\n",
    "f = x*y*sympy.exp(x**2+y**2)\n",
    "f"
   ]
  },
  {
   "cell_type": "code",
   "execution_count": 5,
   "metadata": {},
   "outputs": [
    {
     "data": {
      "text/latex": [
       "$$\\frac{y}{2} e^{x^{2} + y^{2}}$$"
      ],
      "text/plain": [
       "    2    2\n",
       "   x  + y \n",
       "y⋅ℯ       \n",
       "──────────\n",
       "    2     "
      ]
     },
     "execution_count": 5,
     "metadata": {},
     "output_type": "execute_result"
    }
   ],
   "source": [
    "F_x = sympy.integrate(f, x)\n",
    "F_x"
   ]
  },
  {
   "cell_type": "code",
   "execution_count": 6,
   "metadata": {},
   "outputs": [
    {
     "data": {
      "text/latex": [
       "$$\\frac{1}{4} e^{x^{2} + y^{2}}$$"
      ],
      "text/plain": [
       "  2    2\n",
       " x  + y \n",
       "ℯ       \n",
       "────────\n",
       "   4    "
      ]
     },
     "execution_count": 6,
     "metadata": {},
     "output_type": "execute_result"
    }
   ],
   "source": [
    "sympy.integrate(F_x, y)"
   ]
  },
  {
   "cell_type": "markdown",
   "metadata": {},
   "source": [
    "---"
   ]
  },
  {
   "cell_type": "markdown",
   "metadata": {},
   "source": [
    "## definite integral\n",
    "\n",
    "$$ \\int_{a}^{b} f(x)dx $$\n",
    "\n",
    "- Fundamental Theorem of Calculus\n",
    "\n",
    "$$ \\int_{a}^{b} f(x)dx = F(b) - F(a) $$\n"
   ]
  },
  {
   "cell_type": "markdown",
   "metadata": {},
   "source": [
    "- practice (with sympy)\n",
    "\n",
    "$$ \\int_{0}^{2} (x^3 -3x^2+ x +6)dx $$"
   ]
  },
  {
   "cell_type": "code",
   "execution_count": 7,
   "metadata": {},
   "outputs": [
    {
     "data": {
      "text/latex": [
       "$$x^{3} - 3 x^{2} + x + 6$$"
      ],
      "text/plain": [
       " 3      2        \n",
       "x  - 3⋅x  + x + 6"
      ]
     },
     "execution_count": 7,
     "metadata": {},
     "output_type": "execute_result"
    }
   ],
   "source": [
    "f = x **3 - 3*x**2 + x + 6\n",
    "f"
   ]
  },
  {
   "cell_type": "code",
   "execution_count": 8,
   "metadata": {},
   "outputs": [
    {
     "data": {
      "text/latex": [
       "$$\\frac{x^{4}}{4} - x^{3} + \\frac{x^{2}}{2} + 6 x$$"
      ],
      "text/plain": [
       " 4         2      \n",
       "x     3   x       \n",
       "── - x  + ── + 6⋅x\n",
       "4         2       "
      ]
     },
     "execution_count": 8,
     "metadata": {},
     "output_type": "execute_result"
    }
   ],
   "source": [
    "# indefinite integration\n",
    "F = sympy.integrate(f)\n",
    "F"
   ]
  },
  {
   "cell_type": "code",
   "execution_count": 9,
   "metadata": {},
   "outputs": [
    {
     "data": {
      "text/latex": [
       "$$10.0$$"
      ],
      "text/plain": [
       "10.0000000000000"
      ]
     },
     "execution_count": 9,
     "metadata": {},
     "output_type": "execute_result"
    }
   ],
   "source": [
    "# Fundamental Theorem\n",
    "(F.subs(x, 2) - F.subs(x, 0)).evalf() "
   ]
  },
  {
   "cell_type": "code",
   "execution_count": 10,
   "metadata": {},
   "outputs": [
    {
     "data": {
      "text/latex": [
       "$$\\left ( 10.0, \\quad 1.1102230246251565e-13\\right )$$"
      ],
      "text/plain": [
       "(10.0, 1.1102230246251565e-13)"
      ]
     },
     "execution_count": 10,
     "metadata": {},
     "output_type": "execute_result"
    }
   ],
   "source": [
    "# numuerical integration\n",
    "def f(x):\n",
    "    return x **3 - 3*x**2 + x + 6\n",
    "sp.integrate.quad(f, 0, 2) # ( ans, error)\n"
   ]
  },
  {
   "cell_type": "markdown",
   "metadata": {},
   "source": [
    "---"
   ]
  },
  {
   "cell_type": "markdown",
   "metadata": {},
   "source": [
    "## multiple integral\n",
    "\n",
    "- double integral\n",
    "$$ volume = \\int_{y=c}^{y=d} \\int_{x=a}^{x=b} f(x, y)dxdy $$\n",
    "\n",
    "\n",
    "- integral\n",
    "    - f(x, y) is 2-dimensional function, but choose one variable and take the other one to constant(or think that fix y)\n",
    "    - ex\n",
    "     $$ f(x, y) = 4x^2 + 4xy + y^2 $$\n",
    "     $$ f(x; y) = 4x^2 + (4y)x + (y^2) $$"
   ]
  },
  {
   "cell_type": "markdown",
   "metadata": {},
   "source": [
    "- practice\n",
    "\n",
    "$$ \\int_{-1}^1\\int_{-1}^1 \\left(1+xy\\right) dxdy $$"
   ]
  },
  {
   "cell_type": "markdown",
   "metadata": {},
   "source": [
    "- Fundamental Theorem"
   ]
  },
  {
   "cell_type": "code",
   "execution_count": 11,
   "metadata": {
    "collapsed": true
   },
   "outputs": [],
   "source": [
    "x, y = sympy.symbols('x y')\n",
    "f = 1 + x*y\n",
    "F_x = sympy.integrate(f, x) # x integrate \n",
    "X = (F_x.subs(x, 1) - F_x.subs(x, -1)).evalf()\n",
    "\n",
    "F_xy = sympy.integrate(X, y) # y integrate\n",
    "Y = (F_xy.subs(y, 1) - F_xy.subs(y, -1)).evalf()"
   ]
  },
  {
   "cell_type": "code",
   "execution_count": 12,
   "metadata": {},
   "outputs": [
    {
     "data": {
      "text/latex": [
       "$$2.0$$"
      ],
      "text/plain": [
       "2.00000000000000"
      ]
     },
     "execution_count": 12,
     "metadata": {},
     "output_type": "execute_result"
    }
   ],
   "source": [
    "X"
   ]
  },
  {
   "cell_type": "code",
   "execution_count": 13,
   "metadata": {},
   "outputs": [
    {
     "data": {
      "text/latex": [
       "$$4.0$$"
      ],
      "text/plain": [
       "4.00000000000000"
      ]
     },
     "execution_count": 13,
     "metadata": {},
     "output_type": "execute_result"
    }
   ],
   "source": [
    "Y"
   ]
  },
  {
   "cell_type": "markdown",
   "metadata": {},
   "source": [
    "- numerical integration"
   ]
  },
  {
   "cell_type": "code",
   "execution_count": 18,
   "metadata": {},
   "outputs": [
    {
     "data": {
      "text/latex": [
       "$$\\left ( 4.0, \\quad 4.440892098500626e-14\\right )$$"
      ],
      "text/plain": [
       "(4.0, 4.440892098500626e-14)"
      ]
     },
     "execution_count": 18,
     "metadata": {},
     "output_type": "execute_result"
    }
   ],
   "source": [
    "def f(x, y):\n",
    "    return  1 + x*y\n",
    "\n",
    "sp.integrate.nquad(f, [[-1, 1], [-1, 1]])"
   ]
  }
 ],
 "metadata": {
  "kernelspec": {
   "display_name": "Python 3",
   "language": "python",
   "name": "python3"
  },
  "language_info": {
   "codemirror_mode": {
    "name": "ipython",
    "version": 3
   },
   "file_extension": ".py",
   "mimetype": "text/x-python",
   "name": "python",
   "nbconvert_exporter": "python",
   "pygments_lexer": "ipython3",
   "version": "3.6.4"
  }
 },
 "nbformat": 4,
 "nbformat_minor": 2
}
