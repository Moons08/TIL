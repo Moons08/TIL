{
 "cells": [
  {
   "cell_type": "markdown",
   "metadata": {},
   "source": [
    "# differentiation for optimization"
   ]
  },
  {
   "cell_type": "markdown",
   "metadata": {},
   "source": [
    "### basic formular\n",
    "\n",
    "\n",
    "\n",
    "- constant\n",
    "\n",
    "$$ \\dfrac{d}{dx}(c) = 0 $$ \n",
    "\n",
    "- exponentiation\n",
    "\n",
    "$$ \\dfrac{d}{dx}(x^n) = nx^{n-1} $$\n",
    "\n",
    "- log\n",
    "\n",
    "$$ \\dfrac{d}{dx}(\\log x) = \\dfrac{1}{x} $$\n",
    "\n",
    "- Euler\n",
    "\n",
    "$$ \\dfrac{d}{dx}(e^x) = e^x $$"
   ]
  },
  {
   "cell_type": "markdown",
   "metadata": {},
   "source": [
    "### linear combination\n",
    "\n",
    "\n",
    "$$ \\dfrac{d}{dx}(c_1f_1 + c_2f_2) = c1\\dfrac{df_1}{dx} + c2\\dfrac{df_2}{dx} $$"
   ]
  },
  {
   "cell_type": "markdown",
   "metadata": {},
   "source": [
    "### multiplication\n",
    "\n",
    "\n",
    "$$ \\dfrac{d}{dx}(f \\cdot g) = \\dfrac{df}{dx} \\cdot g + f \\cdot \\dfrac{dg}{dx}$$"
   ]
  },
  {
   "cell_type": "markdown",
   "metadata": {},
   "source": [
    "### chain rule\n",
    "\n",
    "$$ f(x) = h(g(x)) $$\n",
    "\n",
    "\n",
    "$$ -> \\dfrac{df}{dx} = \\dfrac{dh}{dg} \\cdot \\dfrac{dg}{dx} $$\n",
    "\n",
    "- ex: log function\n",
    "\n",
    "$$ \\dfrac{d}{dx}\\log f(x) = \\dfrac{f'(x)}{f(x)} $$"
   ]
  },
  {
   "cell_type": "markdown",
   "metadata": {},
   "source": [
    "---"
   ]
  },
  {
   "cell_type": "markdown",
   "metadata": {},
   "source": [
    "## second derivative\n",
    "- differentiate derivative\n",
    "\n",
    "$$ f'' = \\dfrac{d^2}{dx^2}f = \\dfrac{d^2f}{dx^2} = \\dfrac{d^2}{dx^2}y $$\n",
    "\n",
    "- second derivative means the slope of derivative\n",
    "    - when the slope(derivative) goes up, second derivative value is positive\n",
    "    - and we call it **convex**\n",
    "    - the other way, second derivative is negative, it is called **concave**"
   ]
  },
  {
   "cell_type": "markdown",
   "metadata": {},
   "source": [
    "### partial differentiation\n",
    "- when indipendant variables are more than one, differentiate one variable at once. which is partial differentiation (for convenient) \n",
    "\n",
    "$$ f_x(x, y) = \\dfrac{\\partial f}{\\partial x} $$\n",
    "$$ f_y(x, y) = \\dfrac{\\partial f}{\\partial y} $$\n",
    "\n"
   ]
  },
  {
   "cell_type": "markdown",
   "metadata": {},
   "source": [
    "---"
   ]
  },
  {
   "cell_type": "markdown",
   "metadata": {},
   "source": [
    "## Sympy\n",
    "for symbolic operation\n"
   ]
  },
  {
   "cell_type": "code",
   "execution_count": 2,
   "metadata": {
    "collapsed": true
   },
   "outputs": [],
   "source": [
    "import sympy\n",
    "sympy.init_printing(use_latex='mathjax')"
   ]
  },
  {
   "cell_type": "code",
   "execution_count": 4,
   "metadata": {},
   "outputs": [
    {
     "data": {
      "text/latex": [
       "$$e^{\\frac{1}{\\sigma^{2}} \\left(- \\mu + x\\right)^{2}}$$"
      ],
      "text/plain": [
       "         2\n",
       " (-μ + x) \n",
       " ─────────\n",
       "      2   \n",
       "     σ    \n",
       "ℯ         "
      ]
     },
     "execution_count": 4,
     "metadata": {},
     "output_type": "execute_result"
    }
   ],
   "source": [
    "x, mu, sigma = sympy.symbols('x mu sigma')\n",
    "f = sympy.exp((x-mu)**2 / sigma **2)\n",
    "f"
   ]
  },
  {
   "cell_type": "markdown",
   "metadata": {},
   "source": [
    "- in case partial, need to nominate the variable "
   ]
  },
  {
   "cell_type": "code",
   "execution_count": 5,
   "metadata": {},
   "outputs": [
    {
     "data": {
      "text/latex": [
       "$$\\frac{1}{\\sigma^{2}} \\left(- 2 \\mu + 2 x\\right) e^{\\frac{1}{\\sigma^{2}} \\left(- \\mu + x\\right)^{2}}$$"
      ],
      "text/plain": [
       "                      2\n",
       "              (-μ + x) \n",
       "              ─────────\n",
       "                   2   \n",
       "                  σ    \n",
       "(-2⋅μ + 2⋅x)⋅ℯ         \n",
       "───────────────────────\n",
       "            2          \n",
       "           σ           "
      ]
     },
     "execution_count": 5,
     "metadata": {},
     "output_type": "execute_result"
    }
   ],
   "source": [
    "sympy.diff(f, x) #differentiation"
   ]
  },
  {
   "cell_type": "code",
   "execution_count": 6,
   "metadata": {},
   "outputs": [
    {
     "data": {
      "text/latex": [
       "$$\\frac{2}{\\sigma^{2}} \\left(- \\mu + x\\right) e^{\\frac{1}{\\sigma^{2}} \\left(\\mu - x\\right)^{2}}$$"
      ],
      "text/plain": [
       "                   2\n",
       "            (μ - x) \n",
       "            ────────\n",
       "                2   \n",
       "               σ    \n",
       "2⋅(-μ + x)⋅ℯ        \n",
       "────────────────────\n",
       "          2         \n",
       "         σ          "
      ]
     },
     "execution_count": 6,
     "metadata": {},
     "output_type": "execute_result"
    }
   ],
   "source": [
    "sympy.simplify(sympy.diff(f, x))"
   ]
  }
 ],
 "metadata": {
  "kernelspec": {
   "display_name": "Python 3",
   "language": "python",
   "name": "python3"
  },
  "language_info": {
   "codemirror_mode": {
    "name": "ipython",
    "version": 3
   },
   "file_extension": ".py",
   "mimetype": "text/x-python",
   "name": "python",
   "nbconvert_exporter": "python",
   "pygments_lexer": "ipython3",
   "version": "3.6.4"
  }
 },
 "nbformat": 4,
 "nbformat_minor": 2
}
