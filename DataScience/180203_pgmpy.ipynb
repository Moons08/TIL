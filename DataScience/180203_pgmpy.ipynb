{
 "cells": [
  {
   "cell_type": "markdown",
   "metadata": {},
   "source": [
    "### Probabilistic Graphical Models in Python\n",
    "이산확률모형을 쉽게 구현할 수 있다."
   ]
  },
  {
   "cell_type": "code",
   "execution_count": 2,
   "metadata": {
    "collapsed": true
   },
   "outputs": [],
   "source": [
    "import pgmpy"
   ]
  },
  {
   "cell_type": "code",
   "execution_count": 6,
   "metadata": {
    "collapsed": true
   },
   "outputs": [],
   "source": [
    "from pgmpy.factors.discrete import JointProbabilityDistribution as JPD"
   ]
  },
  {
   "cell_type": "markdown",
   "metadata": {},
   "source": [
    "JointProbabilityDistribution \n",
    ": 결합 확률 모형 클래스\n",
    "\n",
    ">`JointProbabilityDistribution(variables, cardinality, values)`\n",
    ">\n",
    "- variables : 확률 변수의 이름 문자열의 리스트\n",
    "- cardinality : 각 확률 변수의 경우의 수 리스트\n",
    "- values : 모든 경우의 조합에 대한 확률 값 리스트\n",
    "\n",
    "joint probability : 사건 A와 B가 동시에 발생할 확률 $P(A\\cap B) $"
   ]
  },
  {
   "cell_type": "markdown",
   "metadata": {},
   "source": [
    "|    |$P(B) = 0.5 $|$ P(B^C) = 0.5 $  | 계 |\n",
    "|--|--|                |            | |\n",
    "|$P(A) = 0.6$| 3명, $\\frac{3}{20}$ |  9명,$\\frac{9}{20} $| 12명|\n",
    "|$P(A^C) = 0.4$| 7명, $\\frac{7}{20}$ |  1명,$\\frac{1}{20} $| 8명|\n",
    "| 계| 10명 | 10명| |"
   ]
  },
  {
   "cell_type": "code",
   "execution_count": 12,
   "metadata": {},
   "outputs": [
    {
     "name": "stdout",
     "output_type": "stream",
     "text": [
      "╒═════╤═════╤══════════╕\n",
      "│ A   │ B   │   P(A,B) │\n",
      "╞═════╪═════╪══════════╡\n",
      "│ A_0 │ B_0 │   0.1500 │\n",
      "├─────┼─────┼──────────┤\n",
      "│ A_0 │ B_1 │   0.4500 │\n",
      "├─────┼─────┼──────────┤\n",
      "│ A_1 │ B_0 │   0.3500 │\n",
      "├─────┼─────┼──────────┤\n",
      "│ A_1 │ B_1 │   0.0500 │\n",
      "╘═════╧═════╧══════════╛\n"
     ]
    }
   ],
   "source": [
    "j1 = JPD(['A', 'B'], [2, 2], np.array([3, 9, 7, 1]) /20)\n",
    "print(j1)"
   ]
  },
  {
   "cell_type": "markdown",
   "metadata": {},
   "source": [
    "variables 에 들어가는 인수가 사건의 이름이 아니라 확률 변수의 이름이라는 점에 주의한다."
   ]
  },
  {
   "cell_type": "code",
   "execution_count": 13,
   "metadata": {},
   "outputs": [
    {
     "name": "stdout",
     "output_type": "stream",
     "text": [
      "╒═════╤═════╤══════════╕\n",
      "│ A   │ B   │   P(A,B) │\n",
      "╞═════╪═════╪══════════╡\n",
      "│ A_0 │ B_0 │   0.3000 │\n",
      "├─────┼─────┼──────────┤\n",
      "│ A_0 │ B_1 │   0.3000 │\n",
      "├─────┼─────┼──────────┤\n",
      "│ A_1 │ B_0 │   0.2000 │\n",
      "├─────┼─────┼──────────┤\n",
      "│ A_1 │ B_1 │   0.2000 │\n",
      "╘═════╧═════╧══════════╛\n"
     ]
    }
   ],
   "source": [
    "j2 = JPD(['A', 'B'], [2, 2], np.array([6, 6, 4, 4]) /20)\n",
    "print(j2)"
   ]
  },
  {
   "cell_type": "code",
   "execution_count": 9,
   "metadata": {},
   "outputs": [
    {
     "data": {
      "text/plain": [
       "False"
      ]
     },
     "execution_count": 9,
     "metadata": {},
     "output_type": "execute_result"
    }
   ],
   "source": [
    "j1.check_independence(['A'], ['B'])"
   ]
  }
 ],
 "metadata": {
  "kernelspec": {
   "display_name": "Python 3",
   "language": "python",
   "name": "python3"
  },
  "language_info": {
   "codemirror_mode": {
    "name": "ipython",
    "version": 3
   },
   "file_extension": ".py",
   "mimetype": "text/x-python",
   "name": "python",
   "nbconvert_exporter": "python",
   "pygments_lexer": "ipython3",
   "version": "3.6.4"
  }
 },
 "nbformat": 4,
 "nbformat_minor": 2
}
