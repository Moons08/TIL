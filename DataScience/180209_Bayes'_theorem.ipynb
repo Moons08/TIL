{
 "cells": [
  {
   "cell_type": "markdown",
   "metadata": {},
   "source": [
    "### Bayes' theorem\n",
    "\n",
    ">to solve inverse probability(역확률)\n",
    "\n",
    ">ex) when we know $P(B|A), P(A), P(B)$, to know $P(A|B)$"
   ]
  },
  {
   "cell_type": "markdown",
   "metadata": {},
   "source": [
    "$$ P(A|B) = \\frac{P(B|A)P(A)}{P(B)} $$"
   ]
  },
  {
   "cell_type": "markdown",
   "metadata": {},
   "source": [
    "- P(A) : prior (사전확률), \n",
    "- P(A|B) : posterior (사후확률); when B realized, prior(P(A)) become posterior\n",
    "- P(B|A) : likelihood\n",
    "- P(B) : normalizing constant (trivial stuff)"
   ]
  },
  {
   "cell_type": "markdown",
   "metadata": {},
   "source": [
    "---"
   ]
  },
  {
   "cell_type": "markdown",
   "metadata": {},
   "source": [
    "### Normalize\n",
    "\n",
    "when event$A_i$ fulfill next conditions,\n",
    "- no intersection with each other\n",
    "\n",
    "$$ A_i \\cap A_j = \\emptyset$$\n",
    "- A's union is entire sample space\n",
    "\n",
    "$$ A_1 \\cup A_2 \\cup \\cdots = \\Omega$$\n",
    "\n",
    "by law of total probability, \n",
    "\n",
    "$$P(A_1|B) = \\dfrac{P(B|A_1)P(A_1)}{P(B)} = \\dfrac{P(B|A_1)P(A_1)}{\\sum_i P(A_i, B)}= \\dfrac{P(B|A_1)P(A_1)}{\\sum_i P(B|A_i)P(A_i)} $$\n",
    "\n",
    "\n",
    "when $A_1 = A, A_2 = A^C $,\n",
    "\n",
    "$$\\begin{eqnarray}\n",
    "P(A|B) \n",
    "&=& \\dfrac{P(B|A)P(A)}{P(B)} \\\\\n",
    "&=& \\dfrac{P(B|A)P(A)}{P(B,A) + P(B,A^C)} \\\\\n",
    "&=& \\dfrac{P(B|A)P(A)}{P(B|A)P(A) + P(B|A^C)P(A^C)} \\\\\n",
    "&=& \\dfrac{P(B|A)P(A)}{P(B|A)P(A) + P(B|A^C)(1 - P(A))} \n",
    "\\end{eqnarray}$$"
   ]
  },
  {
   "cell_type": "markdown",
   "metadata": {},
   "source": [
    "---"
   ]
  },
  {
   "cell_type": "markdown",
   "metadata": {},
   "source": [
    "### example: the Medical Test\n",
    "\n",
    "Event\n",
    "> D : chance of having sick\n",
    "\n",
    ">S : Positive test result\n",
    "\n",
    "> S|D : Probability of positive test result within sick people\n",
    "\n",
    "> D|S : Probability of having sick given a positive test result\n",
    "\n",
    "\n",
    "Question: \n",
    "\n",
    "when $P(S|D) = 0.99, \\;\\; P(D) = 0.002,\\;\\; P(S|D^C) = 0.05$\n",
    "\n",
    "$P(D|S)$? \n"
   ]
  },
  {
   "cell_type": "markdown",
   "metadata": {},
   "source": [
    "Answer:\n",
    "\n",
    "$$\\begin{eqnarray}\n",
    "P(D|S) \n",
    "&=& \\dfrac{P(S|D)P(D)}{P(S)} \\\\\n",
    "&=& \\dfrac{P(S|D)P(D)}{P(S,D) + P(S,D^C)} \\\\\n",
    "&=& \\dfrac{P(S|D)P(D)}{P(S|D)P(D) + P(S|D^C)P(D^C)} \\\\\n",
    "&=& \\dfrac{P(S|D)P(D)}{P(S|D)P(D) + P(S|D^C)(1-P(D))} \\\\\n",
    "&=& \\dfrac{0.99 \\cdot 0.002}{0.99 \\cdot 0.002 + 0.05 \\cdot (1 - 0.002)} \\\\\n",
    "&=& 0.038\n",
    "\\end{eqnarray}$$\n"
   ]
  },
  {
   "cell_type": "markdown",
   "metadata": {},
   "source": [
    "---"
   ]
  },
  {
   "cell_type": "markdown",
   "metadata": {},
   "source": [
    "## pgmpy"
   ]
  },
  {
   "cell_type": "code",
   "execution_count": 1,
   "metadata": {
    "collapsed": true
   },
   "outputs": [],
   "source": [
    "from pgmpy.factors.discrete import TabularCPD"
   ]
  },
  {
   "cell_type": "markdown",
   "metadata": {},
   "source": [
    "TabularCPD(variable, variable_card, value, evidence, evidence_card)"
   ]
  },
  {
   "cell_type": "code",
   "execution_count": 13,
   "metadata": {},
   "outputs": [
    {
     "name": "stdout",
     "output_type": "stream",
     "text": [
      "╒═════╤═══════╕\n",
      "│ D_0 │ 0.998 │\n",
      "├─────┼───────┤\n",
      "│ D_1 │ 0.002 │\n",
      "╘═════╧═══════╛\n"
     ]
    }
   ],
   "source": [
    "cpd_D = TabularCPD('D', 2, [[1-0.002, 0.002]])\n",
    "print(cpd_D)"
   ]
  },
  {
   "cell_type": "code",
   "execution_count": 27,
   "metadata": {},
   "outputs": [
    {
     "name": "stdout",
     "output_type": "stream",
     "text": [
      "╒═════╤══════╤══════╕\n",
      "│ D   │ D_0  │ D_1  │\n",
      "├─────┼──────┼──────┤\n",
      "│ S_0 │ 0.95 │ 0.01 │\n",
      "├─────┼──────┼──────┤\n",
      "│ S_1 │ 0.05 │ 0.99 │\n",
      "╘═════╧══════╧══════╛\n"
     ]
    }
   ],
   "source": [
    "cpd_SD = TabularCPD('S', 2, np.array([[0.95, 0.01], [0.05, 0.99]]),\n",
    "                                    evidence=['D'], evidence_card=[2])\n",
    "print(cpd_SD)"
   ]
  },
  {
   "cell_type": "markdown",
   "metadata": {},
   "source": [
    "#### need BaysianModel to calculate "
   ]
  },
  {
   "cell_type": "code",
   "execution_count": 28,
   "metadata": {
    "collapsed": true
   },
   "outputs": [],
   "source": [
    "from pgmpy.models import BayesianModel"
   ]
  },
  {
   "cell_type": "code",
   "execution_count": 29,
   "metadata": {},
   "outputs": [
    {
     "data": {
      "text/plain": [
       "True"
      ]
     },
     "execution_count": 29,
     "metadata": {},
     "output_type": "execute_result"
    }
   ],
   "source": [
    "model = BayesianModel([('D', 'S')])\n",
    "model.add_cpds(cpd_D, cpd_SD)\n",
    "model.check_model()"
   ]
  },
  {
   "cell_type": "code",
   "execution_count": 30,
   "metadata": {},
   "outputs": [
    {
     "name": "stdout",
     "output_type": "stream",
     "text": [
      "╒═════╤══════════╕\n",
      "│ D   │   phi(D) │\n",
      "╞═════╪══════════╡\n",
      "│ D_0 │   0.9618 │\n",
      "├─────┼──────────┤\n",
      "│ D_1 │   0.0382 │\n",
      "╘═════╧══════════╛\n"
     ]
    }
   ],
   "source": [
    "from pgmpy.inference import VariableElimination\n",
    "\n",
    "infer = VariableElimination(model)\n",
    "posterior = infer.query(['D'], evidence={'S': 1})\n",
    "print(posterior['D'])"
   ]
  },
  {
   "cell_type": "markdown",
   "metadata": {},
   "source": [
    "---"
   ]
  },
  {
   "cell_type": "code",
   "execution_count": 38,
   "metadata": {},
   "outputs": [
    {
     "name": "stdout",
     "output_type": "stream",
     "text": [
      "╒═════╤════════╤══════╕\n",
      "│ D   │ D_0    │ D_1  │\n",
      "├─────┼────────┼──────┤\n",
      "│ S_0 │ 0.9995 │ 0.01 │\n",
      "├─────┼────────┼──────┤\n",
      "│ S_1 │ 0.0005 │ 0.99 │\n",
      "╘═════╧════════╧══════╛\n"
     ]
    }
   ],
   "source": [
    "cpd_SD = TabularCPD('S', 2, np.array([[0.9995, 0.01], [0.0005, 0.99]]),\n",
    "                                    evidence=['D'], evidence_card=[2])\n",
    "print(cpd_SD)"
   ]
  },
  {
   "cell_type": "code",
   "execution_count": 39,
   "metadata": {},
   "outputs": [
    {
     "data": {
      "text/plain": [
       "True"
      ]
     },
     "execution_count": 39,
     "metadata": {},
     "output_type": "execute_result"
    }
   ],
   "source": [
    "model = BayesianModel([('D', 'S')])\n",
    "model.add_cpds(cpd_D, cpd_SD)\n",
    "model.check_model()"
   ]
  },
  {
   "cell_type": "code",
   "execution_count": 40,
   "metadata": {},
   "outputs": [
    {
     "name": "stdout",
     "output_type": "stream",
     "text": [
      "╒═════╤══════════╕\n",
      "│ D   │   phi(D) │\n",
      "╞═════╪══════════╡\n",
      "│ D_0 │   0.2013 │\n",
      "├─────┼──────────┤\n",
      "│ D_1 │   0.7987 │\n",
      "╘═════╧══════════╛\n"
     ]
    }
   ],
   "source": [
    "from pgmpy.inference import VariableElimination\n",
    "\n",
    "infer = VariableElimination(model)\n",
    "posterior = infer.query(['D'], evidence={'S': 1})\n",
    "print(posterior['D'])"
   ]
  },
  {
   "cell_type": "markdown",
   "metadata": {},
   "source": [
    "---"
   ]
  },
  {
   "cell_type": "markdown",
   "metadata": {},
   "source": [
    "### Furthermore\n",
    "\n",
    "when event C realized,\n",
    "\n",
    "$$P(A|B,C) = \\dfrac{P(C|A,B)P(A|B)}{P(C|B)}$$\n",
    "\n",
    "nomal stuff to contrary\n",
    "$$P(A|C) = \\dfrac{P(C|A)P(A)}{P(C)}$$\n",
    "\n",
    "(proof)\n",
    "$$P(A,B,C) = P(A|B,C)P(B,C) = P(A|B,C)P(C|B)P(B) $$\n",
    "\n",
    "$$P(A,B,C) = P(C|A,B)P(A,B) = P(C|A,B)P(A|B)P(B) $$\n",
    "\n",
    "$$P(A|B,C)P(C|B)P(B) = P(C|A,B)P(A|B)P(B)$$\n",
    "\n",
    "$$P(A|B,C) = \\dfrac{P(C|A,B)P(A|B)}{P(C|B)}$$"
   ]
  },
  {
   "cell_type": "markdown",
   "metadata": {},
   "source": [
    "---"
   ]
  },
  {
   "cell_type": "code",
   "execution_count": 89,
   "metadata": {
    "collapsed": true
   },
   "outputs": [],
   "source": [
    "from pgmpy.factors.discrete import TabularCPD"
   ]
  },
  {
   "cell_type": "code",
   "execution_count": 90,
   "metadata": {
    "collapsed": true
   },
   "outputs": [],
   "source": [
    "from pgmpy.models import BayesianModel"
   ]
  },
  {
   "cell_type": "code",
   "execution_count": 91,
   "metadata": {},
   "outputs": [
    {
     "name": "stdout",
     "output_type": "stream",
     "text": [
      "╒══════════╤═══════════╕\n",
      "│ Upper5_0 │ 0.92623   │\n",
      "├──────────┼───────────┤\n",
      "│ Upper5_1 │ 0.0737705 │\n",
      "╘══════════╧═══════════╛\n"
     ]
    }
   ],
   "source": [
    "cpd_S = TabularCPD('Upper5', 2, [[1-18/244, 18/244]])\n",
    "print(cpd_S) # upper5"
   ]
  },
  {
   "cell_type": "code",
   "execution_count": 118,
   "metadata": {},
   "outputs": [
    {
     "name": "stdout",
     "output_type": "stream",
     "text": [
      "╒═════════╤═════════════════════╤════════════════════╕\n",
      "│ Upper5  │ Upper5_0            │ Upper5_1           │\n",
      "├─────────┼─────────────────────┼────────────────────┤\n",
      "│ Smoke_0 │ 0.6150442477876106  │ 0.6666666666666667 │\n",
      "├─────────┼─────────────────────┼────────────────────┤\n",
      "│ Smoke_1 │ 0.38495575221238937 │ 0.3333333333333333 │\n",
      "╘═════════╧═════════════════════╧════════════════════╛\n"
     ]
    }
   ],
   "source": [
    "cpd_US = TabularCPD('Smoke', 2, np.array([[1-87/226, 1-1/3], [87/226, 1/3]]),\n",
    "                                    evidence=['Upper5'], evidence_card=[2])\n",
    "print(cpd_US)"
   ]
  },
  {
   "cell_type": "code",
   "execution_count": 119,
   "metadata": {},
   "outputs": [
    {
     "data": {
      "text/plain": [
       "True"
      ]
     },
     "execution_count": 119,
     "metadata": {},
     "output_type": "execute_result"
    }
   ],
   "source": [
    "model = BayesianModel([('Upper5', 'Smoke')])\n",
    "model.add_cpds(cpd_S, cpd_US)\n",
    "model.check_model()"
   ]
  },
  {
   "cell_type": "code",
   "execution_count": 120,
   "metadata": {},
   "outputs": [
    {
     "name": "stdout",
     "output_type": "stream",
     "text": [
      "╒══════════╤═══════════════╕\n",
      "│ Upper5   │   phi(Upper5) │\n",
      "╞══════════╪═══════════════╡\n",
      "│ Upper5_0 │        0.9205 │\n",
      "├──────────┼───────────────┤\n",
      "│ Upper5_1 │        0.0795 │\n",
      "╘══════════╧═══════════════╛\n",
      "╒══════════╤═══════════════╕\n",
      "│ Upper5   │   phi(Upper5) │\n",
      "╞══════════╪═══════════════╡\n",
      "│ Upper5_0 │        0.9355 │\n",
      "├──────────┼───────────────┤\n",
      "│ Upper5_1 │        0.0645 │\n",
      "╘══════════╧═══════════════╛\n"
     ]
    }
   ],
   "source": [
    "from pgmpy.inference import VariableElimination\n",
    "\n",
    "infer = VariableElimination(model)\n",
    "posterior = infer.query(['Upper5'], evidence={'Smoke': 0}) # no Smoke 일때,\n",
    "print(posterior['Upper5']) #  upper5일 확률 : 7.95%\n",
    "posterior = infer.query(['Upper5'], evidence={'Smoke': 1}) # Smoke 일때,\n",
    "print(posterior['Upper5']) #  upper5일 확률 : 6.45%"
   ]
  },
  {
   "cell_type": "markdown",
   "metadata": {},
   "source": [
    "---"
   ]
  },
  {
   "cell_type": "code",
   "execution_count": 134,
   "metadata": {},
   "outputs": [
    {
     "name": "stdout",
     "output_type": "stream",
     "text": [
      "╒═════════╤═════════════════════╤═════════════════════╕\n",
      "│ Upper5  │ Upper5_0            │ Upper5_1            │\n",
      "├─────────┼─────────────────────┼─────────────────────┤\n",
      "│ Lunch_0 │ 0.7123893805309734  │ 0.8333333333333334  │\n",
      "├─────────┼─────────────────────┼─────────────────────┤\n",
      "│ Lunch_1 │ 0.28761061946902655 │ 0.16666666666666666 │\n",
      "╘═════════╧═════════════════════╧═════════════════════╛\n"
     ]
    }
   ],
   "source": [
    "cpd_US = TabularCPD('Lunch', 2, np.array([[1-65/226, 1-1/6], [65/226, 1/6]]),\n",
    "                                    evidence=['Upper5'], evidence_card=[2])\n",
    "print(cpd_US)"
   ]
  },
  {
   "cell_type": "code",
   "execution_count": 135,
   "metadata": {},
   "outputs": [
    {
     "data": {
      "text/plain": [
       "True"
      ]
     },
     "execution_count": 135,
     "metadata": {},
     "output_type": "execute_result"
    }
   ],
   "source": [
    "model = BayesianModel([('Upper5', 'Lunch')])\n",
    "model.add_cpds(cpd_S, cpd_US)\n",
    "model.check_model()"
   ]
  },
  {
   "cell_type": "code",
   "execution_count": 136,
   "metadata": {},
   "outputs": [
    {
     "name": "stdout",
     "output_type": "stream",
     "text": [
      "╒══════════╤═══════════════╕\n",
      "│ Upper5   │   phi(Upper5) │\n",
      "╞══════════╪═══════════════╡\n",
      "│ Upper5_0 │        0.9148 │\n",
      "├──────────┼───────────────┤\n",
      "│ Upper5_1 │        0.0852 │\n",
      "╘══════════╧═══════════════╛\n",
      "╒══════════╤═══════════════╕\n",
      "│ Upper5   │   phi(Upper5) │\n",
      "╞══════════╪═══════════════╡\n",
      "│ Upper5_0 │        0.9559 │\n",
      "├──────────┼───────────────┤\n",
      "│ Upper5_1 │        0.0441 │\n",
      "╘══════════╧═══════════════╛\n"
     ]
    }
   ],
   "source": [
    "from pgmpy.inference import VariableElimination\n",
    "\n",
    "infer = VariableElimination(model)\n",
    "posterior = infer.query(['Upper5'], evidence={'Lunch': 0}) # Dinner 일때,\n",
    "print(posterior['Upper5']) #  upper5일 확률 : 8.52%\n",
    "posterior = infer.query(['Upper5'], evidence={'Lunch': 1}) # Lunch 일때,\n",
    "print(posterior['Upper5']) #  upper5일 확률 : 4.41%\n"
   ]
  },
  {
   "cell_type": "markdown",
   "metadata": {},
   "source": [
    "---"
   ]
  },
  {
   "cell_type": "markdown",
   "metadata": {},
   "source": [
    "Lunch & smoke"
   ]
  },
  {
   "cell_type": "code",
   "execution_count": 153,
   "metadata": {},
   "outputs": [
    {
     "name": "stdout",
     "output_type": "stream",
     "text": [
      "╒════════╤═════════════════════╤═══════════════════════╕\n",
      "│ Upper5 │ Upper5_0            │ Upper5_1              │\n",
      "├────────┼─────────────────────┼───────────────────────┤\n",
      "│ LS_0   │ 0.9333333333333333  │ 0.9995652173913043    │\n",
      "├────────┼─────────────────────┼───────────────────────┤\n",
      "│ LS_1   │ 0.06666666666666667 │ 0.0004347826086956522 │\n",
      "╘════════╧═════════════════════╧═══════════════════════╛\n"
     ]
    }
   ],
   "source": [
    "cpd_US = TabularCPD('LS', 2, np.array([[1-3/45, 1-0.01/23], [3/45, 0.01/23]]),\n",
    "                                    evidence=['Upper5'], evidence_card=[2])\n",
    "print(cpd_US)"
   ]
  },
  {
   "cell_type": "code",
   "execution_count": 154,
   "metadata": {},
   "outputs": [
    {
     "data": {
      "text/plain": [
       "True"
      ]
     },
     "execution_count": 154,
     "metadata": {},
     "output_type": "execute_result"
    }
   ],
   "source": [
    "model = BayesianModel([('Upper5', 'LS')])\n",
    "model.add_cpds(cpd_S, cpd_US)\n",
    "model.check_model()"
   ]
  },
  {
   "cell_type": "code",
   "execution_count": 155,
   "metadata": {},
   "outputs": [
    {
     "name": "stdout",
     "output_type": "stream",
     "text": [
      "╒══════════╤═══════════════╕\n",
      "│ Upper5   │   phi(Upper5) │\n",
      "╞══════════╪═══════════════╡\n",
      "│ Upper5_0 │        0.9214 │\n",
      "├──────────┼───────────────┤\n",
      "│ Upper5_1 │        0.0786 │\n",
      "╘══════════╧═══════════════╛\n",
      "╒══════════╤═══════════════╕\n",
      "│ Upper5   │   phi(Upper5) │\n",
      "╞══════════╪═══════════════╡\n",
      "│ Upper5_0 │        0.9995 │\n",
      "├──────────┼───────────────┤\n",
      "│ Upper5_1 │        0.0005 │\n",
      "╘══════════╧═══════════════╛\n"
     ]
    }
   ],
   "source": [
    "from pgmpy.inference import VariableElimination\n",
    "\n",
    "infer = VariableElimination(model)\n",
    "posterior = infer.query(['Upper5'], evidence={'LS': 0}) # no smoke & Dinner 일때,\n",
    "print(posterior['Upper5']) #  upper5일 확률 : 7.86%\n",
    "posterior = infer.query(['Upper5'], evidence={'LS': 1}) # smoke & Lunch 일때,\n",
    "print(posterior['Upper5']) #  upper5일 확률 : 0%"
   ]
  },
  {
   "cell_type": "markdown",
   "metadata": {
    "collapsed": true
   },
   "source": [
    "---"
   ]
  },
  {
   "cell_type": "markdown",
   "metadata": {},
   "source": [
    "## Multiple CPD"
   ]
  },
  {
   "cell_type": "code",
   "execution_count": 1,
   "metadata": {
    "collapsed": true
   },
   "outputs": [],
   "source": [
    "from pgmpy.models import BayesianModel\n",
    "from pgmpy.factors.discrete import TabularCPD"
   ]
  },
  {
   "cell_type": "code",
   "execution_count": 2,
   "metadata": {
    "collapsed": true
   },
   "outputs": [],
   "source": [
    "model = BayesianModel([('Upper5', 'Smoke'), ('Upper5', 'Lunch'), \n",
    "                                ('Upper5', 'Weekday'), ('Upper5', 'sex'),\n",
    "                      ('Upper5', 'size'),])"
   ]
  },
  {
   "cell_type": "code",
   "execution_count": 3,
   "metadata": {
    "collapsed": true
   },
   "outputs": [],
   "source": [
    "cpd_a = TabularCPD('Upper5', 2, [[1-18/244, 18/244]])"
   ]
  },
  {
   "cell_type": "code",
   "execution_count": 4,
   "metadata": {
    "collapsed": true
   },
   "outputs": [],
   "source": [
    "cpd_s = TabularCPD('Smoke', 2, np.array([[1-87/226, 1-1/3], [87/226, 1/3]]),\n",
    "                                    evidence=['Upper5'], evidence_card=[2])"
   ]
  },
  {
   "cell_type": "code",
   "execution_count": 5,
   "metadata": {
    "collapsed": true
   },
   "outputs": [],
   "source": [
    "cpd_L = TabularCPD('Lunch', 2, np.array([[1-65/226, 1-1/6], [65/226, 1/6]]),\n",
    "                                    evidence=['Upper5'], evidence_card=[2])"
   ]
  },
  {
   "cell_type": "code",
   "execution_count": 6,
   "metadata": {
    "collapsed": true
   },
   "outputs": [],
   "source": [
    "cpd_d = TabularCPD('Weekday', 2, np.array([[1-78/226, 1-1/6], [78/226, 1/6]]),\n",
    "                                    evidence=['Upper5'], evidence_card=[2])"
   ]
  },
  {
   "cell_type": "code",
   "execution_count": 7,
   "metadata": {
    "collapsed": true
   },
   "outputs": [],
   "source": [
    "cpd_sex = TabularCPD('sex', 2, np.array([[1-83/226, 1-2/9], [83/226, 2/9]]),\n",
    "                                    evidence=['Upper5'], evidence_card=[2])"
   ]
  },
  {
   "cell_type": "code",
   "execution_count": 8,
   "metadata": {
    "collapsed": true
   },
   "outputs": [],
   "source": [
    "cpd_size = TabularCPD('size', 2, np.array([[1-154/226, 1-1/3], [154/226, 1/3]]),\n",
    "                                    evidence=['Upper5'], evidence_card=[2])"
   ]
  },
  {
   "cell_type": "code",
   "execution_count": 9,
   "metadata": {
    "collapsed": true
   },
   "outputs": [],
   "source": [
    "model.add_cpds(cpd_a, cpd_s, cpd_L, cpd_d, cpd_sex, cpd_size)"
   ]
  },
  {
   "cell_type": "code",
   "execution_count": 10,
   "metadata": {},
   "outputs": [
    {
     "data": {
      "text/plain": [
       "NodeView(('Upper5', 'Smoke', 'Lunch', 'Weekday', 'sex', 'size'))"
      ]
     },
     "execution_count": 10,
     "metadata": {},
     "output_type": "execute_result"
    }
   ],
   "source": [
    "copy_model = model.copy()\n",
    "copy_model.nodes()"
   ]
  },
  {
   "cell_type": "code",
   "execution_count": 11,
   "metadata": {},
   "outputs": [
    {
     "data": {
      "text/plain": [
       "OutEdgeView([('Upper5', 'Smoke'), ('Upper5', 'Lunch'), ('Upper5', 'Weekday'), ('Upper5', 'sex'), ('Upper5', 'size')])"
      ]
     },
     "execution_count": 11,
     "metadata": {},
     "output_type": "execute_result"
    }
   ],
   "source": [
    "copy_model.edges()"
   ]
  },
  {
   "cell_type": "code",
   "execution_count": 12,
   "metadata": {},
   "outputs": [
    {
     "data": {
      "text/plain": [
       "[<TabularCPD representing P(Upper5:2) at 0x7ff77d57a2b0>,\n",
       " <TabularCPD representing P(Smoke:2 | Upper5:2) at 0x7ff77d57a048>,\n",
       " <TabularCPD representing P(Lunch:2 | Upper5:2) at 0x7ff77d577f60>,\n",
       " <TabularCPD representing P(Weekday:2 | Upper5:2) at 0x7ff77d577710>,\n",
       " <TabularCPD representing P(sex:2 | Upper5:2) at 0x7ff77d577668>,\n",
       " <TabularCPD representing P(size:2 | Upper5:2) at 0x7ff77d5775c0>]"
      ]
     },
     "execution_count": 12,
     "metadata": {},
     "output_type": "execute_result"
    }
   ],
   "source": [
    "copy_model.get_cpds()"
   ]
  },
  {
   "cell_type": "code",
   "execution_count": 14,
   "metadata": {},
   "outputs": [
    {
     "name": "stdout",
     "output_type": "stream",
     "text": [
      "╒══════════╤═══════════════╕\n",
      "│ Upper5   │   phi(Upper5) │\n",
      "╞══════════╪═══════════════╡\n",
      "│ Upper5_0 │        0.7516 │\n",
      "├──────────┼───────────────┤\n",
      "│ Upper5_1 │        0.2484 │\n",
      "╘══════════╧═══════════════╛\n",
      "╒══════════╤═══════════════╕\n",
      "│ Upper5   │   phi(Upper5) │\n",
      "╞══════════╪═══════════════╡\n",
      "│ Upper5_0 │        0.9943 │\n",
      "├──────────┼───────────────┤\n",
      "│ Upper5_1 │        0.0057 │\n",
      "╘══════════╧═══════════════╛\n"
     ]
    }
   ],
   "source": [
    "from pgmpy.inference import VariableElimination\n",
    "\n",
    "infer = VariableElimination(model)\n",
    "posterior = infer.query(['Upper5'], \n",
    "                    evidence={'Lunch': 0, 'Smoke':0,'Weekday':0, 'sex':0, 'size':0})\n",
    "print(posterior['Upper5'])\n",
    "posterior = infer.query(['Upper5'], \n",
    "                    evidence={'Lunch': 1, 'Smoke':1, 'Weekday':1, 'sex':1, 'size':1})\n",
    "print(posterior['Upper5'])"
   ]
  },
  {
   "cell_type": "code",
   "execution_count": null,
   "metadata": {
    "collapsed": true
   },
   "outputs": [],
   "source": []
  }
 ],
 "metadata": {
  "kernelspec": {
   "display_name": "Python 3",
   "language": "python",
   "name": "python3"
  },
  "language_info": {
   "codemirror_mode": {
    "name": "ipython",
    "version": 3
   },
   "file_extension": ".py",
   "mimetype": "text/x-python",
   "name": "python",
   "nbconvert_exporter": "python",
   "pygments_lexer": "ipython3",
   "version": "3.6.4"
  }
 },
 "nbformat": 4,
 "nbformat_minor": 2
}
