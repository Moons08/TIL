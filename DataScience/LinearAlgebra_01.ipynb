{
 "cells": [
  {
   "cell_type": "markdown",
   "metadata": {},
   "source": [
    "영 벡터가 아닌 모든 벡터 x $$ x^TAx > 0 $$\n",
    "위 조건을 충족하는 경우 양-정부호(positive definite)\n",
    "$$ x^TAx >= 0 $$ 이 조건인 경우에는 양-준정부호(positive semi-definite)"
   ]
  },
  {
   "cell_type": "code",
   "execution_count": 2,
   "metadata": {},
   "outputs": [
    {
     "data": {
      "text/plain": [
       "array([[-4, -3, -2],\n",
       "       [-1,  0,  1],\n",
       "       [ 2,  3,  4]])"
      ]
     },
     "execution_count": 2,
     "metadata": {},
     "output_type": "execute_result"
    }
   ],
   "source": [
    "A = (np.arange(9) - 4).reshape(3, 3)\n",
    "A"
   ]
  },
  {
   "cell_type": "markdown",
   "metadata": {},
   "source": [
    "### Norm: use to check size of Matrix or Vector$$$$ \n",
    "Norm of A: $\\|A\\|$\n",
    "$$\\Vert A \\Vert_L = \\left( \\sum_{i=1}^M \\sum_{j=1}^N |a_{ij}|^L\\right)^{1/L}$$\n",
    "w/o significant L, usually L = 2\n",
    "$$\\Vert A \\Vert = \\Vert A \\Vert_F = \\sqrt {\\sum_{i=1}^M \\sum_{j=1}^N |a_{ij}^2}$$\n",
    "F means Frobenius norm"
   ]
  },
  {
   "cell_type": "code",
   "execution_count": 2,
   "metadata": {},
   "outputs": [
    {
     "data": {
      "text/plain": [
       "7.745966692414834"
      ]
     },
     "execution_count": 2,
     "metadata": {},
     "output_type": "execute_result"
    }
   ],
   "source": [
    "np.linalg.norm(A)"
   ]
  },
  {
   "cell_type": "code",
   "execution_count": 3,
   "metadata": {},
   "outputs": [
    {
     "name": "stdout",
     "output_type": "stream",
     "text": [
      "[[ 1.  0.  0.]\n",
      " [ 0.  1.  0.]\n",
      " [ 0.  0.  1.]]\n"
     ]
    },
    {
     "data": {
      "text/plain": [
       "3.0"
      ]
     },
     "execution_count": 3,
     "metadata": {},
     "output_type": "execute_result"
    }
   ],
   "source": [
    "print(np.eye(3)) # eye = identity matrix\n",
    "np.trace(np.eye(3))"
   ]
  },
  {
   "cell_type": "markdown",
   "metadata": {},
   "source": [
    "#### trace = 대각합"
   ]
  },
  {
   "cell_type": "code",
   "execution_count": 3,
   "metadata": {},
   "outputs": [
    {
     "data": {
      "text/plain": [
       "0"
      ]
     },
     "execution_count": 3,
     "metadata": {},
     "output_type": "execute_result"
    }
   ],
   "source": [
    "np.trace(A)"
   ]
  },
  {
   "cell_type": "markdown",
   "metadata": {},
   "source": [
    "$tr(cA) = c\\:\\ tr(A)$\n",
    "\n",
    "$tr(A^T) = tr(A) $\n",
    "\n",
    "$ tr(A + B) = tr(A) + tr(B) $\n",
    "\n",
    "#### Trace trick\n",
    "\n",
    "$tr(AB) = tr(BA)$\n",
    "\n",
    "$tr(ABC) = tr(BCA) = tr(CAB)$\n",
    "\n",
    "- quadratic form\n",
    "\n",
    "$$ x^TAx = tr(x^TAx) = tr(Axx^T) = tr(xx^TA) $$\n"
   ]
  },
  {
   "cell_type": "code",
   "execution_count": 5,
   "metadata": {},
   "outputs": [
    {
     "name": "stdout",
     "output_type": "stream",
     "text": [
      "[[21]]\n",
      "[[ 5 10]\n",
      " [ 8 16]]\n",
      "21 21\n"
     ]
    }
   ],
   "source": [
    "x = np.array([[1], [2]])\n",
    "A = np.array([[1, 2], [2, 3]])\n",
    "ans1 = np.dot(np.dot(x.T, A), x)\n",
    "print(ans1)\n",
    "ans2 = np.dot(np.dot(A, x), x.T)\n",
    "print(ans2)\n",
    "print(np.trace(ans1), np.trace(ans2))"
   ]
  },
  {
   "cell_type": "markdown",
   "metadata": {},
   "source": [
    "#### 행렬식 (determianant)\n",
    "- 정방행렬 A의 행렬식은 det(A) 혹은 $\\vert A \\vert $ 로 표기된다.\n",
    "- Cofactor(여인수) 전개로 불리는 재귀적 방법(recursive)으로 정의된다.\n"
   ]
  },
  {
   "cell_type": "code",
   "execution_count": 6,
   "metadata": {},
   "outputs": [
    {
     "data": {
      "text/plain": [
       "-9.5161973539299405e-16"
      ]
     },
     "execution_count": 6,
     "metadata": {},
     "output_type": "execute_result"
    }
   ],
   "source": [
    "A = (np.arange(9)+1).reshape(3, 3)\n",
    "np.linalg.det(A)"
   ]
  },
  {
   "cell_type": "markdown",
   "metadata": {},
   "source": [
    "#### 행렬식은 다음과 같은 성질을 만족\n",
    "$$det(A^T) = det(A) $$\n",
    "\n",
    "$$det(I) = 1 $$\n",
    "\n",
    "$$det(AB) = det(A)det(B) $$\n",
    "\n",
    "$$det(A^{-1}) = \\dfrac {1}{\\det(A)} $$"
   ]
  },
  {
   "cell_type": "code",
   "execution_count": 7,
   "metadata": {},
   "outputs": [
    {
     "data": {
      "text/plain": [
       "array([[  3.15251974e+15,  -6.30503948e+15,   3.15251974e+15],\n",
       "       [ -6.30503948e+15,   1.26100790e+16,  -6.30503948e+15],\n",
       "       [  3.15251974e+15,  -6.30503948e+15,   3.15251974e+15]])"
      ]
     },
     "execution_count": 7,
     "metadata": {},
     "output_type": "execute_result"
    }
   ],
   "source": [
    "A2 = np.linalg.inv(A)\n",
    "A2"
   ]
  }
 ],
 "metadata": {
  "kernelspec": {
   "display_name": "Python 3",
   "language": "python",
   "name": "python3"
  },
  "language_info": {
   "codemirror_mode": {
    "name": "ipython",
    "version": 3
   },
   "file_extension": ".py",
   "mimetype": "text/x-python",
   "name": "python",
   "nbconvert_exporter": "python",
   "pygments_lexer": "ipython3",
   "version": "3.6.4"
  }
 },
 "nbformat": 4,
 "nbformat_minor": 2
}
