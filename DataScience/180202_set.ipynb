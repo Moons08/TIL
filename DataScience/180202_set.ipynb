{
 "cells": [
  {
   "cell_type": "markdown",
   "metadata": {},
   "source": [
    "### 집합과 원소\n",
    "구별 가능한 객체의 모임을 **집합(set)**, 집합에 포함된 객체를 그 집합의 **원소(element)** 라고 한다."
   ]
  },
  {
   "cell_type": "markdown",
   "metadata": {},
   "source": [
    "#### Python\n",
    "`set`과 `frozenset` 자료형으로 집합을 나타낸다. \n",
    "- `set` : mutable\n",
    "- `frozenset` : immutable (just like tuple)"
   ]
  },
  {
   "cell_type": "code",
   "execution_count": 1,
   "metadata": {},
   "outputs": [
    {
     "name": "stdout",
     "output_type": "stream",
     "text": [
      "{1, 2, 3}\n",
      "frozenset({'H', 'T'})\n"
     ]
    }
   ],
   "source": [
    "A = set([1, 2, 3])\n",
    "print(A)\n",
    "B = frozenset(['H', 'T'])\n",
    "print(B)"
   ]
  },
  {
   "cell_type": "markdown",
   "metadata": {},
   "source": [
    "### 집합의 크기\n",
    "\n",
    "집합의 **크기(cardinality)**는 집합이 가지는 원소의 갯수를 말한다.\n",
    "- 다음과 같이 표현할 수 있다.\n",
    "\n",
    "$$ \\left | A \\right| = \\text{card}(A) = 3 $$\n",
    "\n",
    "파이썬에서는 `len` 명령을 사용한다.\n",
    "\n",
    "\n",
    "** 두 실수 사이에는 항상 다른 실수가 존재하므로 다음과 같은 실수 구간 집합은 *무한개*의 원소를 가진 집합이다. **\n",
    "\n",
    "$$ A = \\{ x:0 \\leq x \\leq 1 \\}$$"
   ]
  },
  {
   "cell_type": "markdown",
   "metadata": {},
   "source": [
    "### 합집합과 교집합\n",
    "\n",
    "$$ A \\cup B $$\n",
    "\n",
    "$$ A \\cap B $$\n",
    "\n",
    "파이썬에서는 `union`, `|` 과 `intersection`, `&` 을 사용한다."
   ]
  },
  {
   "cell_type": "code",
   "execution_count": 4,
   "metadata": {},
   "outputs": [
    {
     "name": "stdout",
     "output_type": "stream",
     "text": [
      "{1, 2, 3, 4, 5}\n",
      "{1, 2, 3, 4, 5}\n",
      "{3}\n",
      "{3}\n"
     ]
    }
   ],
   "source": [
    "A1, A2 = set([1, 2, 3]), set([3, 4, 5])\n",
    "A3 = set([1, 2, 3, 4, 5])\n",
    "print(A1.union(A2))\n",
    "print(A1 | A2)\n",
    "print(A1.intersection(A2))\n",
    "print(A1 & A2)"
   ]
  },
  {
   "cell_type": "markdown",
   "metadata": {},
   "source": [
    "### 전체집합, 부분집합, 여집합\n",
    "\n",
    "$$ A \\subset \\Omega $$\n",
    "\n",
    "전체 집합보다 작은 부분 집합을 **진부분집합(proper subset)**이라고 한다.\n",
    "\n",
    "파이썬에서는 `issubset`, 부등식 연산자( `=>`) 을 사용하여 부분집합 여부를 판단 가능하다. 더 작은 쪽이 부분집합이다."
   ]
  },
  {
   "cell_type": "code",
   "execution_count": 6,
   "metadata": {},
   "outputs": [
    {
     "data": {
      "text/plain": [
       "True"
      ]
     },
     "execution_count": 6,
     "metadata": {},
     "output_type": "execute_result"
    }
   ],
   "source": [
    "A1.issubset(A3)"
   ]
  },
  {
   "cell_type": "code",
   "execution_count": 15,
   "metadata": {},
   "outputs": [
    {
     "name": "stdout",
     "output_type": "stream",
     "text": [
      "True\n"
     ]
    },
    {
     "data": {
      "text/plain": [
       "False"
      ]
     },
     "execution_count": 15,
     "metadata": {},
     "output_type": "execute_result"
    }
   ],
   "source": [
    "print(A1 <= A3) # = 등식이 항상 부등호보다 뒤에 와야함\n",
    "A3 <= A1"
   ]
  },
  {
   "cell_type": "code",
   "execution_count": 17,
   "metadata": {},
   "outputs": [
    {
     "name": "stdout",
     "output_type": "stream",
     "text": [
      "True\n"
     ]
    },
    {
     "data": {
      "text/plain": [
       "False"
      ]
     },
     "execution_count": 17,
     "metadata": {},
     "output_type": "execute_result"
    }
   ],
   "source": [
    "print(A3 <= A3) # 모든 집합은 자기 자신의 부분집합이다.\n",
    "A3 < A3         # 모든 집합은 자기 자신의 진부분집합이 아니다."
   ]
  },
  {
   "cell_type": "markdown",
   "metadata": {},
   "source": [
    "### 차집합과 여집합\n",
    "\n",
    "차집합(difference)\n",
    "\n",
    "$$ A - B $$\n",
    "\n",
    "여집합\n",
    "\n",
    "전체집합 $\\Omega$ 중 부분집합 A에 속하지 않은 원소로만 이루어진 부분집합, 윗첨자 $C$(complement)를 사용한다.\n",
    "\n",
    "$$ A^C  = \\Omega - A $$\n",
    "\n",
    "파이썬에서는 `difference`, `-` 로 차집합을 구한다."
   ]
  },
  {
   "cell_type": "code",
   "execution_count": 18,
   "metadata": {},
   "outputs": [
    {
     "name": "stdout",
     "output_type": "stream",
     "text": [
      "{4, 5}\n"
     ]
    },
    {
     "data": {
      "text/plain": [
       "{1, 2}"
      ]
     },
     "execution_count": 18,
     "metadata": {},
     "output_type": "execute_result"
    }
   ],
   "source": [
    "print(A3-A1)\n",
    "A1.difference(A2)"
   ]
  },
  {
   "cell_type": "markdown",
   "metadata": {},
   "source": [
    "### 공집합\n",
    "\n",
    "아무런 원소도 포함하지 않는 집합을 **공집합(null set)** 이라고 하며 $\\emptyset$ 기호로 나타낸다.\n",
    "\n",
    "공집합은 모든 집합의 부분집합이 된다.\n",
    "\n",
    "$$ \\emptyset \\subset A, \\;\\text{for all} \\;A $$"
   ]
  },
  {
   "cell_type": "code",
   "execution_count": 19,
   "metadata": {},
   "outputs": [
    {
     "data": {
      "text/plain": [
       "set()"
      ]
     },
     "execution_count": 19,
     "metadata": {},
     "output_type": "execute_result"
    }
   ],
   "source": [
    "nullset = set([])\n",
    "nullset"
   ]
  },
  {
   "cell_type": "code",
   "execution_count": 21,
   "metadata": {},
   "outputs": [
    {
     "name": "stdout",
     "output_type": "stream",
     "text": [
      "set()\n"
     ]
    },
    {
     "data": {
      "text/plain": [
       "True"
      ]
     },
     "execution_count": 21,
     "metadata": {},
     "output_type": "execute_result"
    }
   ],
   "source": [
    "print(nullset.intersection(A1))\n",
    "nullset < A1"
   ]
  },
  {
   "cell_type": "code",
   "execution_count": null,
   "metadata": {
    "collapsed": true
   },
   "outputs": [],
   "source": []
  }
 ],
 "metadata": {
  "kernelspec": {
   "display_name": "Python 3",
   "language": "python",
   "name": "python3"
  },
  "language_info": {
   "codemirror_mode": {
    "name": "ipython",
    "version": 3
   },
   "file_extension": ".py",
   "mimetype": "text/x-python",
   "name": "python",
   "nbconvert_exporter": "python",
   "pygments_lexer": "ipython3",
   "version": "3.6.4"
  }
 },
 "nbformat": 4,
 "nbformat_minor": 2
}
