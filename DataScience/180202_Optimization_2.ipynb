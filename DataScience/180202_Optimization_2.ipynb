{
 "cells": [
  {
   "cell_type": "markdown",
   "metadata": {},
   "source": [
    "practice sympy"
   ]
  },
  {
   "cell_type": "code",
   "execution_count": 1,
   "metadata": {
    "collapsed": true
   },
   "outputs": [],
   "source": [
    "import sympy\n",
    "sympy.init_printing(use_latex='mathjax')"
   ]
  },
  {
   "cell_type": "code",
   "execution_count": 2,
   "metadata": {},
   "outputs": [
    {
     "data": {
      "text/latex": [
       "$$x y e^{x^{2} + y^{2}}$$"
      ],
      "text/plain": [
       "      2    2\n",
       "     x  + y \n",
       "x⋅y⋅ℯ       "
      ]
     },
     "execution_count": 2,
     "metadata": {},
     "output_type": "execute_result"
    }
   ],
   "source": [
    "x, y = sympy.symbols('x y')\n",
    "f = x*y*sympy.exp(x**2 + y**2)\n",
    "f"
   ]
  },
  {
   "cell_type": "code",
   "execution_count": 3,
   "metadata": {},
   "outputs": [
    {
     "data": {
      "text/latex": [
       "$$\\frac{y}{2} e^{x^{2} + y^{2}}$$"
      ],
      "text/plain": [
       "    2    2\n",
       "   x  + y \n",
       "y⋅ℯ       \n",
       "──────────\n",
       "    2     "
      ]
     },
     "execution_count": 3,
     "metadata": {},
     "output_type": "execute_result"
    }
   ],
   "source": [
    "sympy.integrate(f, x)"
   ]
  },
  {
   "cell_type": "code",
   "execution_count": 4,
   "metadata": {},
   "outputs": [
    {
     "data": {
      "text/latex": [
       "$$\\frac{1}{4} e^{x^{2} + y^{2}}$$"
      ],
      "text/plain": [
       "  2    2\n",
       " x  + y \n",
       "ℯ       \n",
       "────────\n",
       "   4    "
      ]
     },
     "execution_count": 4,
     "metadata": {},
     "output_type": "execute_result"
    }
   ],
   "source": [
    "a = sympy.integrate(f, x, y)\n",
    "a"
   ]
  },
  {
   "cell_type": "code",
   "execution_count": 5,
   "metadata": {},
   "outputs": [
    {
     "data": {
      "text/latex": [
       "$$\\frac{x}{2} e^{x^{2} + y^{2}}$$"
      ],
      "text/plain": [
       "    2    2\n",
       "   x  + y \n",
       "x⋅ℯ       \n",
       "──────────\n",
       "    2     "
      ]
     },
     "execution_count": 5,
     "metadata": {},
     "output_type": "execute_result"
    }
   ],
   "source": [
    "sympy.diff(a, x)"
   ]
  },
  {
   "cell_type": "code",
   "execution_count": 6,
   "metadata": {},
   "outputs": [
    {
     "data": {
      "text/latex": [
       "$$x y e^{x^{2} + y^{2}}$$"
      ],
      "text/plain": [
       "      2    2\n",
       "     x  + y \n",
       "x⋅y⋅ℯ       "
      ]
     },
     "execution_count": 6,
     "metadata": {},
     "output_type": "execute_result"
    }
   ],
   "source": [
    "sympy.diff(a, x, y) # multiple partial difference"
   ]
  },
  {
   "cell_type": "code",
   "execution_count": 7,
   "metadata": {},
   "outputs": [
    {
     "data": {
      "text/latex": [
       "$$\\frac{\\sqrt{\\pi} e^{y^{2}}}{8} \\operatorname{erfi}{\\left (x \\right )}$$"
      ],
      "text/plain": [
       "    ⎛ 2⎞        \n",
       "    ⎝y ⎠        \n",
       "√π⋅ℯ    ⋅erfi(x)\n",
       "────────────────\n",
       "       8        "
      ]
     },
     "execution_count": 7,
     "metadata": {},
     "output_type": "execute_result"
    }
   ],
   "source": [
    "sympy.integrate(f, x, y, x)"
   ]
  },
  {
   "cell_type": "code",
   "execution_count": 8,
   "metadata": {},
   "outputs": [
    {
     "data": {
      "text/latex": [
       "$$\\frac{\\sqrt{\\pi} e^{y^{2}}}{8} \\left(\\frac{x^{2}}{2} \\operatorname{erfi}{\\left (x \\right )} - \\frac{x e^{x^{2}}}{2 \\sqrt{\\pi}} - \\frac{1}{4} \\operatorname{erfi}{\\left (x \\right )}\\right)$$"
      ],
      "text/plain": [
       "   ⎛                ⎛ 2⎞          ⎞      \n",
       "   ⎜ 2              ⎝x ⎠          ⎟  ⎛ 2⎞\n",
       "   ⎜x ⋅erfi(x)   x⋅ℯ       erfi(x)⎟  ⎝y ⎠\n",
       "√π⋅⎜────────── - ─────── - ───────⎟⋅ℯ    \n",
       "   ⎝    2          2⋅√π       4   ⎠      \n",
       "─────────────────────────────────────────\n",
       "                    8                    "
      ]
     },
     "execution_count": 8,
     "metadata": {},
     "output_type": "execute_result"
    }
   ],
   "source": [
    "sympy.integrate(f, x, y, x, x, x) # multiple partial integrate"
   ]
  },
  {
   "cell_type": "code",
   "execution_count": 9,
   "metadata": {},
   "outputs": [
    {
     "data": {
      "text/latex": [
       "$$- \\frac{e^{y^{2}}}{32} \\left(2 x e^{x^{2}} - \\sqrt{\\pi} \\left(2 x^{2} - 1\\right) \\operatorname{erfi}{\\left (x \\right )}\\right)$$"
      ],
      "text/plain": [
       " ⎛     ⎛ 2⎞                        ⎞  ⎛ 2⎞ \n",
       " ⎜     ⎝x ⎠      ⎛   2    ⎞        ⎟  ⎝y ⎠ \n",
       "-⎝2⋅x⋅ℯ     - √π⋅⎝2⋅x  - 1⎠⋅erfi(x)⎠⋅ℯ     \n",
       "───────────────────────────────────────────\n",
       "                     32                    "
      ]
     },
     "execution_count": 9,
     "metadata": {},
     "output_type": "execute_result"
    }
   ],
   "source": [
    "sympy.simplify(sympy.integrate(f, x, y, x, x, x))"
   ]
  },
  {
   "cell_type": "markdown",
   "metadata": {},
   "source": [
    "---"
   ]
  },
  {
   "cell_type": "code",
   "execution_count": 10,
   "metadata": {},
   "outputs": [
    {
     "data": {
      "text/latex": [
       "$$\\frac{1}{4} e^{x^{2} + y^{2}}$$"
      ],
      "text/plain": [
       "  2    2\n",
       " x  + y \n",
       "ℯ       \n",
       "────────\n",
       "   4    "
      ]
     },
     "execution_count": 10,
     "metadata": {},
     "output_type": "execute_result"
    }
   ],
   "source": [
    "a"
   ]
  },
  {
   "cell_type": "code",
   "execution_count": 11,
   "metadata": {},
   "outputs": [
    {
     "data": {
      "text/latex": [
       "$$- \\frac{e^{y^{2}}}{4} + \\frac{1}{4} e^{y^{2} + 4}$$"
      ],
      "text/plain": [
       "   ⎛ 2⎞     2    \n",
       "   ⎝y ⎠    y  + 4\n",
       "  ℯ       ℯ      \n",
       "- ───── + ───────\n",
       "    4        4   "
      ]
     },
     "execution_count": 11,
     "metadata": {},
     "output_type": "execute_result"
    }
   ],
   "source": [
    "a.subs(x, 2) - a.subs(x, 0)"
   ]
  },
  {
   "cell_type": "code",
   "execution_count": 12,
   "metadata": {},
   "outputs": [
    {
     "data": {
      "text/latex": [
       "$$- 0.25 e^{y^{2}} + 0.25 e^{y^{2} + 4}$$"
      ],
      "text/plain": [
       "        ⎛ 2⎞          2    \n",
       "        ⎝y ⎠         y  + 4\n",
       "- 0.25⋅ℯ     + 0.25⋅ℯ      "
      ]
     },
     "execution_count": 12,
     "metadata": {},
     "output_type": "execute_result"
    }
   ],
   "source": [
    "(a.subs(x, 2) - a.subs(x, 0)).evalf()"
   ]
  },
  {
   "cell_type": "code",
   "execution_count": 13,
   "metadata": {},
   "outputs": [
    {
     "data": {
      "text/latex": [
       "$$\\frac{x^{4}}{4} - x^{3} + \\frac{x^{2}}{2} + 6 x$$"
      ],
      "text/plain": [
       " 4         2      \n",
       "x     3   x       \n",
       "── - x  + ── + 6⋅x\n",
       "4         2       "
      ]
     },
     "execution_count": 13,
     "metadata": {},
     "output_type": "execute_result"
    }
   ],
   "source": [
    "f = x**3 - 3*x**2 + x + 6\n",
    "F = sympy.integrate(f)\n",
    "F"
   ]
  },
  {
   "cell_type": "code",
   "execution_count": 14,
   "metadata": {},
   "outputs": [
    {
     "data": {
      "text/latex": [
       "$$10$$"
      ],
      "text/plain": [
       "10"
      ]
     },
     "execution_count": 14,
     "metadata": {},
     "output_type": "execute_result"
    }
   ],
   "source": [
    "F.subs(x, 2) - F.subs(x, 0)"
   ]
  },
  {
   "cell_type": "code",
   "execution_count": 15,
   "metadata": {},
   "outputs": [
    {
     "data": {
      "text/latex": [
       "$$10.0$$"
      ],
      "text/plain": [
       "10.0000000000000"
      ]
     },
     "execution_count": 15,
     "metadata": {},
     "output_type": "execute_result"
    }
   ],
   "source": [
    "(F.subs(x, 2) - F.subs(x, 0)).evalf()  # indifinite intigrate"
   ]
  },
  {
   "cell_type": "code",
   "execution_count": 16,
   "metadata": {
    "collapsed": true
   },
   "outputs": [],
   "source": [
    "from sympy import Matrix"
   ]
  },
  {
   "cell_type": "code",
   "execution_count": 17,
   "metadata": {},
   "outputs": [
    {
     "data": {
      "text/latex": [
       "$$\\left[\\begin{matrix}\\frac{1}{x_{1} - 1} & 0\\\\0 & 3 x_{2}^{2}\\end{matrix}\\right]$$"
      ],
      "text/plain": [
       "⎡  1          ⎤\n",
       "⎢──────    0  ⎥\n",
       "⎢x₁ - 1       ⎥\n",
       "⎢             ⎥\n",
       "⎢            2⎥\n",
       "⎣  0     3⋅x₂ ⎦"
      ]
     },
     "execution_count": 17,
     "metadata": {},
     "output_type": "execute_result"
    }
   ],
   "source": [
    "x1, x2 = sympy.symbols('x1 x2')\n",
    "X = Matrix([sympy.log(x1-1), x2**3])\n",
    "X2 = Matrix([2*x1**2, sympy.exp(x2-1)])\n",
    "Y = Matrix([[x1], [x2]])\n",
    "X.jacobian(Y) # jacobian matrix: differentiate vector by vector"
   ]
  },
  {
   "cell_type": "markdown",
   "metadata": {},
   "source": [
    "numerical integration"
   ]
  },
  {
   "cell_type": "code",
   "execution_count": 18,
   "metadata": {},
   "outputs": [
    {
     "name": "stdout",
     "output_type": "stream",
     "text": [
      "(0.4999999999999961, 1.0684538743333441e-08)\n"
     ]
    },
    {
     "data": {
      "text/latex": [
       "$$\\left ( 0.4999999999999961, \\quad 1.0684538743333441e-08\\right )$$"
      ],
      "text/plain": [
       "(0.4999999999999961, 1.0684538743333441e-08)"
      ]
     },
     "execution_count": 18,
     "metadata": {},
     "output_type": "execute_result"
    }
   ],
   "source": [
    "def f(x, y):\n",
    "    return np.exp(-x*y) / y**2\n",
    "\n",
    "print(sp.integrate.dblquad(f, 1, np.inf, lambda x:0, lambda x: np.inf))\n",
    "sp.integrate.nquad(f, [[0, np.inf], [1, np.inf]])"
   ]
  },
  {
   "cell_type": "markdown",
   "metadata": {},
   "source": [
    "\n",
    "----"
   ]
  },
  {
   "cell_type": "markdown",
   "metadata": {},
   "source": [
    "## Optimization by SciPy"
   ]
  },
  {
   "cell_type": "markdown",
   "metadata": {},
   "source": [
    "https://docs.scipy.org/doc/scipy/reference/generated/scipy.optimize.minimize.html"
   ]
  },
  {
   "cell_type": "code",
   "execution_count": 19,
   "metadata": {},
   "outputs": [],
   "source": [
    "import scipy as sp"
   ]
  },
  {
   "cell_type": "markdown",
   "metadata": {},
   "source": [
    "SciPy의 optimize 서브 패키지는 최적화 명령 minimize 제공\n",
    "- (default algorithm = BFGS)"
   ]
  },
  {
   "cell_type": "markdown",
   "metadata": {},
   "source": [
    "-  x : 최적화 해\n",
    "- success : 최적화 성공시 True 반환 \n",
    "- status : 종료상태, 최적화 성공시 0 반환\n",
    "- message: 메세지 문자열\n",
    "\n",
    ">- fun : x 위치 함수값\n",
    "- jac : x 위치 자코비안(그레디언트) 벡터의 값\n",
    "- hess : x 위치 헤시안 행렬 값\n",
    "\n",
    "\n",
    ">>- nfev : 목적함수 호출 횟수\n",
    "- njev : 자코비안 계산 횟수\n",
    "- nhev : 헤시안 계산 회수\n",
    "- nit : x 이동 횟수"
   ]
  },
  {
   "cell_type": "code",
   "execution_count": 20,
   "metadata": {
    "collapsed": true
   },
   "outputs": [],
   "source": [
    "def f1(x):\n",
    "    return (x - 2) ** 2 + 2"
   ]
  },
  {
   "cell_type": "code",
   "execution_count": 21,
   "metadata": {},
   "outputs": [
    {
     "name": "stdout",
     "output_type": "stream",
     "text": [
      "      fun: 2.0\n",
      " hess_inv: array([[ 0.5]])\n",
      "      jac: array([ 0.])\n",
      "  message: 'Optimization terminated successfully.'\n",
      "     nfev: 9\n",
      "      nit: 2\n",
      "     njev: 3\n",
      "   status: 0\n",
      "  success: True\n",
      "        x: array([ 1.99999999])\n"
     ]
    },
    {
     "data": {
      "text/plain": [
       "array([ 1.99999999])"
      ]
     },
     "execution_count": 21,
     "metadata": {},
     "output_type": "execute_result"
    }
   ],
   "source": [
    "x0 = 0 # 초기값 설정\n",
    "result = sp.optimize.minimize(f1, x0) # 최적화할 함수, 초기값 입력\n",
    "print(result)\n",
    "x0 = result['x'] # 최적화 해\n",
    "x0"
   ]
  },
  {
   "cell_type": "markdown",
   "metadata": {},
   "source": [
    "nit(x 이동횟수)는 두번이지만 nfev(함수호출 횟수)가 9이다.\n",
    "\n",
    "이유는 **그레디언트 계산에 필요한 1차 미분(그레디언트 벡터) 함수나 헤시안 함수가 주어지지 않았기 때문**이다.\n",
    "\n",
    "따라서 x값 위치 근처에서 gradient계산을 여러번 (1번당 앞뒤 1번씩 3번, 즉 3 x 3 = 9) 하게 된다.\n",
    "\n",
    "이를 방지하기 위해서(계산량을 줄이기위해서)는 **직접 그레디언트와 헤시안 값을 반환하는 함수를 만들어 jac, hess 인수로 입력**하면 된다.\n",
    "\n",
    "\n"
   ]
  },
  {
   "cell_type": "code",
   "execution_count": 22,
   "metadata": {
    "collapsed": true
   },
   "outputs": [],
   "source": [
    "def f1d(x): # derivative of f1(x)\n",
    "    return 2 * (x - 2.0) "
   ]
  },
  {
   "cell_type": "code",
   "execution_count": 23,
   "metadata": {},
   "outputs": [
    {
     "data": {
      "text/plain": [
       "      fun: 2.0\n",
       " hess_inv: array([[ 0.5]])\n",
       "      jac: array([ 0.])\n",
       "  message: 'Optimization terminated successfully.'\n",
       "     nfev: 3\n",
       "      nit: 2\n",
       "     njev: 3\n",
       "   status: 0\n",
       "  success: True\n",
       "        x: array([ 2.])"
      ]
     },
     "execution_count": 23,
     "metadata": {},
     "output_type": "execute_result"
    }
   ],
   "source": [
    "x0 = 0\n",
    "sp.optimize.minimize(f1, x0, jac=f1d) "
   ]
  },
  {
   "cell_type": "markdown",
   "metadata": {},
   "source": [
    "#### 똑같이 nit은 2지만, nfev 숫자가 3으로 줄은 것을 확인할 수 있다."
   ]
  },
  {
   "cell_type": "markdown",
   "metadata": {},
   "source": [
    "---"
   ]
  },
  {
   "cell_type": "markdown",
   "metadata": {},
   "source": [
    "다변수 함수를 최적화하는 경우에는 목적함수가 벡터 인수를 가져야 한다."
   ]
  },
  {
   "cell_type": "code",
   "execution_count": 96,
   "metadata": {
    "collapsed": true
   },
   "outputs": [],
   "source": [
    "def f2(x):\n",
    "    return (1 - x[0])**2 + 100.0 * (x[1] - x[0]**2)**2"
   ]
  },
  {
   "cell_type": "code",
   "execution_count": 107,
   "metadata": {},
   "outputs": [
    {
     "name": "stdout",
     "output_type": "stream",
     "text": [
      "      fun: 1.9756022361030668e-11\n",
      " hess_inv: array([[ 0.50913289,  1.01823656],\n",
      "       [ 1.01823656,  2.04141475]])\n",
      "      jac: array([  1.02142751e-07,  -1.74410930e-08])\n",
      "  message: 'Optimization terminated successfully.'\n",
      "     nfev: 288\n",
      "      nit: 56\n",
      "     njev: 72\n",
      "   status: 0\n",
      "  success: True\n",
      "        x: array([ 0.99999556,  0.9999911 ])\n"
     ]
    },
    {
     "data": {
      "text/plain": [
       "array([ 0.99999556,  0.9999911 ])"
      ]
     },
     "execution_count": 107,
     "metadata": {},
     "output_type": "execute_result"
    }
   ],
   "source": [
    "x0 = 0\n",
    "result = sp.optimize.minimize(f2, (-2, -2))\n",
    "print(result)\n",
    "x0 = result['x']\n",
    "x0"
   ]
  },
  {
   "cell_type": "markdown",
   "metadata": {},
   "source": [
    "### practice \n",
    "- 그레디언트 벡터 함수를 구현하여 jac 인수를 주는 방법으로 계산 속도를 향상시킨다."
   ]
  },
  {
   "cell_type": "markdown",
   "metadata": {},
   "source": [
    "sympy를 통해 그레디언트 함수계산"
   ]
  },
  {
   "cell_type": "code",
   "execution_count": 99,
   "metadata": {
    "collapsed": true
   },
   "outputs": [],
   "source": [
    "import sympy\n",
    "from sympy import Matrix\n",
    "sympy.init_printing(use_latex='mathjax')"
   ]
  },
  {
   "cell_type": "code",
   "execution_count": 100,
   "metadata": {},
   "outputs": [
    {
     "data": {
      "text/latex": [
       "$$\\left[\\begin{matrix}- 400 x_{1} \\left(- x_{1}^{2} + x_{2}\\right) + 2 x_{1} - 2 & - 200 x_{1}^{2} + 200 x_{2}\\end{matrix}\\right]$$"
      ],
      "text/plain": [
       "⎡         ⎛    2     ⎞                     2         ⎤\n",
       "⎣- 400⋅x₁⋅⎝- x₁  + x₂⎠ + 2⋅x₁ - 2  - 200⋅x₁  + 200⋅x₂⎦"
      ]
     },
     "execution_count": 100,
     "metadata": {},
     "output_type": "execute_result"
    }
   ],
   "source": [
    "x1, x2 = sympy.symbols('x1 x2')\n",
    "f = Matrix([(-x1+1)**2 + 100 * (-x1**2 + x2)**2])\n",
    "X = Matrix([[x1], [x2]])\n",
    "f.jacobian(X)"
   ]
  },
  {
   "cell_type": "code",
   "execution_count": 101,
   "metadata": {
    "collapsed": true
   },
   "outputs": [],
   "source": [
    "def f_x(x):\n",
    "    return np.array([-400*x[0] * (-x[0]**2 + x[1]) + 2*x[1] - 2, -200*x[0]**2 + 200* x[1]])"
   ]
  },
  {
   "cell_type": "code",
   "execution_count": 109,
   "metadata": {},
   "outputs": [
    {
     "name": "stdout",
     "output_type": "stream",
     "text": [
      "      fun: 22.43362850527245\n",
      " hess_inv: array([[ 0.00076956, -0.00468878],\n",
      "       [-0.00468878,  0.03196848]])\n",
      "      jac: array([ 39.93745018,   1.87538769])\n",
      "  message: 'Desired error not necessarily achieved due to precision loss.'\n",
      "     nfev: 113\n",
      "      nit: 3\n",
      "     njev: 101\n",
      "   status: 2\n",
      "  success: False\n",
      "        x: array([ -3.73548686,  13.96323902])\n"
     ]
    },
    {
     "data": {
      "text/plain": [
       "array([ -3.73548686,  13.96323902])"
      ]
     },
     "execution_count": 109,
     "metadata": {},
     "output_type": "execute_result"
    }
   ],
   "source": [
    "x0 = 0\n",
    "result = sp.optimize.minimize(f2, (-2, -2), jac=f_x)\n",
    "print(result)\n",
    "x0 = result['x']\n",
    "x0"
   ]
  },
  {
   "cell_type": "markdown",
   "metadata": {},
   "source": [
    "- jac 인수를 입력했으나 최적점을 찾는데 실패했다. \n",
    "- nit 이 3인걸로 보아 계곡에 빠진 것 같아 시작점을 바꾸었다."
   ]
  },
  {
   "cell_type": "code",
   "execution_count": 110,
   "metadata": {},
   "outputs": [
    {
     "name": "stdout",
     "output_type": "stream",
     "text": [
      "      fun: 5.061078380382515e-16\n",
      " hess_inv: array([[ 0.24979124,  0.49708793],\n",
      "       [ 0.49708793,  0.99423267]])\n",
      "      jac: array([ -8.94261120e-07,   4.49906054e-07])\n",
      "  message: 'Optimization terminated successfully.'\n",
      "     nfev: 36\n",
      "      nit: 32\n",
      "     njev: 36\n",
      "   status: 0\n",
      "  success: True\n",
      "        x: array([ 1.,  1.])\n"
     ]
    },
    {
     "data": {
      "text/plain": [
       "array([ 1.,  1.])"
      ]
     },
     "execution_count": 110,
     "metadata": {},
     "output_type": "execute_result"
    }
   ],
   "source": [
    "x0 = 0\n",
    "result = sp.optimize.minimize(f2, (2, 2), jac=f_x)\n",
    "print(result)\n",
    "x0 = result['x']\n",
    "x0"
   ]
  },
  {
   "cell_type": "markdown",
   "metadata": {},
   "source": [
    "- 최적점을 찾았고 목표했던 nfev수도 줄였다."
   ]
  },
  {
   "cell_type": "markdown",
   "metadata": {},
   "source": [
    "---"
   ]
  },
  {
   "cell_type": "markdown",
   "metadata": {},
   "source": [
    "## 2차 도함수를 사용한 방법 "
   ]
  },
  {
   "cell_type": "markdown",
   "metadata": {},
   "source": [
    "minimize명령에서 스텝 사이즈를 인수로 받지 않는 이유는 디폴트 알고리즘인 BFGS에서는 2차 도함수인 헤시안 행렬 정보 등을 이용하여 스텝 사이즈를 스스로 추정하기 때문이다. \n",
    "\n",
    "이렇게 1차, 2차 도함수 정보를 이용하면 스텝 사이즈 뿐 아니라 그레디언트의 방향도 보다 최저점에 가까운 곳으로 변형하여 최적화 속도를 향상시킬 수 있다.\n",
    "\n",
    "그래서 간단한 최적화 문제에서는 보통 SGD 알고리즘이 아닌 다음과 같이 1차 혹은 2차 도함수 정보까지 사용하는 최적화 알고리즘을 사용한다.\n",
    "\n",
    " - CG (conjugated gradient) 방법\n",
    " - BFGS ( Broyden-Fletcher-Goldfarb-Shanno) 방법\n",
    " \n",
    "SciPy의 minimize 함수에서 `method='CG'` 또는 `method='BFGS'` 인수를 사용할 수 있다. (장점: 빠르고 안정적)"
   ]
  },
  {
   "cell_type": "code",
   "execution_count": 111,
   "metadata": {
    "collapsed": true
   },
   "outputs": [],
   "source": [
    "def f3obj(x):\n",
    "    return x[0] **2 + 1.5 * x[1] ** 2"
   ]
  },
  {
   "cell_type": "code",
   "execution_count": 134,
   "metadata": {},
   "outputs": [
    {
     "data": {
      "text/plain": [
       "array([ 0.46753248, -0.51948049])"
      ]
     },
     "execution_count": 134,
     "metadata": {},
     "output_type": "execute_result"
    }
   ],
   "source": [
    "result1 = sp.optimize.minimize(f3obj, (4, 1.6), method='CG', options={'maxiter':1})\n",
    "x_cg_1 = result1['x']\n",
    "x_cg_1"
   ]
  },
  {
   "cell_type": "code",
   "execution_count": 137,
   "metadata": {},
   "outputs": [
    {
     "data": {
      "text/plain": [
       "array([  3.02235675e-08,   1.86777108e-08])"
      ]
     },
     "execution_count": 137,
     "metadata": {},
     "output_type": "execute_result"
    }
   ],
   "source": [
    "result1 = sp.optimize.minimize(f3obj, (4, 1.6), method='CG', options={'maxiter':2})\n",
    "x_cg_2 = result1['x']\n",
    "x_cg_2"
   ]
  },
  {
   "cell_type": "code",
   "execution_count": 132,
   "metadata": {},
   "outputs": [],
   "source": [
    "%matplotlib inline"
   ]
  },
  {
   "cell_type": "code",
   "execution_count": 133,
   "metadata": {},
   "outputs": [
    {
     "data": {
      "image/png": "[encoded data removed]",
      "text/plain": [
       "<matplotlib.figure.Figure at 0x7f373f0885f8>"
      ]
     },
     "metadata": {},
     "output_type": "display_data"
    }
   ],
   "source": [
    "def f3(x1, x2):\n",
    "    return f3obj(np.array([x1, x2]))\n",
    "\n",
    "def f3g(x1, x2):\n",
    "    return np.array([2 * x1, 3 * x2])\n",
    "\n",
    "xx = np.linspace(-3, 7, 100)\n",
    "yy = np.linspace(-3, 3, 100)\n",
    "X, Y = np.meshgrid(xx, yy)\n",
    "Z = f3(X, Y)\n",
    "\n",
    "plt.contour(X, Y, Z, colors=\"gray\", levels=[1, 5, 12, 20, 30, 40])\n",
    "\n",
    "# SGD\n",
    "\n",
    "# step size\n",
    "mu = 0.38\n",
    "\n",
    "# k = 0\n",
    "x0 = 4\n",
    "y0 = 1.6\n",
    "g0 = f3g(x0, y0)\n",
    "\n",
    "# k = 1\n",
    "x1 = x0 - mu * g0[0]\n",
    "y1 = y0 - mu * g0[1]\n",
    "g1 = f3g(x1, y1)\n",
    "\n",
    "# k = 2\n",
    "x2 = x1 - mu * g1[0]\n",
    "y2 = y1 - mu * g1[1]\n",
    "g2 = f3g(x2, y2)\n",
    "\n",
    "# k = 3\n",
    "x3 = x2 - mu * g2[0]\n",
    "y3 = y2 - mu * g2[1]\n",
    "\n",
    "plt.plot([x0, x1, x2, x3], [y0, y1, y2, y3], 'go:', label=\"SGD\")\n",
    "plt.plot([x0, x_cg_1[0], x_cg_2[0]], [y0, x_cg_1[1], x_cg_2[1]], 'ro-', label=\"CG\")\n",
    "\n",
    "plt.xlim(-1, 6)\n",
    "plt.ylim(-2, 3)\n",
    "plt.xticks(np.linspace(-1, 6, 8))\n",
    "plt.yticks(np.linspace(-2, 3, 6))\n",
    "plt.legend()\n",
    "plt.show()"
   ]
  },
  {
   "cell_type": "markdown",
   "metadata": {},
   "source": [
    "SGD가 여기저기 돌아다니며 최적점을 찾는 동안, 2큐에 최적점을 찾아버리는 CG님의 모습이다."
   ]
  },
  {
   "cell_type": "markdown",
   "metadata": {},
   "source": [
    "---"
   ]
  },
  {
   "cell_type": "markdown",
   "metadata": {},
   "source": [
    "## 전역 최적화 문제"
   ]
  },
  {
   "cell_type": "markdown",
   "metadata": {},
   "source": [
    "목표 함수가 local minima를 가지고 있는 경우 수치적 최적화 방법으로 global minimum에 도달한다는 보장이 없다. 결과는 초기 추정값 및 알고리즘, 파라미터 등에 의존한다. 전역 최적화 문제는 차후에 다룬다."
   ]
  },
  {
   "cell_type": "code",
   "execution_count": 146,
   "metadata": {},
   "outputs": [
    {
     "name": "stdout",
     "output_type": "stream",
     "text": [
      "      fun: 8.315585579478032\n",
      " hess_inv: array([[ 0.118692]])\n",
      "      jac: array([  3.09944153e-06])\n",
      "  message: 'Optimization terminated successfully.'\n",
      "     nfev: 15\n",
      "      nit: 3\n",
      "     njev: 5\n",
      "   status: 0\n",
      "  success: True\n",
      "        x: array([ 3.83746748])\n"
     ]
    },
    {
     "data": {
      "image/png": "[encoded data removed]",
      "text/plain": [
       "<matplotlib.figure.Figure at 0x7f373ee9c5c0>"
      ]
     },
     "metadata": {},
     "output_type": "display_data"
    }
   ],
   "source": [
    "def f_global(x):\n",
    "    return x**2 + 10*np.sin(x)\n",
    "x = np.arange(-10, 10, 0.1)\n",
    "result = sp.optimize.minimize(f_global, 4)\n",
    "print(result)\n",
    "plt.plot(x, f_global(x))\n",
    "plt.scatter(x0, f_global(x0), s=200);"
   ]
  },
  {
   "cell_type": "markdown",
   "metadata": {},
   "source": [
    "### Convex 문제"
   ]
  },
  {
   "cell_type": "markdown",
   "metadata": {},
   "source": [
    "목적 함수의 2차 도함수 값이 항상 0이 되는 영역에서만 정의된 최적화 문제를 convex 문제라고 한다. \n",
    "$$ \\dfrac{\\partial^2f}{\\partial x^2} \\geq 0$$\n",
    "\n",
    "convex 문제에서는 유일한 전역 최저점이 존재하며, 기울기가 0이 되는 것이 전역 최저점을 구하기 위한 필요충분조건이 된다. (항상 전역 최저점을 구할 수 있다.)"
   ]
  },
  {
   "cell_type": "markdown",
   "metadata": {},
   "source": [
    "---"
   ]
  }
 ],
 "metadata": {
  "kernelspec": {
   "display_name": "Python 3",
   "language": "python",
   "name": "python3"
  },
  "language_info": {
   "codemirror_mode": {
    "name": "ipython",
    "version": 3
   },
   "file_extension": ".py",
   "mimetype": "text/x-python",
   "name": "python",
   "nbconvert_exporter": "python",
   "pygments_lexer": "ipython3",
   "version": "3.6.4"
  }
 },
 "nbformat": 4,
 "nbformat_minor": 2
}
