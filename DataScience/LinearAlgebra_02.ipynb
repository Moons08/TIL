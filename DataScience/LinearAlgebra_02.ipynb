{
 "cells": [
  {
   "cell_type": "markdown",
   "metadata": {},
   "source": [
    "#### System of linear equations (선형 연립 방정식)\n",
    "- M개의 미지수를 가지는 N개의 선형 방정식\n",
    "- 다음과 같이 간단하게 표현\n",
    "\n",
    "$$Ax = b $$\n",
    "\n",
    "$A, x, b$는 각각 계수 행렬, 미지수 벡터, 상수 벡터로 부른다."
   ]
  },
  {
   "cell_type": "markdown",
   "metadata": {},
   "source": [
    "#### 역행렬\n",
    "- $A^{-1}A = AA^{-1} = I $\n",
    "- 역행렬 존재 -> 가역행렬(invertable matrix)\n",
    "- 존재x -> 특이행렬(singular matrix)\n",
    "\n",
    "#### 역행렬의 성질\n",
    "\n",
    "- 전치 행렬의 역행렬은 역행렬의 전치 행렬과 같다.\n",
    "\n",
    "$$(A^T)^{-1} = (A^{-1})^T$$\n",
    "\n",
    "\n",
    "- 두 개 이상의 정방 행렬의 곱은 같은 크기의 정방 행렬이 된다.\n",
    "\n",
    "$$(ABC)^{-1} = C^{-1}B^{-1}C^{-1} $$\n",
    "\n",
    "- C 는 cofactor matrix, $C^T$를 adjoint matrix ($adj(A)$ 로 표기)\n",
    "\n",
    "$$A^{-1} = \\dfrac{1}{\\det A} C^T = \\dfrac{1}{\\det A} \n",
    "\\begin{bmatrix}\n",
    "C_{1,1} &\\cdots& C_{N, 1}\\\\\n",
    "\\vdots &\\ddots &\\vdots\\\\\n",
    "C_{1,N} &\\cdots &C_{N,N}\\\\\n",
    "\\end{bmatrix}$$\n",
    "\n",
    "위 식에서 **역행렬은 행렬식이 0이 아닌 경우에만 존재한다** 는 것을 알 수 있음\n",
    "\n",
    "\n",
    "\n",
    "-\n",
    "$C_{i,j}$은 마이너 값에 $(-1)^{i+j}$를 곱한 값. 즉, \n",
    "\n",
    "$$ C_{i,j} = (-1)^{i+j}M_{i,j} $$\n",
    "\n",
    "-\n",
    "$ M_{i,j} $는 마이너(minor, 소행렬식), 마이너 값도 행렬식\n",
    " \n",
    "\n",
    "\n",
    "\n",
    "\n"
   ]
  },
  {
   "cell_type": "code",
   "execution_count": 1,
   "metadata": {},
   "outputs": [
    {
     "data": {
      "text/plain": [
       "array([[ 2,  3, -2],\n",
       "       [ 3,  5,  6],\n",
       "       [ 2,  4,  3]])"
      ]
     },
     "execution_count": 1,
     "metadata": {},
     "output_type": "execute_result"
    }
   ],
   "source": [
    "''' \n",
    "Ax = b \n",
    "x = A^(-1)b\n",
    "'''\n",
    "\n",
    "A = np.array([[2, 3, -2], [3, 5, 6], [2, 4, 3]])\n",
    "A"
   ]
  },
  {
   "cell_type": "code",
   "execution_count": 2,
   "metadata": {},
   "outputs": [
    {
     "data": {
      "text/plain": [
       "array([[ 0.69230769,  1.30769231, -2.15384615],\n",
       "       [-0.23076923, -0.76923077,  1.38461538],\n",
       "       [-0.15384615,  0.15384615, -0.07692308]])"
      ]
     },
     "execution_count": 2,
     "metadata": {},
     "output_type": "execute_result"
    }
   ],
   "source": [
    "Ainv = np.linalg.inv(A)\n",
    "Ainv"
   ]
  },
  {
   "cell_type": "code",
   "execution_count": 3,
   "metadata": {
    "collapsed": true
   },
   "outputs": [],
   "source": [
    "b = np.array([[-5], [12], [7]])"
   ]
  },
  {
   "cell_type": "code",
   "execution_count": 4,
   "metadata": {},
   "outputs": [
    {
     "data": {
      "text/plain": [
       "array([[-2.84615385],\n",
       "       [ 1.61538462],\n",
       "       [ 2.07692308]])"
      ]
     },
     "execution_count": 4,
     "metadata": {},
     "output_type": "execute_result"
    }
   ],
   "source": [
    "x = np.dot(Ainv, b)\n",
    "x"
   ]
  },
  {
   "cell_type": "code",
   "execution_count": 5,
   "metadata": {},
   "outputs": [
    {
     "data": {
      "text/plain": [
       "array([[-2.84615385],\n",
       "       [ 1.61538462],\n",
       "       [ 2.07692308]])"
      ]
     },
     "execution_count": 5,
     "metadata": {},
     "output_type": "execute_result"
    }
   ],
   "source": [
    "#최소자승법, np.linalg.inv 보다 선호됨\n",
    "x, resid, rank, s = np.linalg.lstsq(A, b)\n",
    "x"
   ]
  },
  {
   "cell_type": "markdown",
   "metadata": {},
   "source": [
    "#### 역행렬의 존재\n",
    "- 행렬식의 값이 0이 아니면 역행렬이 존재한다. \n",
    "- $det(A) =0 $ 일 경우 역행렬이 존재하지 않는다."
   ]
  },
  {
   "cell_type": "markdown",
   "metadata": {},
   "source": [
    "## 최소자승문제\n",
    "\n",
    "방정식의 수가 미지수의 수보다 많은 데이터 분석의 특성상, 정확한 해가 존재하지 않을 수 있음\n",
    "\n",
    "$$Ax \\approx b $$\n",
    "\n",
    "잔차 최소화\n",
    "\n",
    "$$ e = Ax - b $$\n",
    "\n",
    "잔차 벡터의 크기, 놈 최소화\n",
    "\n",
    "$$ e^Te = \\Vert e \\Vert^2 = (Ax-b)^T(Ax-b) $$\n",
    "\n",
    "함수를 가장 작게 만드는 x 값\n",
    "\n",
    "$$ x = \\text{arg} \\min_x{e^Te} = \\text{arg} \\min_x{(Ax-b)^T(Ax-b)} $$"
   ]
  },
  {
   "cell_type": "markdown",
   "metadata": {},
   "source": [
    "### 의사 역행렬(pseudo inverse) \n",
    "\n",
    "$$ Ax \\approx b $$\n",
    "\n",
    "가정\n",
    "$$ A^TAx = A^Tb $$\n",
    "\n",
    "$det(A^TA)^{-1}$ 이 0이 아니라 가정\n",
    "\n",
    "$$ (A^TA)^{-1}(A^TA)x = (A^TA)^{-1}A^Tb $$\n",
    "\n",
    "$$ x = ((A^TA)^{-1}A^T)b $$\n",
    "\n",
    "A의 의사역행렬 $(A^TA)^{-1}A^T$, $A^+$로도 표기\n",
    "\n",
    "$$A^+ = (A^TA)^{-1}A^T $$\n"
   ]
  }
 ],
 "metadata": {
  "kernelspec": {
   "display_name": "Python 3",
   "language": "python",
   "name": "python3"
  },
  "language_info": {
   "codemirror_mode": {
    "name": "ipython",
    "version": 3
   },
   "file_extension": ".py",
   "mimetype": "text/x-python",
   "name": "python",
   "nbconvert_exporter": "python",
   "pygments_lexer": "ipython3",
   "version": "3.6.4"
  }
 },
 "nbformat": 4,
 "nbformat_minor": 2
}
