{
 "cells": [
  {
   "cell_type": "markdown",
   "metadata": {},
   "source": [
    "## 등식 제한 조건이 있는 최적화 문제"
   ]
  },
  {
   "cell_type": "markdown",
   "metadata": {},
   "source": [
    "현실의 최적화 문제에서는 여러가지 제한 조건이 있는 최적화 문제가 많다.\n",
    "가장 간단한 경우는 등식 제한이 있는 경우이다.\n",
    "\n",
    "\n",
    "$$ x^* = \\arg \\min_{x}f(x) \\;\\; (x \\in \\mathbf{R}^N)$$\n",
    "$$ g_j(x) = 0 \\;\\; (j = 1, \\cdots, M) $$\n",
    "\n",
    "목적 함수가 다음과 같은 경우,\n",
    "\n",
    "$$ f(x_1, x_2) = x_1^2 + x_2^2 $$\n",
    "\n",
    "그리고 등식(방정식) 제한 조건이 있는 경우를 생각해보자.\n",
    "\n",
    "$$ g(x_1, x_2) = x_1 + x_2 -1 = 0 $$\n",
    "\n",
    "이 문제는 $g(x_1, x_2) = 0$으로 정의되는 직선 상에서 가장 $f(x_1, x_2)$ 값이 작아지는 점을 찾는 문제가 된다."
   ]
  },
  {
   "cell_type": "code",
   "execution_count": 3,
   "metadata": {},
   "outputs": [
    {
     "data": {
      "image/png": "[encoded data removed]",
      "text/plain": [
       "<matplotlib.figure.Figure at 0x7efe2caeac88>"
      ]
     },
     "metadata": {},
     "output_type": "display_data"
    }
   ],
   "source": [
    "def f1(x1, x2):\n",
    "    return x1 ** 2 + x2 ** 2\n",
    "x1 = np.linspace(-5, 5, 100)\n",
    "x2 = np.linspace(-3, 3, 100)\n",
    "X1, X2 = np.meshgrid(x1, x2)\n",
    "Y = f1(X1, X2)\n",
    "# constraint function g(x) = x1 + x2 - 1 = 0\n",
    "x2_g = 1 - x1\n",
    "%matplotlib inline\n",
    "plt.contour(X1, X2, Y, colors=\"gray\", levels=[0.5, 2, 8, 32])\n",
    "plt.plot(x1, x2_g, 'g-')\n",
    "\n",
    "plt.plot([0], [0], 'rP')\n",
    "plt.plot([0.5], [0.5], 'ro', ms=10)\n",
    "\n",
    "plt.xlim(-5, 5)\n",
    "plt.ylim(-3, 3)\n",
    "plt.xticks(np.linspace(-4, 4, 9))\n",
    "plt.show()"
   ]
  },
  {
   "cell_type": "markdown",
   "metadata": {},
   "source": [
    "This kind of constraind optimization problems are optimizable by Langrange multiplier\n",
    "\n",
    "Langrange multiplelier uses $h(x, \\lambda) $ rather than $f(x)$ as target function\n",
    "$$  h(x,\\lambda) = f(x) + \\sum_{j=1}^{M}\\lambda_jg_j(x) $$\n",
    "\n",
    "$h$ should fullfill these conditions\n",
    "\n",
    "$$\\begin{eqnarray}\n",
    "\\dfrac{\\partial h(x, \\lambda)}{\\partial x_1} \n",
    "&=& \\dfrac{\\partial f}{\\partial x_1} + \\sum_{j=1}^M \\lambda_j\\dfrac{\\partial g_j}{\\partial x_1} = 0 \\\\\n",
    "\\dfrac{\\partial h(x, \\lambda)}{\\partial x_2} \n",
    "&=& \\dfrac{\\partial f}{\\partial x_2} + \\sum_{j=1}^M \\lambda_j\\dfrac{\\partial g_j}{\\partial x_2} = 0 \\\\\n",
    "\\vdots & & \\\\\n",
    "\\dfrac{\\partial h(x, \\lambda)}{\\partial x_N} \n",
    "&=& \\dfrac{\\partial f}{\\partial x_N} + \\sum_{j=1}^M \\lambda_j\\dfrac{\\partial g_j}{\\partial x_N} = 0 \\\\\n",
    "\\dfrac{\\partial h(x, \\lambda)}{\\partial \\lambda_1} &=& g_1 = 0 \\\\\n",
    "\\vdots & & \\\\\n",
    "\\dfrac{\\partial h(x, \\lambda)}{\\partial \\lambda_M} &=& g_M = 0 \n",
    "\\end{eqnarray}$$\n",
    "\n",
    "\n",
    "위 $N + M$개의 연립 방정식을 풀면 $N+M$개의 미지수를 구할 수 있다.\n",
    "$x_1, x_2, \\ldots, x_N, , \\lambda_1, \\ldots , \\lambda_M$ 여기서 $x$값들이 제한 조건을 만족하는 최소값 위치를 나타낸다."
   ]
  },
  {
   "cell_type": "markdown",
   "metadata": {},
   "source": [
    "ex)\n",
    "\n",
    "$$f(x_1, x_2) = - \\log{x_1} - \\log{x_2} \\\\ x_1, x_2 > 0\n",
    "\\\\ \\text{s.t.} \\;\\; x_1 + x_2 = 1 $$\n",
    "\n",
    "제약 조건이 g가 된다.\n",
    "\n",
    "$$\\text{s.t} \\;\\;x_1 + x_2 - 1 = 0 = g(x_1, x_2) $$\n",
    "\n",
    "\n",
    "라그랑지 승수를 적용하여 미분이 0인 위치를 구한다.\n",
    "\n",
    "$$ h = f + \\lambda g = -\\log x_1 - \\log x_2 + \\lambda(x_1 + x_2 -1) $$\n",
    "\n",
    "$$\n",
    "\\begin{eqnarray}\n",
    "\\dfrac{\\partial h}{\\partial x_1} \n",
    "&=& -\\dfrac{1}{x_1} + \\lambda = 0 \\\\\n",
    "\\dfrac{\\partial h}{\\partial x_2} \n",
    "&=& -\\dfrac{1}{x_2} + \\lambda = 0 \\\\\n",
    "\\dfrac{\\partial h}{\\partial \\lambda} \n",
    "&=& x_1 + x_2 - 1 = 0 \n",
    "\\end{eqnarray}$$\n",
    "\n",
    "$$x_1 = x_2 = \\dfrac{1}{2}, \\;\\;\\; \\lambda = 2$$"
   ]
  },
  {
   "cell_type": "markdown",
   "metadata": {},
   "source": [
    "### SciPy : optimize pakage\n",
    "- 제한 최적화 문제를 풀기위해 `fmin_slsqp` 명령을 제공한다.\n",
    "    \n",
    "    - slsqp : Sequential Least SQuares Programming\n",
    "    - eqcons : 제약조건, s.t(subject to)"
   ]
  },
  {
   "cell_type": "code",
   "execution_count": 6,
   "metadata": {},
   "outputs": [
    {
     "name": "stdout",
     "output_type": "stream",
     "text": [
      "Optimization terminated successfully.    (Exit mode 0)\n",
      "            Current function value: 1.3862943611198901\n",
      "            Iterations: 2\n",
      "            Function evaluations: 8\n",
      "            Gradient evaluations: 2\n"
     ]
    },
    {
     "data": {
      "text/plain": [
       "array([ 0.5,  0.5])"
      ]
     },
     "execution_count": 6,
     "metadata": {},
     "output_type": "execute_result"
    }
   ],
   "source": [
    "def f1logs(x):\n",
    "    return -np.log(x[0]) - np.log(x[1])\n",
    "def eq_constraint(x):\n",
    "    return x[0] +x[1] -1\n",
    "\n",
    "sp.optimize.fmin_slsqp(f1logs, np.array([1, 1]), eqcons=[eq_constraint])"
   ]
  },
  {
   "cell_type": "markdown",
   "metadata": {},
   "source": [
    "---"
   ]
  },
  {
   "cell_type": "markdown",
   "metadata": {},
   "source": [
    "### 부등식 제한 조건이 있는 최적화 문제"
   ]
  },
  {
   "cell_type": "markdown",
   "metadata": {},
   "source": [
    "등식 제한 조건과 동일한 목적함수 $h$를 가지고 최적화한다.\n",
    "\n",
    "다만 몇가지 다른점이 있다. 제한 조건의 범위 $g_j(x) \\leq 0 \\;\\;(j = 1, \\cdots, M)$가 달라진다.\n",
    "\n",
    "그리고 KKT 조건이라고 하며 3개의 필요 조건이 있다.\n",
    "\n",
    "\n",
    "(1) 모든 독립 변수에 대한 미분이 0\n",
    "- 이것은 등식 제한 조건과 동일하다.\n",
    "\n",
    "$$ \\dfrac{\\partial h(x, \\lambda)}{\\partial x_i} = 0$$\n",
    "\n",
    "(2) **모든 라그랑지 승수와 부등식의 곱이 0**\n",
    "\n",
    "$$\\lambda_j \\cdot \\dfrac{\\partial h(x, \\lambda)}{\\partial \\lambda_j} = \\lambda \\cdot g_j = 0$$\n",
    "\n",
    "(3) 음수가 아닌 라그랑지 승수\n",
    "\n",
    "$$ \\lambda_j \\geq 0 $$\n",
    "\n",
    "마지막 조건은 KKT 조건이 실제 부등식 제한 조건이 있는 문제임을 보장하기 위한 조건이다.\n",
    "\n",
    "두번째 조건은 목적함수에 대한 미분값이 반드시 0이 될 필요는 없다는 것을 말한다. $g$ 가 0이 아닐 경우, 라그랑지 승수인 $\\lambda$ 값이 0이 되어도 성립한다.\n",
    "\n",
    "그 이유는 부등식 제한 조건이 있는 최적화 문제를 풀 경우, 그 제한 조건은 실제로 다음 두 가지 경우 중 하나가 된다.\n",
    "1.  최적화 결과에 전혀 영향을 주지 않는 쓸모 없는 제한 조건\n",
    "1. 최적화 결과에 영향을 주는 **등식인** 제한 조건\n",
    "\n",
    "\n",
    "- $h(x^*, \\lambda^*) $ 에서 $\\lambda^* = 0$이면 $h(x^*, \\lambda^*) = f(x^*)$이므로 제한 조건이 의미가 없게 된다.\n",
    "- $g(x^*) = 0$ 이면 이 조건은 등식 제한 조건이 된다."
   ]
  },
  {
   "cell_type": "markdown",
   "metadata": {},
   "source": [
    "### SciPy"
   ]
  },
  {
   "cell_type": "markdown",
   "metadata": {},
   "source": [
    "`fmin_slsqp` 명령은 부등식 제한 조건이 있는 경우에도 사용이 가능하다.\n",
    "- 다만 ieqcons 인수에 들어가는 부등호의 부호가 0 또는 양수이어야 한다."
   ]
  },
  {
   "cell_type": "code",
   "execution_count": 14,
   "metadata": {},
   "outputs": [
    {
     "name": "stdout",
     "output_type": "stream",
     "text": [
      "Optimization terminated successfully.    (Exit mode 0)\n",
      "            Current function value: 3.6055512804550336\n",
      "            Iterations: 11\n",
      "            Function evaluations: 77\n",
      "            Gradient evaluations: 11\n"
     ]
    },
    {
     "data": {
      "text/plain": [
       "array([  9.99999982e-01,   1.79954011e-08])"
      ]
     },
     "execution_count": 14,
     "metadata": {},
     "output_type": "execute_result"
    }
   ],
   "source": [
    "def f2(x):\n",
    "    return np.sqrt((x[0] - 4) ** 2 + (x[1] - 2)** 2)\n",
    "# def eq_constraint(x):\n",
    "#     return x[0] +x[1] -1\n",
    "def ieq_constraint(x):\n",
    "    return np.atleast_1d(1 - np.sum(np.abs(x)))\n",
    "\n",
    "sp.optimize.fmin_slsqp(f2, np.array([0, 0]), ieqcons=[ieq_constraint])"
   ]
  },
  {
   "cell_type": "markdown",
   "metadata": {},
   "source": [
    "---"
   ]
  },
  {
   "cell_type": "markdown",
   "metadata": {},
   "source": [
    "# LP, QP "
   ]
  },
  {
   "cell_type": "markdown",
   "metadata": {},
   "source": [
    "### Linear Programming 문제\n",
    "\n",
    "방정식이나 부등식 제한 조건을 가지는 선형 모형(linear model, linear combination)의 값을 최소화하는 문제를 LP 문제라고 한다.\n",
    "\n",
    "$$\\begin{eqnarray}\n",
    "\\min_x c^Tx \\\\\n",
    "Ax = b \\\\\n",
    "x \\geq 0\n",
    "\\end{eqnarray}$$\n",
    "\n",
    "두번째 식이 제한조건, 마지막 식은 벡터 x의 모든 원소가 0 이상이어야 한다는 것을 의미한다.\n",
    "\n",
    "이러한 형태를 LP문제 기본형(standard form)이라고 한다. 답이 존재하는 경우 **실현 가능(feasible)** 하다고 한다. 불가능한 경우는 **실현 불가능(infeasible)**"
   ]
  },
  {
   "cell_type": "markdown",
   "metadata": {},
   "source": [
    "ex)\n",
    "$$\\min_x \\begin{bmatrix} -4 & -3 & 0 & 0 & 0 \\end{bmatrix}\n",
    "\\begin{bmatrix}\n",
    "x_1 \\\\ x_2 \\\\ x_3 \\\\ x_4 \\\\ x_5 \\\\\n",
    "\\end{bmatrix}$$\n",
    "\n",
    "\n",
    "$$\\begin{bmatrix}\n",
    "1 & 1 & 1 & 0 & 0 \\\\\n",
    "2 & 1 & 0 & 1 & 0 \\\\\n",
    "3 & 4 & 0 & 0 & 1 \\\\\n",
    "\\end{bmatrix}\n",
    "\\begin{bmatrix}\n",
    "x_1 \\\\ x_2 \\\\ x_3 \\\\ x_4 \\\\ x_5\n",
    "\\end{bmatrix}=\n",
    "\\begin{bmatrix}\n",
    "100 \\\\ 150 \\\\ 360\n",
    "\\end{bmatrix}$$\n",
    "\n",
    "$$\\begin{bmatrix}\n",
    "x_1 \\\\ x_2 \\\\ x_3 \\\\ x_4 \\\\ x_5\n",
    "\\end{bmatrix}\\geq\n",
    "\\begin{bmatrix}\n",
    "0 \\\\ 0 \\\\ 0 \\\\ 0 \\\\ 0\n",
    "\\end{bmatrix}$$"
   ]
  },
  {
   "cell_type": "markdown",
   "metadata": {},
   "source": [
    "### SciPy"
   ]
  },
  {
   "cell_type": "markdown",
   "metadata": {},
   "source": [
    "`scipy.optimize.linprog` 명령으로 LP문제를 풀 수 있다. \n",
    "- 인수 이름 `A_eq`, `b_eq`는 반드시 써주어야 한다.\n",
    "\n",
    "$$\\begin{eqnarray}\n",
    "\\min_x c^Tx \\\\\n",
    "\\text{s.t.} \\;\\;Ax = b \\\\\n",
    "x \\geq 0\n",
    "\\end{eqnarray}$$"
   ]
  },
  {
   "cell_type": "code",
   "execution_count": 1,
   "metadata": {},
   "outputs": [
    {
     "data": {
      "text/plain": [
       "     fun: -350.0\n",
       " message: 'Optimization terminated successfully.'\n",
       "     nit: 4\n",
       "   slack: array([], dtype=float64)\n",
       "  status: 0\n",
       " success: True\n",
       "       x: array([ 50.,  50.,   0.,   0.,   0.])"
      ]
     },
     "execution_count": 1,
     "metadata": {},
     "output_type": "execute_result"
    }
   ],
   "source": [
    "A = np.array([[1, 1, 1, 0, 0],\n",
    "              [2, 1, 0, 1, 0],\n",
    "              [3, 4, 0, 0, 1]])\n",
    "b = np.array([100, 150, 350])\n",
    "c = np.array([-4, -3, 0, 0, 0])\n",
    "\n",
    "sp.optimize.linprog(c, A_eq=A, b_eq=b) # 이와 같은 경우는 feasible"
   ]
  },
  {
   "cell_type": "markdown",
   "metadata": {},
   "source": [
    "LP 문제는 여러가지 변형이 존재한다. \n",
    "- CP (Conic Programming) 문제 : 부등식 제한 조건 대신 특정한 기저 벡터들의 양수 선형 조합에 속해야 한다는 조건\n",
    "- IP (Integer Programming) 문제 : LP 문제에 $x$의 모든 원소가 정수이어야 한다는 조건\n",
    "- MIP (Mixed Integer Programming) 문제 : 모든 $x$의 원소가 아니라 일부 원소만 정수이어야 하는 조건"
   ]
  },
  {
   "cell_type": "markdown",
   "metadata": {},
   "source": [
    "---"
   ]
  },
  {
   "cell_type": "markdown",
   "metadata": {},
   "source": [
    "### Quadratic Programming 문제"
   ]
  },
  {
   "cell_type": "markdown",
   "metadata": {},
   "source": [
    "방정식이나 부등식 제한 조건을 가지는 일반화된 이차형식(quadratic form)의 값을 최소화하는 문제를 QP문제라고 한다.\n",
    "\n",
    "$$\\begin{eqnarray}\n",
    "\\min_x \\dfrac{1}{2}x^TQx + c^Tx \\\\\n",
    "Ax = b \\\\\n",
    "x \\geq 0\n",
    "\\end{eqnarray}$$\n",
    "\n",
    "LP문제와 같은 형식이다.\n",
    "\n",
    "잔차 제곱합을 최소화하기 위한 데이터 분석 모형은 부가 조건이 있는 경우 대부분 QP 문제가 된다."
   ]
  }
 ],
 "metadata": {
  "kernelspec": {
   "display_name": "Python 3",
   "language": "python",
   "name": "python3"
  },
  "language_info": {
   "codemirror_mode": {
    "name": "ipython",
    "version": 3
   },
   "file_extension": ".py",
   "mimetype": "text/x-python",
   "name": "python",
   "nbconvert_exporter": "python",
   "pygments_lexer": "ipython3",
   "version": "3.6.4"
  }
 },
 "nbformat": 4,
 "nbformat_minor": 2
}
