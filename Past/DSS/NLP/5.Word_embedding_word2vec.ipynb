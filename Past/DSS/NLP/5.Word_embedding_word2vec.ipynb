{
 "cells": [
  {
   "cell_type": "markdown",
   "metadata": {},
   "source": [
    "## Word Embedding\n",
    "텍스트를 구성하는 하나의 단어를 수치화하는 방법의 일종\n",
    "\n",
    "BOW - 단어 하나에 인덱스 정수 할당\n",
    "\n",
    "Word Embedding - 하나의 단어를 실수 벡터로 나타냄\n",
    " - 각 단어 벡터를 합치거나 더하는 방식으로 전체 문서의 벡터 표현을 구할 수 있음\n",
    " \n",
    " http://www-personal.umich.edu/~ronxin/pdf/w2vexp.pdf"
   ]
  },
  {
   "cell_type": "markdown",
   "metadata": {},
   "source": [
    "## Feed-Forward 신경망 언어 모형\n",
    "\n",
    "1. V개의 단어를 가지는 단어장이 있을 때, \n",
    "1. 단어를 BOW 방식으로 크기 V인 벡터로 만든 다음 \n",
    "1. 하나의 은닉층을 가지는 신경망을 사용하여\n",
    "1. 특정 단어 열(sequence)이 주어졌을 때\n",
    "1. 다음에 나올 단어를 예측"
   ]
  },
  {
   "cell_type": "markdown",
   "metadata": {},
   "source": [
    "$$h = \\sigma(W x)$$\n",
    "1. 입력 $x$가 들어가면 가중치 행렬 $W$이 곱해져서 은닉층 벡터$h$\n",
    "1. $x$는 one-hot-encoding 된 값으로, $h$벡터는 입력 가중치 행렬$W$의 행 하나 $w_i$에 대응\n",
    "\n",
    "$w_i$벡터 값을 분산 표현, 벡터 표현, 또는 Word embedding 이라고 한다."
   ]
  },
  {
   "cell_type": "code",
   "execution_count": 1,
   "metadata": {},
   "outputs": [],
   "source": [
    "from nltk.corpus import movie_reviews\n",
    "sentences = [list(s) for s in movie_reviews.sents()]"
   ]
  },
  {
   "cell_type": "code",
   "execution_count": 2,
   "metadata": {},
   "outputs": [
    {
     "data": {
      "text/plain": [
       "['plot',\n",
       " ':',\n",
       " 'two',\n",
       " 'teen',\n",
       " 'couples',\n",
       " 'go',\n",
       " 'to',\n",
       " 'a',\n",
       " 'church',\n",
       " 'party',\n",
       " ',',\n",
       " 'drink',\n",
       " 'and',\n",
       " 'then',\n",
       " 'drive',\n",
       " '.']"
      ]
     },
     "execution_count": 2,
     "metadata": {},
     "output_type": "execute_result"
    }
   ],
   "source": [
    "sentences[0]"
   ]
  },
  {
   "cell_type": "code",
   "execution_count": 4,
   "metadata": {},
   "outputs": [],
   "source": [
    "from gensim.models.word2vec import Word2Vec"
   ]
  },
  {
   "cell_type": "code",
   "execution_count": 5,
   "metadata": {},
   "outputs": [
    {
     "name": "stdout",
     "output_type": "stream",
     "text": [
      "CPU times: user 25 s, sys: 106 ms, total: 25.1 s\n",
      "Wall time: 10.1 s\n"
     ]
    }
   ],
   "source": [
    "%%time\n",
    "model = Word2Vec(sentences)"
   ]
  },
  {
   "cell_type": "code",
   "execution_count": 6,
   "metadata": {},
   "outputs": [],
   "source": [
    "model.init_sims(replace=True)"
   ]
  },
  {
   "cell_type": "code",
   "execution_count": 9,
   "metadata": {},
   "outputs": [
    {
     "data": {
      "text/plain": [
       "0.8844697329118422"
      ]
     },
     "execution_count": 9,
     "metadata": {},
     "output_type": "execute_result"
    }
   ],
   "source": [
    "model.wv.similarity('actor', 'actress')"
   ]
  },
  {
   "cell_type": "code",
   "execution_count": 10,
   "metadata": {},
   "outputs": [
    {
     "data": {
      "text/plain": [
       "0.8650615293765807"
      ]
     },
     "execution_count": 10,
     "metadata": {},
     "output_type": "execute_result"
    }
   ],
   "source": [
    "model.wv.similarity('he', 'she')"
   ]
  },
  {
   "cell_type": "code",
   "execution_count": 11,
   "metadata": {},
   "outputs": [
    {
     "data": {
      "text/plain": [
       "0.252238106420079"
      ]
     },
     "execution_count": 11,
     "metadata": {},
     "output_type": "execute_result"
    }
   ],
   "source": [
    "model.wv.similarity('actor', 'she')"
   ]
  },
  {
   "cell_type": "code",
   "execution_count": 12,
   "metadata": {},
   "outputs": [
    {
     "data": {
      "text/plain": [
       "[('god', 0.8272609710693359),\n",
       " ('reply', 0.8153202533721924),\n",
       " ('peak', 0.8142144680023193),\n",
       " ('advocate', 0.8048079609870911),\n",
       " ('intentions', 0.7979230880737305),\n",
       " ('seagal', 0.7969036102294922),\n",
       " ('tagline', 0.7948399186134338),\n",
       " ('alzheimer', 0.7906129956245422),\n",
       " ('mummy', 0.7892352342605591),\n",
       " ('condition', 0.7881690263748169)]"
      ]
     },
     "execution_count": 12,
     "metadata": {},
     "output_type": "execute_result"
    }
   ],
   "source": [
    "model.wv.most_similar(\"devil\")"
   ]
  },
  {
   "cell_type": "code",
   "execution_count": 13,
   "metadata": {},
   "outputs": [
    {
     "data": {
      "text/plain": [
       "[('yards', 0.8758401870727539),\n",
       " ('holiday', 0.8571582436561584),\n",
       " ('galaxy', 0.8470115065574646),\n",
       " ('twilight', 0.8446555733680725),\n",
       " ('1980s', 0.844031810760498),\n",
       " ('assault', 0.8422700762748718),\n",
       " ('rendition', 0.8406173586845398),\n",
       " ('1966', 0.8399170637130737),\n",
       " ('nightmare', 0.8393347263336182),\n",
       " ('disco', 0.8389768600463867)]"
      ]
     },
     "execution_count": 13,
     "metadata": {},
     "output_type": "execute_result"
    }
   ],
   "source": [
    "model.wv.most_similar(\"civil\")"
   ]
  }
 ],
 "metadata": {
  "kernelspec": {
   "display_name": "Python 3",
   "language": "python",
   "name": "python3"
  },
  "language_info": {
   "codemirror_mode": {
    "name": "ipython",
    "version": 3
   },
   "file_extension": ".py",
   "mimetype": "text/x-python",
   "name": "python",
   "nbconvert_exporter": "python",
   "pygments_lexer": "ipython3",
   "version": "3.6.4"
  }
 },
 "nbformat": 4,
 "nbformat_minor": 2
}
