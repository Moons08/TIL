{
 "cells": [
  {
   "cell_type": "code",
   "execution_count": 1,
   "metadata": {},
   "outputs": [
    {
     "name": "stderr",
     "output_type": "stream",
     "text": [
      "/home/mk/anaconda3/lib/python3.6/site-packages/h5py/__init__.py:36: FutureWarning: Conversion of the second argument of issubdtype from `float` to `np.floating` is deprecated. In future, it will be treated as `np.float64 == np.dtype(float).type`.\n",
      "  from ._conv import register_converters as _register_converters\n",
      "Using TensorFlow backend.\n"
     ]
    }
   ],
   "source": [
    "from keras.datasets import mnist\n",
    "from keras.utils import np_utils\n",
    "\n",
    "(X_train0, y_train0), (X_test0, y_test0) = mnist.load_data()\n",
    "\n",
    "X_train = X_train0.reshape(60000, 784).astype('float32') / 255.0\n",
    "X_test = X_test0.reshape(10000, 784).astype('float32') / 255.0\n",
    "Y_train = np_utils.to_categorical(y_train0, 10)\n",
    "Y_test = np_utils.to_categorical(y_test0, 10)"
   ]
  },
  {
   "cell_type": "code",
   "execution_count": 2,
   "metadata": {},
   "outputs": [],
   "source": [
    "from keras.models import Sequential\n",
    "from keras.layers.core import Dense\n",
    "from keras.optimizers import SGD"
   ]
  },
  {
   "cell_type": "code",
   "execution_count": 3,
   "metadata": {},
   "outputs": [],
   "source": [
    "model1 = Sequential()\n",
    "model1.add(Dense(15, input_dim=784, activation=\"sigmoid\"))\n",
    "model1.add(Dense(10, activation=\"sigmoid\"))\n",
    "model1.compile(optimizer=SGD(lr=0.2), loss='mean_squared_error', metrics=[\"accuracy\"])"
   ]
  },
  {
   "cell_type": "code",
   "execution_count": 4,
   "metadata": {},
   "outputs": [],
   "source": [
    "model2 = Sequential()\n",
    "model2.add(Dense(15, input_dim=784, activation=\"sigmoid\"))\n",
    "model2.add(Dense(15, activation=\"sigmoid\"))\n",
    "model2.add(Dense(10, activation=\"sigmoid\"))\n",
    "model2.compile(optimizer=SGD(lr=0.2), loss='mean_squared_error', metrics=[\"accuracy\"])"
   ]
  },
  {
   "cell_type": "code",
   "execution_count": 5,
   "metadata": {},
   "outputs": [],
   "source": [
    "model3 = Sequential()\n",
    "model3.add(Dense(15, input_dim=784, activation=\"sigmoid\"))\n",
    "model3.add(Dense(15, activation=\"sigmoid\"))\n",
    "model3.add(Dense(15, activation=\"sigmoid\"))\n",
    "model3.add(Dense(10, activation=\"sigmoid\"))\n",
    "model3.compile(optimizer=SGD(lr=0.2), loss='mean_squared_error', metrics=[\"accuracy\"])"
   ]
  },
  {
   "cell_type": "code",
   "execution_count": 6,
   "metadata": {},
   "outputs": [],
   "source": [
    "model4 = Sequential()\n",
    "model4.add(Dense(15, input_dim=784, activation=\"sigmoid\"))\n",
    "model4.add(Dense(15, activation=\"sigmoid\"))\n",
    "model4.add(Dense(15, activation=\"sigmoid\"))\n",
    "model4.add(Dense(15, activation=\"sigmoid\"))\n",
    "model4.add(Dense(10, activation=\"sigmoid\"))\n",
    "model4.compile(optimizer=SGD(lr=0.2), loss='mean_squared_error', metrics=[\"accuracy\"])"
   ]
  },
  {
   "cell_type": "markdown",
   "metadata": {},
   "source": [
    "콜백 오브젝트\n",
    "\n",
    "정해진 시점에 메소드 실행"
   ]
  },
  {
   "cell_type": "code",
   "execution_count": 7,
   "metadata": {},
   "outputs": [],
   "source": [
    "from keras.callbacks import Callback\n",
    "\n",
    "class WeightHistory(Callback):\n",
    "    \n",
    "    def __init__(self, model, num_epoch):\n",
    "        super().__init__()\n",
    "        self.model = model\n",
    "        self.num_hidden = len(model.layers) - 1\n",
    "        self.weight_old = [self.model.layers[i].get_weights()[0] for i in range(self.num_hidden)]\n",
    "        self.weight = [0.0 for i in range(self.num_hidden)]\n",
    "        self.weight_change = np.zeros((self.num_hidden, num_epoch))\n",
    "        \n",
    "    def on_epoch_end(self, epoch, logs={}):\n",
    "        for i in range(self.num_hidden):\n",
    "            self.weight[i] = self.model.layers[i].get_weights()[0]\n",
    "            self.weight_change[i, epoch] = np.abs((self.weight[i] - self.weight_old[i]).mean())\n",
    "            self.weight_old[i] = self.weight[i]\n",
    "            "
   ]
  },
  {
   "cell_type": "code",
   "execution_count": 8,
   "metadata": {},
   "outputs": [],
   "source": [
    "num_epoch = 500"
   ]
  },
  {
   "cell_type": "code",
   "execution_count": null,
   "metadata": {},
   "outputs": [],
   "source": [
    "%%time\n",
    "callback1 = WeightHistory(model1, num_epoch)\n",
    "hist1 = model1.fit(X_train, Y_train, epochs=num_epoch, \n",
    "                   batch_size=100, callbacks=[callback1], verbose=0)"
   ]
  },
  {
   "cell_type": "markdown",
   "metadata": {},
   "source": [
    "레이어가 많으면 가중치가 다같이 움직이지는 않는다.\n",
    "\n",
    "뒷단보다 앞단 레이어가 잘 안움직인다.\n",
    "- 그레디언트가 작다\n",
    "- gradient banishing problem\n",
    "\n",
    "why?\n",
    " - backpropagation 하면서 시그모이드 도함수를 타고 오는데, 올수록 $\\delta$값이 작아짐\n",
    " - w, x, b가 커지면 a가 커짐 -> 얘들을 넣을때 작게 넣어야함\n",
    " - mu (learning rate도 작게)"
   ]
  },
  {
   "cell_type": "markdown",
   "metadata": {},
   "source": [
    "## 근본적으로 막는 방법\n",
    "\n",
    "- 오차(목적) 함수 개선: cross-entropy cost function\n",
    "- Activation 함수 선택: hyper-tangent and ReLu\n",
    "- 가중치 초기값: weight initialization\n",
    "- 정규화: regularization\n",
    "- Softmax 출력"
   ]
  },
  {
   "cell_type": "markdown",
   "metadata": {},
   "source": [
    "classification -> cross-entropy \n",
    "\n",
    "activation함수가 오차함수 미분에 들어가지 않는다.\n",
    "- +오차가 크면 스탭사이즈가 크고, 적으면 스탭사이즈가 작아짐\n",
    "\n",
    "regression -> mean-square-error\n",
    "\n",
    "### Keras\n",
    "\n",
    "`model0.compile(optimizer=SGD(lr=0.2), loss='mean_squared_error', metrics=[\"accuracy\"])`\n",
    "\n",
    "loss를 바꿔주면 된다."
   ]
  },
  {
   "cell_type": "code",
   "execution_count": 9,
   "metadata": {},
   "outputs": [],
   "source": [
    "np.random.seed(0)\n",
    "model1 = Sequential()\n",
    "model1.add(Dense(15, input_dim=784, activation=\"sigmoid\"))\n",
    "model1.add(Dense(10, activation=\"sigmoid\"))\n",
    "model1.compile(optimizer=SGD(lr=0.2), loss='categorical_crossentropy', metrics=[\"accuracy\"])"
   ]
  },
  {
   "cell_type": "code",
   "execution_count": 11,
   "metadata": {},
   "outputs": [
    {
     "name": "stdout",
     "output_type": "stream",
     "text": [
      "CPU times: user 1min 58s, sys: 5.17 s, total: 2min 3s\n",
      "Wall time: 1min 13s\n"
     ]
    }
   ],
   "source": [
    "%%time\n",
    "hist1 = model1.fit(X_train, Y_train, epochs=30, batch_size=100, validation_data=(X_test, Y_test), verbose=0)"
   ]
  },
  {
   "cell_type": "code",
   "execution_count": 13,
   "metadata": {},
   "outputs": [
    {
     "data": {
      "image/png": "[encoded data removed]",
      "text/plain": [
       "<matplotlib.figure.Figure at 0x7f5325774a90>"
      ]
     },
     "metadata": {},
     "output_type": "display_data"
    }
   ],
   "source": [
    "%matplotlib inline\n",
    "plt.plot(hist0.history['val_acc'], ls=\":\", label=\"mean squared error\")\n",
    "plt.plot(hist1.history['val_acc'], label=\"cross entropy\")\n",
    "plt.legend()\n",
    "plt.show()"
   ]
  },
  {
   "cell_type": "markdown",
   "metadata": {},
   "source": [
    "앞단  activate 함수\n",
    "- Sigmoid -> ReLu (CNN 처럼 모델이 복잡한 경우만)\n",
    "\n",
    "단점, a가 음수이면 기울기가 0 -> Leaky ReLu로 보완"
   ]
  },
  {
   "cell_type": "code",
   "execution_count": 14,
   "metadata": {},
   "outputs": [],
   "source": [
    "np.random.seed(0)\n",
    "model3 = Sequential()\n",
    "model3.add(Dense(15, input_dim=784, activation=\"relu\"))\n",
    "model3.add(Dense(10, activation=\"sigmoid\"))\n",
    "model3.compile(optimizer=SGD(lr=0.2), loss='categorical_crossentropy', metrics=[\"accuracy\"])"
   ]
  },
  {
   "cell_type": "code",
   "execution_count": 15,
   "metadata": {},
   "outputs": [
    {
     "name": "stdout",
     "output_type": "stream",
     "text": [
      "CPU times: user 1min 57s, sys: 5.22 s, total: 2min 3s\n",
      "Wall time: 1min 15s\n"
     ]
    }
   ],
   "source": [
    "%%time\n",
    "hist3 = model3.fit(X_train, Y_train, epochs=30, batch_size=100, validation_data=(X_test, Y_test), verbose=0)"
   ]
  },
  {
   "cell_type": "code",
   "execution_count": 17,
   "metadata": {},
   "outputs": [
    {
     "data": {
      "image/png": "[encoded data removed]",
      "text/plain": [
       "<matplotlib.figure.Figure at 0x7f532431e7f0>"
      ]
     },
     "metadata": {},
     "output_type": "display_data"
    }
   ],
   "source": [
    "# plt.plot(hist1.history['acc'], label=\"logistic\")\n",
    "plt.plot(hist1.history['acc'], label=\"tanh\")\n",
    "plt.plot(hist3.history['acc'], label=\"relu\")\n",
    "plt.legend()\n",
    "plt.show()"
   ]
  },
  {
   "cell_type": "markdown",
   "metadata": {},
   "source": [
    "Relu 성능을 높이는법 -> 모델을 복잡하게 ( 레이어, 노드 확장 가능 )"
   ]
  },
  {
   "cell_type": "markdown",
   "metadata": {},
   "source": [
    "## 가중치 초기화\n",
    "반드시 넣어주어야 함\n",
    "\n",
    "kernel_initializer=\"nomal\" -> \"glorot_uniform\""
   ]
  },
  {
   "cell_type": "code",
   "execution_count": null,
   "metadata": {},
   "outputs": [],
   "source": [
    "np.random.seed(0)\n",
    "model4 = Sequential()\n",
    "model4.add(Dense(100, kernel_initializer=\"normal\", activation=\"sigmoid\", input_dim=784))\n",
    "model4.add(Dense(10, kernel_initializer=\"normal\", activation=\"sigmoid\"))\n",
    "model4.compile(optimizer=SGD(), loss='categorical_crossentropy', metrics=[\"accuracy\"])"
   ]
  },
  {
   "cell_type": "code",
   "execution_count": null,
   "metadata": {},
   "outputs": [],
   "source": [
    "np.random.seed(0)\n",
    "model5 = Sequential()\n",
    "model5.add(Dense(100, input_dim=784, activation=\"sigmoid\", kernel_initializer=\"glorot_uniform\"))\n",
    "model5.add(Dense(10, activation=\"sigmoid\", kernel_initializer=\"glorot_uniform\"))\n",
    "model5.compile(optimizer=SGD(), loss='categorical_crossentropy', metrics=[\"accuracy\"])"
   ]
  },
  {
   "cell_type": "markdown",
   "metadata": {},
   "source": [
    "## 과최적화 문제\n",
    "상황에 따라서, 하지만 dropout 은 거의 필수\n",
    "\n",
    "- 정규화 (L1, L2)\n",
    "- Dropout 정규화"
   ]
  },
  {
   "cell_type": "code",
   "execution_count": null,
   "metadata": {},
   "outputs": [],
   "source": [
    "from keras.layers import Dropout\n",
    "\n",
    "np.random.seed(0)\n",
    "model8 = Sequential()\n",
    "model8.add(Dense(30, input_dim=784, activation=\"sigmoid\"))\n",
    "model8.add(Dropout(0.5))\n",
    "model8.add(Dense(10, activation=\"sigmoid\"))\n",
    "model8.compile(optimizer=SGD(lr=0.5), loss='categorical_crossentropy', metrics=[\"accuracy\"])"
   ]
  },
  {
   "cell_type": "markdown",
   "metadata": {},
   "source": [
    "---"
   ]
  },
  {
   "cell_type": "markdown",
   "metadata": {},
   "source": [
    "## 소프트맥스 출력\n",
    "출력값이 확률이 아니기 때문에(합이 1이 아님), 소프트 맥스를 이용하여 총합이 1이 되게 변환\n",
    "- 확률은 아니지만 확률처럼 보임\n",
    "- 주의/ L파라미터가 너무 크면 왜곡이 될 수 있음\n",
    "- 관례처럼 사용함\n",
    "\n",
    "마지막 노드의 activation함수를 `softmax`로 사용"
   ]
  },
  {
   "cell_type": "code",
   "execution_count": null,
   "metadata": {},
   "outputs": [],
   "source": [
    "np.random.seed(0)\n",
    "model9 = Sequential()\n",
    "model9.add(Dense(15, input_dim=784, activation=\"sigmoid\", kernel_initializer=\"glorot_uniform\"))\n",
    "model9.add(Dense(10, activation=\"softmax\", kernel_initializer=\"glorot_uniform\"))\n",
    "model9.compile(optimizer=SGD(), loss='categorical_crossentropy', metrics=[\"accuracy\"])"
   ]
  },
  {
   "cell_type": "code",
   "execution_count": 11,
   "metadata": {},
   "outputs": [
    {
     "name": "stdout",
     "output_type": "stream",
     "text": [
      "CPU times: user 454 ms, sys: 27.4 ms, total: 482 ms\n",
      "Wall time: 489 ms\n"
     ]
    }
   ],
   "source": [
    "%%time\n",
    "from keras.datasets import mnist\n",
    "(X_train0, y_train0), (X_test0, y_test0) = mnist.load_data()"
   ]
  },
  {
   "cell_type": "code",
   "execution_count": 13,
   "metadata": {},
   "outputs": [
    {
     "data": {
      "text/plain": [
       "(60000, 28, 28)"
      ]
     },
     "execution_count": 13,
     "metadata": {},
     "output_type": "execute_result"
    }
   ],
   "source": [
    "X_train0.shape"
   ]
  },
  {
   "cell_type": "markdown",
   "metadata": {},
   "source": [
    "---"
   ]
  },
  {
   "cell_type": "code",
   "execution_count": 1,
   "metadata": {},
   "outputs": [],
   "source": [
    "from sklearn.datasets import fetch_olivetti_faces\n",
    "from sklearn.model_selection import train_test_split\n",
    "\n",
    "olivetti = fetch_olivetti_faces()\n",
    "\n",
    "X_train0, X_test0 = train_test_split(olivetti.data, test_size = .2, random_state=0)\n",
    "y_train0, y_test0= train_test_split(olivetti.target, test_size = .2, random_state=0)"
   ]
  },
  {
   "cell_type": "code",
   "execution_count": 2,
   "metadata": {},
   "outputs": [
    {
     "data": {
      "text/plain": [
       "(400, 4096)"
      ]
     },
     "execution_count": 2,
     "metadata": {},
     "output_type": "execute_result"
    }
   ],
   "source": [
    "olivetti.data.shape"
   ]
  },
  {
   "cell_type": "code",
   "execution_count": 3,
   "metadata": {},
   "outputs": [
    {
     "name": "stdout",
     "output_type": "stream",
     "text": [
      "(320, 4096) float32\n",
      "(320,) int64\n",
      "(80, 4096) float32\n",
      "(80,) int64\n"
     ]
    }
   ],
   "source": [
    "print(X_train0.shape, X_train0.dtype)\n",
    "print(y_train0.shape, y_train0.dtype)\n",
    "print(X_test0.shape, X_test0.dtype)\n",
    "print(y_test0.shape, y_test0.dtype)"
   ]
  },
  {
   "cell_type": "code",
   "execution_count": 4,
   "metadata": {},
   "outputs": [],
   "source": [
    "X_train = X_train0.astype('float32') / 255.0\n",
    "X_test = X_test0.astype('float32') / 255.0"
   ]
  },
  {
   "cell_type": "code",
   "execution_count": 5,
   "metadata": {},
   "outputs": [
    {
     "data": {
      "text/plain": [
       "array([33,  6,  5, 10, 30])"
      ]
     },
     "execution_count": 5,
     "metadata": {},
     "output_type": "execute_result"
    }
   ],
   "source": [
    "y_train0[:5]"
   ]
  },
  {
   "cell_type": "code",
   "execution_count": 8,
   "metadata": {},
   "outputs": [
    {
     "data": {
      "text/plain": [
       "array([[0., 0., 0., 0., 0., 0., 0., 0., 0., 0., 0., 0., 0., 0., 0., 0.,\n",
       "        0., 0., 0., 0., 0., 0., 0., 0., 0., 0., 0., 0., 0., 0., 0., 0.,\n",
       "        0., 1., 0., 0., 0., 0., 0., 0.],\n",
       "       [0., 0., 0., 0., 0., 0., 1., 0., 0., 0., 0., 0., 0., 0., 0., 0.,\n",
       "        0., 0., 0., 0., 0., 0., 0., 0., 0., 0., 0., 0., 0., 0., 0., 0.,\n",
       "        0., 0., 0., 0., 0., 0., 0., 0.],\n",
       "       [0., 0., 0., 0., 0., 1., 0., 0., 0., 0., 0., 0., 0., 0., 0., 0.,\n",
       "        0., 0., 0., 0., 0., 0., 0., 0., 0., 0., 0., 0., 0., 0., 0., 0.,\n",
       "        0., 0., 0., 0., 0., 0., 0., 0.],\n",
       "       [0., 0., 0., 0., 0., 0., 0., 0., 0., 0., 1., 0., 0., 0., 0., 0.,\n",
       "        0., 0., 0., 0., 0., 0., 0., 0., 0., 0., 0., 0., 0., 0., 0., 0.,\n",
       "        0., 0., 0., 0., 0., 0., 0., 0.],\n",
       "       [0., 0., 0., 0., 0., 0., 0., 0., 0., 0., 0., 0., 0., 0., 0., 0.,\n",
       "        0., 0., 0., 0., 0., 0., 0., 0., 0., 0., 0., 0., 0., 0., 1., 0.,\n",
       "        0., 0., 0., 0., 0., 0., 0., 0.]])"
      ]
     },
     "execution_count": 8,
     "metadata": {},
     "output_type": "execute_result"
    }
   ],
   "source": [
    "from keras.utils import np_utils\n",
    "\n",
    "Y_train = np_utils.to_categorical(y_train0, 40)\n",
    "Y_test = np_utils.to_categorical(y_test0, 40)\n",
    "Y_train[:5]"
   ]
  },
  {
   "cell_type": "code",
   "execution_count": 12,
   "metadata": {},
   "outputs": [
    {
     "data": {
      "text/plain": [
       "(80, 40)"
      ]
     },
     "execution_count": 12,
     "metadata": {},
     "output_type": "execute_result"
    }
   ],
   "source": [
    "Y_test.shape"
   ]
  },
  {
   "cell_type": "code",
   "execution_count": 57,
   "metadata": {},
   "outputs": [],
   "source": [
    "from keras.models import Sequential\n",
    "from keras.layers.core import Dense\n",
    "from keras.optimizers import SGD\n",
    "from keras.layers import Dropout\n",
    "import numpy as np\n",
    "from keras import regularizers"
   ]
  },
  {
   "cell_type": "code",
   "execution_count": 61,
   "metadata": {},
   "outputs": [],
   "source": [
    "np.random.seed(0)\n",
    "\n",
    "model = Sequential()\n",
    "model.add(Dense(1000, input_dim=4096, kernel_initializer=\"glorot_uniform\", \n",
    "                kernel_regularizer=regularizers.l2(0.0001), activation=\"relu\"))\n",
    "model.add(Dropout(0.2))\n",
    "model.add(Dense(1000, kernel_initializer=\"glorot_uniform\", activation=\"relu\", \n",
    "                  kernel_regularizer=regularizers.l2(0.0001)))\n",
    "model.add(Dropout(0.2))\n",
    "model.add(Dense(1000,  kernel_initializer=\"glorot_uniform\", activation=\"relu\", \n",
    "                  kernel_regularizer=regularizers.l2(0.0001)))\n",
    "model.add(Dropout(0.2))\n",
    "model.add(Dense(40, kernel_initializer=\"glorot_uniform\", activation=\"softmax\"))\n",
    "model.compile(optimizer=SGD(lr=0.1), loss='categorical_crossentropy', metrics=[\"accuracy\"])"
   ]
  },
  {
   "cell_type": "code",
   "execution_count": 62,
   "metadata": {
    "scrolled": true
   },
   "outputs": [
    {
     "name": "stdout",
     "output_type": "stream",
     "text": [
      "Train on 320 samples, validate on 80 samples\n",
      "Epoch 1/100\n",
      " - 3s - loss: 4.0502 - acc: 0.0281 - val_loss: 4.0519 - val_acc: 0.0125\n",
      "Epoch 2/100\n",
      " - 1s - loss: 4.0496 - acc: 0.0187 - val_loss: 4.0537 - val_acc: 0.0250\n",
      "Epoch 3/100\n",
      " - 1s - loss: 4.0492 - acc: 0.0250 - val_loss: 4.0559 - val_acc: 0.0125\n",
      "Epoch 4/100\n",
      " - 1s - loss: 4.0483 - acc: 0.0281 - val_loss: 4.0586 - val_acc: 0.0000e+00\n",
      "Epoch 5/100\n",
      " - 1s - loss: 4.0478 - acc: 0.0250 - val_loss: 4.0604 - val_acc: 0.0125\n",
      "Epoch 6/100\n",
      " - 1s - loss: 4.0475 - acc: 0.0281 - val_loss: 4.0633 - val_acc: 0.0125\n",
      "Epoch 7/100\n",
      " - 1s - loss: 4.0465 - acc: 0.0250 - val_loss: 4.0652 - val_acc: 0.0125\n",
      "Epoch 8/100\n",
      " - 1s - loss: 4.0462 - acc: 0.0281 - val_loss: 4.0672 - val_acc: 0.0125\n",
      "Epoch 9/100\n",
      " - 1s - loss: 4.0456 - acc: 0.0250 - val_loss: 4.0688 - val_acc: 0.0125\n",
      "Epoch 10/100\n",
      " - 2s - loss: 4.0453 - acc: 0.0187 - val_loss: 4.0715 - val_acc: 0.0125\n",
      "Epoch 11/100\n",
      " - 2s - loss: 4.0445 - acc: 0.0281 - val_loss: 4.0730 - val_acc: 0.0125\n",
      "Epoch 12/100\n",
      " - 2s - loss: 4.0445 - acc: 0.0281 - val_loss: 4.0756 - val_acc: 0.0125\n",
      "Epoch 13/100\n",
      " - 2s - loss: 4.0434 - acc: 0.0281 - val_loss: 4.0790 - val_acc: 0.0125\n",
      "Epoch 14/100\n",
      " - 2s - loss: 4.0436 - acc: 0.0281 - val_loss: 4.0823 - val_acc: 0.0125\n",
      "Epoch 15/100\n",
      " - 2s - loss: 4.0424 - acc: 0.0281 - val_loss: 4.0837 - val_acc: 0.0125\n",
      "Epoch 16/100\n",
      " - 2s - loss: 4.0418 - acc: 0.0281 - val_loss: 4.0859 - val_acc: 0.0125\n",
      "Epoch 17/100\n",
      " - 1s - loss: 4.0418 - acc: 0.0281 - val_loss: 4.0879 - val_acc: 0.0125\n",
      "Epoch 18/100\n",
      " - 2s - loss: 4.0413 - acc: 0.0281 - val_loss: 4.0904 - val_acc: 0.0125\n",
      "Epoch 19/100\n",
      " - 2s - loss: 4.0415 - acc: 0.0250 - val_loss: 4.0922 - val_acc: 0.0125\n",
      "Epoch 20/100\n",
      " - 2s - loss: 4.0411 - acc: 0.0281 - val_loss: 4.0938 - val_acc: 0.0125\n",
      "Epoch 21/100\n",
      " - 1s - loss: 4.0405 - acc: 0.0156 - val_loss: 4.0945 - val_acc: 0.0125\n",
      "Epoch 22/100\n",
      " - 2s - loss: 4.0401 - acc: 0.0344 - val_loss: 4.0952 - val_acc: 0.0000e+00\n",
      "Epoch 23/100\n",
      " - 1s - loss: 4.0400 - acc: 0.0250 - val_loss: 4.0961 - val_acc: 0.0000e+00\n",
      "Epoch 24/100\n",
      " - 1s - loss: 4.0398 - acc: 0.0250 - val_loss: 4.0984 - val_acc: 0.0000e+00\n",
      "Epoch 25/100\n",
      " - 1s - loss: 4.0397 - acc: 0.0187 - val_loss: 4.1010 - val_acc: 0.0000e+00\n",
      "Epoch 26/100\n",
      " - 1s - loss: 4.0397 - acc: 0.0312 - val_loss: 4.1031 - val_acc: 0.0125\n",
      "Epoch 27/100\n",
      " - 1s - loss: 4.0382 - acc: 0.0312 - val_loss: 4.1053 - val_acc: 0.0000e+00\n",
      "Epoch 28/100\n",
      " - 1s - loss: 4.0387 - acc: 0.0344 - val_loss: 4.1055 - val_acc: 0.0000e+00\n",
      "Epoch 29/100\n",
      " - 1s - loss: 4.0390 - acc: 0.0375 - val_loss: 4.1068 - val_acc: 0.0000e+00\n",
      "Epoch 30/100\n",
      " - 1s - loss: 4.0383 - acc: 0.0312 - val_loss: 4.1078 - val_acc: 0.0000e+00\n",
      "Epoch 31/100\n",
      " - 1s - loss: 4.0383 - acc: 0.0312 - val_loss: 4.1091 - val_acc: 0.0000e+00\n",
      "Epoch 32/100\n",
      " - 1s - loss: 4.0390 - acc: 0.0406 - val_loss: 4.1096 - val_acc: 0.0000e+00\n",
      "Epoch 33/100\n",
      " - 1s - loss: 4.0381 - acc: 0.0156 - val_loss: 4.1111 - val_acc: 0.0000e+00\n",
      "Epoch 34/100\n",
      " - 1s - loss: 4.0380 - acc: 0.0281 - val_loss: 4.1126 - val_acc: 0.0000e+00\n",
      "Epoch 35/100\n",
      " - 1s - loss: 4.0370 - acc: 0.0250 - val_loss: 4.1141 - val_acc: 0.0125\n",
      "Epoch 36/100\n",
      " - 1s - loss: 4.0375 - acc: 0.0219 - val_loss: 4.1141 - val_acc: 0.0125\n",
      "Epoch 37/100\n",
      " - 1s - loss: 4.0360 - acc: 0.0281 - val_loss: 4.1154 - val_acc: 0.0125\n",
      "Epoch 38/100\n",
      " - 1s - loss: 4.0370 - acc: 0.0312 - val_loss: 4.1167 - val_acc: 0.0000e+00\n",
      "Epoch 39/100\n",
      " - 1s - loss: 4.0362 - acc: 0.0312 - val_loss: 4.1181 - val_acc: 0.0000e+00\n",
      "Epoch 40/100\n",
      " - 1s - loss: 4.0370 - acc: 0.0281 - val_loss: 4.1197 - val_acc: 0.0125\n",
      "Epoch 41/100\n",
      " - 1s - loss: 4.0354 - acc: 0.0281 - val_loss: 4.1210 - val_acc: 0.0000e+00\n",
      "Epoch 42/100\n",
      " - 1s - loss: 4.0360 - acc: 0.0312 - val_loss: 4.1233 - val_acc: 0.0000e+00\n",
      "Epoch 43/100\n",
      " - 1s - loss: 4.0356 - acc: 0.0313 - val_loss: 4.1236 - val_acc: 0.0000e+00\n",
      "Epoch 44/100\n",
      " - 1s - loss: 4.0360 - acc: 0.0344 - val_loss: 4.1263 - val_acc: 0.0000e+00\n",
      "Epoch 45/100\n",
      " - 1s - loss: 4.0352 - acc: 0.0312 - val_loss: 4.1273 - val_acc: 0.0000e+00\n",
      "Epoch 46/100\n",
      " - 1s - loss: 4.0355 - acc: 0.0187 - val_loss: 4.1299 - val_acc: 0.0000e+00\n",
      "Epoch 47/100\n",
      " - 1s - loss: 4.0351 - acc: 0.0312 - val_loss: 4.1321 - val_acc: 0.0000e+00\n",
      "Epoch 48/100\n",
      " - 1s - loss: 4.0350 - acc: 0.0250 - val_loss: 4.1350 - val_acc: 0.0000e+00\n",
      "Epoch 49/100\n",
      " - 1s - loss: 4.0333 - acc: 0.0250 - val_loss: 4.1375 - val_acc: 0.0000e+00\n",
      "Epoch 50/100\n",
      " - 1s - loss: 4.0334 - acc: 0.0344 - val_loss: 4.1381 - val_acc: 0.0000e+00\n",
      "Epoch 51/100\n",
      " - 1s - loss: 4.0326 - acc: 0.0344 - val_loss: 4.1402 - val_acc: 0.0000e+00\n",
      "Epoch 52/100\n",
      " - 1s - loss: 4.0332 - acc: 0.0406 - val_loss: 4.1417 - val_acc: 0.0000e+00\n",
      "Epoch 53/100\n",
      " - 1s - loss: 4.0346 - acc: 0.0406 - val_loss: 4.1426 - val_acc: 0.0000e+00\n",
      "Epoch 54/100\n",
      " - 1s - loss: 4.0345 - acc: 0.0312 - val_loss: 4.1435 - val_acc: 0.0000e+00\n",
      "Epoch 55/100\n",
      " - 1s - loss: 4.0333 - acc: 0.0406 - val_loss: 4.1437 - val_acc: 0.0000e+00\n",
      "Epoch 56/100\n",
      " - 1s - loss: 4.0331 - acc: 0.0312 - val_loss: 4.1445 - val_acc: 0.0000e+00\n",
      "Epoch 57/100\n",
      " - 1s - loss: 4.0334 - acc: 0.0312 - val_loss: 4.1445 - val_acc: 0.0000e+00\n",
      "Epoch 58/100\n",
      " - 1s - loss: 4.0332 - acc: 0.0219 - val_loss: 4.1448 - val_acc: 0.0000e+00\n",
      "Epoch 59/100\n",
      " - 1s - loss: 4.0326 - acc: 0.0281 - val_loss: 4.1460 - val_acc: 0.0000e+00\n",
      "Epoch 60/100\n",
      " - 1s - loss: 4.0325 - acc: 0.0375 - val_loss: 4.1457 - val_acc: 0.0000e+00\n",
      "Epoch 61/100\n",
      " - 1s - loss: 4.0328 - acc: 0.0375 - val_loss: 4.1481 - val_acc: 0.0000e+00\n",
      "Epoch 62/100\n",
      " - 1s - loss: 4.0337 - acc: 0.0219 - val_loss: 4.1502 - val_acc: 0.0000e+00\n",
      "Epoch 63/100\n",
      " - 2s - loss: 4.0307 - acc: 0.0344 - val_loss: 4.1505 - val_acc: 0.0000e+00\n",
      "Epoch 64/100\n",
      " - 2s - loss: 4.0325 - acc: 0.0281 - val_loss: 4.1512 - val_acc: 0.0000e+00\n",
      "Epoch 65/100\n",
      " - 2s - loss: 4.0343 - acc: 0.0250 - val_loss: 4.1498 - val_acc: 0.0000e+00\n",
      "Epoch 66/100\n",
      " - 2s - loss: 4.0333 - acc: 0.0250 - val_loss: 4.1510 - val_acc: 0.0000e+00\n",
      "Epoch 67/100\n",
      " - 1s - loss: 4.0319 - acc: 0.0219 - val_loss: 4.1514 - val_acc: 0.0000e+00\n",
      "Epoch 68/100\n",
      " - 1s - loss: 4.0327 - acc: 0.0250 - val_loss: 4.1516 - val_acc: 0.0000e+00\n",
      "Epoch 69/100\n",
      " - 1s - loss: 4.0338 - acc: 0.0437 - val_loss: 4.1519 - val_acc: 0.0000e+00\n",
      "Epoch 70/100\n",
      " - 1s - loss: 4.0325 - acc: 0.0469 - val_loss: 4.1524 - val_acc: 0.0000e+00\n",
      "Epoch 71/100\n",
      " - 2s - loss: 4.0330 - acc: 0.0281 - val_loss: 4.1531 - val_acc: 0.0000e+00\n",
      "Epoch 72/100\n",
      " - 2s - loss: 4.0321 - acc: 0.0344 - val_loss: 4.1529 - val_acc: 0.0000e+00\n",
      "Epoch 73/100\n",
      " - 2s - loss: 4.0310 - acc: 0.0312 - val_loss: 4.1542 - val_acc: 0.0000e+00\n",
      "Epoch 74/100\n",
      " - 2s - loss: 4.0324 - acc: 0.0312 - val_loss: 4.1547 - val_acc: 0.0000e+00\n",
      "Epoch 75/100\n",
      " - 1s - loss: 4.0321 - acc: 0.0312 - val_loss: 4.1540 - val_acc: 0.0000e+00\n",
      "Epoch 76/100\n",
      " - 1s - loss: 4.0313 - acc: 0.0344 - val_loss: 4.1559 - val_acc: 0.0000e+00\n",
      "Epoch 77/100\n",
      " - 1s - loss: 4.0317 - acc: 0.0281 - val_loss: 4.1587 - val_acc: 0.0000e+00\n",
      "Epoch 78/100\n",
      " - 2s - loss: 4.0321 - acc: 0.0344 - val_loss: 4.1565 - val_acc: 0.0000e+00\n",
      "Epoch 79/100\n",
      " - 2s - loss: 4.0312 - acc: 0.0406 - val_loss: 4.1577 - val_acc: 0.0000e+00\n",
      "Epoch 80/100\n",
      " - 2s - loss: 4.0328 - acc: 0.0344 - val_loss: 4.1568 - val_acc: 0.0000e+00\n",
      "Epoch 81/100\n",
      " - 1s - loss: 4.0316 - acc: 0.0250 - val_loss: 4.1575 - val_acc: 0.0000e+00\n",
      "Epoch 82/100\n",
      " - 1s - loss: 4.0311 - acc: 0.0219 - val_loss: 4.1594 - val_acc: 0.0000e+00\n",
      "Epoch 83/100\n",
      " - 1s - loss: 4.0308 - acc: 0.0312 - val_loss: 4.1601 - val_acc: 0.0000e+00\n",
      "Epoch 84/100\n",
      " - 2s - loss: 4.0315 - acc: 0.0312 - val_loss: 4.1632 - val_acc: 0.0000e+00\n",
      "Epoch 85/100\n",
      " - 2s - loss: 4.0307 - acc: 0.0219 - val_loss: 4.1632 - val_acc: 0.0000e+00\n",
      "Epoch 86/100\n",
      " - 2s - loss: 4.0306 - acc: 0.0219 - val_loss: 4.1629 - val_acc: 0.0000e+00\n",
      "Epoch 87/100\n",
      " - 1s - loss: 4.0305 - acc: 0.0375 - val_loss: 4.1643 - val_acc: 0.0000e+00\n",
      "Epoch 88/100\n",
      " - 2s - loss: 4.0312 - acc: 0.0312 - val_loss: 4.1639 - val_acc: 0.0000e+00\n",
      "Epoch 89/100\n",
      " - 2s - loss: 4.0310 - acc: 0.0250 - val_loss: 4.1656 - val_acc: 0.0000e+00\n",
      "Epoch 90/100\n",
      " - 2s - loss: 4.0305 - acc: 0.0438 - val_loss: 4.1663 - val_acc: 0.0000e+00\n",
      "Epoch 91/100\n",
      " - 2s - loss: 4.0324 - acc: 0.0281 - val_loss: 4.1664 - val_acc: 0.0000e+00\n",
      "Epoch 92/100\n",
      " - 2s - loss: 4.0320 - acc: 0.0219 - val_loss: 4.1656 - val_acc: 0.0000e+00\n",
      "Epoch 93/100\n",
      " - 1s - loss: 4.0313 - acc: 0.0375 - val_loss: 4.1661 - val_acc: 0.0000e+00\n"
     ]
    },
    {
     "name": "stdout",
     "output_type": "stream",
     "text": [
      "Epoch 94/100\n",
      " - 1s - loss: 4.0309 - acc: 0.0156 - val_loss: 4.1656 - val_acc: 0.0000e+00\n",
      "Epoch 95/100\n",
      " - 2s - loss: 4.0308 - acc: 0.0312 - val_loss: 4.1649 - val_acc: 0.0000e+00\n",
      "Epoch 96/100\n",
      " - 1s - loss: 4.0287 - acc: 0.0312 - val_loss: 4.1639 - val_acc: 0.0000e+00\n",
      "Epoch 97/100\n",
      " - 1s - loss: 4.0321 - acc: 0.0312 - val_loss: 4.1636 - val_acc: 0.0000e+00\n",
      "Epoch 98/100\n",
      " - 1s - loss: 4.0306 - acc: 0.0344 - val_loss: 4.1647 - val_acc: 0.0000e+00\n",
      "Epoch 99/100\n",
      " - 1s - loss: 4.0290 - acc: 0.0375 - val_loss: 4.1652 - val_acc: 0.0000e+00\n",
      "Epoch 100/100\n",
      " - 1s - loss: 4.0317 - acc: 0.0219 - val_loss: 4.1656 - val_acc: 0.0000e+00\n",
      "CPU times: user 7min 24s, sys: 39.6 s, total: 8min 4s\n",
      "Wall time: 2min 24s\n"
     ]
    }
   ],
   "source": [
    "%%time\n",
    "hist = model.fit(X_train, Y_train, \n",
    "                 epochs=100, batch_size=100, \n",
    "                 validation_data=(X_test, Y_test), \n",
    "                 verbose=2)"
   ]
  },
  {
   "cell_type": "code",
   "execution_count": 63,
   "metadata": {},
   "outputs": [
    {
     "data": {
      "image/png": "[encoded data removed]",
      "text/plain": [
       "<matplotlib.figure.Figure at 0x7f367d77c828>"
      ]
     },
     "metadata": {},
     "output_type": "display_data"
    }
   ],
   "source": [
    "%matplotlib inline\n",
    "plt.plot(hist.history['acc'], label=\"training acc\")\n",
    "plt.plot(hist.history['val_acc'], label=\"test acc\")\n",
    "plt.legend()\n",
    "plt.show()\n"
   ]
  },
  {
   "cell_type": "code",
   "execution_count": null,
   "metadata": {},
   "outputs": [],
   "source": []
  }
 ],
 "metadata": {
  "kernelspec": {
   "display_name": "Python 3",
   "language": "python",
   "name": "python3"
  },
  "language_info": {
   "codemirror_mode": {
    "name": "ipython",
    "version": 3
   },
   "file_extension": ".py",
   "mimetype": "text/x-python",
   "name": "python",
   "nbconvert_exporter": "python",
   "pygments_lexer": "ipython3",
   "version": "3.6.4"
  }
 },
 "nbformat": 4,
 "nbformat_minor": 2
}
