{
 "cells": [
  {
   "cell_type": "markdown",
   "metadata": {},
   "source": [
    "#### bootstrapping\n",
    "OLS 방법으로는 계산한 가중치의 신뢰도를 알 수 없다. 이를 확인하기 위해 사용\n",
    "- 회귀 분석에 사용한 데이터가 달라질 때, 분석 결과가 받는 영향을 알기 위한 방법\n",
    "- 기존 데이터를 재표본화(resampling)함\n",
    "    - 현실적으로 데이터의 수가 제한적이기 때문\n",
    "    - resampling: 기존 N개의 데이터에서 다시 N개의 데이터를 선택(중복 가능)\n",
    "    "
   ]
  },
  {
   "cell_type": "code",
   "execution_count": 1,
   "metadata": {},
   "outputs": [
    {
     "data": {
      "text/plain": [
       "array(42.38550485581797)"
      ]
     },
     "execution_count": 1,
     "metadata": {},
     "output_type": "execute_result"
    }
   ],
   "source": [
    "from sklearn.datasets import make_regression\n",
    "\n",
    "X0, y, coef = make_regression(n_samples=100, n_features=1, noise=20,\n",
    "                              coef=True, random_state=0)\n",
    "coef"
   ]
  },
  {
   "cell_type": "code",
   "execution_count": 2,
   "metadata": {},
   "outputs": [
    {
     "data": {
      "text/plain": [
       "const    -1.628364\n",
       "X1       42.853356\n",
       "dtype: float64"
      ]
     },
     "execution_count": 2,
     "metadata": {},
     "output_type": "execute_result"
    }
   ],
   "source": [
    "dfX0 = pd.DataFrame(X0, columns=[\"X1\"])\n",
    "dfX = sm.add_constant(dfX0)\n",
    "dfy = pd.DataFrame(y, columns=[\"y\"])\n",
    "\n",
    "model = sm.OLS(dfy, dfX)\n",
    "result = model.fit()\n",
    "result.params"
   ]
  },
  {
   "cell_type": "markdown",
   "metadata": {},
   "source": [
    "### bootstraping (n = 1000)"
   ]
  },
  {
   "cell_type": "code",
   "execution_count": 3,
   "metadata": {},
   "outputs": [
    {
     "name": "stdout",
     "output_type": "stream",
     "text": [
      "CPU times: user 3.97 s, sys: 169 ms, total: 4.14 s\n",
      "Wall time: 2.07 s\n"
     ]
    }
   ],
   "source": [
    "%%time\n",
    "N = 1000\n",
    "params_c = np.zeros(N)\n",
    "params_x1 = np.zeros(N)\n",
    "for i in range(N):\n",
    "    idx = np.random.choice(len(dfy), len(dfy), replace=True)\n",
    "    dfX2 = dfX.iloc[idx, :]\n",
    "    dfy2 = dfy.iloc[idx]\n",
    "    r = sm.OLS(dfy2, dfX2).fit()\n",
    "    params_c[i] = r.params.const\n",
    "    params_x1[i] = r.params.X1"
   ]
  },
  {
   "cell_type": "code",
   "execution_count": 4,
   "metadata": {},
   "outputs": [
    {
     "data": {
      "image/png": "[encoded data removed]",
      "text/plain": [
       "<matplotlib.figure.Figure at 0x7f8040142400>"
      ]
     },
     "metadata": {},
     "output_type": "display_data"
    }
   ],
   "source": [
    "%matplotlib inline\n",
    "plt.figure(figsize=(8, 3))\n",
    "\n",
    "ax1 = plt.subplot(121)\n",
    "sns.distplot(params_c, ax=ax1)\n",
    "plt.axvline(params_c.mean(), c='r')\n",
    "plt.title(\"const parameter $\\hat{w}_0$\")\n",
    "\n",
    "ax2 = plt.subplot(122)\n",
    "sns.distplot(params_x1, ax=ax2)\n",
    "plt.axvline(params_x1.mean(), c='r')\n",
    "plt.title(\"x1 parameter $\\hat{w}_1$\")\n",
    "plt.show()"
   ]
  },
  {
   "cell_type": "code",
   "execution_count": 5,
   "metadata": {},
   "outputs": [
    {
     "data": {
      "text/plain": [
       "(-1.7179283762165385, 2.1409810541015837)"
      ]
     },
     "execution_count": 5,
     "metadata": {},
     "output_type": "execute_result"
    }
   ],
   "source": [
    "params_c.mean(), params_c.std()"
   ]
  },
  {
   "cell_type": "code",
   "execution_count": 6,
   "metadata": {},
   "outputs": [
    {
     "data": {
      "text/plain": [
       "(42.805289081715962, 1.9757427036076487)"
      ]
     },
     "execution_count": 6,
     "metadata": {},
     "output_type": "execute_result"
    }
   ],
   "source": [
    "params_x1.mean(), params_x1.std()"
   ]
  },
  {
   "cell_type": "code",
   "execution_count": 7,
   "metadata": {},
   "outputs": [
    {
     "data": {
      "text/html": [
       "<table class=\"simpletable\">\n",
       "<caption>OLS Regression Results</caption>\n",
       "<tr>\n",
       "  <th>Dep. Variable:</th>            <td>y</td>        <th>  R-squared:         </th> <td>   0.803</td>\n",
       "</tr>\n",
       "<tr>\n",
       "  <th>Model:</th>                   <td>OLS</td>       <th>  Adj. R-squared:    </th> <td>   0.801</td>\n",
       "</tr>\n",
       "<tr>\n",
       "  <th>Method:</th>             <td>Least Squares</td>  <th>  F-statistic:       </th> <td>   400.3</td>\n",
       "</tr>\n",
       "<tr>\n",
       "  <th>Date:</th>             <td>Sun, 04 Mar 2018</td> <th>  Prob (F-statistic):</th> <td>2.21e-36</td>\n",
       "</tr>\n",
       "<tr>\n",
       "  <th>Time:</th>                 <td>21:37:30</td>     <th>  Log-Likelihood:    </th> <td> -448.09</td>\n",
       "</tr>\n",
       "<tr>\n",
       "  <th>No. Observations:</th>      <td>   100</td>      <th>  AIC:               </th> <td>   900.2</td>\n",
       "</tr>\n",
       "<tr>\n",
       "  <th>Df Residuals:</th>          <td>    98</td>      <th>  BIC:               </th> <td>   905.4</td>\n",
       "</tr>\n",
       "<tr>\n",
       "  <th>Df Model:</th>              <td>     1</td>      <th>                     </th>     <td> </td>   \n",
       "</tr>\n",
       "<tr>\n",
       "  <th>Covariance Type:</th>      <td>nonrobust</td>    <th>                     </th>     <td> </td>   \n",
       "</tr>\n",
       "</table>\n",
       "<table class=\"simpletable\">\n",
       "<tr>\n",
       "    <td></td>       <th>coef</th>     <th>std err</th>      <th>t</th>      <th>P>|t|</th>  <th>[0.025</th>    <th>0.975]</th>  \n",
       "</tr>\n",
       "<tr>\n",
       "  <th>const</th> <td>   -1.6284</td> <td>    2.163</td> <td>   -0.753</td> <td> 0.453</td> <td>   -5.920</td> <td>    2.663</td>\n",
       "</tr>\n",
       "<tr>\n",
       "  <th>X1</th>    <td>   42.8534</td> <td>    2.142</td> <td>   20.008</td> <td> 0.000</td> <td>   38.603</td> <td>   47.104</td>\n",
       "</tr>\n",
       "</table>\n",
       "<table class=\"simpletable\">\n",
       "<tr>\n",
       "  <th>Omnibus:</th>       <td> 3.523</td> <th>  Durbin-Watson:     </th> <td>   1.984</td>\n",
       "</tr>\n",
       "<tr>\n",
       "  <th>Prob(Omnibus):</th> <td> 0.172</td> <th>  Jarque-Bera (JB):  </th> <td>   2.059</td>\n",
       "</tr>\n",
       "<tr>\n",
       "  <th>Skew:</th>          <td>-0.073</td> <th>  Prob(JB):          </th> <td>   0.357</td>\n",
       "</tr>\n",
       "<tr>\n",
       "  <th>Kurtosis:</th>      <td> 2.312</td> <th>  Cond. No.          </th> <td>    1.06</td>\n",
       "</tr>\n",
       "</table>"
      ],
      "text/plain": [
       "<class 'statsmodels.iolib.summary.Summary'>\n",
       "\"\"\"\n",
       "                            OLS Regression Results                            \n",
       "==============================================================================\n",
       "Dep. Variable:                      y   R-squared:                       0.803\n",
       "Model:                            OLS   Adj. R-squared:                  0.801\n",
       "Method:                 Least Squares   F-statistic:                     400.3\n",
       "Date:                Sun, 04 Mar 2018   Prob (F-statistic):           2.21e-36\n",
       "Time:                        21:37:30   Log-Likelihood:                -448.09\n",
       "No. Observations:                 100   AIC:                             900.2\n",
       "Df Residuals:                      98   BIC:                             905.4\n",
       "Df Model:                           1                                         \n",
       "Covariance Type:            nonrobust                                         \n",
       "==============================================================================\n",
       "                 coef    std err          t      P>|t|      [0.025      0.975]\n",
       "------------------------------------------------------------------------------\n",
       "const         -1.6284      2.163     -0.753      0.453      -5.920       2.663\n",
       "X1            42.8534      2.142     20.008      0.000      38.603      47.104\n",
       "==============================================================================\n",
       "Omnibus:                        3.523   Durbin-Watson:                   1.984\n",
       "Prob(Omnibus):                  0.172   Jarque-Bera (JB):                2.059\n",
       "Skew:                          -0.073   Prob(JB):                        0.357\n",
       "Kurtosis:                       2.312   Cond. No.                         1.06\n",
       "==============================================================================\n",
       "\n",
       "Warnings:\n",
       "[1] Standard Errors assume that the covariance matrix of the errors is correctly specified.\n",
       "\"\"\""
      ]
     },
     "execution_count": 7,
     "metadata": {},
     "output_type": "execute_result"
    }
   ],
   "source": [
    "result.summary() # sdt err: 2.163"
   ]
  },
  {
   "cell_type": "markdown",
   "metadata": {},
   "source": [
    "---"
   ]
  },
  {
   "cell_type": "markdown",
   "metadata": {},
   "source": [
    "# 확률론적 선형회귀모형\n",
    "- boot straping 없이도 회귀분석 결과의 통계적 특성을 구할 수 있다.\n",
    "- 데이터가 확률 변수로부터 생성된 표본이라고 가정"
   ]
  },
  {
   "cell_type": "markdown",
   "metadata": {},
   "source": [
    "## 가정 1. 오차 분포에 대한 가정"
   ]
  },
  {
   "cell_type": "markdown",
   "metadata": {},
   "source": [
    "### 1-1. 선형 정규 분포 가정\n",
    "\n",
    "선형 회귀 분석의 기본 가정 : 종속 변수 y가 독립 변수 x의 선형 조합 $(w^Tx)$ 으로 결정되는 기댓값과 고정된 분산을 가지는 정규분포\n",
    "\n",
    "$$ y \\sim \\mathcal{N}(w^Tx, \\sigma^2)$$\n",
    "\n",
    "y의 확률 밀도 함수(pdf)는 다음처럼 쓸 수 있다. 모수 벡터 $\\theta=(w, \\sigma^2)$\n",
    "\n",
    "$$p(y \\mid x, \\theta) = \\mathcal{N}(y \\mid w^Tx, \\sigma^2 )$$\n",
    "\n",
    "- 다시 말해, $w^Tx, \\sigma^2$에 따라 기댓값이 달라지는 $y$인 조건부확률이다.\n",
    "- 확률 밀도 함수 자체가 $x$와 모수$\\theta$ 에 의해 달라진다.\n",
    "\n",
    "\n",
    "그런데, 이 관계식을 **오차(disturbance) $\\epsilon_i$에 대해 표현하면** 식이 더 **간단**해진다.\n",
    "\n",
    "$$\\epsilon_i = y - w^Tx$$\n",
    "\n",
    "오차의 확률밀도함수(pdf)는 다음과 같다.\n",
    "\n",
    "$$p(\\epsilon \\mid \\theta) = \\mathcal{N}(0, \\sigma^2 )$$\n",
    "\n",
    ">주의: x, y 중 어느 것도 그 자체로 정규 분포일 필요는 없다."
   ]
  },
  {
   "cell_type": "markdown",
   "metadata": {},
   "source": [
    "### 1-2. 외생성(Exogeneity) 가정\n",
    "(가정) 오차 $\\epsilon$의 기댓값은 독립 변수 $x$에 상관없이 항상 0이라 가정한다.\n",
    "\n",
    "$$\\text{E}[\\epsilon \\mid x] = 0 $$\n",
    "\n",
    "가정으로부터 오차의 무조건부 기댓값이 0임을 증명할 수 있다.\n",
    "\n",
    "$$\\text{E}[\\text{E}[\\epsilon \\mid x]] = \\text{E}[\\epsilon]=0 $$\n",
    "\n",
    "같은 가정으로부터 오차와 독립 변수 $x$가 무상관 관계라는 것도 증명.\n",
    "\n",
    "$$\\text{E}[\\epsilon x] = 0 $$\n",
    "\n",
    "- 다만, 곱의 평균이 0이지, 곱이 0은 아니다.\n",
    "- 이를 통계적 직교라고 한다."
   ]
  },
  {
   "cell_type": "markdown",
   "metadata": {},
   "source": [
    "### 1-3. 조건부 독립 가정\n",
    "\n",
    "(가정) $i$번째 샘플의 오차 $\\epsilon_i$와 j번째 오차 $\\epsilon_j$의 공분산 값이 $x$와 상관없이 항상 0이라고 가정한다.\n",
    "\n",
    "$$\\text{Cov}[\\epsilon_i, \\epsilon_j \\mid x] = 0 \\;\\; (i,j=1,2,\\ldots,N) $$\n",
    "\n",
    "위 가정은 **각 샘플의 오차$\\epsilon_i, \\epsilon_j$가 서로 독립**이라는 가정과 같은 말이다.\n",
    "\n",
    "이 가정과 위의 다른 가정들로부터 다음을 증명할 수 있다.\n",
    "\n",
    "$$ \\text{E}[\\epsilon_i,\\epsilon_j] = 0 $$\n",
    "\n",
    "이를 공분산 행렬로 표현\n",
    "\n",
    "$$ \\text{Cov}[\\epsilon] = \\text{E}[\\epsilon^{} \\epsilon^T] = \\sigma^2 I $$"
   ]
  },
  {
   "cell_type": "markdown",
   "metadata": {},
   "source": [
    "## 가정 2. 독립 변수에 대한 가정\n",
    "\n",
    "독립 변수의 공분산 행렬은 full rank이어야 한다.\n",
    "\n",
    "즉, 독립 변수에서 서로 독립인 성분이 독립 변수의 갯수만큼 존재해야 한다.\n",
    "만약 공분산 행렬이 full rank가 아니면, $X^TX$의 역행렬이 존재하지 않는다. 또한 공분산 행렬의 조건이 나쁜(ill-conditioned)경우에도 올바른 모수 추정이 되지 않는다."
   ]
  },
  {
   "cell_type": "markdown",
   "metadata": {},
   "source": [
    "# MLE 사용 선형회귀분석\n",
    "- log likelihood -> \n",
    "\n",
    "$$\\begin{eqnarray}\n",
    "\\text{LL}  \n",
    "&=& \\log p(y_{1:N} \\,\\big|\\, x_{1:N}, \\theta) \\\\\n",
    "&=& \\log \\prod_{i=1}^N \\frac{1}{\\sqrt{2\\pi\\sigma^2}}\\exp\\left\\{-\\frac{(y_i-w^T x_i)^2}{2\\sigma^2} \\right\\}  \\\\\n",
    "&=& -\\dfrac{1}{2\\sigma^2} \\sum_{i=1}^N (y_i-w^T x_i)^2 - \\dfrac{N}{2} \\log{2\\pi}{\\sigma^2}  \\\\\n",
    "\\end{eqnarray}$$\n",
    "\n",
    "- 최적화 -> OLS와 같은 결과\n",
    "\n",
    "$$\\dfrac{\\partial}{\\partial w} \\text{LL} = -C_1 \\left( 2X^TX \\hat{w} - 2X^Ty \\right) = 0$$\n",
    "\n",
    "$$\\hat{w} = (X^TX)^{-1}X^T y$$\n",
    "- 정규 방정식\n",
    "$$X^T(X \\hat{w} - y) = X^T(\\hat{y} - y) = X^Te = 0$$ "
   ]
  },
  {
   "cell_type": "markdown",
   "metadata": {},
   "source": [
    "# 잔차의 분포\n",
    "*(중요)*\n",
    "확률론적 선형 회귀모형에 따르면 회귀분석에서 생기는 **잔차 $e = y - \\hat{w}^Tx$ 도 정규 분포를 따른다.**\n",
    "\n",
    "(증명)\n",
    "확률론적 선형회귀모형의 오차 $\\epsilon$과 잔차 $e$는 다음과 같은 관계를 가진다. \n",
    "\n",
    "$$\\hat{y} = X\\hat{w} =X (X^TX)^{-1}X^T y = Hy $$\n",
    "\n",
    "행렬 H은 **Hat 행렬** 혹은 **projection matrix**, 또는 **influence matrix**라고 부르는 대칭 행렬이다. + 다음과 같은 성질이 있다.\n",
    "\n",
    "$$HH = X (X^TX)^{-1}X^T X (X^TX)^{-1}X^T =H$$\n",
    "\n",
    "Hat 행렬을 이용하여 잔차를 표현\n",
    "\n",
    "$$ e = y - \\hat{y} = y - Hy = (I - H)y $$\n",
    "\n",
    "$M = I - H$ 라고 정의. 행렬 $M$은 **잔차(residual) 행렬**, **rejection matrix** 이라고 하며 마찬가지로 대칭 행렬이다. + H성질과 같은 성질이 있다.\n",
    "\n",
    "$$ MM = M $$\n",
    "\n",
    "이 식을 이용하여 다음과 같이 표현이 가능하다.\n",
    "\n",
    "$$ e = My = M(Xw + \\epsilon) = MXw + M\\epsilon$$\n",
    "\n",
    "그런데\n",
    "$$ X^TM = X^T(1-H) = X^T - X^TH$$\n",
    "\n",
    "$$= X^T \\;\\;- X^T X(X^TX)^{-1} \\;\\;X^T = X^T - X^T = 0$$\n",
    "이고, \n",
    "\n",
    "$M$은 대칭이다.\n",
    "$$ M^T X = MX = 0 $$\n",
    "\n",
    "*벡터$M$과 벡터$X$가 직교한다고 볼 수 있다. (직교인 두 벡터의 내적은 0)*\n",
    "\n",
    "이를 잔차식에 대입하면,\n",
    "\n",
    "$$e = MXw + M\\epsilon = M\\epsilon $$\n",
    "\n",
    "$$ e = M\\epsilon $$\n",
    "\n",
    "즉, **잔차 $e$는 오차 $\\epsilon$의 선형 변환(linear transform)**이다.\n",
    "\n",
    "정규 분포의 선형 변환은 마찬가지로 정규 분포 이므로 \n",
    "\n",
    "**잔차도 정규 분포를 따른다.**\n",
    "\n",
    "*오차가 정규분포인 이유 : central limit theorem*\n",
    "\n",
    "\n",
    "또한, 오차의 기댓값이 $x$와 상관없이 0이므로 **잔차의 기댓값도 $x$와 상관없이 0 **이어야 한다."
   ]
  },
  {
   "cell_type": "markdown",
   "metadata": {},
   "source": [
    "### 만약, 잔차가 정규성을 따르지 않는다면?\n",
    "- 전제가 틀렸다. 즉, 자연의 법칙이(오차가) 정규성을 따르지 않는다.\n",
    "    - 다른 법칙을 찾아야함\n",
    "    - 이를 파악하기 위해 다음과 같은 일을 함"
   ]
  },
  {
   "cell_type": "code",
   "execution_count": 8,
   "metadata": {},
   "outputs": [
    {
     "data": {
      "image/png": "[encoded data removed]",
      "text/plain": [
       "<matplotlib.figure.Figure at 0x7f80346f4a20>"
      ]
     },
     "metadata": {},
     "output_type": "display_data"
    }
   ],
   "source": [
    "sp.stats.probplot(result.resid, plot=plt) ##qq\n",
    "plt.show()"
   ]
  },
  {
   "cell_type": "code",
   "execution_count": 9,
   "metadata": {},
   "outputs": [
    {
     "name": "stdout",
     "output_type": "stream",
     "text": [
      "Chi^2       :  3.523\n",
      "P-value     :  0.172\n"
     ]
    }
   ],
   "source": [
    "# 잔차 정규성 검정\n",
    "test = sms.omni_normtest(result.resid)\n",
    "for xi in zip(['Chi^2', 'P-value'], test):\n",
    "    print(\"%-12s: %6.3f\" % xi)"
   ]
  },
  {
   "cell_type": "code",
   "execution_count": 10,
   "metadata": {},
   "outputs": [
    {
     "data": {
      "image/png": "[encoded data removed]",
      "text/plain": [
       "<matplotlib.figure.Figure at 0x7f80346771d0>"
      ]
     },
     "metadata": {},
     "output_type": "display_data"
    }
   ],
   "source": [
    "plt.plot(X0, result.resid, 'o')\n",
    "plt.axhline(y=0, c='k')\n",
    "plt.xlabel(\"X1\")\n",
    "plt.ylabel(\"Residual\")\n",
    "plt.show()"
   ]
  },
  {
   "cell_type": "code",
   "execution_count": 11,
   "metadata": {},
   "outputs": [
    {
     "data": {
      "image/png": "[encoded data removed]",
      "text/plain": [
       "<matplotlib.figure.Figure at 0x7f80346927b8>"
      ]
     },
     "metadata": {},
     "output_type": "display_data"
    }
   ],
   "source": [
    "sns.kdeplot(result.resid[((1 < X0) & (X0 < 2)).flatten()], label=\"1 < x < 2\")\n",
    "sns.kdeplot(result.resid[((0 < X0) & (X0 < 1)).flatten()], label=\"0 < x < 1\")\n",
    "plt.legend()\n",
    "plt.show()"
   ]
  },
  {
   "cell_type": "markdown",
   "metadata": {},
   "source": [
    "# 회귀 계수의 표준 오차\n",
    "- 우리가 찾은 답($w$)의 신뢰도 체크, 오차가 있다면 얼마나 있는가\n",
    "\n",
    "가중치 $\\hat w$도 정규 분포 확률 변수인 $y$의 선형 변환이므로 정규 분포를 따른다.\n",
    "\n",
    "$$\\begin{eqnarray}\n",
    "\\hat{w} \n",
    "&=& (X^TX)^{-1} X^T y \\\\\n",
    "&=& (X^TX)^{-1} X^T (X w + \\epsilon) \\\\\n",
    "&=& w + (X^TX)^{-1} X^T \\epsilon \\\\\n",
    "\\end{eqnarray}$$\n",
    "\n",
    "따라서 가중치 $\\hat w$의 기댓값은 다음과 같다.\n",
    "- 오차의 기댓값은 0, 나머지는 상수이기 때문에 $\\text{E}[]$ 밖으로 나옴\n",
    "- 왜 상수지? X는 확률이 아님(주어진 샘플), w는 자연의 법칙\n",
    "\n",
    "$$\\begin{eqnarray}\n",
    "\\text{E}[\\hat{w}] \n",
    "&=&  \\text{E}[ w + (X^TX)^{-1} X^T \\epsilon ] \\\\\n",
    "&=&  w + (X^TX)^{-1} X^T \\text{E}[ \\epsilon ] \\\\\n",
    "&=& w\n",
    "\\end{eqnarray}$$\n",
    "\n",
    "가중치의 (공)분산은 다음과 같다.\n",
    "\n",
    "$$\\begin{eqnarray}\n",
    "\\text{Cov}[\\hat{w}] \n",
    "&=& E[(\\hat{w} - w)(\\hat{w} - w)^T] \\\\\n",
    "&=& E[((X^TX)^{-1} X^T \\epsilon)((X^TX)^{-1} X^T \\epsilon)^T] \\\\\n",
    "&=& E[(X^TX)^{-1} X^T \\epsilon \\epsilon^T X(X^TX)^{−1} ] \\\\\n",
    "&=& (X^TX)^{-1} X^T E[\\epsilon \\epsilon^T] X(X^TX)^{−1} \\\\\n",
    "&=& (X^TX)^{-1} X^T (\\sigma^2 I) X(X^TX)^{−1} \\\\\n",
    "&=& \\sigma^2  (X^TX)^{-1}\n",
    "\\end{eqnarray}$$\n",
    "\n",
    "$\\sigma^2$의 값은 알지 못하므로 다음과 같이 추정한다.\n",
    "\n",
    "$$s^2 = \\dfrac{e^Te}{N-K} = \\dfrac{RSS}{N-K} $$\n",
    "\n",
    "여기에서 N은 표본 데이터의 수(rows), K는 모수의 갯수(columns)이다. bias (y절편)을 고려한다면 K는 차원의 수 D에 1을 더한 값이 된다.\n",
    "\n",
    "$$ K = D + 1 $$\n",
    "\n",
    "따라서 $\\hat w$의 (공)분산 추정값은 다음과 같다.\n",
    "\n",
    "$$ \\text{Est.Cov}[\\hat{w}]  = s^2(X^TX)^{-1} $$\n",
    "\n",
    "이 공분산 행렬에서 우리가 관심을 가지는 값은 $w_i$의 분산을 뜻하는 대각 성분이다.\n",
    "\n",
    "$$\\text{Est.Var}[\\hat{w}_i]  = \\left( \\text{Est.Cov}[\\hat{w}] \\right)_{ii} \\;\\; (i=0, \\ldots, K-1)$$\n",
    "\n",
    "이 값에서 구한 표준 편차를 **회귀 계수의 표준 오차(Standard Error of Regression Coefficient)**라고 한다.\n",
    "\n",
    "$${se_i} = \\sqrt{s^2 \\big((X^TX)^{-1}\\big)_{ii}} \\;\\; (i=0, \\ldots, K-1) $$\n",
    "\n",
    "실제 가중치$w$(정답) 와 우리가 추정한 가중치 $\\hat w$(나의 답)의 차이, 즉\n",
    "**모수 오차는 기댓값이 0이고 표준 오차($se_i)$를 분산으로 가지는 스튜던트-t분포를** 따른다."
   ]
  },
  {
   "cell_type": "markdown",
   "metadata": {},
   "source": [
    "$$\\dfrac{\\hat{w}_i - w_i}{se_i} \\sim t_{N-K} \\;\\; (i=0, \\ldots, K-1) $$"
   ]
  },
  {
   "cell_type": "code",
   "execution_count": 12,
   "metadata": {},
   "outputs": [
    {
     "data": {
      "text/html": [
       "<table class=\"simpletable\">\n",
       "<caption>OLS Regression Results</caption>\n",
       "<tr>\n",
       "  <th>Dep. Variable:</th>            <td>y</td>        <th>  R-squared:         </th> <td>   0.803</td>\n",
       "</tr>\n",
       "<tr>\n",
       "  <th>Model:</th>                   <td>OLS</td>       <th>  Adj. R-squared:    </th> <td>   0.801</td>\n",
       "</tr>\n",
       "<tr>\n",
       "  <th>Method:</th>             <td>Least Squares</td>  <th>  F-statistic:       </th> <td>   400.3</td>\n",
       "</tr>\n",
       "<tr>\n",
       "  <th>Date:</th>             <td>Sun, 04 Mar 2018</td> <th>  Prob (F-statistic):</th> <td>2.21e-36</td>\n",
       "</tr>\n",
       "<tr>\n",
       "  <th>Time:</th>                 <td>21:37:30</td>     <th>  Log-Likelihood:    </th> <td> -448.09</td>\n",
       "</tr>\n",
       "<tr>\n",
       "  <th>No. Observations:</th>      <td>   100</td>      <th>  AIC:               </th> <td>   900.2</td>\n",
       "</tr>\n",
       "<tr>\n",
       "  <th>Df Residuals:</th>          <td>    98</td>      <th>  BIC:               </th> <td>   905.4</td>\n",
       "</tr>\n",
       "<tr>\n",
       "  <th>Df Model:</th>              <td>     1</td>      <th>                     </th>     <td> </td>   \n",
       "</tr>\n",
       "<tr>\n",
       "  <th>Covariance Type:</th>      <td>nonrobust</td>    <th>                     </th>     <td> </td>   \n",
       "</tr>\n",
       "</table>\n",
       "<table class=\"simpletable\">\n",
       "<tr>\n",
       "    <td></td>       <th>coef</th>     <th>std err</th>      <th>t</th>      <th>P>|t|</th>  <th>[0.025</th>    <th>0.975]</th>  \n",
       "</tr>\n",
       "<tr>\n",
       "  <th>const</th> <td>   -1.6284</td> <td>    2.163</td> <td>   -0.753</td> <td> 0.453</td> <td>   -5.920</td> <td>    2.663</td>\n",
       "</tr>\n",
       "<tr>\n",
       "  <th>X1</th>    <td>   42.8534</td> <td>    2.142</td> <td>   20.008</td> <td> 0.000</td> <td>   38.603</td> <td>   47.104</td>\n",
       "</tr>\n",
       "</table>\n",
       "<table class=\"simpletable\">\n",
       "<tr>\n",
       "  <th>Omnibus:</th>       <td> 3.523</td> <th>  Durbin-Watson:     </th> <td>   1.984</td>\n",
       "</tr>\n",
       "<tr>\n",
       "  <th>Prob(Omnibus):</th> <td> 0.172</td> <th>  Jarque-Bera (JB):  </th> <td>   2.059</td>\n",
       "</tr>\n",
       "<tr>\n",
       "  <th>Skew:</th>          <td>-0.073</td> <th>  Prob(JB):          </th> <td>   0.357</td>\n",
       "</tr>\n",
       "<tr>\n",
       "  <th>Kurtosis:</th>      <td> 2.312</td> <th>  Cond. No.          </th> <td>    1.06</td>\n",
       "</tr>\n",
       "</table>"
      ],
      "text/plain": [
       "<class 'statsmodels.iolib.summary.Summary'>\n",
       "\"\"\"\n",
       "                            OLS Regression Results                            \n",
       "==============================================================================\n",
       "Dep. Variable:                      y   R-squared:                       0.803\n",
       "Model:                            OLS   Adj. R-squared:                  0.801\n",
       "Method:                 Least Squares   F-statistic:                     400.3\n",
       "Date:                Sun, 04 Mar 2018   Prob (F-statistic):           2.21e-36\n",
       "Time:                        21:37:30   Log-Likelihood:                -448.09\n",
       "No. Observations:                 100   AIC:                             900.2\n",
       "Df Residuals:                      98   BIC:                             905.4\n",
       "Df Model:                           1                                         \n",
       "Covariance Type:            nonrobust                                         \n",
       "==============================================================================\n",
       "                 coef    std err          t      P>|t|      [0.025      0.975]\n",
       "------------------------------------------------------------------------------\n",
       "const         -1.6284      2.163     -0.753      0.453      -5.920       2.663\n",
       "X1            42.8534      2.142     20.008      0.000      38.603      47.104\n",
       "==============================================================================\n",
       "Omnibus:                        3.523   Durbin-Watson:                   1.984\n",
       "Prob(Omnibus):                  0.172   Jarque-Bera (JB):                2.059\n",
       "Skew:                          -0.073   Prob(JB):                        0.357\n",
       "Kurtosis:                       2.312   Cond. No.                         1.06\n",
       "==============================================================================\n",
       "\n",
       "Warnings:\n",
       "[1] Standard Errors assume that the covariance matrix of the errors is correctly specified.\n",
       "\"\"\""
      ]
     },
     "execution_count": 12,
     "metadata": {},
     "output_type": "execute_result"
    }
   ],
   "source": [
    "result.summary()"
   ]
  },
  {
   "cell_type": "code",
   "execution_count": 13,
   "metadata": {},
   "outputs": [
    {
     "name": "stdout",
     "output_type": "stream",
     "text": [
      "                             Test for Constraints                             \n",
      "==============================================================================\n",
      "                 coef    std err          t      P>|t|      [0.025      0.975]\n",
      "------------------------------------------------------------------------------\n",
      "c0            42.8534      2.142      1.332      0.186      38.603      47.104\n",
      "==============================================================================\n"
     ]
    }
   ],
   "source": [
    "print(result.t_test(\"X1 = 40\"))"
   ]
  },
  {
   "cell_type": "markdown",
   "metadata": {},
   "source": [
    "### Loss-of-Fit 회귀분석 F-검정\n",
    "모형의 성능을 비교할 수 있다. 유의확률이 작으면 작을수록 좋다.\n",
    "\n",
    "Log-Likelihood값은 클수록 좋다(최적화, 최댓값)"
   ]
  }
 ],
 "metadata": {
  "kernelspec": {
   "display_name": "Python 3",
   "language": "python",
   "name": "python3"
  },
  "language_info": {
   "codemirror_mode": {
    "name": "ipython",
    "version": 3
   },
   "file_extension": ".py",
   "mimetype": "text/x-python",
   "name": "python",
   "nbconvert_exporter": "python",
   "pygments_lexer": "ipython3",
   "version": "3.6.4"
  }
 },
 "nbformat": 4,
 "nbformat_minor": 2
}
