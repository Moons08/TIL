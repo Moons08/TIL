{
 "cells": [
  {
   "cell_type": "markdown",
   "metadata": {},
   "source": [
    "# 레버리지\n",
    "개별적인 sample 하나하나가 회귀분석 결과에 미치는 영향력"
   ]
  },
  {
   "cell_type": "markdown",
   "metadata": {},
   "source": [
    "레버리지는 실제 종속변수 값 $y$가 예측치 $\\hat y$에 미치는 영향을 나타낸 값이다. self-influence, self-sensitivity 라고도 한다.\n",
    "\n",
    "$$\\hat y = Hy$$\n",
    "\n",
    "이 행렬 $H$를 **영향도 행렬, hat 행렬** 이라고 한다 하였다. (+ 대칭행렬)\n",
    "\n",
    "행렬 $H$의 성분을 $h_{ij}$라고 하면 실제 결과값과 예측값은 다음과 같다.\n",
    "\n",
    "$$\\hat{y}_i = h_{i1} y_1 + h_{i2} y_2 + \\cdots + h_{ii} y_i + \\cdots + h_{iN} y_N$$\n",
    "\n",
    "만약 $h_{ij}$값이 1이 되고 나머지 성분이 모두 0이 된다면 결과값과 예측값이 일치하게 될 것이다. ($ y = \\hat y $) 물론 이렇게 되지는 않는다.\n",
    "\n",
    "레버리지는 수학적으로 **영향도 행렬 H의 대각성분 ** $h_{ij}$로 정의된다.\n",
    "\n",
    "$$h_{ii}=(H)_{ii}$$\n",
    "\n",
    "레버리지는 실제 결과값 $y_i$이 예측값 $\\hat y_i$에 미치는 영향, 즉 예측점을 자기 자신의 위치로 끌어 당기는 정도(self-influence)를 나타낸 것이다."
   ]
  },
  {
   "cell_type": "markdown",
   "metadata": {},
   "source": [
    "레버리지는 다음과 같은 특성을 가진다는 것을 수학적으로 증명할 수 있다.\n",
    "\n",
    "1. 1보다 같거나 작은 양수 혹은 0이다.\n",
    "\n",
    "    $$ 0 \\leq h_{ij} \\leq 1 $$\n",
    "\n",
    "1. 레버리지의 합은 모형에 사용된 모수의 갯수 K와 같다. 모수에는 상수항도 포함되므로 상수항이 있는 1차원 모형에서는 K = 2가 된다.\n",
    "    $$\\text{tr}(H) = \\sum_i^N h_{ii} = K$$\n",
    "\n",
    "이 두가지 성질로부터 N개의 데이터에 대한 레버리지 값은 양수이고 그 합이 K가 된다는 것을 알 수 있다. 즉, K라는 값을 N개의 변수가 나누어 가진 것과 같다.\n",
    "- 현실적으로 데이터의 갯수(N)는 모수의 갯수(K)보다 훨씬 많기 때문에 모든 레버리지 값이 동시에 1이 되는 것은 불가능 하다.\n",
    "\n",
    "위 식으로 구한 레버리지의 평균값\n",
    "\n",
    "$$h_{ii} \\approx \\dfrac{K}{N}$$\n",
    "보통 이 평균값의 2 ~ 4배 보다 레버리지 값이 크면 레버리지가 크다고 한다."
   ]
  },
  {
   "cell_type": "markdown",
   "metadata": {},
   "source": [
    "---"
   ]
  },
  {
   "cell_type": "markdown",
   "metadata": {},
   "source": [
    "# 아웃라이어\n",
    "residual값이 큰 데이터를 아웃라이어(outlier)라고 한다. 잔차는 독립 변수의 영향을 받으므로 아웃라이어를 찾기 위해서는 이 영향을 제거한 표준화된 잔차를 계산해야 한다."
   ]
  },
  {
   "cell_type": "markdown",
   "metadata": {},
   "source": [
    "## 표준화 잔차\n",
    "$$e = (I - H) \\epsilon = M \\epsilon$$\n",
    "\n",
    "$$\\begin{eqnarray}\n",
    "\\text{Cov}[e] \n",
    "&=& \\text{E}[M \\epsilon\\epsilon^T M^T] \\\\\n",
    "&=& M \\text{E}[\\epsilon\\epsilon^T] M^T \\\\\n",
    "&=& M \\sigma^2 I M^T \\\\\n",
    "&=& \\sigma^2MM^T \\\\\n",
    "&=& \\sigma^2MM \\\\\n",
    "&=& \\sigma^2M \\\\\n",
    "&=& \\sigma^2(I - H) \\\\\n",
    "\\end{eqnarray}$$\n",
    "\n",
    "$M$이 대칭이고 $MM = M $ 이라는 사실 이용\n",
    "\n",
    "대각 성분만 보면 개별적인 잔차의 표준편차는 다음과 같다.\n",
    "\n",
    "$$\\text{Var}[e_i] = \\sigma^2 (1 - h_{ii})$$\n",
    "\n",
    "즉, 오차($\\epsilon$)의 표준 편차는 모든 표본에 대해 같지만, 개별적인 잔차($e$)의 표준편차는 레버리지 ($h_{ij}$)에 따라 달라지는 것을 알 수 있다.\n",
    "\n",
    "오차의 분산($\\sigma^2$)은 알지 못하므로 잔차 분산으로부터 추정($s$)한다.\n",
    "\n",
    "$$ \\text{Est.Var}[e_i] = s^2 (1 - h_{ii})$$\n",
    "\n",
    "$$s^2 = \\dfrac{e^Te}{N-K} = \\dfrac{RSS}{N-K}$$\n",
    "\n",
    "잔차$e$를 레버리지와 잔차의 표준편차로 나누어 동일한 표준편차를 가지도록 스케일링한 것을 **표준화 잔차**(standardized, nomalized, or studentized residual) 이라고 한다.\n",
    "\n",
    "$$ r_i = \\dfrac{e_i}{s\\sqrt{1-h_{ii}}} $$"
   ]
  },
  {
   "cell_type": "markdown",
   "metadata": {},
   "source": [
    "---"
   ]
  },
  {
   "cell_type": "markdown",
   "metadata": {},
   "source": [
    "# Cook's Distance\n",
    "잔차와 레버리지를 동시에 보기위한 기준"
   ]
  },
  {
   "cell_type": "markdown",
   "metadata": {},
   "source": [
    "$$D_i = \\frac{r_i^2}{\\text{RSS}}\\left[\\frac{h_{ii}}{(1-h_{ii})^2}\\right]$$\n",
    "\n",
    "Fox' Outlier Recommendation : \n",
    "$$D_i > \\dfrac{4}{N − K - 1}$$\n",
    "\n",
    "즉, 위 기준보다 클 때 아웃라이어로 판단한다.\n",
    "\n",
    ">N : 표본데이터의 수\n",
    "\n",
    ">K : 모수의 갯수 ( bias(y절편) 고려할 때 K = D(columns)+1 )"
   ]
  }
 ],
 "metadata": {
  "kernelspec": {
   "display_name": "Python 3",
   "language": "python",
   "name": "python3"
  },
  "language_info": {
   "codemirror_mode": {
    "name": "ipython",
    "version": 3
   },
   "file_extension": ".py",
   "mimetype": "text/x-python",
   "name": "python",
   "nbconvert_exporter": "python",
   "pygments_lexer": "ipython3",
   "version": "3.6.4"
  }
 },
 "nbformat": 4,
 "nbformat_minor": 2
}
