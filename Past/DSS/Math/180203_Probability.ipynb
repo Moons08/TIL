{
 "cells": [
  {
   "cell_type": "markdown",
   "metadata": {},
   "source": [
    "# 확률"
   ]
  },
  {
   "cell_type": "markdown",
   "metadata": {},
   "source": [
    "확률 표본, 표본(sample) \n",
    "- 풀고자 하는 확률적 문제에서 선택될 수 있는, 혹은 답이 될 수 있는 하나의 경우 혹은 숫자\n",
    "\n",
    "표본 공간(sample space)\n",
    "- 답이 될 수 있는 혹은 선택될 수 있는 모든 표본의 집합\n",
    "\n",
    "사건(event)\n",
    "- 표본 공간의 부분집합\n"
   ]
  },
  {
   "cell_type": "markdown",
   "metadata": {},
   "source": [
    "확률이란 사건을 입력하면 숫자가 출력되는 함수이다.\n",
    "\n",
    "즉, 각각의 사건(부분 집합)에 어떤 숫자를 할당한 것이다. 다만, 이 함수는 다음과 같은 세가지 규칙을 지켜야 한다.\n",
    "\n",
    "1. 모든 사건에 대해 확률은 실수이고 양수이다.\n",
    "\n",
    "2. 표본공간이라는 사건에 대한 확률은 1이다.\n",
    "\n",
    "3. 공통 원소가 없는 두 사건의 합집합의 확률은 각각의 사건의 확률의 합이다.\n",
    "\n",
    "\n",
    "- 위 규칙을 콜모고로프의 공리(Kolmogorov's axioms)라고 한다.\n"
   ]
  },
  {
   "cell_type": "markdown",
   "metadata": {},
   "source": [
    "---"
   ]
  },
  {
   "cell_type": "markdown",
   "metadata": {},
   "source": [
    "- `def f(x):\n",
    "    return x **2` 함수\n",
    "\n",
    "- python dic자료형도 함수다. x(key) - y(value) (look-up table)\n",
    "\n",
    "두 함수형의 차이는 domain, 범위의 차이다.\n",
    "\n",
    "lookup table로 함수를 만들때는 입력에 대한 출력이 하나여야 한다. 또한, 얼핏 좋아보이지만 없는 자료인 경우, 예측이 불가능하다.\n"
   ]
  },
  {
   "cell_type": "markdown",
   "metadata": {},
   "source": [
    "\n",
    ">확률이라는 함수는 무엇을 출력하는가?\n",
    "- 0 - 1 사이의 실수를 출력한다. \n",
    "\n",
    ">도메인은 무엇인가?\n",
    "- 사건(event)을 입력으로 받는다. 사건은 sample space를 이룬다.\n",
    "- (부분)집합의 집합이 도메인이다.\n",
    "\n",
    ">**따라서 확률은 집합을 입력으로 받아 출력하는 함수이다.**\n",
    " "
   ]
  },
  {
   "cell_type": "markdown",
   "metadata": {},
   "source": [
    "quiz : {1 : 10, 2 : 20, 3 : 30, 4 : 30, 5: 20, 6 : 30} 은 왜 확률이 아닌가?\n",
    " - A: 입력값이 집합(sample space의 부분집합이 되는 집합)이 아니다.\n",
    " "
   ]
  },
  {
   "cell_type": "markdown",
   "metadata": {},
   "source": [
    "### 정보를 얼마나 아느냐에 따라 확률이 달라진다. 모든 정보가 확률에 들어있어야 한다.\n",
    "\n",
    "quiz. 약속날짜가 31일 확률은? \n",
    "- A: 1/31, 7/365, 7/지구공전주기\n",
    "\n",
    "확률론으로 접근할 수 있는 문제와 표본공간의 예 4가지 (2개는 표본 공간이 무한대, 물리법칙이 아니어야 함)\n",
    "\n",
    "- 부모가 비만일 때, 자녀도 비만일 확률 ( {비만체중, 정상체중} )\n",
    "- 한국과 북한이 전쟁을 할 때, 한국이 승리할 확률 ( {승리, 패배} )\n",
    "- 소니가 올해 PS5를 출시할 경우, 올해 매출예상 ( {0 이상의 실수} )\n",
    "- 서울에 테러가 발생할 경우, 그 해의 관광 매출액 ( {0 이상의 실수} )\n",
    "\n",
    "\n",
    "표본공간?\n",
    "- 선택될 수 있는 사건의 집합\n",
    "\n",
    "파이썬\n",
    "- frozenset으로 구현해야 키값이 된다."
   ]
  },
  {
   "cell_type": "code",
   "execution_count": 1,
   "metadata": {},
   "outputs": [
    {
     "data": {
      "text/plain": [
       "{frozenset(): 0,\n",
       " frozenset({1}): 0.5,\n",
       " frozenset({3}): 0.25,\n",
       " frozenset({1, 2, 3}): 1,\n",
       " frozenset({1, 2, 4}): 0.75,\n",
       " frozenset({1, 3, 4}): 0.75,\n",
       " frozenset({2, 3, 4}): 0.5,\n",
       " frozenset({1, 2}): 0.75,\n",
       " frozenset({1, 3}): 0.75,\n",
       " frozenset({1, 4}): 0.5,\n",
       " frozenset({2}): 0.25,\n",
       " frozenset({2, 3}): 0.5,\n",
       " frozenset({4}): 0,\n",
       " frozenset({2, 4}): 0.25,\n",
       " frozenset({3, 4}): 0.25,\n",
       " frozenset({1, 2, 3, 4}): 1}"
      ]
     },
     "execution_count": 1,
     "metadata": {},
     "output_type": "execute_result"
    }
   ],
   "source": [
    "# 정사면체 주사위 확률 구하기\n",
    "num1 = frozenset({1})\n",
    "num2 = frozenset({2})\n",
    "num3 = frozenset({3})\n",
    "num4 = frozenset({4})\n",
    "num12 = frozenset({1, 2})\n",
    "num13 = frozenset({1, 3})\n",
    "num14 = frozenset({1, 4})\n",
    "num23 = frozenset({2, 3})\n",
    "num24 = frozenset({2, 4})\n",
    "num34 = frozenset({3, 4})\n",
    "num123 = frozenset({1, 2, 3})\n",
    "num124 = frozenset({1, 2, 4})\n",
    "num134 = frozenset({1, 3, 4})\n",
    "num234 = frozenset({2, 3, 4})\n",
    "num1234 = frozenset({1, 2, 3, 4})\n",
    "num = frozenset({})\n",
    "# 1 : 0.5, 2:.25, 3: .25, 4:0\n",
    "\n",
    "dice ={\n",
    "    num1234 : 1, \n",
    "    num123 : 1, num124: 0.75, num134 : 0.75, num234: 0.5,\n",
    "    num12 : 0.75, num13 : 0.75, num14 : 0.5, \n",
    "    num23: 0.5, num24: 0.25, num34: 0.25,\n",
    "    num1 : 0.5, num2 : 0.25, num3 : 0.25, num4 : 0,\n",
    "    num : 0}\n",
    "dice"
   ]
  },
  {
   "cell_type": "markdown",
   "metadata": {},
   "source": [
    "### 왜 여태까지는 이렇게 안 배웠는가\n",
    "- 단순사건의 경우 콜모고로프의 정리를 통해 계산이 가능하기 때문\n",
    "- 단순사건(표본을 1개만 가지는 사건, simple event, elementary event)\n",
    "\n",
    "우리가 아는 확률 = 확률질량함수(probability mass function). pmf를 알면 P를 계산(설명)할 수 있다.\n",
    "- 확률 : P({1}) = 0.2\n",
    "- 확률질량함수 : p(1) = 0.2\n",
    "\n",
    "\n",
    "- 확률 : P({1, 2}) = 0.3\n",
    "- 확률질량함수 : p(1, 2) ; 정의되지 않는다.\n",
    "\n",
    "\n",
    "ex) 위 예시 정사면체\n",
    "\n",
    "- P -> 도메인이 2^4= 16개\n",
    "- pmf(확률질량함수) -> 도메인이 4개(1, 2, 3, 4)"
   ]
  },
  {
   "cell_type": "markdown",
   "metadata": {},
   "source": [
    "### 표본의 수가 무한한 경우 ex)시계\n",
    "- 확률질량함수를 통해서는 모든 값에 대해 확률이 0 밖에 나오지 않는다.\n",
    "- 따라서 확률(P)을 배워야 한다. \n",
    "- 그런데 확률이 어떻게 확률이 어떻게 할당되어 있다는 것을 전달할 수가 없다. 이벤트 종류가 무한대이기 때문. (답은 나중에)"
   ]
  },
  {
   "cell_type": "markdown",
   "metadata": {},
   "source": [
    "---"
   ]
  },
  {
   "cell_type": "markdown",
   "metadata": {},
   "source": [
    "# 확률의 의미"
   ]
  },
  {
   "cell_type": "markdown",
   "metadata": {},
   "source": [
    "베이지안 관점에서의 확률\n",
    "- 가능성\n",
    "- 확률은 상대적 의미\n",
    "P(C) = 1\n",
    "- C 라는 이벤트 안에 답이 있다.\n",
    "- C가 발생했다. 라고 한다.\n",
    "\n",
    "event라는 것은 논리학의 assertion(주장, 명제)의 의미\n",
    "- 즉, A 라는 이벤트는 A라는 이벤트가 품고 있는 샘플 중에 답이 있다는 명제\n",
    "- 확률이 높다는 것은 진실이 가까운 명제, 확률이 낮다는 것은 거짓에 가까운 명제\n",
    "- 확률은 논리학과 가깝다.\n",
    "\n",
    "ex) 형사가 가져온 A라는 범죄자 리스트(1, 2, 3) 의 확률이 0.1 인 경우,\n",
    "1, 2, 3 중에 범인이 있을 확률이 0.1"
   ]
  },
  {
   "cell_type": "markdown",
   "metadata": {},
   "source": [
    "# 확률의 성질"
   ]
  },
  {
   "cell_type": "markdown",
   "metadata": {},
   "source": [
    "##### 연습문제 1\n",
    "사건 A \n",
    "1. 남자 /짧음 /1살\n",
    "1. 남자 /짧음 /2살\n",
    "1. 남자 /짧음 /5살\n",
    "1. 남자 /긴머리 /10살\n",
    "1. 남자 /긴머리 /15살\n",
    "1. 남자 /긴머리 /15살\n",
    "1. 여자 /긴머리 /5살\n",
    "1. 여자 /긴머리 /5살\n",
    "1. 여자 /긴머리 /5살\n",
    "1. 여자 /긴머리 /10살\n",
    "1. 여자 /긴머리 /15살\n",
    "1. 여자 /긴머리 /20살\n"
   ]
  },
  {
   "cell_type": "markdown",
   "metadata": {},
   "source": [
    "- 남자들만의 모임 A : 6/12\n",
    "- 머리 긴 모임 : 9/12\n",
    "- 나이: {C1: 1/12, C2: 1/12, C3: 0/12, C4:0/12, C5: 4/12, ...}\n",
    "\n"
   ]
  },
  {
   "cell_type": "markdown",
   "metadata": {},
   "source": [
    "여집합: \n",
    "- 짧은머리 = 1 - 긴머리 = 1 - 9/12 = 3 / 12\n",
    "\n",
    "포함-배제:\n",
    "- 남자 + 긴머리  - 남자&긴머리 = 6/12 + 9/12 - 1/2 x 9/12 = 12/12 = 1\n",
    "\n",
    "전체 확률 :\n",
    "- 1/12 + 1/12 + 1/4x4/12"
   ]
  },
  {
   "cell_type": "markdown",
   "metadata": {},
   "source": [
    "# 조건부확률(conditional prob.)"
   ]
  },
  {
   "cell_type": "markdown",
   "metadata": {},
   "source": [
    "확률은 고정되어 있는 것이 아니다. 내가 아는 범위에 따라 변동한다.\n",
    "\n",
    "사건 B의 확률은 국과수에서 결과가 나오기 전엔 1/2, ㅇㅋ라는 결과가 나오면 1\n",
    "\n",
    "조건부 확률\n",
    "- if P(B) = 1 -> P(A|B)\n",
    "\n",
    "$$\\text{결합확률} \\;\\; P(A, B) = P(A \\cap B)$$\n",
    "\n",
    "\n",
    "$$ P(A|B) = \\dfrac{P(A, B)}{P(B)} $$\n",
    "\n",
    "$$P(A|B) = \\dfrac{P(A \\cap B)}{P(B)}$$\n",
    "\n",
    "\n",
    "**실무에서 일할때는 대부분 joint(결합확률)을 구할 수 가 없다.**\n",
    "- 조인트가 가장 많은 정보를 포함하고 있다.\n",
    "- marginal 확률(P(A), P(B))로는 조인트를 구할 수 없다.\n",
    "\n",
    "\n"
   ]
  },
  {
   "cell_type": "markdown",
   "metadata": {},
   "source": [
    "### 독립\n",
    "\n",
    "A와 B는 서로 독립인경우, (교집합이 공집합인 경우)\n",
    "\n",
    "$$ P(A, B) = P(A)P(B) $$ \n",
    "\n",
    "$$ P(A|B) = \\dfrac{P(A, B)}{P(B)} = \\dfrac{P(A)P(B)}{P(B)} = P(A) $$\n",
    "\n",
    "조건부 확률의 정의는 다음과 같이 다시 쓸 수 있다.\n",
    "\n",
    "$$ P(A, B) = P(A|B)P(B) $$\n",
    "\n",
    "> A, B가 모두 발생할 확률은 B라는 사건이 발생할 사건과 그 사건이 발생한 경우 다시 A가 발생할 경우의 곱"
   ]
  },
  {
   "cell_type": "markdown",
   "metadata": {},
   "source": [
    "| | 남자$P(A) = \\frac{1}{2}$ | 여자 |  계|\n",
    "| -|- | \n",
    "|장발 $P(B) = \\frac{3}{4}$|3명 $P(A, B) = \\frac{3}{12}$ | 6명 |9명 |\n",
    "| 단발| 3명|  0명| 3명|\n",
    "| 계 | 6명| 6명| 12명| "
   ]
  },
  {
   "cell_type": "markdown",
   "metadata": {},
   "source": [
    "$$P(A) = \\frac{1}{2}, \\;\\;P(B) = \\frac{3}{4}$$\n",
    "\n",
    "$$P(A)P(B) = \\frac{3}{8},\\;\\; P(A\\cap B) = \\frac{3}{12} $$\n",
    "\n",
    "### A와 B는 서로 독립이 아니다."
   ]
  },
  {
   "cell_type": "markdown",
   "metadata": {},
   "source": [
    "---"
   ]
  }
 ],
 "metadata": {
  "kernelspec": {
   "display_name": "Python 3",
   "language": "python",
   "name": "python3"
  },
  "language_info": {
   "codemirror_mode": {
    "name": "ipython",
    "version": 3
   },
   "file_extension": ".py",
   "mimetype": "text/x-python",
   "name": "python",
   "nbconvert_exporter": "python",
   "pygments_lexer": "ipython3",
   "version": "3.6.4"
  }
 },
 "nbformat": 4,
 "nbformat_minor": 2
}
