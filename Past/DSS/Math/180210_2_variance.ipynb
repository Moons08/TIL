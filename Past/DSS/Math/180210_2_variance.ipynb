{
 "cells": [
  {
   "cell_type": "markdown",
   "metadata": {},
   "source": [
    "## variance, standard deviation\n",
    "$$\\text{표준 편차} = \\sqrt{\\text{분산}}$$"
   ]
  },
  {
   "cell_type": "markdown",
   "metadata": {},
   "source": [
    "### 샘플 분산\n",
    "\n",
    "식에서 $x_i$는 $N$개의 자료 중 $i$번째의 자료를 나타내고 $m$은 샘플 평균이다. 이 식은 자료값과 평균 사이의 거리를 의미한다. 음수를 제거하기 위해 제곱을 한 것이다.\n",
    "\n",
    "$$ s^2 = \\dfrac{1}{N}\\sum_{i=1}^{N} (x_i-m)^2 $$\n",
    "\n",
    "위 식에서 구한 샘플 분산은 정확하게 말하면 편향 오차를 가진 편향 샘플 분산(biased sample variance)이다. 이와 대조되는 비편한 샘플 분산은 다음과 같이 구한다.\n",
    "\n",
    "$$ s^2_{\\text{unbiased}} = \\dfrac{1}{N-1}\\sum_{i=1}^{N} (x_i-m)^2$$ "
   ]
  },
  {
   "cell_type": "markdown",
   "metadata": {},
   "source": [
    "---"
   ]
  },
  {
   "cell_type": "markdown",
   "metadata": {},
   "source": [
    "### 확률 분포의 분산\n",
    "확률 분포는 확률밀도함수$f(x)$로 분포 전체의 모양을 정확하게 정의할 수 있으므로 이론적인 분산을 구할 수 있다.\n",
    "\n",
    "$$\\sigma^2 = \\text{Var}[X] = \\text{E}[(X - \\mu)^2]$$\n",
    "\n",
    "이산 확률 변수의 경우, 확률 질량 함수 $P(x)$를 사용하여 분산을 구한다.\n",
    "\n",
    "$$\\sigma^2 = \\text{Var}[X] = \\text{E}[(X - \\mu)^2] =  \\sum (x - \\mu)^2 P(x)$$\n",
    "\n",
    "연속 확률 변수의 경우, 확률 밀도 함수  $f(x)$를 사용하여 분산을 구한다.\n",
    "\n",
    "$$ \\sigma^2 = \\text{Var}[X] = \\text{E}[(X - \\mu)^2] = \\int_{-\\infty}^{\\infty} (x - \\mu)^2 f(x)dx$$"
   ]
  },
  {
   "cell_type": "markdown",
   "metadata": {},
   "source": [
    "## 분산의 성질\n",
    "- 0 또는 양수\n",
    "$$\\text{Var}[X] \\geq 0$$\n",
    "\n",
    "\n",
    "- 랜덤 변수가 아닌 상수 $c$에 대해\n",
    "$$\\text{Var}[c] = 0$$\n",
    "상수 $c$의 기댓값 $\\mu$는 결국 $c$가 될 것이다. 따라서 $E[(c-c)^2]= 0$\n",
    "\n",
    "$$\\text{Var}[cX] = c^2 \\text{Var}[X]$$\n",
    "\n",
    "기댓값의 성질을 이용하여 다음 성질을 증명할 수 있다.\n",
    "\n",
    "$$\\text{Var}[X] = \\text{E}[X^2] - (\\text{E}[X])^2  = \\text{E}[X^2] - \\mu^2$$\n",
    "\n",
    "(증명)\n",
    "$$\\begin{eqnarray}\n",
    "\\text{Var}[X] \n",
    "&=& \\text{E}[(X - \\mu)^2] \\\\\n",
    "&=& \\text{E}[X^2 - 2\\mu X + \\mu^2] \\\\\n",
    "&=& \\text{E}[X^2] - 2\\mu\\text{E}[X] + \\mu^2 \\\\\n",
    "&=& \\text{E}[X^2] - 2\\mu^2 + \\mu^2 \\\\\n",
    "&=& \\text{E}[X^2] - \\mu^2\\\\\n",
    "\\end{eqnarray}$$\n"
   ]
  },
  {
   "cell_type": "markdown",
   "metadata": {},
   "source": [
    "### 두 확률 변수의 합의 분산\n",
    "두 확률 변수 $X, Y$의 합의 분산은 각 확률 변수의 분산의 합과 다음과 같은 관계가 있다. \n",
    "\n",
    "$$\\text{Var}\\left[ X + Y \\right] =\n",
    "\\text{Var}\\left[ X \\right] + \\text{Var}\\left[ Y \\right]+ 2\\text{E}\\left[ (X-\\mu_X)(Y-\\mu_Y) \\right] $$\n",
    "\n",
    "마지막 항은 양수도 될 수 있고 음수도 될 수 있다.\n",
    "\n",
    "(증명)\n",
    "$$\\begin{eqnarray}\n",
    "\\text{Var}\\left[ X + Y \\right] \n",
    "&=& \\text{E}\\left[ (X + Y - (\\mu_X + \\mu_Y))^2 \\right] \\\\\n",
    "&=& \\text{E}\\left[ ((X -\\mu_X) + (Y - \\mu_Y))^2 \\right] \\\\\n",
    "&=& \\text{E}\\left[ (X -\\mu_X)^2 + (Y - \\mu_Y)^2 + 2(X-\\mu_X)(Y-\\mu_Y) \\right] \\\\\n",
    "&=& \\text{E}\\left[ (X -\\mu_X)^2 \\right] + \\text{E}\\left[ (Y - \\mu_Y)^2 \\right] + 2\\text{E}\\left[ (X-\\mu_X)(Y-\\mu_Y) \\right] \n",
    "\\end{eqnarray}$$\n",
    "\n",
    "그런데 이 두 확률 변수 $X, Y$가 서로 **독립일 경우**, 이와 같은 식이 성립한다.\n",
    "\n",
    "$$\\text{E}\\left[ (X-\\mu_X)(Y-\\mu_Y) \\right] = 0$$ \n",
    "\n",
    "따라서, \n",
    "\n",
    "$$\\text{Var}\\left[ X + Y \\right] =  \\text{Var}\\left[ X \\right] + \\text{Var}\\left[ Y \\right]$$\n",
    "\n"
   ]
  },
  {
   "cell_type": "markdown",
   "metadata": {},
   "source": [
    "## 샘플 평균의 분산\n",
    "\n",
    "확률 변수 $X$의 샘플 평균 $\\bar X$도 일종의 확률 변수이고 그 기댓값은 원래 확률 변수 $X$와 일치한다는 것을 이전에 증명했다.\n",
    "$$E[\\bar X] = E[X] $$\n",
    "\n",
    "샘플 평균의 분산 $Var[\\bar X]$은 원래 확률 변수의 분산과 다음 관계를 가진다.\n",
    "\n",
    "$$ Var[\\bar X] = \\frac{1}{N}Var[X] $$\n",
    "\n",
    "(증명)\n",
    "\n",
    "$$\\begin{eqnarray}\n",
    "\\text{Var}[\\bar{X}] \n",
    "&=& \\text{Var} \\left[ \\dfrac{1}{N} \\sum_{i=1}^N X_i \\right] \\\\\n",
    "&=& \\text{E} \\left[ \\left( \\dfrac{1}{N} \\sum_{i=1}^N X_i - \\mu \\right)^2 \\right] \\\\\n",
    "&=& \\text{E} \\left[ \\left( \\dfrac{1}{N} \\sum_{i=1}^N X_i - \\dfrac{1}{N}N\\mu \\right)^2 \\right] \\\\\n",
    "&=& \\text{E} \\left[ \\left( \\dfrac{1}{N} \\left( \\sum_{i=1}^N X_i - N\\mu \\right) \\right)^2 \\right] \\\\\n",
    "&=& \\text{E} \\left[ \\left( \\dfrac{1}{N} \\sum_{i=1}^N (X_i - \\mu) \\right)^2 \\right] \\\\\n",
    "&=& \\text{E} \\left[ \\dfrac{1}{N^2} \\sum_{i=1}^N \\sum_{j=1}^N (X_i - \\mu) (X_j - \\mu)  \\right] \\\\\n",
    "&=& \\dfrac{1}{N^2} \\sum_{i=1}^N \\sum_{j=1}^N \\text{E} \\left[  (X_i - \\mu) (X_j - \\mu)  \\right] \\\\\n",
    "\\end{eqnarray}$$\n",
    "\n",
    "여기서 $X_i, X_j$ 가 독립일 때\n",
    "$$\\text{E}\\left[ (X_i-\\mu)(X_j-\\mu) \\right] = 0 $$\n",
    "\n",
    "이므로  $ i = j$  인 항(제곱항)만 남는다.\n",
    "$$\\begin{eqnarray}\n",
    "\\text{Var}[\\bar{X}]\n",
    "&=& \\dfrac{1}{N^2} \\sum_{i=1}^N \\text{E} \\left[ (X_i - \\mu)^2 \\right] \\\\\n",
    "&=& \\dfrac{1}{N^2} \\sum_{i=1}^N \\text{E} \\left[ (X - \\mu)^2 \\right] \\\\\n",
    "&=& \\dfrac{1}{N^2} N \\text{E} \\left[ (X - \\mu)^2 \\right] \\\\\n",
    "&=& \\dfrac{1}{N} \\text{E} \\left[ (X - \\mu)^2 \\right] \\\\\n",
    "&=& \\dfrac{1}{N} \\text{Var}[X] \\\\\n",
    "\\end{eqnarray}$$"
   ]
  },
  {
   "cell_type": "markdown",
   "metadata": {},
   "source": [
    "---"
   ]
  },
  {
   "cell_type": "markdown",
   "metadata": {},
   "source": [
    "## 샘플 분산의 기댓값 \n",
    "\n",
    "샘플 분산 $s^2$의 기댓값을 구하면 이론적인 분산$\\sigma^2$의 $\\dfrac{N-1}{N}$배가 된다.\n",
    "\n",
    "$$ \\text{E}[s^2] = \\dfrac{N-1}{N}\\sigma^2 $$\n",
    "\n",
    "(증명)\n",
    "$$\n",
    "\\begin{eqnarray}\n",
    "\\text{E}[s^2] \n",
    "&=& \\text{E} \\left[ \\dfrac{1}{N}\\sum_{i=1}^N (X_i - \\bar{X})^2 \\right] \n",
    "= \\text{E} \\left[ \\dfrac{1}{N}\\sum_{i=1}^N \\left\\{ (X_i -\\mu) - (\\bar{X} - \\mu) \\right \\}^2  \\right] \\\\\n",
    "&=& \\text{E} \\left[ \\dfrac{1}{N}\\sum_{i=1}^N \\left\\{ (X_i -\\mu)^2 - 2 (X_i -\\mu)(\\bar{X} - \\mu) +  (\\bar{X} - \\mu)^2 \\right \\}  \\right] \\\\\n",
    "&=&  \\text{E} \\left[ \\dfrac{1}{N} \\sum_{i=1}^N (X_i -\\mu)^2 \\right] \n",
    "  - 2 \\text{E} \\left[ { \\dfrac{1}{N} \\sum_{i=1}^N (X_i -\\mu)(\\bar{X} - \\mu) } \\right]   +  \\text{E} \\left[ { \\dfrac{1}{N} \\sum_{i=1}^N (\\bar{X} - \\mu)^2 } \\right] \n",
    "\\end{eqnarray}$$\n",
    "\n",
    "1항\n",
    "$$\\begin{eqnarray}\n",
    "\\text{E} \\left[ \\dfrac{1}{N} \\sum_{i=1}^N (X_i -\\mu)^2 \\right] \n",
    "&=& \\text{E} \\left[ \\dfrac{1}{N} \\sum_{i=1}^N (X -\\mu)^2 \\right] \\\\\n",
    "&=& \\text{E} \\left[ \\dfrac{1}{N} N (X -\\mu)^2 \\right] \\\\\n",
    "&=& \\text{E} \\left[ (X -\\mu)^2 \\right] \\\\\n",
    "&=& \\text{Var}[X] \\\\\n",
    "&=& \\sigma^2 \n",
    "\\end{eqnarray}$$\n",
    "2항\n",
    "\n",
    "$$\\begin{eqnarray}\n",
    "\\text{E} \\left[ { \\dfrac{1}{N} \\sum_{i=1}^N (X_i -\\mu)(\\bar{X} - \\mu) } \\right] \n",
    "&=& \\text{E} \\left[ { \\dfrac{1}{N} \\sum_{i=1}^N (X_i -\\mu) \\left( \\dfrac{1}{N} N (\\bar X - \\mu) \\right) } \\right]  \\\\\n",
    "&=& \\text{E} \\left[ { \\dfrac{1}{N} \\sum_{i=1}^N (X_i -\\mu) \\left( \\dfrac{1}{N} \\sum_{j=1}^N ( X_j - \\mu ) \\right) } \\right]  \\\\\n",
    "&=& \\text{E} \\left[ { \\dfrac{1}{N^2} \\sum_{i=1}^N \\sum_{j=1}^N (X_i -\\mu)  ( X_j - \\mu )} \\right]  \\\\\n",
    "&=& \\dfrac{1}{N} \\text{Var}[X] \\\\\n",
    "&=& \\dfrac{\\sigma^2}{N}\n",
    "\\end{eqnarray}$$\n",
    "\n",
    "3항\n",
    "\n",
    "$$\\begin{eqnarray}\n",
    "\\text{E} \\left[ { \\dfrac{1}{N} \\sum_{i=1}^N (\\bar{X} - \\mu)^2 } \\right]\n",
    "&=& \\text{E} \\left[ { \\dfrac{1}{N} \\sum_{i=1}^N \\left( \\dfrac{1}{N} \\sum_{j=1}^N X_j - \\mu \\right)^2 } \\right]  \\\\\n",
    "&=& \\text{E} \\left[ { \\dfrac{1}{N} \\sum_{i=1}^N \\left( \\dfrac{1}{N} \\sum_{j=1}^N (X_j - \\mu) \\right)^2 } \\right]  \\\\\n",
    "&=& \\text{E} \\left[ { \\dfrac{1}{N^2} \\sum_{i=1}^N \\sum_{j=1}^N (X_i -\\mu)  ( X_j - \\mu )} \\right]  \\\\\n",
    "&=& \\dfrac{1}{N} \\text{Var}[X] \\\\\n",
    "&=& \\dfrac{\\sigma^2}{N}\n",
    "\\end{eqnarray}$$\n",
    "\n",
    "세 항의 합은.\n",
    "$$\\text{E}[s^2] = \\sigma^2 - \\dfrac{2\\sigma^2}{N} + \\dfrac{\\sigma^2}{N} = \\dfrac{N-1}{N}\\sigma^2$$\n",
    "\n",
    "따라서 샘플 분산의 기댓값이 정확하게 $\\sigma^2$이 되려면 거리 제곱의 평균을 구할 때 분모가 $N-1$이 되어야 한다.\n",
    "\n",
    "$$\n",
    "\\sigma^2 \n",
    "= \\dfrac{N}{N-1} \\text{E}[s^2] \n",
    "= \\dfrac{N}{N-1} \\text{E} \\left[ \\dfrac{1}{N} \\sum (X_i-\\bar{X})^2 \\right] \n",
    "= \\text{E} \\left[ \\dfrac{1}{N-1} \\sum (X_i-\\bar{X})^2 \\right] \n",
    "= \\text{E} \\left[ s^2_{\\text{unbiased}} \\right]$$"
   ]
  },
  {
   "cell_type": "markdown",
   "metadata": {},
   "source": [
    "---"
   ]
  },
  {
   "cell_type": "markdown",
   "metadata": {},
   "source": [
    "## Moment 모멘트"
   ]
  },
  {
   "cell_type": "markdown",
   "metadata": {},
   "source": [
    "기댓값, 분산 등의 특징값을 확률 분포의 **모멘트**라고 한다. 모멘트는 차수를 가지는데 기댓값은 1차 모멘트, 분산은 2차 모멘트이다.\n",
    "- 1차 모멘트 = $E[X] $ : 기댓값\n",
    "- 2차 모멘트 = $E[(X-\\mu)^2] $ : 분산\n",
    "- 3차 모멘트 = $E[(X-\\mu)^3] $ : 스큐니스 (Skewness)\n",
    "- 4차 모멘트 = $E[(X-\\mu)^4] $ : 커토시스 (Kurtosis)\n",
    "\n",
    "\n",
    "1. 기댓값은 확률 변수의 값이 어느 값 근처에 나오는지 나타내는 특징\n",
    "1. 분산은 그 값 근처에 어느 정도 조밀하게 모여있는지 나타내는 특징\n",
    "1. 스큐니스는 전체 분포의 모양이 대칭(symmetric)인지 표현하는 특징(0이면 대칭, 양수이면 오른쪽으로 치우쳐진 확률 분포)\n",
    "1. 커토시스는 확률 분포가 중앙으로 얼마나 모여있는지, 끝(tail) 쪽에 얼마나 있는지 나타내는 특징 (눈으로는 구분이 힘들다)\n",
    "\n",
    ">모든 차수의 모멘트 값이 같으면, 같은 확률 분포이다.\n",
    "\n",
    "### 샘플 모멘트\n",
    "- Uni-modal(유니 모달), 봉우리가 하나인 모달, 인 경우 4차 모멘트까지 같으면 실용적으로 같은 분포라고 볼 수 있다."
   ]
  }
 ],
 "metadata": {
  "kernelspec": {
   "display_name": "Python 3",
   "language": "python",
   "name": "python3"
  },
  "language_info": {
   "codemirror_mode": {
    "name": "ipython",
    "version": 3
   },
   "file_extension": ".py",
   "mimetype": "text/x-python",
   "name": "python",
   "nbconvert_exporter": "python",
   "pygments_lexer": "ipython3",
   "version": "3.6.4"
  }
 },
 "nbformat": 4,
 "nbformat_minor": 2
}
