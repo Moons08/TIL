{
 "cells": [
  {
   "cell_type": "markdown",
   "metadata": {},
   "source": [
    "## 카테고리 분포\n",
    "베르누이 분포의 확장판이다. \n",
    "\n",
    ">- $\\{0, 1\\}$의 값이 나오는 확률 변수의 분포(ex. 동전던지기)가 베르누이 분포였다면,\n",
    "- $\\{1, 2, 3, 4, 5, 6\\}$의 값이 나오는 확률 변수의 분포(ex. 주사위)가 **카테고리 분포**이다.\n",
    "\n",
    "각 값을 클래스라고 하며, 주사위의 경우 $K=6$인 카테고리 분포이고, \n",
    "동전 던지기를 예로 든 베르누이의 경우 $K=2$인 카테고리 분포로 표현이 가능하다."
   ]
  },
  {
   "cell_type": "markdown",
   "metadata": {},
   "source": [
    "주의할 점은 다음과 같이 다차원 벡터 형태로 인코딩한 값을 확률 변수로 사용한다는 것이다.\n",
    "\n",
    "$$ \\begin{eqnarray}\n",
    "x = 1  \\;\\; & \\rightarrow & \\;\\; x = (1, 0, 0, 0, 0, 0) \\\\\n",
    "x = 2  \\;\\; & \\rightarrow & \\;\\; x = (0, 1, 0, 0, 0, 0) \\\\\n",
    "x = 3  \\;\\; & \\rightarrow & \\;\\; x = (0, 0, 1, 0, 0, 0) \\\\\n",
    "x = 4  \\;\\; & \\rightarrow & \\;\\; x = (0, 0, 0, 1, 0, 0) \\\\\n",
    "x = 5  \\;\\; & \\rightarrow & \\;\\; x = (0, 0, 0, 0, 1, 0) \\\\\n",
    "x = 6  \\;\\; & \\rightarrow & \\;\\; x = (0, 0, 0, 0, 0, 1) \\\\\n",
    "\\end{eqnarray}$$\n",
    "\n",
    "*이러한 인코딩 방식을 One-Hot-Encoding  이라고 한다.*\n",
    "\n",
    "따라서 출력되는 확률 변수의 값 $x$가 다음과 같이 벡터 값이 되는 것이다.\n",
    "\n",
    "$$x = (x_1, x_2, x_3, x_4, x_5, x_6)$$\n",
    "\n",
    "그러나, 이 벡터를 구성하는 원소 $x_1, x_2, x_3, x_4, x_5, x_6$에는 다음과 같은 제한 조건이 붙는다.\n",
    "\n",
    "1. $x_i = \\begin{cases} 0 \\\\ 1 \\end{cases}$ - $x_k$가 0 혹은 1 만 가능\n",
    "\n",
    "1. $\\sum_{k=1}^K x_k = 1$ - 여러개의 $x_k$중 단 하나만 1\n",
    "\n"
   ]
  },
  {
   "cell_type": "markdown",
   "metadata": {},
   "source": [
    ">1. 각각의 원소 값 $x_k$는 일종의 베르누이 확률 분포라고 볼 수 있다.\n",
    "1. 따라서 각각 1이 나올 확률을 나타내는 모수 $\\theta_k$를 가진다.\n",
    "1. 전체 카테고리 분포의 모수는 다음과 같이 벡터로 나타낸다.\n",
    "\n",
    "$$ \\theta = (\\theta_1, \\cdots, \\theta_K) $$\n",
    "\n",
    "\n",
    "이 모수 벡터도 다음과 같이 제한 조건을 가진다.\n",
    "\n",
    "\n",
    "1. $ 0 \\leq \\theta_i \\leq 1 $ - 각각의 값이 나올 **확률**이기 때문에 당연하다.\n",
    "\n",
    "1. $ \\sum_{k=1}^{K} \\theta_k = 1 $ - 다 더하면 1이 되는 것이 **확률**"
   ]
  },
  {
   "cell_type": "markdown",
   "metadata": {},
   "source": [
    "카테고리 분포는 다음과 같이 표기한다.\n",
    "\n",
    "$$\\text{Cat}(x_1, x_2, \\dots, x_K;\\theta_1, \\dots, \\theta_K)$$ \n",
    "\n",
    "혹은 벡터를 사용하여 간단히 표기할 수 있다.\n",
    "\n",
    "$$\\text{Cat}(x;\\theta)$$\n",
    "\n",
    "함수의 경우 다음과 같다.\n",
    "\n",
    "$$\\text{Cat}(x;\\theta) = \n",
    "\\begin{cases}\n",
    "\\theta_1 & \\text{if } x = (1, 0, 0, \\cdots, 0) \\\\\n",
    "\\theta_2 & \\text{if } x = (0, 1, 0, \\cdots, 0) \\\\\n",
    "\\theta_3 & \\text{if } x = (0, 0, 1, \\cdots, 0) \\\\\n",
    "\\vdots & \\vdots \\\\\n",
    "\\theta_K & \\text{if } x = (0, 0, 0, \\cdots, 1) \\\\\n",
    "\\end{cases}$$\n",
    "\n",
    "물론 다음과 같이 간략하게 쓸 수 있다.\n",
    "\n",
    "$$\\text{Cat}(x;\\theta) = \\theta_1^{x_1} \\theta_2^{x_2}  \\cdots \\theta_K^{x_K}  =  \\prod_{k=1}^K \\theta_k^{x_k}$$"
   ]
  },
  {
   "cell_type": "markdown",
   "metadata": {},
   "source": [
    "### 모멘트\n",
    "카테고리 분포의 기댓값과 분산\n",
    "\n",
    "- 기댓값\n",
    "$$ E[x_k] = \\theta_k $$\n",
    "- 분산\n",
    "$$ Var[x_k] = \\theta_k(1-\\theta_k) $$"
   ]
  },
  {
   "cell_type": "markdown",
   "metadata": {},
   "source": [
    "### SciPy 시뮬레이션\n",
    "Numpy.random 서브 패키지의 multinomial 명령에서 `n`인수를 1로 설정하고 `pval`에 모수 벡터 $\\theta$를 설정하면 1 부터 `len(pvals)`까지의 카테고리 분포를 따르는 데이터 샘플을 생성할 수 있다."
   ]
  },
  {
   "cell_type": "code",
   "execution_count": 1,
   "metadata": {
    "collapsed": true
   },
   "outputs": [],
   "source": [
    "%matplotlib inline\n",
    "theta = np.array([0, 0.05, 0.1, 0.2, 0.3, 0.35]) # theta 설정\n",
    "X = np.random.multinomial(1, theta, size=20) #카테고리 생성"
   ]
  },
  {
   "cell_type": "code",
   "execution_count": 2,
   "metadata": {},
   "outputs": [
    {
     "data": {
      "image/png": "[encoded data removed]",
      "text/plain": [
       "<matplotlib.figure.Figure at 0x7f44ffe0bf60>"
      ]
     },
     "metadata": {},
     "output_type": "display_data"
    }
   ],
   "source": [
    "plt.bar(np.arange(1, 7), X.sum(axis=0))\n",
    "plt.show()"
   ]
  },
  {
   "cell_type": "code",
   "execution_count": 3,
   "metadata": {},
   "outputs": [
    {
     "data": {
      "image/png": "[encoded data removed]",
      "text/plain": [
       "<matplotlib.figure.Figure at 0x7f44fc6e0c88>"
      ]
     },
     "metadata": {},
     "output_type": "display_data"
    }
   ],
   "source": [
    "# 이론적 값과 시뮬레이션 값을 함께 보여주기 위해 데이터프레임 생성\n",
    "df = pd.DataFrame({'theoretic':theta, 'simulation':X.mean(axis=0)}).stack()\n",
    "df = df.reset_index()\n",
    "df.columns = ['value', 'type', 'ratio']\n",
    "df.head()\n",
    "sns.barplot(x='value', y='ratio', hue='type', data=df)\n",
    "plt.show()"
   ]
  },
  {
   "cell_type": "markdown",
   "metadata": {},
   "source": [
    "---"
   ]
  },
  {
   "cell_type": "markdown",
   "metadata": {},
   "source": [
    "## 다항분포 (Multinomial distribution)"
   ]
  },
  {
   "cell_type": "markdown",
   "metadata": {},
   "source": [
    "베르누이 시도를 여러번 하여 얻은 총 성공 횟수 합이 이항 분포를 이루는 것처럼, 카테고리 분포를 여러번 시도하여 얻은 각 원소의 성공횟수 값은 다항 분포를 이룬다.\n",
    "\n",
    "다항 분포는 확률 모수가 $\\theta = (\\theta_1, \\cdots, \\theta_K)$인 독립적인 카테고리 시도를 $N$번 반복하여 $k$가 각각 $x_k$번 나올 확률, 즉 벡터 $x = (x_1, \\cdots, x_K)$가 나올 확률 분포를 말한다.\n",
    "\n",
    "$\\text{Mu}(x;N,\\theta)$와 같이 표기하며 다음과 같은 수식을 따른다.\n",
    "\n",
    "$$\\text{Mu}(x;N,\\theta) = \\binom N x  \\prod_{k=1}^K \\theta_k^{x_k} = \\binom N {x_1, \\cdots, x_K} \\prod_{k=1}^K \\theta_k^{x_k}$$\n",
    "\n"
   ]
  },
  {
   "cell_type": "markdown",
   "metadata": {},
   "source": [
    "#### 다항분포의 모멘트\n",
    "\n",
    "기댓값 \n",
    "\n",
    "$$ E[x_k] = N\\theta_k$$\n",
    "\n",
    "분산\n",
    "\n",
    "$$Var[x_k] = N\\theta_k(1-\\theta_k)$$"
   ]
  },
  {
   "cell_type": "code",
   "execution_count": 1,
   "metadata": {},
   "outputs": [
    {
     "data": {
      "text/plain": [
       "(array([[ 0,  0,  5,  4,  7, 14],\n",
       "        [ 0,  0,  4,  6,  9, 11],\n",
       "        [ 0,  0,  3,  7, 11,  9],\n",
       "        [ 0,  0,  2,  4,  7, 17],\n",
       "        [ 0,  0,  3,  6,  8, 13]]), 100)"
      ]
     },
     "execution_count": 1,
     "metadata": {},
     "output_type": "execute_result"
    }
   ],
   "source": [
    "N = 30\n",
    "theta = np.array([0, 0, 0.1, 0.2, 0.3, 0.4])\n",
    "X = np.random.multinomial(N, theta, size=100)\n",
    "X[:5], len(X)"
   ]
  },
  {
   "cell_type": "code",
   "execution_count": 22,
   "metadata": {},
   "outputs": [
    {
     "data": {
      "text/plain": [
       "0.058060799999999996"
      ]
     },
     "execution_count": 22,
     "metadata": {},
     "output_type": "execute_result"
    }
   ],
   "source": [
    "a = sp.stats.multinomial(8, [0.3, 0.3, 0.4])\n",
    "# print(a)\n",
    "a.pmf([1, 3, 4])"
   ]
  },
  {
   "cell_type": "code",
   "execution_count": 5,
   "metadata": {},
   "outputs": [
    {
     "data": {
      "image/png": "[encoded data removed]",
      "text/plain": [
       "<matplotlib.figure.Figure at 0x7f4501008160>"
      ]
     },
     "metadata": {},
     "output_type": "display_data"
    }
   ],
   "source": [
    "plt.boxplot(X)\n",
    "plt.show()"
   ]
  },
  {
   "cell_type": "code",
   "execution_count": 6,
   "metadata": {},
   "outputs": [
    {
     "data": {
      "text/html": [
       "<div>\n",
       "<style>\n",
       "    .dataframe thead tr:only-child th {\n",
       "        text-align: right;\n",
       "    }\n",
       "\n",
       "    .dataframe thead th {\n",
       "        text-align: left;\n",
       "    }\n",
       "\n",
       "    .dataframe tbody tr th {\n",
       "        vertical-align: top;\n",
       "    }\n",
       "</style>\n",
       "<table border=\"1\" class=\"dataframe\">\n",
       "  <thead>\n",
       "    <tr style=\"text-align: right;\">\n",
       "      <th></th>\n",
       "      <th>trial</th>\n",
       "      <th>class</th>\n",
       "      <th>binomial</th>\n",
       "    </tr>\n",
       "  </thead>\n",
       "  <tbody>\n",
       "    <tr>\n",
       "      <th>0</th>\n",
       "      <td>0</td>\n",
       "      <td>0</td>\n",
       "      <td>0</td>\n",
       "    </tr>\n",
       "    <tr>\n",
       "      <th>1</th>\n",
       "      <td>0</td>\n",
       "      <td>1</td>\n",
       "      <td>0</td>\n",
       "    </tr>\n",
       "    <tr>\n",
       "      <th>2</th>\n",
       "      <td>0</td>\n",
       "      <td>2</td>\n",
       "      <td>3</td>\n",
       "    </tr>\n",
       "    <tr>\n",
       "      <th>3</th>\n",
       "      <td>0</td>\n",
       "      <td>3</td>\n",
       "      <td>6</td>\n",
       "    </tr>\n",
       "    <tr>\n",
       "      <th>4</th>\n",
       "      <td>0</td>\n",
       "      <td>4</td>\n",
       "      <td>9</td>\n",
       "    </tr>\n",
       "  </tbody>\n",
       "</table>\n",
       "</div>"
      ],
      "text/plain": [
       "   trial  class  binomial\n",
       "0      0      0         0\n",
       "1      0      1         0\n",
       "2      0      2         3\n",
       "3      0      3         6\n",
       "4      0      4         9"
      ]
     },
     "execution_count": 6,
     "metadata": {},
     "output_type": "execute_result"
    }
   ],
   "source": [
    "df = pd.DataFrame(X).stack().reset_index()\n",
    "df.columns = [\"trial\", \"class\", \"binomial\"]\n",
    "df.head()"
   ]
  },
  {
   "cell_type": "code",
   "execution_count": 7,
   "metadata": {},
   "outputs": [
    {
     "data": {
      "image/png": "[encoded data removed]",
      "text/plain": [
       "<matplotlib.figure.Figure at 0x7f44fc4d4630>"
      ]
     },
     "metadata": {},
     "output_type": "display_data"
    }
   ],
   "source": [
    "sns.boxplot(x=\"class\", y=\"binomial\", data=df)\n",
    "sns.stripplot(x=\"class\", y=\"binomial\", data=df, jitter=True, color=\".3\")\n",
    "plt.show()"
   ]
  }
 ],
 "metadata": {
  "kernelspec": {
   "display_name": "Python 3",
   "language": "python",
   "name": "python3"
  },
  "language_info": {
   "codemirror_mode": {
    "name": "ipython",
    "version": 3
   },
   "file_extension": ".py",
   "mimetype": "text/x-python",
   "name": "python",
   "nbconvert_exporter": "python",
   "pygments_lexer": "ipython3",
   "version": "3.6.4"
  }
 },
 "nbformat": 4,
 "nbformat_minor": 2
}
