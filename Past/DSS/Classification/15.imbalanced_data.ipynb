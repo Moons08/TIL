{
 "cells": [
  {
   "cell_type": "markdown",
   "metadata": {},
   "source": [
    "데이터 클래스 비율이 너무 차이가 나면(대략 1000배 이상), 단순이 우세한 클래스를 택하는 모형의 정확도가 높아지므로 모형의 성능판별이 어려워진다.\n",
    "\n",
    "- 정확도(accuracy)는 높아도 재현율(recall-rate)이 떨어지는 문제가 발생\n",
    "\n",
    "- 해결 방법\n",
    "    - 다수 클래스 일부만 사용하는 **언더 샘플링**\n",
    "    - 소수 클래스 데이터를 증가시키는 **오버 샘플링**\n",
    "    - 둘다 하는 **복합 샘플링**\n"
   ]
  },
  {
   "cell_type": "code",
   "execution_count": 1,
   "metadata": {},
   "outputs": [],
   "source": [
    "from imblearn.under_sampling import *"
   ]
  },
  {
   "cell_type": "markdown",
   "metadata": {},
   "source": [
    "언더샘플링\n",
    "\n",
    "- RandomUnderSampler: random under-sampling method\n",
    "- TomekLinks: Tomek’s link method\n",
    "- CondensedNearestNeighbour: condensed nearest neighbour method\n",
    "- OneSidedSelection: under-sampling based on one-sided selection method\n",
    "- EditedNearestNeighbours: edited nearest neighbour method\n",
    "- NeighbourhoodCleaningRule: neighbourhood cleaning rule\n"
   ]
  },
  {
   "cell_type": "code",
   "execution_count": 12,
   "metadata": {},
   "outputs": [],
   "source": [
    "from imblearn.over_sampling import *"
   ]
  },
  {
   "cell_type": "markdown",
   "metadata": {},
   "source": [
    "오버 샘플링\n",
    "- RandomOverSampler: random sampler\n",
    "- ADASYN: Adaptive Synthetic Sampling Approach for Imbalanced Learning\n",
    "- SMOTE: Synthetic Minority Over-sampling Technique"
   ]
  },
  {
   "cell_type": "markdown",
   "metadata": {},
   "source": [
    "복합\n",
    "\n",
    "- SMOTEENN: SMOTE + ENN\n",
    "- SMOTETomek: SMOTE + Tomek\n"
   ]
  },
  {
   "cell_type": "markdown",
   "metadata": {},
   "source": [
    "### tips 데이터에 적용"
   ]
  },
  {
   "cell_type": "code",
   "execution_count": 44,
   "metadata": {},
   "outputs": [],
   "source": [
    "from sklearn.metrics import *\n",
    "from sklearn.model_selection import *\n",
    "from sklearn.svm import SVC\n",
    "\n",
    "%matplotlib inline\n",
    "tips=sns.load_dataset('tips')"
   ]
  },
  {
   "cell_type": "code",
   "execution_count": 45,
   "metadata": {},
   "outputs": [],
   "source": [
    "tips['sex'] = tips['sex'].apply(lambda x: 1 if x == 'Male' else 0).astype('float64')\n",
    "tips['smoker'] = tips['smoker'].apply(lambda x: 1 if x == 'Yes' else 0).astype('float64')\n",
    "tips['time'] = tips['time'].apply(lambda x: 1 if x == 'Dinner' else 0).astype('float64')\n",
    "tips['day'] = tips['day'].apply(lambda x: 0 if x == 'Thur' else 1 if x =='Fri' else 2 if x=='Sat' else 3).astype('float64')"
   ]
  },
  {
   "cell_type": "code",
   "execution_count": 46,
   "metadata": {},
   "outputs": [],
   "source": [
    "# tips['upper3'] = tips['tip'].apply(lambda x: 1 if x >3 else 0)\n",
    "tips['upper5'] = tips['tip'].apply(lambda x: 1 if x >5 else 0)\n",
    "tips['target'] = tips['tip'].apply(lambda x: 'upper5' if x>5 else 'upper3' if x>3 else 'others')"
   ]
  },
  {
   "cell_type": "code",
   "execution_count": 97,
   "metadata": {},
   "outputs": [],
   "source": [
    "y = tips['upper5']\n",
    "X = tips[['total_bill', 'sex', 'smoker', 'day', 'time', 'size']]"
   ]
  },
  {
   "cell_type": "markdown",
   "metadata": {},
   "source": [
    "---"
   ]
  },
  {
   "cell_type": "code",
   "execution_count": 98,
   "metadata": {},
   "outputs": [],
   "source": [
    "from sklearn.preprocessing import StandardScaler\n",
    "\n",
    "X = X.iloc[:,[0,-1]]\n",
    "X_train, X_test, y_train, y_test = train_test_split(X, y, test_size=0.3, random_state=0)\n",
    "\n",
    "sc = StandardScaler()\n",
    "sc.fit(X_train)\n",
    "X_train_std = sc.transform(X_train)\n",
    "X_test_std = sc.transform(X_test)\n",
    "X_combined_std = np.vstack((X_train_std, X_test_std))\n",
    "y_combined = np.hstack((y_train, y_test))\n",
    "\n",
    "def plot_iris(X, y, model, title, xmin=-2.5, xmax=2.5, ymin=-2.5, ymax=2.5):\n",
    "    XX, YY = np.meshgrid(np.arange(xmin, xmax, (xmax-xmin)/1000), np.arange(ymin, ymax, (ymax-ymin)/1000))\n",
    "    ZZ = np.reshape(model.predict(np.array([XX.ravel(), YY.ravel()]).T), XX.shape)\n",
    "    plt.contourf(XX, YY, ZZ, cmap=mpl.cm.Paired_r, alpha=0.5)\n",
    "    plt.scatter(X[y==0], X[y==0], c='r', marker='^', label='0', s=100)\n",
    "    plt.scatter(X[y==1], X[y==1], c='g', marker='o', label='1', s=100)\n",
    "    plt.xlim(xmin, xmax)\n",
    "    plt.ylim(ymin, ymax)\n",
    "    plt.title(title)\n",
    "    plt.show()"
   ]
  },
  {
   "cell_type": "code",
   "execution_count": 99,
   "metadata": {},
   "outputs": [
    {
     "data": {
      "image/png": "[encoded data removed]",
      "text/plain": [
       "<matplotlib.figure.Figure at 0x7fdb0f4872b0>"
      ]
     },
     "metadata": {},
     "output_type": "display_data"
    }
   ],
   "source": [
    "model = SVC(kernel=\"linear\").fit(X_test_std, y_test)\n",
    "plot_iris(X_test_std, y_test, model, \"SVC\")"
   ]
  },
  {
   "cell_type": "code",
   "execution_count": 100,
   "metadata": {},
   "outputs": [],
   "source": [
    "from imblearn.under_sampling import *\n",
    "X1, y1 = RandomUnderSampler(random_state=0).fit_sample(X0, y0)"
   ]
  },
  {
   "cell_type": "code",
   "execution_count": 30,
   "metadata": {},
   "outputs": [
    {
     "name": "stdout",
     "output_type": "stream",
     "text": [
      "accuracy: 0.934126984126984\n",
      "recall: 0.16666666666666666\n",
      "f1: 0.2222222222222222\n"
     ]
    },
    {
     "name": "stderr",
     "output_type": "stream",
     "text": [
      "/home/mk/anaconda3/lib/python3.6/site-packages/sklearn/metrics/classification.py:1135: UndefinedMetricWarning: F-score is ill-defined and being set to 0.0 due to no predicted samples.\n",
      "  'precision', 'predicted', average, warn_for)\n",
      "/home/mk/anaconda3/lib/python3.6/site-packages/sklearn/metrics/classification.py:1135: UndefinedMetricWarning: F-score is ill-defined and being set to 0.0 due to no predicted samples.\n",
      "  'precision', 'predicted', average, warn_for)\n"
     ]
    }
   ],
   "source": [
    "model = SVC(kernel=\"rbf\").fit(X1, y1)\n",
    "cv = KFold(3)\n",
    "print(\"accuracy:\",cross_val_score(model, X_test, y_test, scoring=\"accuracy\", cv=cv).mean())\n",
    "print(\"recall:\",cross_val_score(model, X_test, y_test, scoring=\"recall\", cv=cv).mean())\n",
    "# print(\"roc_auc:\",cross_val_score(model, X_test, y_test, scoring=\"roc_auc\", cv=cv).mean())\n",
    "print(\"f1:\",cross_val_score(model, X_test, y_test, scoring=\"f1\", cv=cv).mean())"
   ]
  },
  {
   "cell_type": "code",
   "execution_count": 31,
   "metadata": {},
   "outputs": [],
   "source": [
    "X1, y1 = TomekLinks(random_state=0).fit_sample(X0, y0)"
   ]
  },
  {
   "cell_type": "code",
   "execution_count": 32,
   "metadata": {},
   "outputs": [
    {
     "name": "stdout",
     "output_type": "stream",
     "text": [
      "accuracy: 0.934126984126984\n",
      "recall: 0.16666666666666666\n",
      "f1: 0.2222222222222222\n"
     ]
    },
    {
     "name": "stderr",
     "output_type": "stream",
     "text": [
      "/home/mk/anaconda3/lib/python3.6/site-packages/sklearn/metrics/classification.py:1135: UndefinedMetricWarning: F-score is ill-defined and being set to 0.0 due to no predicted samples.\n",
      "  'precision', 'predicted', average, warn_for)\n",
      "/home/mk/anaconda3/lib/python3.6/site-packages/sklearn/metrics/classification.py:1135: UndefinedMetricWarning: F-score is ill-defined and being set to 0.0 due to no predicted samples.\n",
      "  'precision', 'predicted', average, warn_for)\n"
     ]
    }
   ],
   "source": [
    "model = SVC(kernel=\"rbf\").fit(X1, y1)\n",
    "cv = KFold(3)\n",
    "print(\"accuracy:\",cross_val_score(model, X_test, y_test, scoring=\"accuracy\", cv=cv).mean())\n",
    "print(\"recall:\",cross_val_score(model, X_test, y_test, scoring=\"recall\", cv=cv).mean())\n",
    "# print(\"roc_auc:\",cross_val_score(model, X_test, y_test, scoring=\"roc_auc\", cv=cv).mean())\n",
    "print(\"f1:\",cross_val_score(model, X_test, y_test, scoring=\"f1\", cv=cv).mean())"
   ]
  },
  {
   "cell_type": "code",
   "execution_count": 33,
   "metadata": {},
   "outputs": [],
   "source": [
    "X1, y1 = OneSidedSelection(random_state=0).fit_sample(X0, y0)"
   ]
  },
  {
   "cell_type": "code",
   "execution_count": 34,
   "metadata": {},
   "outputs": [
    {
     "name": "stdout",
     "output_type": "stream",
     "text": [
      "accuracy: 0.934126984126984\n",
      "recall: 0.16666666666666666\n",
      "f1: 0.2222222222222222\n"
     ]
    },
    {
     "name": "stderr",
     "output_type": "stream",
     "text": [
      "/home/mk/anaconda3/lib/python3.6/site-packages/sklearn/metrics/classification.py:1135: UndefinedMetricWarning: F-score is ill-defined and being set to 0.0 due to no predicted samples.\n",
      "  'precision', 'predicted', average, warn_for)\n",
      "/home/mk/anaconda3/lib/python3.6/site-packages/sklearn/metrics/classification.py:1135: UndefinedMetricWarning: F-score is ill-defined and being set to 0.0 due to no predicted samples.\n",
      "  'precision', 'predicted', average, warn_for)\n"
     ]
    }
   ],
   "source": [
    "model = SVC(kernel=\"rbf\").fit(X1, y1)\n",
    "cv = KFold(3)\n",
    "print(\"accuracy:\",cross_val_score(model, X_test, y_test, scoring=\"accuracy\", cv=cv).mean())\n",
    "print(\"recall:\",cross_val_score(model, X_test, y_test, scoring=\"recall\", cv=cv).mean())\n",
    "# print(\"roc_auc:\",cross_val_score(model, X_test, y_test, scoring=\"roc_auc\", cv=cv).mean())\n",
    "print(\"f1:\",cross_val_score(model, X_test, y_test, scoring=\"f1\", cv=cv).mean())"
   ]
  },
  {
   "cell_type": "code",
   "execution_count": 35,
   "metadata": {},
   "outputs": [],
   "source": [
    "from imblearn.over_sampling import *\n",
    "X1, y1 = SMOTE(random_state=0, ratio='minority').fit_sample(X0, y0)"
   ]
  },
  {
   "cell_type": "code",
   "execution_count": 36,
   "metadata": {},
   "outputs": [
    {
     "name": "stdout",
     "output_type": "stream",
     "text": [
      "accuracy: 0.934126984126984\n",
      "recall: 0.16666666666666666\n",
      "f1: 0.2222222222222222\n"
     ]
    },
    {
     "name": "stderr",
     "output_type": "stream",
     "text": [
      "/home/mk/anaconda3/lib/python3.6/site-packages/sklearn/metrics/classification.py:1135: UndefinedMetricWarning: F-score is ill-defined and being set to 0.0 due to no predicted samples.\n",
      "  'precision', 'predicted', average, warn_for)\n",
      "/home/mk/anaconda3/lib/python3.6/site-packages/sklearn/metrics/classification.py:1135: UndefinedMetricWarning: F-score is ill-defined and being set to 0.0 due to no predicted samples.\n",
      "  'precision', 'predicted', average, warn_for)\n"
     ]
    }
   ],
   "source": [
    "model = SVC(kernel=\"rbf\").fit(X1, y1)\n",
    "cv = KFold(3)\n",
    "print(\"accuracy:\",cross_val_score(model, X_test, y_test, scoring=\"accuracy\", cv=cv).mean())\n",
    "print(\"recall:\",cross_val_score(model, X_test, y_test, scoring=\"recall\", cv=cv).mean())\n",
    "# print(\"roc_auc:\",cross_val_score(model, X_test, y_test, scoring=\"roc_auc\", cv=cv).mean())\n",
    "print(\"f1:\",cross_val_score(model, X_test, y_test, scoring=\"f1\", cv=cv).mean())"
   ]
  },
  {
   "cell_type": "code",
   "execution_count": 37,
   "metadata": {},
   "outputs": [],
   "source": [
    "from imblearn.combine import *\n",
    "X1, y1 = SMOTEENN(random_state=0).fit_sample(X0, y0)"
   ]
  },
  {
   "cell_type": "code",
   "execution_count": 38,
   "metadata": {},
   "outputs": [
    {
     "name": "stdout",
     "output_type": "stream",
     "text": [
      "accuracy: 0.934126984126984\n",
      "recall: 0.16666666666666666\n",
      "f1: 0.2222222222222222\n"
     ]
    },
    {
     "name": "stderr",
     "output_type": "stream",
     "text": [
      "/home/mk/anaconda3/lib/python3.6/site-packages/sklearn/metrics/classification.py:1135: UndefinedMetricWarning: F-score is ill-defined and being set to 0.0 due to no predicted samples.\n",
      "  'precision', 'predicted', average, warn_for)\n",
      "/home/mk/anaconda3/lib/python3.6/site-packages/sklearn/metrics/classification.py:1135: UndefinedMetricWarning: F-score is ill-defined and being set to 0.0 due to no predicted samples.\n",
      "  'precision', 'predicted', average, warn_for)\n"
     ]
    }
   ],
   "source": [
    "model = SVC(kernel=\"rbf\").fit(X1, y1)\n",
    "cv = KFold(3)\n",
    "print(\"accuracy:\",cross_val_score(model, X_test, y_test, scoring=\"accuracy\", cv=cv).mean())\n",
    "print(\"recall:\",cross_val_score(model, X_test, y_test, scoring=\"recall\", cv=cv).mean())\n",
    "# print(\"roc_auc:\",cross_val_score(model, X_test, y_test, scoring=\"roc_auc\", cv=cv).mean())\n",
    "print(\"f1:\",cross_val_score(model, X_test, y_test, scoring=\"f1\", cv=cv).mean())"
   ]
  },
  {
   "cell_type": "markdown",
   "metadata": {},
   "source": [
    "샘플이 적으면 의미없는 짓인듯 싶다."
   ]
  }
 ],
 "metadata": {
  "kernelspec": {
   "display_name": "Python 3",
   "language": "python",
   "name": "python3"
  },
  "language_info": {
   "codemirror_mode": {
    "name": "ipython",
    "version": 3
   },
   "file_extension": ".py",
   "mimetype": "text/x-python",
   "name": "python",
   "nbconvert_exporter": "python",
   "pygments_lexer": "ipython3",
   "version": "3.6.4"
  }
 },
 "nbformat": 4,
 "nbformat_minor": 2
}
