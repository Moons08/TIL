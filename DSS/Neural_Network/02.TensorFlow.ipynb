{
 "cells": [
  {
   "cell_type": "code",
   "execution_count": 1,
   "metadata": {},
   "outputs": [],
   "source": [
    "import tensorflow as tf"
   ]
  },
  {
   "cell_type": "markdown",
   "metadata": {},
   "source": [
    "### set data"
   ]
  },
  {
   "cell_type": "code",
   "execution_count": 3,
   "metadata": {},
   "outputs": [],
   "source": [
    "from keras.datasets import mnist\n",
    "(X_train0, y_train0), (X_test0, y_test0) = mnist.load_data()"
   ]
  },
  {
   "cell_type": "code",
   "execution_count": 4,
   "metadata": {},
   "outputs": [
    {
     "name": "stdout",
     "output_type": "stream",
     "text": [
      "(60000, 28, 28) uint8\n",
      "(60000,) uint8\n",
      "(10000, 28, 28) uint8\n",
      "(10000,) uint8\n"
     ]
    }
   ],
   "source": [
    "print(X_train0.shape, X_train0.dtype)\n",
    "print(y_train0.shape, y_train0.dtype)\n",
    "print(X_test0.shape, X_test0.dtype)\n",
    "print(y_test0.shape, y_test0.dtype)"
   ]
  },
  {
   "cell_type": "code",
   "execution_count": 5,
   "metadata": {},
   "outputs": [
    {
     "data": {
      "image/png": "[encoded data removed]",
      "text/plain": [
       "<matplotlib.figure.Figure at 0x7fa4cf0bea58>"
      ]
     },
     "metadata": {},
     "output_type": "display_data"
    }
   ],
   "source": [
    "%matplotlib inline\n",
    "plt.figure(figsize=(2, 2))\n",
    "plt.imshow(X_train0[0], cmap=mpl.cm.bone_r)\n",
    "plt.grid(False)\n",
    "plt.xticks([])\n",
    "plt.yticks([])\n",
    "plt.show()"
   ]
  },
  {
   "cell_type": "code",
   "execution_count": 6,
   "metadata": {},
   "outputs": [
    {
     "name": "stdout",
     "output_type": "stream",
     "text": [
      "(60000, 784) float32\n"
     ]
    }
   ],
   "source": [
    "X_train = X_train0.reshape(60000, 784).astype('float32') / 255.0\n",
    "X_test = X_test0.reshape(10000, 784).astype('float32') / 255.0\n",
    "print(X_train.shape, X_train.dtype)"
   ]
  },
  {
   "cell_type": "code",
   "execution_count": 7,
   "metadata": {},
   "outputs": [
    {
     "data": {
      "text/plain": [
       "array([5, 0, 4, 1, 9], dtype=uint8)"
      ]
     },
     "execution_count": 7,
     "metadata": {},
     "output_type": "execute_result"
    }
   ],
   "source": [
    "y_train0[:5]"
   ]
  },
  {
   "cell_type": "code",
   "execution_count": 8,
   "metadata": {},
   "outputs": [
    {
     "data": {
      "text/plain": [
       "array([[0., 0., 0., 0., 0., 1., 0., 0., 0., 0.],\n",
       "       [1., 0., 0., 0., 0., 0., 0., 0., 0., 0.],\n",
       "       [0., 0., 0., 0., 1., 0., 0., 0., 0., 0.],\n",
       "       [0., 1., 0., 0., 0., 0., 0., 0., 0., 0.],\n",
       "       [0., 0., 0., 0., 0., 0., 0., 0., 0., 1.]])"
      ]
     },
     "execution_count": 8,
     "metadata": {},
     "output_type": "execute_result"
    }
   ],
   "source": [
    "from keras.utils import np_utils\n",
    "\n",
    "Y_train = np_utils.to_categorical(y_train0, 10)\n",
    "Y_test = np_utils.to_categorical(y_test0, 10)\n",
    "Y_train[:5]"
   ]
  },
  {
   "cell_type": "markdown",
   "metadata": {},
   "source": [
    "----"
   ]
  },
  {
   "cell_type": "markdown",
   "metadata": {},
   "source": [
    "### dense layer == FCN (Fully Connected Network)\n",
    "\n",
    "CNN (컨볼루셔널, dense x)"
   ]
  },
  {
   "cell_type": "code",
   "execution_count": 9,
   "metadata": {},
   "outputs": [],
   "source": [
    "from keras.models import Sequential\n",
    "from keras.layers.core import Dense # dense 레이어 , FCN \n",
    "from keras.optimizers import SGD\n",
    "\n",
    "np.random.seed(0)\n",
    "\n",
    "model = Sequential()"
   ]
  },
  {
   "cell_type": "markdown",
   "metadata": {},
   "source": [
    "첫 레이어는 인풋 필요\n",
    "\n",
    "activation = 'sigmoid'  -> 0 과 1 사이 실수값\n",
    "- OvR용으로 사용하겠다는 의미"
   ]
  },
  {
   "cell_type": "code",
   "execution_count": 10,
   "metadata": {},
   "outputs": [],
   "source": [
    "model.add(Dense(15, input_dim=784, activation=\"sigmoid\"))"
   ]
  },
  {
   "cell_type": "code",
   "execution_count": 11,
   "metadata": {},
   "outputs": [],
   "source": [
    "model.add(Dense(10, activation=\"sigmoid\"))"
   ]
  },
  {
   "cell_type": "markdown",
   "metadata": {},
   "source": [
    "lr = learning rate\n",
    "\n",
    "loss = 손실함수\n",
    "\n",
    "metrics"
   ]
  },
  {
   "cell_type": "code",
   "execution_count": 12,
   "metadata": {},
   "outputs": [],
   "source": [
    "model.compile(optimizer=SGD(lr=0.2), loss='mean_squared_error', metrics=[\"accuracy\"])"
   ]
  },
  {
   "cell_type": "code",
   "execution_count": 13,
   "metadata": {},
   "outputs": [
    {
     "data": {
      "image/svg+xml": [
       "<svg height=\"221pt\" viewBox=\"0.00 0.00 309.00 221.00\" width=\"309pt\" xmlns=\"http://www.w3.org/2000/svg\" xmlns:xlink=\"http://www.w3.org/1999/xlink\">\n",
       "<g class=\"graph\" id=\"graph0\" transform=\"scale(1 1) rotate(0) translate(4 217)\">\n",
       "<title>G</title>\n",
       "<polygon fill=\"white\" points=\"-4,4 -4,-217 305,-217 305,4 -4,4\" stroke=\"none\"/>\n",
       "<!-- 140345569773888 -->\n",
       "<g class=\"node\" id=\"node1\"><title>140345569773888</title>\n",
       "<polygon fill=\"none\" points=\"0,-166.5 0,-212.5 301,-212.5 301,-166.5 0,-166.5\" stroke=\"black\"/>\n",
       "<text font-family=\"Times,serif\" font-size=\"14.00\" text-anchor=\"middle\" x=\"81.5\" y=\"-185.8\">dense_1_input: InputLayer</text>\n",
       "<polyline fill=\"none\" points=\"163,-166.5 163,-212.5 \" stroke=\"black\"/>\n",
       "<text font-family=\"Times,serif\" font-size=\"14.00\" text-anchor=\"middle\" x=\"190.5\" y=\"-197.3\">input:</text>\n",
       "<polyline fill=\"none\" points=\"163,-189.5 218,-189.5 \" stroke=\"black\"/>\n",
       "<text font-family=\"Times,serif\" font-size=\"14.00\" text-anchor=\"middle\" x=\"190.5\" y=\"-174.3\">output:</text>\n",
       "<polyline fill=\"none\" points=\"218,-166.5 218,-212.5 \" stroke=\"black\"/>\n",
       "<text font-family=\"Times,serif\" font-size=\"14.00\" text-anchor=\"middle\" x=\"259.5\" y=\"-197.3\">(None, 784)</text>\n",
       "<polyline fill=\"none\" points=\"218,-189.5 301,-189.5 \" stroke=\"black\"/>\n",
       "<text font-family=\"Times,serif\" font-size=\"14.00\" text-anchor=\"middle\" x=\"259.5\" y=\"-174.3\">(None, 784)</text>\n",
       "</g>\n",
       "<!-- 140345569774112 -->\n",
       "<g class=\"node\" id=\"node2\"><title>140345569774112</title>\n",
       "<polygon fill=\"none\" points=\"30.5,-83.5 30.5,-129.5 270.5,-129.5 270.5,-83.5 30.5,-83.5\" stroke=\"black\"/>\n",
       "<text font-family=\"Times,serif\" font-size=\"14.00\" text-anchor=\"middle\" x=\"81.5\" y=\"-102.8\">dense_1: Dense</text>\n",
       "<polyline fill=\"none\" points=\"132.5,-83.5 132.5,-129.5 \" stroke=\"black\"/>\n",
       "<text font-family=\"Times,serif\" font-size=\"14.00\" text-anchor=\"middle\" x=\"160\" y=\"-114.3\">input:</text>\n",
       "<polyline fill=\"none\" points=\"132.5,-106.5 187.5,-106.5 \" stroke=\"black\"/>\n",
       "<text font-family=\"Times,serif\" font-size=\"14.00\" text-anchor=\"middle\" x=\"160\" y=\"-91.3\">output:</text>\n",
       "<polyline fill=\"none\" points=\"187.5,-83.5 187.5,-129.5 \" stroke=\"black\"/>\n",
       "<text font-family=\"Times,serif\" font-size=\"14.00\" text-anchor=\"middle\" x=\"229\" y=\"-114.3\">(None, 784)</text>\n",
       "<polyline fill=\"none\" points=\"187.5,-106.5 270.5,-106.5 \" stroke=\"black\"/>\n",
       "<text font-family=\"Times,serif\" font-size=\"14.00\" text-anchor=\"middle\" x=\"229\" y=\"-91.3\">(None, 15)</text>\n",
       "</g>\n",
       "<!-- 140345569773888&#45;&gt;140345569774112 -->\n",
       "<g class=\"edge\" id=\"edge1\"><title>140345569773888-&gt;140345569774112</title>\n",
       "<path d=\"M150.5,-166.366C150.5,-158.152 150.5,-148.658 150.5,-139.725\" fill=\"none\" stroke=\"black\"/>\n",
       "<polygon fill=\"black\" points=\"154,-139.607 150.5,-129.607 147,-139.607 154,-139.607\" stroke=\"black\"/>\n",
       "</g>\n",
       "<!-- 140345780587992 -->\n",
       "<g class=\"node\" id=\"node3\"><title>140345780587992</title>\n",
       "<polygon fill=\"none\" points=\"34,-0.5 34,-46.5 267,-46.5 267,-0.5 34,-0.5\" stroke=\"black\"/>\n",
       "<text font-family=\"Times,serif\" font-size=\"14.00\" text-anchor=\"middle\" x=\"85\" y=\"-19.8\">dense_2: Dense</text>\n",
       "<polyline fill=\"none\" points=\"136,-0.5 136,-46.5 \" stroke=\"black\"/>\n",
       "<text font-family=\"Times,serif\" font-size=\"14.00\" text-anchor=\"middle\" x=\"163.5\" y=\"-31.3\">input:</text>\n",
       "<polyline fill=\"none\" points=\"136,-23.5 191,-23.5 \" stroke=\"black\"/>\n",
       "<text font-family=\"Times,serif\" font-size=\"14.00\" text-anchor=\"middle\" x=\"163.5\" y=\"-8.3\">output:</text>\n",
       "<polyline fill=\"none\" points=\"191,-0.5 191,-46.5 \" stroke=\"black\"/>\n",
       "<text font-family=\"Times,serif\" font-size=\"14.00\" text-anchor=\"middle\" x=\"229\" y=\"-31.3\">(None, 15)</text>\n",
       "<polyline fill=\"none\" points=\"191,-23.5 267,-23.5 \" stroke=\"black\"/>\n",
       "<text font-family=\"Times,serif\" font-size=\"14.00\" text-anchor=\"middle\" x=\"229\" y=\"-8.3\">(None, 10)</text>\n",
       "</g>\n",
       "<!-- 140345569774112&#45;&gt;140345780587992 -->\n",
       "<g class=\"edge\" id=\"edge2\"><title>140345569774112-&gt;140345780587992</title>\n",
       "<path d=\"M150.5,-83.3664C150.5,-75.1516 150.5,-65.6579 150.5,-56.7252\" fill=\"none\" stroke=\"black\"/>\n",
       "<polygon fill=\"black\" points=\"154,-56.6068 150.5,-46.6068 147,-56.6069 154,-56.6068\" stroke=\"black\"/>\n",
       "</g>\n",
       "</g>\n",
       "</svg>"
      ],
      "text/plain": [
       "<IPython.core.display.SVG object>"
      ]
     },
     "execution_count": 13,
     "metadata": {},
     "output_type": "execute_result"
    }
   ],
   "source": [
    "from IPython.display import SVG\n",
    "from keras.utils.vis_utils import model_to_dot\n",
    "\n",
    "SVG(model_to_dot(model, show_shapes=True).create(prog='dot', format='svg'))"
   ]
  },
  {
   "cell_type": "markdown",
   "metadata": {},
   "source": [
    "trainable params : flag를 걸어서 업데이트 안하는 변수를 정해줄 수 있음"
   ]
  },
  {
   "cell_type": "code",
   "execution_count": 14,
   "metadata": {},
   "outputs": [
    {
     "name": "stdout",
     "output_type": "stream",
     "text": [
      "_________________________________________________________________\n",
      "Layer (type)                 Output Shape              Param #   \n",
      "=================================================================\n",
      "dense_1 (Dense)              (None, 15)                11775     \n",
      "_________________________________________________________________\n",
      "dense_2 (Dense)              (None, 10)                160       \n",
      "=================================================================\n",
      "Total params: 11,935\n",
      "Trainable params: 11,935\n",
      "Non-trainable params: 0\n",
      "_________________________________________________________________\n"
     ]
    }
   ],
   "source": [
    "model.summary()"
   ]
  },
  {
   "cell_type": "code",
   "execution_count": 15,
   "metadata": {},
   "outputs": [],
   "source": [
    "l1 = model.layers[0] # 각각의 레이어 오브젝트\n",
    "l2 = model.layers[1]"
   ]
  },
  {
   "cell_type": "code",
   "execution_count": 16,
   "metadata": {},
   "outputs": [
    {
     "data": {
      "text/plain": [
       "('dense_1', keras.layers.core.Dense, (None, 15), 'sigmoid', 11775)"
      ]
     },
     "execution_count": 16,
     "metadata": {},
     "output_type": "execute_result"
    }
   ],
   "source": [
    "l1.name, type(l1), l1.output_shape, l1.activation.__name__, l1.count_params()"
   ]
  },
  {
   "cell_type": "code",
   "execution_count": 17,
   "metadata": {},
   "outputs": [
    {
     "data": {
      "text/plain": [
       "('dense_2', keras.layers.core.Dense, (None, 10), 'sigmoid', 160)"
      ]
     },
     "execution_count": 17,
     "metadata": {},
     "output_type": "execute_result"
    }
   ],
   "source": [
    "l2.name, type(l1), l2.output_shape, l2.activation.__name__, l2.count_params()"
   ]
  },
  {
   "cell_type": "code",
   "execution_count": 18,
   "metadata": {
    "scrolled": true
   },
   "outputs": [
    {
     "name": "stdout",
     "output_type": "stream",
     "text": [
      "Train on 60000 samples, validate on 10000 samples\n",
      "Epoch 1/30\n",
      " - 2s - loss: 0.1019 - acc: 0.2442 - val_loss: 0.0864 - val_acc: 0.3214\n",
      "Epoch 2/30\n",
      " - 2s - loss: 0.0845 - acc: 0.3922 - val_loss: 0.0821 - val_acc: 0.4407\n",
      "Epoch 3/30\n",
      " - 2s - loss: 0.0796 - acc: 0.4996 - val_loss: 0.0765 - val_acc: 0.5341\n",
      "Epoch 4/30\n",
      " - 2s - loss: 0.0740 - acc: 0.5619 - val_loss: 0.0707 - val_acc: 0.5852\n",
      "Epoch 5/30\n",
      " - 2s - loss: 0.0682 - acc: 0.6149 - val_loss: 0.0649 - val_acc: 0.6523\n",
      "Epoch 6/30\n",
      " - 2s - loss: 0.0625 - acc: 0.6759 - val_loss: 0.0594 - val_acc: 0.6998\n",
      "Epoch 7/30\n",
      " - 2s - loss: 0.0576 - acc: 0.7101 - val_loss: 0.0551 - val_acc: 0.7316\n",
      "Epoch 8/30\n",
      " - 2s - loss: 0.0537 - acc: 0.7325 - val_loss: 0.0516 - val_acc: 0.7485\n",
      "Epoch 9/30\n",
      " - 2s - loss: 0.0505 - acc: 0.7474 - val_loss: 0.0486 - val_acc: 0.7638\n",
      "Epoch 10/30\n",
      " - 2s - loss: 0.0478 - acc: 0.7608 - val_loss: 0.0461 - val_acc: 0.7759\n",
      "Epoch 11/30\n",
      " - 2s - loss: 0.0455 - acc: 0.7739 - val_loss: 0.0439 - val_acc: 0.7894\n",
      "Epoch 12/30\n",
      " - 2s - loss: 0.0435 - acc: 0.7858 - val_loss: 0.0420 - val_acc: 0.8023\n",
      "Epoch 13/30\n",
      " - 2s - loss: 0.0417 - acc: 0.7977 - val_loss: 0.0402 - val_acc: 0.8132\n",
      "Epoch 14/30\n",
      " - 2s - loss: 0.0400 - acc: 0.8082 - val_loss: 0.0386 - val_acc: 0.8256\n",
      "Epoch 15/30\n",
      " - 2s - loss: 0.0385 - acc: 0.8191 - val_loss: 0.0371 - val_acc: 0.8359\n",
      "Epoch 16/30\n",
      " - 2s - loss: 0.0371 - acc: 0.8287 - val_loss: 0.0358 - val_acc: 0.8433\n",
      "Epoch 17/30\n",
      " - 2s - loss: 0.0359 - acc: 0.8371 - val_loss: 0.0345 - val_acc: 0.8503\n",
      "Epoch 18/30\n",
      " - 2s - loss: 0.0347 - acc: 0.8440 - val_loss: 0.0334 - val_acc: 0.8557\n",
      "Epoch 19/30\n",
      " - 2s - loss: 0.0336 - acc: 0.8506 - val_loss: 0.0323 - val_acc: 0.8618\n",
      "Epoch 20/30\n",
      " - 2s - loss: 0.0326 - acc: 0.8565 - val_loss: 0.0313 - val_acc: 0.8650\n",
      "Epoch 21/30\n",
      " - 2s - loss: 0.0316 - acc: 0.8609 - val_loss: 0.0304 - val_acc: 0.8705\n",
      "Epoch 22/30\n",
      " - 2s - loss: 0.0308 - acc: 0.8646 - val_loss: 0.0295 - val_acc: 0.8742\n",
      "Epoch 23/30\n",
      " - 2s - loss: 0.0300 - acc: 0.8680 - val_loss: 0.0287 - val_acc: 0.8776\n",
      "Epoch 24/30\n",
      " - 2s - loss: 0.0292 - acc: 0.8710 - val_loss: 0.0280 - val_acc: 0.8790\n",
      "Epoch 25/30\n",
      " - 2s - loss: 0.0285 - acc: 0.8738 - val_loss: 0.0273 - val_acc: 0.8814\n",
      "Epoch 26/30\n",
      " - 2s - loss: 0.0278 - acc: 0.8765 - val_loss: 0.0267 - val_acc: 0.8845\n",
      "Epoch 27/30\n",
      " - 2s - loss: 0.0272 - acc: 0.8787 - val_loss: 0.0261 - val_acc: 0.8863\n",
      "Epoch 28/30\n",
      " - 2s - loss: 0.0266 - acc: 0.8814 - val_loss: 0.0255 - val_acc: 0.8878\n",
      "Epoch 29/30\n",
      " - 2s - loss: 0.0261 - acc: 0.8829 - val_loss: 0.0250 - val_acc: 0.8893\n",
      "Epoch 30/30\n",
      " - 2s - loss: 0.0256 - acc: 0.8844 - val_loss: 0.0245 - val_acc: 0.8904\n",
      "CPU times: user 1min 38s, sys: 5.16 s, total: 1min 43s\n",
      "Wall time: 1min 3s\n"
     ]
    }
   ],
   "source": [
    "%%time\n",
    "hist = model.fit(X_train, Y_train, \n",
    "                 epochs=30, batch_size=100, \n",
    "                 validation_data=(X_test, Y_test), # 에포크 끝날때 마다 cv\n",
    "                 verbose=2) # progress 체크"
   ]
  },
  {
   "cell_type": "code",
   "execution_count": 19,
   "metadata": {},
   "outputs": [
    {
     "data": {
      "image/png": "[encoded data removed]",
      "text/plain": [
       "<matplotlib.figure.Figure at 0x7fa4ce591240>"
      ]
     },
     "metadata": {},
     "output_type": "display_data"
    }
   ],
   "source": [
    "plt.plot(hist.history['loss'])\n",
    "plt.show()"
   ]
  },
  {
   "cell_type": "code",
   "execution_count": 20,
   "metadata": {},
   "outputs": [
    {
     "data": {
      "image/png": "[encoded data removed]",
      "text/plain": [
       "<matplotlib.figure.Figure at 0x7fa4bd7b5588>"
      ]
     },
     "metadata": {},
     "output_type": "display_data"
    }
   ],
   "source": [
    "plt.plot(hist.history['acc'], 'b-', label=\"training\")\n",
    "plt.plot(hist.history['val_acc'], 'r:', label=\"test\")\n",
    "plt.legend()\n",
    "plt.show()"
   ]
  },
  {
   "cell_type": "code",
   "execution_count": 21,
   "metadata": {},
   "outputs": [
    {
     "data": {
      "text/plain": [
       "[0.8904000008106232]"
      ]
     },
     "execution_count": 21,
     "metadata": {},
     "output_type": "execute_result"
    }
   ],
   "source": [
    "hist.history['val_acc'][-1:]"
   ]
  },
  {
   "cell_type": "code",
   "execution_count": 22,
   "metadata": {},
   "outputs": [
    {
     "data": {
      "text/plain": [
       "((784, 15), (15,))"
      ]
     },
     "execution_count": 22,
     "metadata": {},
     "output_type": "execute_result"
    }
   ],
   "source": [
    "w1 = l1.get_weights()\n",
    "w1[0].shape, w1[1].shape"
   ]
  },
  {
   "cell_type": "markdown",
   "metadata": {},
   "source": [
    "---"
   ]
  },
  {
   "cell_type": "code",
   "execution_count": 23,
   "metadata": {},
   "outputs": [],
   "source": [
    "model2 = Sequential()\n",
    "model2.add(Dense(5, input_dim=784, activation=\"sigmoid\"))\n",
    "model2.add(Dense(10, activation=\"sigmoid\"))\n",
    "model2.compile(optimizer=SGD(lr=0.2), loss='mean_squared_error', metrics=[\"accuracy\"])"
   ]
  },
  {
   "cell_type": "code",
   "execution_count": 24,
   "metadata": {},
   "outputs": [
    {
     "name": "stdout",
     "output_type": "stream",
     "text": [
      "_________________________________________________________________\n",
      "Layer (type)                 Output Shape              Param #   \n",
      "=================================================================\n",
      "dense_3 (Dense)              (None, 5)                 3925      \n",
      "_________________________________________________________________\n",
      "dense_4 (Dense)              (None, 10)                60        \n",
      "=================================================================\n",
      "Total params: 3,985\n",
      "Trainable params: 3,985\n",
      "Non-trainable params: 0\n",
      "_________________________________________________________________\n"
     ]
    }
   ],
   "source": [
    "model2.summary()"
   ]
  },
  {
   "cell_type": "code",
   "execution_count": 25,
   "metadata": {
    "scrolled": true
   },
   "outputs": [
    {
     "name": "stdout",
     "output_type": "stream",
     "text": [
      "Train on 60000 samples, validate on 10000 samples\n",
      "Epoch 1/30\n",
      " - 2s - loss: 0.1180 - acc: 0.0991 - val_loss: 0.0913 - val_acc: 0.0993\n",
      "Epoch 2/30\n",
      " - 2s - loss: 0.0902 - acc: 0.1605 - val_loss: 0.0896 - val_acc: 0.2062\n",
      "Epoch 3/30\n",
      " - 2s - loss: 0.0893 - acc: 0.2187 - val_loss: 0.0890 - val_acc: 0.2392\n",
      "Epoch 4/30\n",
      " - 2s - loss: 0.0889 - acc: 0.2345 - val_loss: 0.0886 - val_acc: 0.2333\n",
      "Epoch 5/30\n",
      " - 2s - loss: 0.0884 - acc: 0.2365 - val_loss: 0.0882 - val_acc: 0.2342\n",
      "Epoch 6/30\n",
      " - 2s - loss: 0.0878 - acc: 0.2489 - val_loss: 0.0874 - val_acc: 0.2542\n",
      "Epoch 7/30\n",
      " - 2s - loss: 0.0869 - acc: 0.2852 - val_loss: 0.0864 - val_acc: 0.3089\n",
      "Epoch 8/30\n",
      " - 2s - loss: 0.0857 - acc: 0.3274 - val_loss: 0.0849 - val_acc: 0.3467\n",
      "Epoch 9/30\n",
      " - 2s - loss: 0.0840 - acc: 0.3647 - val_loss: 0.0831 - val_acc: 0.3891\n",
      "Epoch 10/30\n",
      " - 2s - loss: 0.0823 - acc: 0.4056 - val_loss: 0.0814 - val_acc: 0.4199\n",
      "Epoch 11/30\n",
      " - 2s - loss: 0.0807 - acc: 0.4260 - val_loss: 0.0798 - val_acc: 0.4346\n",
      "Epoch 12/30\n",
      " - 2s - loss: 0.0791 - acc: 0.4370 - val_loss: 0.0782 - val_acc: 0.4465\n",
      "Epoch 13/30\n",
      " - 2s - loss: 0.0775 - acc: 0.4461 - val_loss: 0.0767 - val_acc: 0.4544\n",
      "Epoch 14/30\n",
      " - 2s - loss: 0.0759 - acc: 0.4546 - val_loss: 0.0751 - val_acc: 0.4645\n",
      "Epoch 15/30\n",
      " - 2s - loss: 0.0744 - acc: 0.4681 - val_loss: 0.0736 - val_acc: 0.4792\n",
      "Epoch 16/30\n",
      " - 2s - loss: 0.0729 - acc: 0.4837 - val_loss: 0.0720 - val_acc: 0.4978\n",
      "Epoch 17/30\n",
      " - 2s - loss: 0.0714 - acc: 0.5036 - val_loss: 0.0706 - val_acc: 0.5177\n",
      "Epoch 18/30\n",
      " - 2s - loss: 0.0700 - acc: 0.5224 - val_loss: 0.0691 - val_acc: 0.5359\n",
      "Epoch 19/30\n",
      " - 2s - loss: 0.0686 - acc: 0.5410 - val_loss: 0.0677 - val_acc: 0.5508\n",
      "Epoch 20/30\n",
      " - 2s - loss: 0.0672 - acc: 0.5599 - val_loss: 0.0664 - val_acc: 0.5675\n",
      "Epoch 21/30\n",
      " - 2s - loss: 0.0659 - acc: 0.5818 - val_loss: 0.0651 - val_acc: 0.5949\n",
      "Epoch 22/30\n",
      " - 2s - loss: 0.0646 - acc: 0.6042 - val_loss: 0.0638 - val_acc: 0.6229\n",
      "Epoch 23/30\n",
      " - 2s - loss: 0.0634 - acc: 0.6226 - val_loss: 0.0626 - val_acc: 0.6348\n",
      "Epoch 24/30\n",
      " - 2s - loss: 0.0623 - acc: 0.6316 - val_loss: 0.0615 - val_acc: 0.6443\n",
      "Epoch 25/30\n",
      " - 2s - loss: 0.0612 - acc: 0.6404 - val_loss: 0.0604 - val_acc: 0.6493\n",
      "Epoch 26/30\n",
      " - 2s - loss: 0.0601 - acc: 0.6441 - val_loss: 0.0594 - val_acc: 0.6577\n",
      "Epoch 27/30\n",
      " - 2s - loss: 0.0591 - acc: 0.6496 - val_loss: 0.0584 - val_acc: 0.6601\n",
      "Epoch 28/30\n",
      " - 2s - loss: 0.0582 - acc: 0.6517 - val_loss: 0.0575 - val_acc: 0.6651\n",
      "Epoch 29/30\n",
      " - 2s - loss: 0.0573 - acc: 0.6553 - val_loss: 0.0566 - val_acc: 0.6713\n",
      "Epoch 30/30\n",
      " - 3s - loss: 0.0564 - acc: 0.6634 - val_loss: 0.0558 - val_acc: 0.6756\n",
      "CPU times: user 1min 27s, sys: 4.85 s, total: 1min 31s\n",
      "Wall time: 59.6 s\n"
     ]
    }
   ],
   "source": [
    "%%time\n",
    "hist2 = model2.fit(X_train, Y_train, \n",
    "                 epochs=30, batch_size=100, \n",
    "                 validation_data=(X_test, Y_test), \n",
    "                 verbose=2)"
   ]
  },
  {
   "cell_type": "code",
   "execution_count": 26,
   "metadata": {},
   "outputs": [
    {
     "data": {
      "text/plain": [
       "[0.8904000008106232]"
      ]
     },
     "execution_count": 26,
     "metadata": {},
     "output_type": "execute_result"
    }
   ],
   "source": [
    "hist.history['val_acc'][-1:]"
   ]
  },
  {
   "cell_type": "code",
   "execution_count": 27,
   "metadata": {},
   "outputs": [
    {
     "data": {
      "text/plain": [
       "[0.6756000006198883]"
      ]
     },
     "execution_count": 27,
     "metadata": {},
     "output_type": "execute_result"
    }
   ],
   "source": [
    "hist2.history['val_acc'][-1:]"
   ]
  }
 ],
 "metadata": {
  "kernelspec": {
   "display_name": "Python 3",
   "language": "python",
   "name": "python3"
  },
  "language_info": {
   "codemirror_mode": {
    "name": "ipython",
    "version": 3
   },
   "file_extension": ".py",
   "mimetype": "text/x-python",
   "name": "python",
   "nbconvert_exporter": "python",
   "pygments_lexer": "ipython3",
   "version": "3.6.4"
  }
 },
 "nbformat": 4,
 "nbformat_minor": 2
}
