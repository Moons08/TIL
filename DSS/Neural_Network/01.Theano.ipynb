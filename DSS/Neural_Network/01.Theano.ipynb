{
 "cells": [
  {
   "cell_type": "code",
   "execution_count": 1,
   "metadata": {},
   "outputs": [
    {
     "name": "stderr",
     "output_type": "stream",
     "text": [
      "WARNING (theano.tensor.blas): Using NumPy C-API based implementation for BLAS functions.\n"
     ]
    }
   ],
   "source": [
    "import os\n",
    "os.environ['MKL_THREADING_LAYER'] = 'GNU'\n",
    "\n",
    "import theano\n",
    "import theano.tensor as T"
   ]
  },
  {
   "cell_type": "code",
   "execution_count": 2,
   "metadata": {},
   "outputs": [
    {
     "data": {
      "text/plain": [
       "(theano.tensor.var.TensorVariable, theano.tensor.var.TensorVariable)"
      ]
     },
     "execution_count": 2,
     "metadata": {},
     "output_type": "execute_result"
    }
   ],
   "source": [
    "x1 = T.dscalar('x1')\n",
    "y1 = T.dscalar('y1')\n",
    "type(x1), type(y1)"
   ]
  },
  {
   "cell_type": "code",
   "execution_count": 3,
   "metadata": {},
   "outputs": [],
   "source": [
    "z1 = x1 + y1\n",
    "u1 = T.exp(z1)"
   ]
  },
  {
   "cell_type": "code",
   "execution_count": 4,
   "metadata": {},
   "outputs": [],
   "source": [
    "from IPython.display import SVG"
   ]
  },
  {
   "cell_type": "code",
   "execution_count": 5,
   "metadata": {},
   "outputs": [
    {
     "data": {
      "image/svg+xml": [
       "<svg height=\"204pt\" viewBox=\"0.00 0.00 474.00 204.00\" width=\"474pt\" xmlns=\"http://www.w3.org/2000/svg\" xmlns:xlink=\"http://www.w3.org/1999/xlink\">\n",
       "<g class=\"graph\" id=\"graph0\" transform=\"scale(1 1) rotate(0) translate(4 200)\">\n",
       "<title>G</title>\n",
       "<polygon fill=\"white\" points=\"-4,4 -4,-200 470,-200 470,4 -4,4\" stroke=\"none\"/>\n",
       "<!-- 139811917560632 -->\n",
       "<g class=\"node\" id=\"node1\"><title>139811917560632</title>\n",
       "<ellipse cx=\"233\" cy=\"-91\" fill=\"#ffaabb\" rx=\"108.581\" ry=\"18\" stroke=\"black\"/>\n",
       "<text font-family=\"Times,serif\" font-size=\"14.00\" text-anchor=\"middle\" x=\"233\" y=\"-87.3\">Elemwise{add,no_inplace}</text>\n",
       "</g>\n",
       "<!-- 139811917560800 -->\n",
       "<g class=\"node\" id=\"node4\"><title>139811917560800</title>\n",
       "<polygon fill=\"blue\" points=\"317,-36 149,-36 149,-0 317,-0 317,-36\" stroke=\"black\"/>\n",
       "<text font-family=\"Times,serif\" font-size=\"14.00\" text-anchor=\"middle\" x=\"233\" y=\"-14.3\">TensorType(float64, scalar)</text>\n",
       "</g>\n",
       "<!-- 139811917560632&#45;&gt;139811917560800 -->\n",
       "<g class=\"edge\" id=\"edge3\"><title>139811917560632-&gt;139811917560800</title>\n",
       "<path d=\"M233,-72.8129C233,-64.7895 233,-55.0475 233,-46.0691\" fill=\"none\" stroke=\"black\"/>\n",
       "<polygon fill=\"black\" points=\"236.5,-46.0288 233,-36.0288 229.5,-46.0289 236.5,-46.0288\" stroke=\"black\"/>\n",
       "</g>\n",
       "<!-- 139811917560408 -->\n",
       "<g class=\"node\" id=\"node2\"><title>139811917560408</title>\n",
       "<polygon fill=\"green\" points=\"224,-196 0,-196 0,-160 224,-160 224,-196\" stroke=\"black\"/>\n",
       "<text font-family=\"Times,serif\" font-size=\"14.00\" text-anchor=\"middle\" x=\"112\" y=\"-174.3\">name=x1 TensorType(float64, scalar)</text>\n",
       "</g>\n",
       "<!-- 139811917560408&#45;&gt;139811917560632 -->\n",
       "<g class=\"edge\" id=\"edge1\"><title>139811917560408-&gt;139811917560632</title>\n",
       "<path d=\"M136.486,-159.799C155.097,-146.725 180.856,-128.63 201.081,-114.422\" fill=\"none\" stroke=\"black\"/>\n",
       "<polygon fill=\"black\" points=\"203.203,-117.209 209.374,-108.597 199.179,-111.481 203.203,-117.209\" stroke=\"black\"/>\n",
       "<text font-family=\"Times,serif\" font-size=\"14.00\" text-anchor=\"middle\" x=\"183.5\" y=\"-130.8\">0</text>\n",
       "</g>\n",
       "<!-- 139811917560464 -->\n",
       "<g class=\"node\" id=\"node3\"><title>139811917560464</title>\n",
       "<polygon fill=\"green\" points=\"466,-196 242,-196 242,-160 466,-160 466,-196\" stroke=\"black\"/>\n",
       "<text font-family=\"Times,serif\" font-size=\"14.00\" text-anchor=\"middle\" x=\"354\" y=\"-174.3\">name=y1 TensorType(float64, scalar)</text>\n",
       "</g>\n",
       "<!-- 139811917560464&#45;&gt;139811917560632 -->\n",
       "<g class=\"edge\" id=\"edge2\"><title>139811917560464-&gt;139811917560632</title>\n",
       "<path d=\"M329.514,-159.799C310.903,-146.725 285.144,-128.63 264.919,-114.422\" fill=\"none\" stroke=\"black\"/>\n",
       "<polygon fill=\"black\" points=\"266.821,-111.481 256.626,-108.597 262.797,-117.209 266.821,-111.481\" stroke=\"black\"/>\n",
       "<text font-family=\"Times,serif\" font-size=\"14.00\" text-anchor=\"middle\" x=\"304.5\" y=\"-130.8\">1</text>\n",
       "</g>\n",
       "</g>\n",
       "</svg>"
      ],
      "text/plain": [
       "<IPython.core.display.SVG object>"
      ]
     },
     "execution_count": 5,
     "metadata": {},
     "output_type": "execute_result"
    }
   ],
   "source": [
    "SVG(theano.printing.pydotprint(z1, return_image=True, format='svg'))"
   ]
  },
  {
   "cell_type": "code",
   "execution_count": 6,
   "metadata": {},
   "outputs": [
    {
     "data": {
      "image/svg+xml": [
       "<svg height=\"291pt\" viewBox=\"0.00 0.00 474.00 291.00\" width=\"474pt\" xmlns=\"http://www.w3.org/2000/svg\" xmlns:xlink=\"http://www.w3.org/1999/xlink\">\n",
       "<g class=\"graph\" id=\"graph0\" transform=\"scale(1 1) rotate(0) translate(4 287)\">\n",
       "<title>G</title>\n",
       "<polygon fill=\"white\" points=\"-4,4 -4,-287 470,-287 470,4 -4,4\" stroke=\"none\"/>\n",
       "<!-- 139811916595888 -->\n",
       "<g class=\"node\" id=\"node1\"><title>139811916595888</title>\n",
       "<ellipse cx=\"233\" cy=\"-178\" fill=\"#ffaabb\" rx=\"108.581\" ry=\"18\" stroke=\"black\"/>\n",
       "<text font-family=\"Times,serif\" font-size=\"14.00\" text-anchor=\"middle\" x=\"233\" y=\"-174.3\">Elemwise{add,no_inplace}</text>\n",
       "</g>\n",
       "<!-- 139811916595776 -->\n",
       "<g class=\"node\" id=\"node4\"><title>139811916595776</title>\n",
       "<ellipse cx=\"233\" cy=\"-91\" fill=\"#ffaabb\" rx=\"108.581\" ry=\"18\" stroke=\"black\"/>\n",
       "<text font-family=\"Times,serif\" font-size=\"14.00\" text-anchor=\"middle\" x=\"233\" y=\"-87.3\">Elemwise{exp,no_inplace}</text>\n",
       "</g>\n",
       "<!-- 139811916595888&#45;&gt;139811916595776 -->\n",
       "<g class=\"edge\" id=\"edge3\"><title>139811916595888-&gt;139811916595776</title>\n",
       "<path d=\"M233,-159.799C233,-148.163 233,-132.548 233,-119.237\" fill=\"none\" stroke=\"black\"/>\n",
       "<polygon fill=\"black\" points=\"236.5,-119.175 233,-109.175 229.5,-119.175 236.5,-119.175\" stroke=\"black\"/>\n",
       "<text font-family=\"Times,serif\" font-size=\"14.00\" text-anchor=\"middle\" x=\"309\" y=\"-130.8\">TensorType(float64, scalar)</text>\n",
       "</g>\n",
       "<!-- 139811916595552 -->\n",
       "<g class=\"node\" id=\"node2\"><title>139811916595552</title>\n",
       "<polygon fill=\"green\" points=\"224,-283 0,-283 0,-247 224,-247 224,-283\" stroke=\"black\"/>\n",
       "<text font-family=\"Times,serif\" font-size=\"14.00\" text-anchor=\"middle\" x=\"112\" y=\"-261.3\">name=x1 TensorType(float64, scalar)</text>\n",
       "</g>\n",
       "<!-- 139811916595552&#45;&gt;139811916595888 -->\n",
       "<g class=\"edge\" id=\"edge1\"><title>139811916595552-&gt;139811916595888</title>\n",
       "<path d=\"M136.486,-246.799C155.097,-233.725 180.856,-215.63 201.081,-201.422\" fill=\"none\" stroke=\"black\"/>\n",
       "<polygon fill=\"black\" points=\"203.203,-204.209 209.374,-195.597 199.179,-198.481 203.203,-204.209\" stroke=\"black\"/>\n",
       "<text font-family=\"Times,serif\" font-size=\"14.00\" text-anchor=\"middle\" x=\"183.5\" y=\"-217.8\">0</text>\n",
       "</g>\n",
       "<!-- 139811916595664 -->\n",
       "<g class=\"node\" id=\"node3\"><title>139811916595664</title>\n",
       "<polygon fill=\"green\" points=\"466,-283 242,-283 242,-247 466,-247 466,-283\" stroke=\"black\"/>\n",
       "<text font-family=\"Times,serif\" font-size=\"14.00\" text-anchor=\"middle\" x=\"354\" y=\"-261.3\">name=y1 TensorType(float64, scalar)</text>\n",
       "</g>\n",
       "<!-- 139811916595664&#45;&gt;139811916595888 -->\n",
       "<g class=\"edge\" id=\"edge2\"><title>139811916595664-&gt;139811916595888</title>\n",
       "<path d=\"M329.514,-246.799C310.903,-233.725 285.144,-215.63 264.919,-201.422\" fill=\"none\" stroke=\"black\"/>\n",
       "<polygon fill=\"black\" points=\"266.821,-198.481 256.626,-195.597 262.797,-204.209 266.821,-198.481\" stroke=\"black\"/>\n",
       "<text font-family=\"Times,serif\" font-size=\"14.00\" text-anchor=\"middle\" x=\"304.5\" y=\"-217.8\">1</text>\n",
       "</g>\n",
       "<!-- 139811916596168 -->\n",
       "<g class=\"node\" id=\"node5\"><title>139811916596168</title>\n",
       "<polygon fill=\"blue\" points=\"317,-36 149,-36 149,-0 317,-0 317,-36\" stroke=\"black\"/>\n",
       "<text font-family=\"Times,serif\" font-size=\"14.00\" text-anchor=\"middle\" x=\"233\" y=\"-14.3\">TensorType(float64, scalar)</text>\n",
       "</g>\n",
       "<!-- 139811916595776&#45;&gt;139811916596168 -->\n",
       "<g class=\"edge\" id=\"edge4\"><title>139811916595776-&gt;139811916596168</title>\n",
       "<path d=\"M233,-72.8129C233,-64.7895 233,-55.0475 233,-46.0691\" fill=\"none\" stroke=\"black\"/>\n",
       "<polygon fill=\"black\" points=\"236.5,-46.0288 233,-36.0288 229.5,-46.0289 236.5,-46.0288\" stroke=\"black\"/>\n",
       "</g>\n",
       "</g>\n",
       "</svg>"
      ],
      "text/plain": [
       "<IPython.core.display.SVG object>"
      ]
     },
     "execution_count": 6,
     "metadata": {},
     "output_type": "execute_result"
    }
   ],
   "source": [
    "SVG(theano.printing.pydotprint(u1, return_image=True, format='svg'))"
   ]
  },
  {
   "cell_type": "code",
   "execution_count": 7,
   "metadata": {},
   "outputs": [],
   "source": [
    "X = T.dmatrix('X')\n",
    "w = T.dvector('w')\n",
    "b = T.dvector('b')\n",
    "\n",
    "y = T.dot(X, w) + b\n",
    "f1 = theano.function([X, w, b], y)\n"
   ]
  },
  {
   "cell_type": "code",
   "execution_count": 8,
   "metadata": {},
   "outputs": [],
   "source": [
    "iris = sns.load_dataset(\"iris\")"
   ]
  },
  {
   "cell_type": "code",
   "execution_count": 9,
   "metadata": {},
   "outputs": [
    {
     "data": {
      "text/plain": [
       "array([17.4, 15.7, 16. , 15.8, 17.6, 19.6, 16.8, 17.1, 14.9, 15.9, 18.4,\n",
       "       17. , 15.4, 14.6, 19.4, 21.2, 19.2, 17.6, 19.4, 18.6, 17.7, 18.5,\n",
       "       16.8, 17.7, 17.3, 16. , 17.6, 17.6, 17.2, 16.3, 16.1, 17.9, 19.2,\n",
       "       19.9, 16.1, 16.2, 17.7, 17.3, 15.1, 17.2, 17.4, 13.3, 15.7, 18.3,\n",
       "       19.2, 15.8, 18.5, 16. , 18.3, 16.7, 24.1, 23.5, 24.1, 19. , 22.5,\n",
       "       21.2, 24.1, 17.4, 22.5, 20. , 16.5, 22.1, 18.6, 22.3, 20.5, 23.2,\n",
       "       22.1, 20. , 20.3, 19.2, 23.9, 21.1, 21.7, 21.6, 22. , 22.8, 22.8,\n",
       "       24.1, 22.2, 19. , 18.7, 18.4, 20.2, 22.4, 21.9, 23.9, 23.7, 20.2,\n",
       "       21.3, 19.6, 20.1, 22.5, 20. , 17.2, 20.5, 21.3, 21.2, 21.8, 17.8,\n",
       "       20.8, 27.2, 22.8, 26.2, 24.2, 25.7, 27.4, 20.3, 25.9, 23.6, 29.1,\n",
       "       25.2, 23.6, 25.5, 22.2, 24.1, 25.9, 24.6, 30.2, 27. , 20.6, 26.8,\n",
       "       22.9, 26.8, 22.9, 26.5, 26.4, 23. , 23.6, 24.6, 25.2, 25.7, 29.7,\n",
       "       24.8, 22.8, 22.3, 27.4, 26.9, 24.8, 23.4, 25.8, 26.4, 25.9, 22.8,\n",
       "       26.9, 27.3, 25.5, 22.6, 24.7, 26.4, 23.6])"
      ]
     },
     "execution_count": 9,
     "metadata": {},
     "output_type": "execute_result"
    }
   ],
   "source": [
    "f1(iris.iloc[:,:-1].values, [1, 2, 1, 2], iris.iloc[:, 1])"
   ]
  },
  {
   "cell_type": "code",
   "execution_count": 10,
   "metadata": {},
   "outputs": [
    {
     "data": {
      "text/plain": [
       "array(0.73105858)"
      ]
     },
     "execution_count": 10,
     "metadata": {},
     "output_type": "execute_result"
    }
   ],
   "source": [
    "s1 = 1 / (1 + T.exp(-x1))\n",
    "logistic = theano.function([x1], s1)\n",
    "logistic(1)"
   ]
  },
  {
   "cell_type": "code",
   "execution_count": 11,
   "metadata": {},
   "outputs": [
    {
     "data": {
      "image/svg+xml": [
       "<svg height=\"451pt\" viewBox=\"0.00 0.00 473.00 451.00\" width=\"473pt\" xmlns=\"http://www.w3.org/2000/svg\" xmlns:xlink=\"http://www.w3.org/1999/xlink\">\n",
       "<g class=\"graph\" id=\"graph0\" transform=\"scale(1 1) rotate(0) translate(4 447)\">\n",
       "<title>G</title>\n",
       "<polygon fill=\"white\" points=\"-4,4 -4,-447 469,-447 469,4 -4,4\" stroke=\"none\"/>\n",
       "<!-- 139811914258696 -->\n",
       "<g class=\"node\" id=\"node1\"><title>139811914258696</title>\n",
       "<ellipse cx=\"313\" cy=\"-352\" fill=\"#ffaabb\" rx=\"108.581\" ry=\"18\" stroke=\"black\"/>\n",
       "<text font-family=\"Times,serif\" font-size=\"14.00\" text-anchor=\"middle\" x=\"313\" y=\"-348.3\">Elemwise{neg,no_inplace}</text>\n",
       "</g>\n",
       "<!-- 139812076747128 -->\n",
       "<g class=\"node\" id=\"node3\"><title>139812076747128</title>\n",
       "<ellipse cx=\"313\" cy=\"-265\" fill=\"#ffaabb\" rx=\"108.581\" ry=\"18\" stroke=\"black\"/>\n",
       "<text font-family=\"Times,serif\" font-size=\"14.00\" text-anchor=\"middle\" x=\"313\" y=\"-261.3\">Elemwise{exp,no_inplace}</text>\n",
       "</g>\n",
       "<!-- 139811914258696&#45;&gt;139812076747128 -->\n",
       "<g class=\"edge\" id=\"edge2\"><title>139811914258696-&gt;139812076747128</title>\n",
       "<path d=\"M313,-333.799C313,-322.163 313,-306.548 313,-293.237\" fill=\"none\" stroke=\"black\"/>\n",
       "<polygon fill=\"black\" points=\"316.5,-293.175 313,-283.175 309.5,-293.175 316.5,-293.175\" stroke=\"black\"/>\n",
       "<text font-family=\"Times,serif\" font-size=\"14.00\" text-anchor=\"middle\" x=\"389\" y=\"-304.8\">TensorType(float64, scalar)</text>\n",
       "</g>\n",
       "<!-- 139811914258920 -->\n",
       "<g class=\"node\" id=\"node2\"><title>139811914258920</title>\n",
       "<polygon fill=\"green\" points=\"425,-443 201,-443 201,-407 425,-407 425,-443\" stroke=\"black\"/>\n",
       "<text font-family=\"Times,serif\" font-size=\"14.00\" text-anchor=\"middle\" x=\"313\" y=\"-421.3\">name=x1 TensorType(float64, scalar)</text>\n",
       "</g>\n",
       "<!-- 139811914258920&#45;&gt;139811914258696 -->\n",
       "<g class=\"edge\" id=\"edge1\"><title>139811914258920-&gt;139811914258696</title>\n",
       "<path d=\"M313,-406.813C313,-398.789 313,-389.047 313,-380.069\" fill=\"none\" stroke=\"black\"/>\n",
       "<polygon fill=\"black\" points=\"316.5,-380.029 313,-370.029 309.5,-380.029 316.5,-380.029\" stroke=\"black\"/>\n",
       "</g>\n",
       "<!-- 139811914244784 -->\n",
       "<g class=\"node\" id=\"node4\"><title>139811914244784</title>\n",
       "<ellipse cx=\"227\" cy=\"-178\" fill=\"#ffaabb\" rx=\"108.581\" ry=\"18\" stroke=\"black\"/>\n",
       "<text font-family=\"Times,serif\" font-size=\"14.00\" text-anchor=\"middle\" x=\"227\" y=\"-174.3\">Elemwise{add,no_inplace}</text>\n",
       "</g>\n",
       "<!-- 139812076747128&#45;&gt;139811914244784 -->\n",
       "<g class=\"edge\" id=\"edge4\"><title>139812076747128-&gt;139811914244784</title>\n",
       "<path d=\"M296.009,-247.207C283.371,-234.715 265.93,-217.477 251.745,-203.457\" fill=\"none\" stroke=\"black\"/>\n",
       "<polygon fill=\"black\" points=\"253.823,-200.59 244.25,-196.049 248.902,-205.568 253.823,-200.59\" stroke=\"black\"/>\n",
       "<text font-family=\"Times,serif\" font-size=\"14.00\" text-anchor=\"middle\" x=\"356.5\" y=\"-217.8\">1 TensorType(float64, scalar)</text>\n",
       "</g>\n",
       "<!-- 139811914245008 -->\n",
       "<g class=\"node\" id=\"node6\"><title>139811914245008</title>\n",
       "<ellipse cx=\"134\" cy=\"-91\" fill=\"#ffaabb\" rx=\"124.578\" ry=\"18\" stroke=\"black\"/>\n",
       "<text font-family=\"Times,serif\" font-size=\"14.00\" text-anchor=\"middle\" x=\"134\" y=\"-87.3\">Elemwise{true_div,no_inplace}</text>\n",
       "</g>\n",
       "<!-- 139811914244784&#45;&gt;139811914245008 -->\n",
       "<g class=\"edge\" id=\"edge6\"><title>139811914244784-&gt;139811914245008</title>\n",
       "<path d=\"M208.626,-160.207C194.832,-147.599 175.749,-130.158 160.334,-116.068\" fill=\"none\" stroke=\"black\"/>\n",
       "<polygon fill=\"black\" points=\"162.397,-113.212 152.654,-109.049 157.674,-118.379 162.397,-113.212\" stroke=\"black\"/>\n",
       "<text font-family=\"Times,serif\" font-size=\"14.00\" text-anchor=\"middle\" x=\"267.5\" y=\"-130.8\">1 TensorType(float64, scalar)</text>\n",
       "</g>\n",
       "<!-- 139811914258584 -->\n",
       "<g class=\"node\" id=\"node5\"><title>139811914258584</title>\n",
       "<polygon fill=\"green\" points=\"186,-283 1.42109e-14,-283 1.42109e-14,-247 186,-247 186,-283\" stroke=\"black\"/>\n",
       "<text font-family=\"Times,serif\" font-size=\"14.00\" text-anchor=\"middle\" x=\"93\" y=\"-261.3\">val=1 TensorType(int8, scalar)</text>\n",
       "</g>\n",
       "<!-- 139811914258584&#45;&gt;139811914244784 -->\n",
       "<g class=\"edge\" id=\"edge3\"><title>139811914258584-&gt;139811914244784</title>\n",
       "<path d=\"M120.117,-246.799C140.911,-233.609 169.763,-215.307 192.251,-201.043\" fill=\"none\" stroke=\"black\"/>\n",
       "<polygon fill=\"black\" points=\"194.266,-203.909 200.835,-195.597 190.516,-197.998 194.266,-203.909\" stroke=\"black\"/>\n",
       "<text font-family=\"Times,serif\" font-size=\"14.00\" text-anchor=\"middle\" x=\"171.5\" y=\"-217.8\">0</text>\n",
       "</g>\n",
       "<!-- 139811914258584&#45;&gt;139811914245008 -->\n",
       "<g class=\"edge\" id=\"edge5\"><title>139811914258584-&gt;139811914245008</title>\n",
       "<path d=\"M92.652,-246.747C92.648,-225.849 93.9878,-189.749 102,-160 105.921,-145.443 112.821,-130.174 119.213,-117.801\" fill=\"none\" stroke=\"black\"/>\n",
       "<polygon fill=\"black\" points=\"122.31,-119.431 123.944,-108.963 116.138,-116.128 122.31,-119.431\" stroke=\"black\"/>\n",
       "<text font-family=\"Times,serif\" font-size=\"14.00\" text-anchor=\"middle\" x=\"105.5\" y=\"-174.3\">0</text>\n",
       "</g>\n",
       "<!-- 139811914245176 -->\n",
       "<g class=\"node\" id=\"node7\"><title>139811914245176</title>\n",
       "<polygon fill=\"blue\" points=\"218,-36 50,-36 50,-0 218,-0 218,-36\" stroke=\"black\"/>\n",
       "<text font-family=\"Times,serif\" font-size=\"14.00\" text-anchor=\"middle\" x=\"134\" y=\"-14.3\">TensorType(float64, scalar)</text>\n",
       "</g>\n",
       "<!-- 139811914245008&#45;&gt;139811914245176 -->\n",
       "<g class=\"edge\" id=\"edge7\"><title>139811914245008-&gt;139811914245176</title>\n",
       "<path d=\"M134,-72.8129C134,-64.7895 134,-55.0475 134,-46.0691\" fill=\"none\" stroke=\"black\"/>\n",
       "<polygon fill=\"black\" points=\"137.5,-46.0288 134,-36.0288 130.5,-46.0289 137.5,-46.0288\" stroke=\"black\"/>\n",
       "</g>\n",
       "</g>\n",
       "</svg>"
      ],
      "text/plain": [
       "<IPython.core.display.SVG object>"
      ]
     },
     "execution_count": 11,
     "metadata": {},
     "output_type": "execute_result"
    }
   ],
   "source": [
    "SVG(theano.printing.pydotprint(s1, return_image=True, format='svg'))"
   ]
  },
  {
   "cell_type": "markdown",
   "metadata": {},
   "source": [
    "### theano.In으로 default값 설정"
   ]
  },
  {
   "cell_type": "code",
   "execution_count": 12,
   "metadata": {},
   "outputs": [],
   "source": [
    "x1, y1 = T.dscalars('x1', 'y1')\n",
    "z1 = x1 + y1\n",
    "f1 = theano.function([theano.In(x1, value=1), theano.In(y1, value=2)], z1)"
   ]
  },
  {
   "cell_type": "code",
   "execution_count": 13,
   "metadata": {},
   "outputs": [
    {
     "data": {
      "text/plain": [
       "array(3.)"
      ]
     },
     "execution_count": 13,
     "metadata": {},
     "output_type": "execute_result"
    }
   ],
   "source": [
    "f1()"
   ]
  },
  {
   "cell_type": "markdown",
   "metadata": {},
   "source": [
    "update\n",
    "\n",
    "가중치 업데이트를 할 때 사용.\n",
    "\n",
    "그래프로 사용이 불가하기 때문."
   ]
  },
  {
   "cell_type": "code",
   "execution_count": 14,
   "metadata": {},
   "outputs": [],
   "source": [
    "x1 = T.dscalar('x1')\n",
    "y1 = T.dscalar('y1')"
   ]
  },
  {
   "cell_type": "code",
   "execution_count": 15,
   "metadata": {},
   "outputs": [],
   "source": [
    "from theano.tensor.shared_randomstreams import RandomStreams\n",
    "\n",
    "srng = RandomStreams(0)\n",
    "rv_u = srng.uniform()\n",
    "rv_n = srng.normal((2,))\n",
    "\n",
    "f_rv_u = theano.function([], rv_u)\n",
    "g_rv_n = theano.function([], rv_n, no_default_updates=True)\n",
    "\n",
    "w1 = theano.shared(0.0, name=\"w1\")\n",
    "update = theano.function([x1], y1, givens=[(y1, w1)], updates=[(w1, w1 + x1)])"
   ]
  },
  {
   "cell_type": "code",
   "execution_count": 16,
   "metadata": {},
   "outputs": [
    {
     "data": {
      "image/svg+xml": [
       "<svg height=\"291pt\" viewBox=\"0.00 0.00 308.50 291.00\" width=\"309pt\" xmlns=\"http://www.w3.org/2000/svg\" xmlns:xlink=\"http://www.w3.org/1999/xlink\">\n",
       "<g class=\"graph\" id=\"graph0\" transform=\"scale(1 1) rotate(0) translate(4 287)\">\n",
       "<title>G</title>\n",
       "<polygon fill=\"white\" points=\"-4,4 -4,-287 304.5,-287 304.5,4 -4,4\" stroke=\"none\"/>\n",
       "<!-- 139811916176464 -->\n",
       "<g class=\"node\" id=\"node1\"><title>139811916176464</title>\n",
       "<ellipse cx=\"188.5\" cy=\"-178\" fill=\"#ffaabb\" rx=\"108.581\" ry=\"18\" stroke=\"black\"/>\n",
       "<text font-family=\"Times,serif\" font-size=\"14.00\" text-anchor=\"middle\" x=\"188.5\" y=\"-174.3\">Elemwise{add,no_inplace}</text>\n",
       "</g>\n",
       "<!-- 139811916176352 -->\n",
       "<g class=\"node\" id=\"node4\"><title>139811916176352</title>\n",
       "<polygon fill=\"blue\" points=\"185,-123 1.42109e-14,-123 1.42109e-14,-87 185,-87 185,-123\" stroke=\"black\"/>\n",
       "<text font-family=\"Times,serif\" font-size=\"14.00\" text-anchor=\"middle\" x=\"92.5\" y=\"-101.3\">w1TensorType(float64, scalar)</text>\n",
       "</g>\n",
       "<!-- 139811916176464&#45;&gt;139811916176352 -->\n",
       "<g class=\"edge\" id=\"edge3\"><title>139811916176464-&gt;139811916176352</title>\n",
       "<path d=\"M165.749,-160.174C153.26,-150.937 137.583,-139.342 123.939,-129.252\" fill=\"none\" stroke=\"black\"/>\n",
       "<polygon fill=\"black\" points=\"125.875,-126.331 115.754,-123.198 121.713,-131.959 125.875,-126.331\" stroke=\"black\"/>\n",
       "</g>\n",
       "<!-- 139811916176576 -->\n",
       "<g class=\"node\" id=\"node2\"><title>139811916176576</title>\n",
       "<polygon fill=\"cyan\" points=\"285,-36 58,-36 58,-0 285,-0 285,-36\" stroke=\"black\"/>\n",
       "<text font-family=\"Times,serif\" font-size=\"14.00\" text-anchor=\"middle\" x=\"171.5\" y=\"-14.3\">name=w1 TensorType(float64, scalar)</text>\n",
       "</g>\n",
       "<!-- 139811916176576&#45;&gt;139811916176464 -->\n",
       "<g class=\"edge\" id=\"edge1\"><title>139811916176576-&gt;139811916176464</title>\n",
       "<path d=\"M186.211,-36.0745C189.988,-41.46 193.537,-47.6662 195.5,-54 205.362,-85.8198 200.633,-124.45 195.417,-149.825\" fill=\"none\" stroke=\"black\"/>\n",
       "<polygon fill=\"black\" points=\"191.946,-149.309 193.192,-159.83 198.779,-150.828 191.946,-149.309\" stroke=\"black\"/>\n",
       "<text font-family=\"Times,serif\" font-size=\"14.00\" text-anchor=\"middle\" x=\"205\" y=\"-101.3\">0</text>\n",
       "</g>\n",
       "<!-- 139811916176632 -->\n",
       "<g class=\"node\" id=\"node3\"><title>139811916176632</title>\n",
       "<polygon fill=\"green\" points=\"300.5,-283 76.5,-283 76.5,-247 300.5,-247 300.5,-283\" stroke=\"black\"/>\n",
       "<text font-family=\"Times,serif\" font-size=\"14.00\" text-anchor=\"middle\" x=\"188.5\" y=\"-261.3\">name=x1 TensorType(float64, scalar)</text>\n",
       "</g>\n",
       "<!-- 139811916176632&#45;&gt;139811916176464 -->\n",
       "<g class=\"edge\" id=\"edge2\"><title>139811916176632-&gt;139811916176464</title>\n",
       "<path d=\"M188.5,-246.799C188.5,-235.163 188.5,-219.548 188.5,-206.237\" fill=\"none\" stroke=\"black\"/>\n",
       "<polygon fill=\"black\" points=\"192,-206.175 188.5,-196.175 185,-206.175 192,-206.175\" stroke=\"black\"/>\n",
       "<text font-family=\"Times,serif\" font-size=\"14.00\" text-anchor=\"middle\" x=\"192\" y=\"-217.8\">1</text>\n",
       "</g>\n",
       "<!-- 139811916176352&#45;&gt;139811916176576 -->\n",
       "<g class=\"edge\" id=\"edge4\"><title>139811916176352-&gt;139811916176576</title>\n",
       "<path d=\"M108.487,-86.799C120.051,-74.3561 135.844,-57.3644 148.725,-43.5044\" fill=\"none\" stroke=\"blue\"/>\n",
       "<polygon fill=\"blue\" points=\"151.293,-45.8831 155.537,-36.1754 146.165,-41.1176 151.293,-45.8831\" stroke=\"blue\"/>\n",
       "<text font-family=\"Times,serif\" font-size=\"14.00\" text-anchor=\"middle\" x=\"164.5\" y=\"-57.8\">UPDATE</text>\n",
       "</g>\n",
       "</g>\n",
       "</svg>"
      ],
      "text/plain": [
       "<IPython.core.display.SVG object>"
      ]
     },
     "execution_count": 16,
     "metadata": {},
     "output_type": "execute_result"
    }
   ],
   "source": [
    "SVG(theano.printing.pydotprint(update, return_image=True, format='svg'))"
   ]
  },
  {
   "cell_type": "code",
   "execution_count": 17,
   "metadata": {},
   "outputs": [
    {
     "data": {
      "text/plain": [
       "array(0.48604732)"
      ]
     },
     "execution_count": 17,
     "metadata": {},
     "output_type": "execute_result"
    }
   ],
   "source": [
    "w1.set_value(f_rv_u())\n",
    "w1.get_value()"
   ]
  },
  {
   "cell_type": "code",
   "execution_count": 18,
   "metadata": {},
   "outputs": [
    {
     "data": {
      "image/png": "[encoded data removed]",
      "text/plain": [
       "<matplotlib.figure.Figure at 0x7f289899d470>"
      ]
     },
     "metadata": {},
     "output_type": "display_data"
    }
   ],
   "source": [
    "%matplotlib inline\n",
    "from sklearn.datasets import load_iris\n",
    "iris = load_iris()\n",
    "\n",
    "idx = np.in1d(iris.target, [0, 2])\n",
    "X_data = iris.data[idx, 0:2]\n",
    "y_data = iris.target[idx] - 1\n",
    "\n",
    "plt.figure(figsize=(12, 8), dpi=60)\n",
    "plt.scatter(X_data[:, 0], X_data[:, 1], c=y_data, s=100, edgecolor='k')\n",
    "plt.show()"
   ]
  },
  {
   "cell_type": "code",
   "execution_count": 19,
   "metadata": {},
   "outputs": [],
   "source": [
    "X = T.dmatrix('X')\n",
    "y = T.dvector('y')\n",
    "np.random.seed(0)\n",
    "# w, b는 업데이트 해야되서 메모리값으로 넣어줌, +초깃값\n",
    "w = theano.shared(0.001 * np.random.randn(2), name=\"w\")\n",
    "b = theano.shared(0.001 * np.random.randn(1)[0], name=\"b\")\n",
    "a = T.tanh(T.dot(X, w) + b) # y값 1,-1을 받는 하이퍼탄젠트\n",
    "\n",
    "cost = T.sum(T.maximum(0, -y * a)) # 퍼셉트론 에러"
   ]
  },
  {
   "cell_type": "code",
   "execution_count": 20,
   "metadata": {},
   "outputs": [],
   "source": [
    "gw, gb = T.grad(cost, [w, b]) # 미분\n",
    "eta = 0.0000001 # step size / mu 로 쓰기도 함\n",
    "gradient = theano.function([X, y], cost, updates=[(w, w - eta * gw), (b, b - eta * gb)])"
   ]
  },
  {
   "cell_type": "code",
   "execution_count": 21,
   "metadata": {
    "scrolled": true
   },
   "outputs": [
    {
     "data": {
      "image/svg+xml": [
       "<svg height=\"761pt\" viewBox=\"0.00 0.00 2376.00 761.00\" width=\"2376pt\" xmlns=\"http://www.w3.org/2000/svg\" xmlns:xlink=\"http://www.w3.org/1999/xlink\">\n",
       "<g class=\"graph\" id=\"graph0\" transform=\"scale(1 1) rotate(0) translate(4 757)\">\n",
       "<title>G</title>\n",
       "<polygon fill=\"white\" points=\"-4,4 -4,-757 2372,-757 2372,4 -4,4\" stroke=\"none\"/>\n",
       "<!-- 139811846156416 -->\n",
       "<g class=\"node\" id=\"node1\"><title>139811846156416</title>\n",
       "<ellipse cx=\"1996\" cy=\"-735\" fill=\"none\" rx=\"91.784\" ry=\"18\" stroke=\"black\"/>\n",
       "<text font-family=\"Times,serif\" font-size=\"14.00\" text-anchor=\"middle\" x=\"1996\" y=\"-731.3\">InplaceDimShuffle{x}</text>\n",
       "</g>\n",
       "<!-- 139811845240704 -->\n",
       "<g class=\"node\" id=\"node12\"><title>139811845240704</title>\n",
       "<ellipse cx=\"1048\" cy=\"-648\" fill=\"#ffaabb\" rx=\"178.168\" ry=\"18\" stroke=\"black\"/>\n",
       "<text font-family=\"Times,serif\" font-size=\"14.00\" text-anchor=\"middle\" x=\"1048\" y=\"-644.3\">Elemwise{Composite{tanh((i0 + i1))}}[(0, 0)]</text>\n",
       "</g>\n",
       "<!-- 139811846156416&#45;&gt;139811845240704 -->\n",
       "<g class=\"edge\" id=\"edge12\"><title>139811846156416-&gt;139811845240704</title>\n",
       "<path d=\"M1914.35,-726.679C1751.93,-712.116 1386.72,-679.371 1186.24,-661.395\" fill=\"none\" stroke=\"black\"/>\n",
       "<polygon fill=\"black\" points=\"1186.5,-657.904 1176.22,-660.497 1185.87,-664.876 1186.5,-657.904\" stroke=\"black\"/>\n",
       "<text font-family=\"Times,serif\" font-size=\"14.00\" text-anchor=\"middle\" x=\"1663.5\" y=\"-687.8\">1 TensorType(float64, (True,))</text>\n",
       "</g>\n",
       "<!-- 139811846135760 -->\n",
       "<g class=\"node\" id=\"node2\"><title>139811846135760</title>\n",
       "<polygon fill=\"cyan\" points=\"2299.5,-36 2082.5,-36 2082.5,-0 2299.5,-0 2299.5,-36\" stroke=\"black\"/>\n",
       "<text font-family=\"Times,serif\" font-size=\"14.00\" text-anchor=\"middle\" x=\"2191\" y=\"-14.3\">name=b TensorType(float64, scalar)</text>\n",
       "</g>\n",
       "<!-- 139811846135760&#45;&gt;139811846156416 -->\n",
       "<g class=\"edge\" id=\"edge1\"><title>139811846135760-&gt;139811846156416</title>\n",
       "<path d=\"M2299.57,-34.3012C2336.21,-46.1104 2368,-67.0136 2368,-104 2368,-649 2368,-649 2368,-649 2368,-704.971 2205.93,-724.086 2095.74,-730.614\" fill=\"none\" stroke=\"blue\"/>\n",
       "<polygon fill=\"blue\" points=\"2095.36,-727.13 2085.58,-731.19 2095.76,-734.119 2095.36,-727.13\" stroke=\"blue\"/>\n",
       "</g>\n",
       "<!-- 139811845357864 -->\n",
       "<g class=\"node\" id=\"node29\"><title>139811845357864</title>\n",
       "<ellipse cx=\"2067\" cy=\"-192\" fill=\"#ffaabb\" rx=\"192.266\" ry=\"18\" stroke=\"black\"/>\n",
       "<text font-family=\"Times,serif\" font-size=\"14.00\" text-anchor=\"middle\" x=\"2067\" y=\"-188.3\">Elemwise{Composite{(i0 - (i1 * i2 * i3))}}[(0, 0)]</text>\n",
       "</g>\n",
       "<!-- 139811846135760&#45;&gt;139811845357864 -->\n",
       "<g class=\"edge\" id=\"edge38\"><title>139811846135760-&gt;139811845357864</title>\n",
       "<path d=\"M2189.91,-36.3392C2187.78,-58.2973 2181.5,-96.4625 2163,-123 2149.69,-142.093 2129.21,-157.662 2110.58,-169.061\" fill=\"none\" stroke=\"red\"/>\n",
       "<polygon fill=\"red\" points=\"2108.75,-166.076 2101.9,-174.16 2112.29,-172.111 2108.75,-166.076\" stroke=\"red\"/>\n",
       "<text font-family=\"Times,serif\" font-size=\"14.00\" text-anchor=\"middle\" x=\"2183.5\" y=\"-101.3\">0</text>\n",
       "</g>\n",
       "<!-- 139811846184352 -->\n",
       "<g class=\"node\" id=\"node3\"><title>139811846184352</title>\n",
       "<ellipse cx=\"550\" cy=\"-474\" fill=\"brown\" rx=\"51.9908\" ry=\"18\" stroke=\"black\"/>\n",
       "<text font-family=\"Times,serif\" font-size=\"14.00\" text-anchor=\"middle\" x=\"550\" y=\"-470.3\">Shape_i{0}</text>\n",
       "</g>\n",
       "<!-- 139811845605304 -->\n",
       "<g class=\"node\" id=\"node7\"><title>139811845605304</title>\n",
       "<ellipse cx=\"808\" cy=\"-333\" fill=\"#ffaa22\" rx=\"115.88\" ry=\"18\" stroke=\"black\"/>\n",
       "<text font-family=\"Times,serif\" font-size=\"14.00\" text-anchor=\"middle\" x=\"808\" y=\"-329.3\">AllocEmpty{dtype='float64'}</text>\n",
       "</g>\n",
       "<!-- 139811846184352&#45;&gt;139811845605304 -->\n",
       "<g class=\"edge\" id=\"edge5\"><title>139811846184352-&gt;139811845605304</title>\n",
       "<path d=\"M596.42,-465.891C640.547,-457.327 707.103,-439.551 755,-405 771.323,-393.225 784.805,-374.94 794.087,-359.874\" fill=\"none\" stroke=\"black\"/>\n",
       "<polygon fill=\"black\" points=\"797.256,-361.391 799.311,-350.997 791.223,-357.84 797.256,-361.391\" stroke=\"black\"/>\n",
       "<text font-family=\"Times,serif\" font-size=\"14.00\" text-anchor=\"middle\" x=\"794\" y=\"-426.8\">TensorType(int64, scalar)</text>\n",
       "</g>\n",
       "<!-- 139811846135480 -->\n",
       "<g class=\"node\" id=\"node4\"><title>139811846135480</title>\n",
       "<polygon fill=\"green\" points=\"258,-579 34,-579 34,-543 258,-543 258,-579\" stroke=\"black\"/>\n",
       "<text font-family=\"Times,serif\" font-size=\"14.00\" text-anchor=\"middle\" x=\"146\" y=\"-557.3\">name=X TensorType(float64, matrix)</text>\n",
       "</g>\n",
       "<!-- 139811846135480&#45;&gt;139811846184352 -->\n",
       "<g class=\"edge\" id=\"edge2\"><title>139811846135480-&gt;139811846184352</title>\n",
       "<path d=\"M227.269,-542.901C307.485,-526.024 427.821,-500.706 496.634,-486.228\" fill=\"none\" stroke=\"black\"/>\n",
       "<polygon fill=\"black\" points=\"497.746,-489.571 506.811,-484.087 496.305,-482.721 497.746,-489.571\" stroke=\"black\"/>\n",
       "</g>\n",
       "<!-- 139811880307904 -->\n",
       "<g class=\"node\" id=\"node5\"><title>139811880307904</title>\n",
       "<ellipse cx=\"146\" cy=\"-474\" fill=\"none\" rx=\"98.5829\" ry=\"18\" stroke=\"black\"/>\n",
       "<text font-family=\"Times,serif\" font-size=\"14.00\" text-anchor=\"middle\" x=\"146\" y=\"-470.3\">InplaceDimShuffle{1,0}</text>\n",
       "</g>\n",
       "<!-- 139811846135480&#45;&gt;139811880307904 -->\n",
       "<g class=\"edge\" id=\"edge3\"><title>139811846135480-&gt;139811880307904</title>\n",
       "<path d=\"M146,-542.799C146,-531.163 146,-515.548 146,-502.237\" fill=\"none\" stroke=\"blue\"/>\n",
       "<polygon fill=\"blue\" points=\"149.5,-502.175 146,-492.175 142.5,-502.175 149.5,-502.175\" stroke=\"blue\"/>\n",
       "</g>\n",
       "<!-- 139811845644696 -->\n",
       "<g class=\"node\" id=\"node8\"><title>139811845644696</title>\n",
       "<ellipse cx=\"648\" cy=\"-18\" fill=\"none\" rx=\"66.8882\" ry=\"18\" stroke=\"black\"/>\n",
       "<text font-family=\"Times,serif\" font-size=\"14.00\" text-anchor=\"middle\" x=\"648\" y=\"-14.3\">Gemv{inplace}</text>\n",
       "</g>\n",
       "<!-- 139811846135480&#45;&gt;139811845644696 -->\n",
       "<g class=\"edge\" id=\"edge8\"><title>139811846135480-&gt;139811845644696</title>\n",
       "<path d=\"M64.888,-542.857C31.2831,-530.548 0,-509.756 0,-475 0,-475 0,-475 0,-104 0,-46.9445 400.033,-27.0733 571.482,-21.1768\" fill=\"none\" stroke=\"black\"/>\n",
       "<polygon fill=\"black\" points=\"571.821,-24.6675 581.698,-20.8328 571.586,-17.6715 571.821,-24.6675\" stroke=\"black\"/>\n",
       "<text font-family=\"Times,serif\" font-size=\"14.00\" text-anchor=\"middle\" x=\"3.5\" y=\"-275.3\">2</text>\n",
       "</g>\n",
       "<!-- 139811899675760 -->\n",
       "<g class=\"node\" id=\"node6\"><title>139811899675760</title>\n",
       "<polygon fill=\"none\" points=\"264,-405 28,-405 28,-369 264,-369 264,-405\" stroke=\"black\"/>\n",
       "<text font-family=\"Times,serif\" font-size=\"14.00\" text-anchor=\"middle\" x=\"146\" y=\"-383.3\">name=X.T TensorType(float64, matrix)</text>\n",
       "</g>\n",
       "<!-- 139811880307904&#45;&gt;139811899675760 -->\n",
       "<g class=\"edge\" id=\"edge4\"><title>139811880307904-&gt;139811899675760</title>\n",
       "<path d=\"M146,-455.799C146,-444.163 146,-428.548 146,-415.237\" fill=\"none\" stroke=\"black\"/>\n",
       "<polygon fill=\"black\" points=\"149.5,-415.175 146,-405.175 142.5,-415.175 149.5,-415.175\" stroke=\"black\"/>\n",
       "<text font-family=\"Times,serif\" font-size=\"14.00\" text-anchor=\"middle\" x=\"224.5\" y=\"-426.8\">TensorType(float64, matrix)</text>\n",
       "</g>\n",
       "<!-- 139811845659952 -->\n",
       "<g class=\"node\" id=\"node26\"><title>139811845659952</title>\n",
       "<ellipse cx=\"392\" cy=\"-279\" fill=\"none\" rx=\"90.1842\" ry=\"18\" stroke=\"black\"/>\n",
       "<text font-family=\"Times,serif\" font-size=\"14.00\" text-anchor=\"middle\" x=\"392\" y=\"-275.3\">Gemv{inplace} id=13</text>\n",
       "</g>\n",
       "<!-- 139811899675760&#45;&gt;139811845659952 -->\n",
       "<g class=\"edge\" id=\"edge34\"><title>139811899675760-&gt;139811845659952</title>\n",
       "<path d=\"M185.524,-368.969C229.396,-350.065 300.096,-319.601 346.309,-299.688\" fill=\"none\" stroke=\"black\"/>\n",
       "<polygon fill=\"black\" points=\"347.982,-302.778 355.78,-295.607 345.212,-296.35 347.982,-302.778\" stroke=\"black\"/>\n",
       "<text font-family=\"Times,serif\" font-size=\"14.00\" text-anchor=\"middle\" x=\"309.5\" y=\"-329.3\">2</text>\n",
       "</g>\n",
       "<!-- 139811845605304&#45;&gt;139811845644696 -->\n",
       "<g class=\"edge\" id=\"edge6\"><title>139811845605304-&gt;139811845644696</title>\n",
       "<path d=\"M763.053,-316.327C729.706,-301.504 690,-275.637 690,-236.5 690,-236.5 690,-236.5 690,-104 690,-82.1955 678.754,-60.1971 667.901,-44.0438\" fill=\"none\" stroke=\"red\"/>\n",
       "<polygon fill=\"red\" points=\"670.627,-41.8385 661.985,-35.7095 664.919,-45.89 670.627,-41.8385\" stroke=\"red\"/>\n",
       "<text font-family=\"Times,serif\" font-size=\"14.00\" text-anchor=\"middle\" x=\"772.5\" y=\"-188.3\">0 TensorType(float64, vector)</text>\n",
       "</g>\n",
       "<!-- 139811845644696&#45;&gt;139811845240704 -->\n",
       "<g class=\"edge\" id=\"edge11\"><title>139811845644696-&gt;139811845240704</title>\n",
       "<path d=\"M711.045,-24.147C798.768,-33.0771 947,-55.3627 947,-104 947,-562 947,-562 947,-562 947,-590.78 971.304,-611.778 996.067,-625.703\" fill=\"none\" stroke=\"red\"/>\n",
       "<polygon fill=\"red\" points=\"994.691,-628.935 1005.17,-630.515 997.963,-622.747 994.691,-628.935\" stroke=\"red\"/>\n",
       "<text font-family=\"Times,serif\" font-size=\"14.00\" text-anchor=\"middle\" x=\"1029.5\" y=\"-329.3\">0 TensorType(float64, vector)</text>\n",
       "</g>\n",
       "<!-- 139811845586112 -->\n",
       "<g class=\"node\" id=\"node9\"><title>139811845586112</title>\n",
       "<polygon fill=\"green\" points=\"746,-405 532,-405 532,-369 746,-369 746,-405\" stroke=\"black\"/>\n",
       "<text font-family=\"Times,serif\" font-size=\"14.00\" text-anchor=\"middle\" x=\"639\" y=\"-383.3\">val=1.0 TensorType(float64, scalar)</text>\n",
       "</g>\n",
       "<!-- 139811845586112&#45;&gt;139811845644696 -->\n",
       "<g class=\"edge\" id=\"edge7\"><title>139811845586112-&gt;139811845644696</title>\n",
       "<path d=\"M539.241,-368.991C522.408,-364.142 508.564,-358.178 503,-351 493.197,-338.355 499.387,-330.587 503,-315 527.935,-207.417 597.679,-93.8208 630.502,-44.4175\" fill=\"none\" stroke=\"black\"/>\n",
       "<polygon fill=\"black\" points=\"633.515,-46.2094 636.182,-35.9558 627.703,-42.308 633.515,-46.2094\" stroke=\"black\"/>\n",
       "<text font-family=\"Times,serif\" font-size=\"14.00\" text-anchor=\"middle\" x=\"559.5\" y=\"-188.3\">1</text>\n",
       "</g>\n",
       "<!-- 139811845586112&#45;&gt;139811845659952 -->\n",
       "<g class=\"edge\" id=\"edge36\"><title>139811845586112-&gt;139811845659952</title>\n",
       "<path d=\"M532.278,-368.918C505.124,-363.508 480.184,-357.291 468,-351 446.14,-339.713 426.021,-320.328 411.982,-304.663\" fill=\"none\" stroke=\"black\"/>\n",
       "<polygon fill=\"black\" points=\"414.417,-302.129 405.217,-296.873 409.131,-306.718 414.417,-302.129\" stroke=\"black\"/>\n",
       "<text font-family=\"Times,serif\" font-size=\"14.00\" text-anchor=\"middle\" x=\"471.5\" y=\"-329.3\">4</text>\n",
       "</g>\n",
       "<!-- 139811846135648 -->\n",
       "<g class=\"node\" id=\"node10\"><title>139811846135648</title>\n",
       "<polygon fill=\"cyan\" points=\"488,-123 266,-123 266,-87 488,-87 488,-123\" stroke=\"black\"/>\n",
       "<text font-family=\"Times,serif\" font-size=\"14.00\" text-anchor=\"middle\" x=\"377\" y=\"-101.3\">name=w TensorType(float64, vector)</text>\n",
       "</g>\n",
       "<!-- 139811846135648&#45;&gt;139811845644696 -->\n",
       "<g class=\"edge\" id=\"edge9\"><title>139811846135648-&gt;139811845644696</title>\n",
       "<path d=\"M412.786,-86.8899C435.864,-76.3459 466.739,-63.1414 495,-54 523.863,-44.6639 556.557,-36.8288 584.292,-30.9548\" fill=\"none\" stroke=\"black\"/>\n",
       "<polygon fill=\"black\" points=\"585.191,-34.3427 594.269,-28.8803 583.766,-27.4893 585.191,-34.3427\" stroke=\"black\"/>\n",
       "<text font-family=\"Times,serif\" font-size=\"14.00\" text-anchor=\"middle\" x=\"498.5\" y=\"-57.8\">3</text>\n",
       "</g>\n",
       "<!-- 139811846135648&#45;&gt;139811845659952 -->\n",
       "<g class=\"edge\" id=\"edge32\"><title>139811846135648-&gt;139811845659952</title>\n",
       "<path d=\"M338.714,-123.144C318.476,-134.437 295.498,-151.349 284,-174 276.758,-188.267 276.267,-195.993 284,-210 296.181,-232.064 318.86,-247.946 340.303,-258.784\" fill=\"none\" stroke=\"red\"/>\n",
       "<polygon fill=\"red\" points=\"338.851,-261.969 349.383,-263.123 341.869,-255.653 338.851,-261.969\" stroke=\"red\"/>\n",
       "<text font-family=\"Times,serif\" font-size=\"14.00\" text-anchor=\"middle\" x=\"287.5\" y=\"-188.3\">0</text>\n",
       "</g>\n",
       "<!-- 139811845586336 -->\n",
       "<g class=\"node\" id=\"node11\"><title>139811845586336</title>\n",
       "<polygon fill=\"green\" points=\"1189,-123 975,-123 975,-87 1189,-87 1189,-123\" stroke=\"black\"/>\n",
       "<text font-family=\"Times,serif\" font-size=\"14.00\" text-anchor=\"middle\" x=\"1082\" y=\"-101.3\">val=0.0 TensorType(float64, scalar)</text>\n",
       "</g>\n",
       "<!-- 139811845586336&#45;&gt;139811845644696 -->\n",
       "<g class=\"edge\" id=\"edge10\"><title>139811845586336-&gt;139811845644696</title>\n",
       "<path d=\"M1047.94,-86.9012C1024.17,-75.7285 991.379,-61.8091 961,-54 881.702,-33.6162 788.083,-25.1036 724.027,-21.5487\" fill=\"none\" stroke=\"black\"/>\n",
       "<polygon fill=\"black\" points=\"724.177,-18.0519 714.007,-21.0197 723.808,-25.0421 724.177,-18.0519\" stroke=\"black\"/>\n",
       "<text font-family=\"Times,serif\" font-size=\"14.00\" text-anchor=\"middle\" x=\"1009.5\" y=\"-57.8\">4</text>\n",
       "</g>\n",
       "<!-- 139811845647888 -->\n",
       "<g class=\"node\" id=\"node13\"><title>139811845647888</title>\n",
       "<ellipse cx=\"1184\" cy=\"-474\" fill=\"#ffaabb\" rx=\"145.674\" ry=\"18\" stroke=\"black\"/>\n",
       "<text font-family=\"Times,serif\" font-size=\"14.00\" text-anchor=\"middle\" x=\"1184\" y=\"-470.3\">Elemwise{Composite{(i0 - sqr(i1))}}</text>\n",
       "</g>\n",
       "<!-- 139811845240704&#45;&gt;139811845647888 -->\n",
       "<g class=\"edge\" id=\"edge14\"><title>139811845240704-&gt;139811845647888</title>\n",
       "<path d=\"M1040.73,-629.637C1032.78,-607.654 1023.23,-569.463 1040,-543 1055.02,-519.289 1080.78,-503.69 1106.4,-493.497\" fill=\"none\" stroke=\"black\"/>\n",
       "<polygon fill=\"black\" points=\"1107.66,-496.76 1115.81,-489.982 1105.21,-490.203 1107.66,-496.76\" stroke=\"black\"/>\n",
       "<text font-family=\"Times,serif\" font-size=\"14.00\" text-anchor=\"middle\" x=\"1122.5\" y=\"-557.3\">1 TensorType(float64, vector)</text>\n",
       "</g>\n",
       "<!-- 139811845277960 -->\n",
       "<g class=\"node\" id=\"node15\"><title>139811845277960</title>\n",
       "<ellipse cx=\"1902\" cy=\"-561\" fill=\"#ffaabb\" rx=\"226.66\" ry=\"18\" stroke=\"black\"/>\n",
       "<text font-family=\"Times,serif\" font-size=\"14.00\" text-anchor=\"middle\" x=\"1902\" y=\"-557.3\">Elemwise{Composite{maximum(i0, (i1 * i2 * i3))}}[(0, 3)]</text>\n",
       "</g>\n",
       "<!-- 139811845240704&#45;&gt;139811845277960 -->\n",
       "<g class=\"edge\" id=\"edge18\"><title>139811845240704-&gt;139811845277960</title>\n",
       "<path d=\"M1168.52,-634.708C1268.75,-624.514 1415.15,-609.69 1543,-597 1612.35,-590.116 1689.26,-582.603 1754.04,-576.308\" fill=\"none\" stroke=\"red\"/>\n",
       "<polygon fill=\"red\" points=\"1754.72,-579.759 1764.33,-575.309 1754.04,-572.792 1754.72,-579.759\" stroke=\"red\"/>\n",
       "<text font-family=\"Times,serif\" font-size=\"14.00\" text-anchor=\"middle\" x=\"1625.5\" y=\"-600.8\">3 TensorType(float64, vector)</text>\n",
       "</g>\n",
       "<!-- 139811845559352 -->\n",
       "<g class=\"node\" id=\"node23\"><title>139811845559352</title>\n",
       "<ellipse cx=\"1733\" cy=\"-387\" fill=\"#ffaabb\" rx=\"109.681\" ry=\"18\" stroke=\"black\"/>\n",
       "<text font-family=\"Times,serif\" font-size=\"14.00\" text-anchor=\"middle\" x=\"1733\" y=\"-383.3\">Elemwise{mul,no_inplace}</text>\n",
       "</g>\n",
       "<!-- 139811845647888&#45;&gt;139811845559352 -->\n",
       "<g class=\"edge\" id=\"edge26\"><title>139811845647888-&gt;139811845559352</title>\n",
       "<path d=\"M1271.67,-459.532C1293.02,-454.413 1315.35,-447.442 1335,-438 1344.7,-433.339 1344.01,-426.993 1354,-423 1400.03,-404.605 1522.28,-395.75 1615.61,-391.571\" fill=\"none\" stroke=\"black\"/>\n",
       "<polygon fill=\"black\" points=\"1615.85,-395.063 1625.69,-391.132 1615.54,-388.07 1615.85,-395.063\" stroke=\"black\"/>\n",
       "<text font-family=\"Times,serif\" font-size=\"14.00\" text-anchor=\"middle\" x=\"1436.5\" y=\"-426.8\">2 TensorType(float64, vector)</text>\n",
       "</g>\n",
       "<!-- 139811845290136 -->\n",
       "<g class=\"node\" id=\"node24\"><title>139811845290136</title>\n",
       "<ellipse cx=\"1169\" cy=\"-387\" fill=\"#ffaabb\" rx=\"94.7833\" ry=\"18\" stroke=\"black\"/>\n",
       "<text font-family=\"Times,serif\" font-size=\"14.00\" text-anchor=\"middle\" x=\"1169\" y=\"-383.3\">Elemwise{Mul}[(0, 1)]</text>\n",
       "</g>\n",
       "<!-- 139811845647888&#45;&gt;139811845290136 -->\n",
       "<g class=\"edge\" id=\"edge30\"><title>139811845647888-&gt;139811845290136</title>\n",
       "<path d=\"M1175.75,-455.934C1173.44,-450.349 1171.22,-444.029 1170,-438 1168.54,-430.797 1167.93,-422.89 1167.78,-415.532\" fill=\"none\" stroke=\"black\"/>\n",
       "<polygon fill=\"black\" points=\"1171.28,-415.308 1167.83,-405.292 1164.28,-415.275 1171.28,-415.308\" stroke=\"black\"/>\n",
       "<text font-family=\"Times,serif\" font-size=\"14.00\" text-anchor=\"middle\" x=\"1252.5\" y=\"-426.8\">3 TensorType(float64, vector)</text>\n",
       "</g>\n",
       "<!-- 139811845888152 -->\n",
       "<g class=\"node\" id=\"node14\"><title>139811845888152</title>\n",
       "<polygon fill=\"green\" points=\"1657.5,-579 1434.5,-579 1434.5,-543 1657.5,-543 1657.5,-579\" stroke=\"black\"/>\n",
       "<text font-family=\"Times,serif\" font-size=\"14.00\" text-anchor=\"middle\" x=\"1546\" y=\"-557.3\">val=[1.] TensorType(float64, (True,))</text>\n",
       "</g>\n",
       "<!-- 139811845888152&#45;&gt;139811845647888 -->\n",
       "<g class=\"edge\" id=\"edge13\"><title>139811845888152-&gt;139811845647888</title>\n",
       "<path d=\"M1473.18,-542.901C1410.76,-528.245 1321.23,-507.222 1258.37,-492.462\" fill=\"none\" stroke=\"black\"/>\n",
       "<polygon fill=\"black\" points=\"1259.05,-489.027 1248.51,-490.148 1257.45,-495.842 1259.05,-489.027\" stroke=\"black\"/>\n",
       "<text font-family=\"Times,serif\" font-size=\"14.00\" text-anchor=\"middle\" x=\"1390.5\" y=\"-513.8\">0</text>\n",
       "</g>\n",
       "<!-- 139811845289800 -->\n",
       "<g class=\"node\" id=\"node21\"><title>139811845289800</title>\n",
       "<ellipse cx=\"1546\" cy=\"-474\" fill=\"#ffaabb\" rx=\"183.867\" ry=\"18\" stroke=\"black\"/>\n",
       "<text font-family=\"Times,serif\" font-size=\"14.00\" text-anchor=\"middle\" x=\"1546\" y=\"-470.3\">Elemwise{Composite{(i0 - EQ(i1, i2))}}[(0, 1)]</text>\n",
       "</g>\n",
       "<!-- 139811845888152&#45;&gt;139811845289800 -->\n",
       "<g class=\"edge\" id=\"edge21\"><title>139811845888152-&gt;139811845289800</title>\n",
       "<path d=\"M1546,-542.799C1546,-531.163 1546,-515.548 1546,-502.237\" fill=\"none\" stroke=\"black\"/>\n",
       "<polygon fill=\"black\" points=\"1549.5,-502.175 1546,-492.175 1542.5,-502.175 1549.5,-502.175\" stroke=\"black\"/>\n",
       "<text font-family=\"Times,serif\" font-size=\"14.00\" text-anchor=\"middle\" x=\"1549.5\" y=\"-513.8\">0</text>\n",
       "</g>\n",
       "<!-- 139811846158264 -->\n",
       "<g class=\"node\" id=\"node19\"><title>139811846158264</title>\n",
       "<ellipse cx=\"1995\" cy=\"-474\" fill=\"none\" rx=\"102.082\" ry=\"18\" stroke=\"black\"/>\n",
       "<text font-family=\"Times,serif\" font-size=\"14.00\" text-anchor=\"middle\" x=\"1995\" y=\"-470.3\">Sum{acc_dtype=float64}</text>\n",
       "</g>\n",
       "<!-- 139811845277960&#45;&gt;139811846158264 -->\n",
       "<g class=\"edge\" id=\"edge19\"><title>139811845277960-&gt;139811846158264</title>\n",
       "<path d=\"M1920.82,-542.799C1934.65,-530.158 1953.62,-512.823 1968.91,-498.846\" fill=\"none\" stroke=\"black\"/>\n",
       "<polygon fill=\"black\" points=\"1971.51,-501.215 1976.53,-491.885 1966.78,-496.048 1971.51,-501.215\" stroke=\"black\"/>\n",
       "<text font-family=\"Times,serif\" font-size=\"14.00\" text-anchor=\"middle\" x=\"2032\" y=\"-513.8\">TensorType(float64, vector)</text>\n",
       "</g>\n",
       "<!-- 139811845277960&#45;&gt;139811845289800 -->\n",
       "<g class=\"edge\" id=\"edge22\"><title>139811845277960-&gt;139811845289800</title>\n",
       "<path d=\"M1834.2,-543.812C1773.69,-529.364 1685.16,-508.227 1622.22,-493.198\" fill=\"none\" stroke=\"red\"/>\n",
       "<polygon fill=\"red\" points=\"1622.88,-489.758 1612.34,-490.84 1621.26,-496.567 1622.88,-489.758\" stroke=\"red\"/>\n",
       "<text font-family=\"Times,serif\" font-size=\"14.00\" text-anchor=\"middle\" x=\"1828.5\" y=\"-513.8\">1 TensorType(float64, vector)</text>\n",
       "</g>\n",
       "<!-- 139811845931808 -->\n",
       "<g class=\"node\" id=\"node16\"><title>139811845931808</title>\n",
       "<polygon fill=\"green\" points=\"2339.5,-666 2116.5,-666 2116.5,-630 2339.5,-630 2339.5,-666\" stroke=\"black\"/>\n",
       "<text font-family=\"Times,serif\" font-size=\"14.00\" text-anchor=\"middle\" x=\"2228\" y=\"-644.3\">val=[0.] TensorType(float64, (True,))</text>\n",
       "</g>\n",
       "<!-- 139811845931808&#45;&gt;139811845277960 -->\n",
       "<g class=\"edge\" id=\"edge15\"><title>139811845931808-&gt;139811845277960</title>\n",
       "<path d=\"M2162.42,-629.901C2108.05,-615.724 2030.83,-595.59 1974.6,-580.929\" fill=\"none\" stroke=\"black\"/>\n",
       "<polygon fill=\"black\" points=\"1975.27,-577.486 1964.71,-578.35 1973.5,-584.26 1975.27,-577.486\" stroke=\"black\"/>\n",
       "<text font-family=\"Times,serif\" font-size=\"14.00\" text-anchor=\"middle\" x=\"2088.5\" y=\"-600.8\">0</text>\n",
       "</g>\n",
       "<!-- 139811845828448 -->\n",
       "<g class=\"node\" id=\"node17\"><title>139811845828448</title>\n",
       "<polygon fill=\"green\" points=\"1674.5,-666 1447.5,-666 1447.5,-630 1674.5,-630 1674.5,-666\" stroke=\"black\"/>\n",
       "<text font-family=\"Times,serif\" font-size=\"14.00\" text-anchor=\"middle\" x=\"1561\" y=\"-644.3\">val=[-1.] TensorType(float64, (True,))</text>\n",
       "</g>\n",
       "<!-- 139811845828448&#45;&gt;139811845277960 -->\n",
       "<g class=\"edge\" id=\"edge16\"><title>139811845828448-&gt;139811845277960</title>\n",
       "<path d=\"M1629.6,-629.901C1686.68,-615.672 1767.84,-595.441 1826.71,-580.767\" fill=\"none\" stroke=\"black\"/>\n",
       "<polygon fill=\"black\" points=\"1827.84,-584.093 1836.69,-578.278 1826.15,-577.301 1827.84,-584.093\" stroke=\"black\"/>\n",
       "<text font-family=\"Times,serif\" font-size=\"14.00\" text-anchor=\"middle\" x=\"1755.5\" y=\"-600.8\">1</text>\n",
       "</g>\n",
       "<!-- 139811845828448&#45;&gt;139811845290136 -->\n",
       "<g class=\"edge\" id=\"edge27\"><title>139811845828448-&gt;139811845290136</title>\n",
       "<path d=\"M1459.08,-629.947C1393.74,-619.426 1307.04,-606.225 1230,-597 1207.52,-594.308 1042.29,-595.704 1027,-579 1014.16,-564.97 1000.99,-499.615 1029,-456 1045.13,-430.881 1073.41,-414.779 1100.35,-404.588\" fill=\"none\" stroke=\"black\"/>\n",
       "<polygon fill=\"black\" points=\"1101.55,-407.875 1109.8,-401.225 1099.21,-401.28 1101.55,-407.875\" stroke=\"black\"/>\n",
       "<text font-family=\"Times,serif\" font-size=\"14.00\" text-anchor=\"middle\" x=\"1016.5\" y=\"-513.8\">0</text>\n",
       "</g>\n",
       "<!-- 139811846135536 -->\n",
       "<g class=\"node\" id=\"node18\"><title>139811846135536</title>\n",
       "<polygon fill=\"green\" points=\"2098.5,-666 1879.5,-666 1879.5,-630 2098.5,-630 2098.5,-666\" stroke=\"black\"/>\n",
       "<text font-family=\"Times,serif\" font-size=\"14.00\" text-anchor=\"middle\" x=\"1989\" y=\"-644.3\">name=y TensorType(float64, vector)</text>\n",
       "</g>\n",
       "<!-- 139811846135536&#45;&gt;139811845277960 -->\n",
       "<g class=\"edge\" id=\"edge17\"><title>139811846135536-&gt;139811845277960</title>\n",
       "<path d=\"M1971.39,-629.799C1958.66,-617.356 1941.27,-600.364 1927.08,-586.504\" fill=\"none\" stroke=\"black\"/>\n",
       "<polygon fill=\"black\" points=\"1929.18,-583.66 1919.58,-579.175 1924.29,-588.667 1929.18,-583.66\" stroke=\"black\"/>\n",
       "<text font-family=\"Times,serif\" font-size=\"14.00\" text-anchor=\"middle\" x=\"1954.5\" y=\"-600.8\">2</text>\n",
       "</g>\n",
       "<!-- 139811846135536&#45;&gt;139811845559352 -->\n",
       "<g class=\"edge\" id=\"edge25\"><title>139811846135536-&gt;139811845559352</title>\n",
       "<path d=\"M2098.65,-631.631C2134.04,-625.57 2165.62,-618.512 2171,-612 2192.57,-585.886 2177.65,-441.323 2159,-423 2147.91,-412.109 1968.88,-400.482 1846.47,-393.748\" fill=\"none\" stroke=\"black\"/>\n",
       "<polygon fill=\"black\" points=\"1846.46,-390.242 1836.29,-393.191 1846.08,-397.232 1846.46,-390.242\" stroke=\"black\"/>\n",
       "<text font-family=\"Times,serif\" font-size=\"14.00\" text-anchor=\"middle\" x=\"2184.5\" y=\"-513.8\">1</text>\n",
       "</g>\n",
       "<!-- 139811846135536&#45;&gt;139811845290136 -->\n",
       "<g class=\"edge\" id=\"edge29\"><title>139811846135536-&gt;139811845290136</title>\n",
       "<path d=\"M2067.3,-629.858C2094.42,-619.762 2122.01,-603.876 2138,-579 2160.59,-543.854 2115.99,-464.17 2106,-456 2031.51,-395.065 1987.75,-432.673 1892,-423 1774.83,-411.163 1441.7,-397.898 1271.63,-391.641\" fill=\"none\" stroke=\"black\"/>\n",
       "<polygon fill=\"black\" points=\"1271.54,-388.135 1261.41,-391.266 1271.28,-395.131 1271.54,-388.135\" stroke=\"black\"/>\n",
       "<text font-family=\"Times,serif\" font-size=\"14.00\" text-anchor=\"middle\" x=\"2143.5\" y=\"-513.8\">2</text>\n",
       "</g>\n",
       "<!-- 139811846158432 -->\n",
       "<g class=\"node\" id=\"node20\"><title>139811846158432</title>\n",
       "<polygon fill=\"blue\" points=\"2254,-405 2086,-405 2086,-369 2254,-369 2254,-405\" stroke=\"black\"/>\n",
       "<text font-family=\"Times,serif\" font-size=\"14.00\" text-anchor=\"middle\" x=\"2170\" y=\"-383.3\">TensorType(float64, scalar)</text>\n",
       "</g>\n",
       "<!-- 139811846158264&#45;&gt;139811846158432 -->\n",
       "<g class=\"edge\" id=\"edge20\"><title>139811846158264-&gt;139811846158432</title>\n",
       "<path d=\"M2028.33,-456.812C2056.01,-443.367 2095.61,-424.13 2125.92,-409.413\" fill=\"none\" stroke=\"black\"/>\n",
       "<polygon fill=\"black\" points=\"2127.53,-412.519 2135,-405.002 2124.47,-406.222 2127.53,-412.519\" stroke=\"black\"/>\n",
       "</g>\n",
       "<!-- 139811845289800&#45;&gt;139811845559352 -->\n",
       "<g class=\"edge\" id=\"edge24\"><title>139811845289800-&gt;139811845559352</title>\n",
       "<path d=\"M1648.64,-458.949C1675.77,-453.558 1700.43,-446.59 1711,-438 1718.19,-432.152 1723.1,-423.48 1726.42,-414.993\" fill=\"none\" stroke=\"black\"/>\n",
       "<polygon fill=\"black\" points=\"1729.81,-415.889 1729.63,-405.296 1723.16,-413.691 1729.81,-415.889\" stroke=\"black\"/>\n",
       "<text font-family=\"Times,serif\" font-size=\"14.00\" text-anchor=\"middle\" x=\"1805.5\" y=\"-426.8\">0 TensorType(float64, vector)</text>\n",
       "</g>\n",
       "<!-- 139811845289800&#45;&gt;139811845290136 -->\n",
       "<g class=\"edge\" id=\"edge28\"><title>139811845289800-&gt;139811845290136</title>\n",
       "<path d=\"M1542.69,-455.801C1539.58,-444.583 1533.74,-430.652 1523,-423 1502.72,-408.549 1367.47,-398.414 1270.18,-392.893\" fill=\"none\" stroke=\"red\"/>\n",
       "<polygon fill=\"red\" points=\"1270.17,-389.388 1259.99,-392.324 1269.78,-396.377 1270.17,-389.388\" stroke=\"red\"/>\n",
       "<text font-family=\"Times,serif\" font-size=\"14.00\" text-anchor=\"middle\" x=\"1618.5\" y=\"-426.8\">1 TensorType(float64, vector)</text>\n",
       "</g>\n",
       "<!-- 139811845888712 -->\n",
       "<g class=\"node\" id=\"node22\"><title>139811845888712</title>\n",
       "<polygon fill=\"green\" points=\"1416,-579 1214,-579 1214,-543 1416,-543 1416,-579\" stroke=\"black\"/>\n",
       "<text font-family=\"Times,serif\" font-size=\"14.00\" text-anchor=\"middle\" x=\"1315\" y=\"-557.3\">val=[0] TensorType(int8, (True,))</text>\n",
       "</g>\n",
       "<!-- 139811845888712&#45;&gt;139811845289800 -->\n",
       "<g class=\"edge\" id=\"edge23\"><title>139811845888712-&gt;139811845289800</title>\n",
       "<path d=\"M1361.47,-542.901C1399.08,-529.062 1452.11,-509.547 1491.68,-494.988\" fill=\"none\" stroke=\"black\"/>\n",
       "<polygon fill=\"black\" points=\"1493,-498.231 1501.18,-491.493 1490.58,-491.662 1493,-498.231\" stroke=\"black\"/>\n",
       "<text font-family=\"Times,serif\" font-size=\"14.00\" text-anchor=\"middle\" x=\"1448.5\" y=\"-513.8\">2</text>\n",
       "</g>\n",
       "<!-- 139811845496616 -->\n",
       "<g class=\"node\" id=\"node25\"><title>139811845496616</title>\n",
       "<ellipse cx=\"1733\" cy=\"-279\" fill=\"none\" rx=\"125.378\" ry=\"18\" stroke=\"black\"/>\n",
       "<text font-family=\"Times,serif\" font-size=\"14.00\" text-anchor=\"middle\" x=\"1733\" y=\"-275.3\">Sum{acc_dtype=float64} id=12</text>\n",
       "</g>\n",
       "<!-- 139811845559352&#45;&gt;139811845496616 -->\n",
       "<g class=\"edge\" id=\"edge31\"><title>139811845559352-&gt;139811845496616</title>\n",
       "<path d=\"M1733,-368.969C1733,-352.378 1733,-326.883 1733,-307.431\" fill=\"none\" stroke=\"black\"/>\n",
       "<polygon fill=\"black\" points=\"1736.5,-307.341 1733,-297.341 1729.5,-307.341 1736.5,-307.341\" stroke=\"black\"/>\n",
       "<text font-family=\"Times,serif\" font-size=\"14.00\" text-anchor=\"middle\" x=\"1810\" y=\"-329.3\">TensorType(float64, vector)</text>\n",
       "</g>\n",
       "<!-- 139811845290136&#45;&gt;139811845659952 -->\n",
       "<g class=\"edge\" id=\"edge35\"><title>139811845290136-&gt;139811845659952</title>\n",
       "<path d=\"M1077.89,-381.899C901.776,-373.865 530.708,-356.366 518,-351 496.269,-341.823 498.936,-327.609 479,-315 469.103,-308.74 457.899,-303.235 446.904,-298.555\" fill=\"none\" stroke=\"black\"/>\n",
       "<polygon fill=\"black\" points=\"447.915,-295.187 437.334,-294.655 445.274,-301.67 447.915,-295.187\" stroke=\"black\"/>\n",
       "<text font-family=\"Times,serif\" font-size=\"14.00\" text-anchor=\"middle\" x=\"600.5\" y=\"-329.3\">3 TensorType(float64, vector)</text>\n",
       "</g>\n",
       "<!-- 139811845496616&#45;&gt;139811845357864 -->\n",
       "<g class=\"edge\" id=\"edge41\"><title>139811845496616-&gt;139811845357864</title>\n",
       "<path d=\"M1766.97,-261.654C1791.05,-250.674 1824.39,-236.679 1855,-228 1883.78,-219.84 1915.33,-213.358 1945.09,-208.304\" fill=\"none\" stroke=\"black\"/>\n",
       "<polygon fill=\"black\" points=\"1945.81,-211.732 1955.11,-206.644 1944.67,-204.826 1945.81,-211.732\" stroke=\"black\"/>\n",
       "<text font-family=\"Times,serif\" font-size=\"14.00\" text-anchor=\"middle\" x=\"1936.5\" y=\"-231.8\">3 TensorType(float64, scalar)</text>\n",
       "</g>\n",
       "<!-- 139811845494936 -->\n",
       "<g class=\"node\" id=\"node28\"><title>139811845494936</title>\n",
       "<polygon fill=\"blue\" points=\"480,-210 300,-210 300,-174 480,-174 480,-210\" stroke=\"black\"/>\n",
       "<text font-family=\"Times,serif\" font-size=\"14.00\" text-anchor=\"middle\" x=\"390\" y=\"-188.3\">wTensorType(float64, vector)</text>\n",
       "</g>\n",
       "<!-- 139811845659952&#45;&gt;139811845494936 -->\n",
       "<g class=\"edge\" id=\"edge37\"><title>139811845659952-&gt;139811845494936</title>\n",
       "<path d=\"M391.595,-260.799C391.321,-249.163 390.954,-233.548 390.641,-220.237\" fill=\"none\" stroke=\"black\"/>\n",
       "<polygon fill=\"black\" points=\"394.138,-220.09 390.404,-210.175 387.14,-220.255 394.138,-220.09\" stroke=\"black\"/>\n",
       "</g>\n",
       "<!-- 139811845490168 -->\n",
       "<g class=\"node\" id=\"node27\"><title>139811845490168</title>\n",
       "<polygon fill=\"green\" points=\"514,-405 282,-405 282,-369 514,-369 514,-405\" stroke=\"black\"/>\n",
       "<text font-family=\"Times,serif\" font-size=\"14.00\" text-anchor=\"middle\" x=\"398\" y=\"-383.3\">val=-1e-07 TensorType(float64, scalar)</text>\n",
       "</g>\n",
       "<!-- 139811845490168&#45;&gt;139811845659952 -->\n",
       "<g class=\"edge\" id=\"edge33\"><title>139811845490168-&gt;139811845659952</title>\n",
       "<path d=\"M397.036,-368.969C396.097,-352.378 394.654,-326.883 393.553,-307.431\" fill=\"none\" stroke=\"black\"/>\n",
       "<polygon fill=\"black\" points=\"397.041,-307.127 392.982,-297.341 390.052,-307.522 397.041,-307.127\" stroke=\"black\"/>\n",
       "<text font-family=\"Times,serif\" font-size=\"14.00\" text-anchor=\"middle\" x=\"399.5\" y=\"-329.3\">1</text>\n",
       "</g>\n",
       "<!-- 139811845494936&#45;&gt;139811846135648 -->\n",
       "<g class=\"edge\" id=\"edge44\"><title>139811845494936-&gt;139811846135648</title>\n",
       "<path d=\"M387.369,-173.799C385.59,-162.163 383.201,-146.548 381.166,-133.237\" fill=\"none\" stroke=\"blue\"/>\n",
       "<polygon fill=\"blue\" points=\"384.599,-132.531 379.627,-123.175 377.679,-133.59 384.599,-132.531\" stroke=\"blue\"/>\n",
       "<text font-family=\"Times,serif\" font-size=\"14.00\" text-anchor=\"middle\" x=\"412\" y=\"-144.8\">UPDATE</text>\n",
       "</g>\n",
       "<!-- 139811845358592 -->\n",
       "<g class=\"node\" id=\"node32\"><title>139811845358592</title>\n",
       "<polygon fill=\"blue\" points=\"2154.5,-123 1979.5,-123 1979.5,-87 2154.5,-87 2154.5,-123\" stroke=\"black\"/>\n",
       "<text font-family=\"Times,serif\" font-size=\"14.00\" text-anchor=\"middle\" x=\"2067\" y=\"-101.3\">bTensorType(float64, scalar)</text>\n",
       "</g>\n",
       "<!-- 139811845357864&#45;&gt;139811845358592 -->\n",
       "<g class=\"edge\" id=\"edge42\"><title>139811845357864-&gt;139811845358592</title>\n",
       "<path d=\"M2067,-173.799C2067,-162.163 2067,-146.548 2067,-133.237\" fill=\"none\" stroke=\"black\"/>\n",
       "<polygon fill=\"black\" points=\"2070.5,-133.175 2067,-123.175 2063.5,-133.175 2070.5,-133.175\" stroke=\"black\"/>\n",
       "</g>\n",
       "<!-- 139811846470512 -->\n",
       "<g class=\"node\" id=\"node30\"><title>139811846470512</title>\n",
       "<polygon fill=\"green\" points=\"2094,-297 1876,-297 1876,-261 2094,-261 2094,-297\" stroke=\"black\"/>\n",
       "<text font-family=\"Times,serif\" font-size=\"14.00\" text-anchor=\"middle\" x=\"1985\" y=\"-275.3\">val=-1.0 TensorType(float64, scalar)</text>\n",
       "</g>\n",
       "<!-- 139811846470512&#45;&gt;139811845357864 -->\n",
       "<g class=\"edge\" id=\"edge39\"><title>139811846470512-&gt;139811845357864</title>\n",
       "<path d=\"M2001.59,-260.799C2013.6,-248.356 2029.99,-231.364 2043.36,-217.504\" fill=\"none\" stroke=\"black\"/>\n",
       "<polygon fill=\"black\" points=\"2046.01,-219.802 2050.43,-210.175 2040.97,-214.942 2046.01,-219.802\" stroke=\"black\"/>\n",
       "<text font-family=\"Times,serif\" font-size=\"14.00\" text-anchor=\"middle\" x=\"2034.5\" y=\"-231.8\">1</text>\n",
       "</g>\n",
       "<!-- 139811846028144 -->\n",
       "<g class=\"node\" id=\"node31\"><title>139811846028144</title>\n",
       "<polygon fill=\"green\" points=\"2339.5,-297 2112.5,-297 2112.5,-261 2339.5,-261 2339.5,-297\" stroke=\"black\"/>\n",
       "<text font-family=\"Times,serif\" font-size=\"14.00\" text-anchor=\"middle\" x=\"2226\" y=\"-275.3\">val=1e-07 TensorType(float64, scalar)</text>\n",
       "</g>\n",
       "<!-- 139811846028144&#45;&gt;139811845357864 -->\n",
       "<g class=\"edge\" id=\"edge40\"><title>139811846028144-&gt;139811845357864</title>\n",
       "<path d=\"M2193.82,-260.799C2168.99,-247.52 2134.46,-229.062 2107.7,-214.757\" fill=\"none\" stroke=\"black\"/>\n",
       "<polygon fill=\"black\" points=\"2109.05,-211.513 2098.59,-209.885 2105.75,-217.687 2109.05,-211.513\" stroke=\"black\"/>\n",
       "<text font-family=\"Times,serif\" font-size=\"14.00\" text-anchor=\"middle\" x=\"2160.5\" y=\"-231.8\">2</text>\n",
       "</g>\n",
       "<!-- 139811845358592&#45;&gt;139811846135760 -->\n",
       "<g class=\"edge\" id=\"edge43\"><title>139811845358592-&gt;139811846135760</title>\n",
       "<path d=\"M2084.2,-86.56C2094.81,-76.3402 2109.04,-63.5964 2123,-54 2129.69,-49.3998 2137.07,-44.9997 2144.42,-40.9666\" fill=\"none\" stroke=\"blue\"/>\n",
       "<polygon fill=\"blue\" points=\"2146.47,-43.842 2153.67,-36.0669 2143.19,-37.6568 2146.47,-43.842\" stroke=\"blue\"/>\n",
       "<text font-family=\"Times,serif\" font-size=\"14.00\" text-anchor=\"middle\" x=\"2150\" y=\"-57.8\">UPDATE</text>\n",
       "</g>\n",
       "</g>\n",
       "</svg>"
      ],
      "text/plain": [
       "<IPython.core.display.SVG object>"
      ]
     },
     "execution_count": 21,
     "metadata": {},
     "output_type": "execute_result"
    }
   ],
   "source": [
    "SVG(theano.printing.pydotprint(gradient, return_image=True, format='svg'))"
   ]
  },
  {
   "cell_type": "code",
   "execution_count": 22,
   "metadata": {},
   "outputs": [
    {
     "name": "stdout",
     "output_type": "stream",
     "text": [
      "0.5588424928848522\n",
      "0.4645058718722914\n",
      "0.37016250114427207\n",
      "0.2758137467032816\n",
      "0.18146097498534094\n",
      "0.0871055527502955\n",
      "0.0017481157550489357\n",
      "0.0003194822026270634\n",
      "0.00029294220762887354\n",
      "0.0002921062099464409\n"
     ]
    }
   ],
   "source": [
    "for i in range(100):\n",
    "    c = gradient(X_data, y_data)\n",
    "    if i % 10 == 0:\n",
    "        print(c)"
   ]
  },
  {
   "cell_type": "code",
   "execution_count": 23,
   "metadata": {},
   "outputs": [
    {
     "data": {
      "text/plain": [
       "array([ 0.00024034, -0.00063639])"
      ]
     },
     "execution_count": 23,
     "metadata": {},
     "output_type": "execute_result"
    }
   ],
   "source": [
    "w.get_value()"
   ]
  },
  {
   "cell_type": "code",
   "execution_count": 24,
   "metadata": {},
   "outputs": [
    {
     "data": {
      "text/plain": [
       "array(0.00067345)"
      ]
     },
     "execution_count": 24,
     "metadata": {},
     "output_type": "execute_result"
    }
   ],
   "source": [
    "b.get_value()"
   ]
  },
  {
   "cell_type": "code",
   "execution_count": 25,
   "metadata": {},
   "outputs": [
    {
     "data": {
      "text/plain": [
       "array([-1., -1., -1., -1., -1., -1., -1., -1., -1., -1., -1., -1., -1.,\n",
       "       -1., -1., -1., -1., -1., -1., -1., -1., -1., -1., -1., -1., -1.,\n",
       "       -1., -1., -1., -1., -1., -1., -1., -1., -1., -1., -1., -1., -1.,\n",
       "       -1., -1.,  1., -1., -1., -1., -1., -1., -1., -1., -1.,  1.,  1.,\n",
       "        1.,  1.,  1.,  1.,  1.,  1.,  1.,  1.,  1.,  1.,  1.,  1.,  1.,\n",
       "        1.,  1.,  1.,  1.,  1.,  1.,  1.,  1.,  1.,  1.,  1.,  1.,  1.,\n",
       "        1.,  1.,  1.,  1.,  1.,  1.,  1.,  1.,  1.,  1.,  1.,  1.,  1.,\n",
       "        1.,  1.,  1.,  1.,  1.,  1.,  1., -1.,  1.])"
      ]
     },
     "execution_count": 25,
     "metadata": {},
     "output_type": "execute_result"
    }
   ],
   "source": [
    "y_pred = T.sgn(a)\n",
    "y_pred_func = theano.function([X], y_pred)\n",
    "y_pred = y_pred_func(X_data)\n",
    "y_pred"
   ]
  },
  {
   "cell_type": "code",
   "execution_count": 26,
   "metadata": {},
   "outputs": [
    {
     "data": {
      "text/plain": [
       "array([[49,  1],\n",
       "       [ 1, 49]])"
      ]
     },
     "execution_count": 26,
     "metadata": {},
     "output_type": "execute_result"
    }
   ],
   "source": [
    "from sklearn.metrics import confusion_matrix\n",
    "\n",
    "confusion_matrix(y_data, y_pred)"
   ]
  }
 ],
 "metadata": {
  "kernelspec": {
   "display_name": "Python 3",
   "language": "python",
   "name": "python3"
  },
  "language_info": {
   "codemirror_mode": {
    "name": "ipython",
    "version": 3
   },
   "file_extension": ".py",
   "mimetype": "text/x-python",
   "name": "python",
   "nbconvert_exporter": "python",
   "pygments_lexer": "ipython3",
   "version": "3.6.4"
  }
 },
 "nbformat": 4,
 "nbformat_minor": 2
}
