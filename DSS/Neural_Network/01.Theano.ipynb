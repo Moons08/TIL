{
 "cells": [
  {
   "cell_type": "code",
   "execution_count": 1,
   "metadata": {},
   "outputs": [],
   "source": [
    "import os\n",
    "os.environ['MKL_THREADING_LAYER'] = 'GNU'"
   ]
  },
  {
   "cell_type": "code",
   "execution_count": 2,
   "metadata": {},
   "outputs": [
    {
     "name": "stderr",
     "output_type": "stream",
     "text": [
      "WARNING (theano.tensor.blas): Using NumPy C-API based implementation for BLAS functions.\n"
     ]
    }
   ],
   "source": [
    "import theano\n",
    "import theano.tensor as T"
   ]
  },
  {
   "cell_type": "code",
   "execution_count": 3,
   "metadata": {},
   "outputs": [
    {
     "data": {
      "text/plain": [
       "(theano.tensor.var.TensorVariable, theano.tensor.var.TensorVariable)"
      ]
     },
     "execution_count": 3,
     "metadata": {},
     "output_type": "execute_result"
    }
   ],
   "source": [
    "x1 = T.dscalar('x1')\n",
    "y1 = T.dscalar('y1')\n",
    "type(x1), type(y1)"
   ]
  },
  {
   "cell_type": "code",
   "execution_count": 4,
   "metadata": {},
   "outputs": [],
   "source": [
    "z1 = x1 + y1\n",
    "u1 = T.exp(z1)"
   ]
  },
  {
   "cell_type": "code",
   "execution_count": 5,
   "metadata": {},
   "outputs": [],
   "source": [
    "from IPython.display import SVG"
   ]
  },
  {
   "cell_type": "code",
   "execution_count": 6,
   "metadata": {},
   "outputs": [
    {
     "data": {
      "image/svg+xml": [
       "<svg height=\"204pt\" viewBox=\"0.00 0.00 474.00 204.00\" width=\"474pt\" xmlns=\"http://www.w3.org/2000/svg\" xmlns:xlink=\"http://www.w3.org/1999/xlink\">\n",
       "<g class=\"graph\" id=\"graph0\" transform=\"scale(1 1) rotate(0) translate(4 200)\">\n",
       "<title>G</title>\n",
       "<polygon fill=\"white\" points=\"-4,4 -4,-200 470,-200 470,4 -4,4\" stroke=\"none\"/>\n",
       "<!-- 140224580307992 -->\n",
       "<g class=\"node\" id=\"node1\"><title>140224580307992</title>\n",
       "<ellipse cx=\"233\" cy=\"-91\" fill=\"#ffaabb\" rx=\"108.581\" ry=\"18\" stroke=\"black\"/>\n",
       "<text font-family=\"Times,serif\" font-size=\"14.00\" text-anchor=\"middle\" x=\"233\" y=\"-87.3\">Elemwise{add,no_inplace}</text>\n",
       "</g>\n",
       "<!-- 140224580308160 -->\n",
       "<g class=\"node\" id=\"node4\"><title>140224580308160</title>\n",
       "<polygon fill=\"blue\" points=\"317,-36 149,-36 149,-0 317,-0 317,-36\" stroke=\"black\"/>\n",
       "<text font-family=\"Times,serif\" font-size=\"14.00\" text-anchor=\"middle\" x=\"233\" y=\"-14.3\">TensorType(float64, scalar)</text>\n",
       "</g>\n",
       "<!-- 140224580307992&#45;&gt;140224580308160 -->\n",
       "<g class=\"edge\" id=\"edge3\"><title>140224580307992-&gt;140224580308160</title>\n",
       "<path d=\"M233,-72.8129C233,-64.7895 233,-55.0475 233,-46.0691\" fill=\"none\" stroke=\"black\"/>\n",
       "<polygon fill=\"black\" points=\"236.5,-46.0288 233,-36.0288 229.5,-46.0289 236.5,-46.0288\" stroke=\"black\"/>\n",
       "</g>\n",
       "<!-- 140224580307768 -->\n",
       "<g class=\"node\" id=\"node2\"><title>140224580307768</title>\n",
       "<polygon fill=\"green\" points=\"224,-196 0,-196 0,-160 224,-160 224,-196\" stroke=\"black\"/>\n",
       "<text font-family=\"Times,serif\" font-size=\"14.00\" text-anchor=\"middle\" x=\"112\" y=\"-174.3\">name=x1 TensorType(float64, scalar)</text>\n",
       "</g>\n",
       "<!-- 140224580307768&#45;&gt;140224580307992 -->\n",
       "<g class=\"edge\" id=\"edge1\"><title>140224580307768-&gt;140224580307992</title>\n",
       "<path d=\"M136.486,-159.799C155.097,-146.725 180.856,-128.63 201.081,-114.422\" fill=\"none\" stroke=\"black\"/>\n",
       "<polygon fill=\"black\" points=\"203.203,-117.209 209.374,-108.597 199.179,-111.481 203.203,-117.209\" stroke=\"black\"/>\n",
       "<text font-family=\"Times,serif\" font-size=\"14.00\" text-anchor=\"middle\" x=\"183.5\" y=\"-130.8\">0</text>\n",
       "</g>\n",
       "<!-- 140224580307824 -->\n",
       "<g class=\"node\" id=\"node3\"><title>140224580307824</title>\n",
       "<polygon fill=\"green\" points=\"466,-196 242,-196 242,-160 466,-160 466,-196\" stroke=\"black\"/>\n",
       "<text font-family=\"Times,serif\" font-size=\"14.00\" text-anchor=\"middle\" x=\"354\" y=\"-174.3\">name=y1 TensorType(float64, scalar)</text>\n",
       "</g>\n",
       "<!-- 140224580307824&#45;&gt;140224580307992 -->\n",
       "<g class=\"edge\" id=\"edge2\"><title>140224580307824-&gt;140224580307992</title>\n",
       "<path d=\"M329.514,-159.799C310.903,-146.725 285.144,-128.63 264.919,-114.422\" fill=\"none\" stroke=\"black\"/>\n",
       "<polygon fill=\"black\" points=\"266.821,-111.481 256.626,-108.597 262.797,-117.209 266.821,-111.481\" stroke=\"black\"/>\n",
       "<text font-family=\"Times,serif\" font-size=\"14.00\" text-anchor=\"middle\" x=\"304.5\" y=\"-130.8\">1</text>\n",
       "</g>\n",
       "</g>\n",
       "</svg>"
      ],
      "text/plain": [
       "<IPython.core.display.SVG object>"
      ]
     },
     "execution_count": 6,
     "metadata": {},
     "output_type": "execute_result"
    }
   ],
   "source": [
    "SVG(theano.printing.pydotprint(z1, return_image=True, format='svg'))"
   ]
  },
  {
   "cell_type": "code",
   "execution_count": 7,
   "metadata": {},
   "outputs": [
    {
     "data": {
      "image/svg+xml": [
       "<svg height=\"291pt\" viewBox=\"0.00 0.00 474.00 291.00\" width=\"474pt\" xmlns=\"http://www.w3.org/2000/svg\" xmlns:xlink=\"http://www.w3.org/1999/xlink\">\n",
       "<g class=\"graph\" id=\"graph0\" transform=\"scale(1 1) rotate(0) translate(4 287)\">\n",
       "<title>G</title>\n",
       "<polygon fill=\"white\" points=\"-4,4 -4,-287 470,-287 470,4 -4,4\" stroke=\"none\"/>\n",
       "<!-- 140224579267160 -->\n",
       "<g class=\"node\" id=\"node1\"><title>140224579267160</title>\n",
       "<ellipse cx=\"233\" cy=\"-178\" fill=\"#ffaabb\" rx=\"108.581\" ry=\"18\" stroke=\"black\"/>\n",
       "<text font-family=\"Times,serif\" font-size=\"14.00\" text-anchor=\"middle\" x=\"233\" y=\"-174.3\">Elemwise{add,no_inplace}</text>\n",
       "</g>\n",
       "<!-- 140224579267440 -->\n",
       "<g class=\"node\" id=\"node4\"><title>140224579267440</title>\n",
       "<ellipse cx=\"233\" cy=\"-91\" fill=\"#ffaabb\" rx=\"108.581\" ry=\"18\" stroke=\"black\"/>\n",
       "<text font-family=\"Times,serif\" font-size=\"14.00\" text-anchor=\"middle\" x=\"233\" y=\"-87.3\">Elemwise{exp,no_inplace}</text>\n",
       "</g>\n",
       "<!-- 140224579267160&#45;&gt;140224579267440 -->\n",
       "<g class=\"edge\" id=\"edge3\"><title>140224579267160-&gt;140224579267440</title>\n",
       "<path d=\"M233,-159.799C233,-148.163 233,-132.548 233,-119.237\" fill=\"none\" stroke=\"black\"/>\n",
       "<polygon fill=\"black\" points=\"236.5,-119.175 233,-109.175 229.5,-119.175 236.5,-119.175\" stroke=\"black\"/>\n",
       "<text font-family=\"Times,serif\" font-size=\"14.00\" text-anchor=\"middle\" x=\"309\" y=\"-130.8\">TensorType(float64, scalar)</text>\n",
       "</g>\n",
       "<!-- 140224579266880 -->\n",
       "<g class=\"node\" id=\"node2\"><title>140224579266880</title>\n",
       "<polygon fill=\"green\" points=\"224,-283 0,-283 0,-247 224,-247 224,-283\" stroke=\"black\"/>\n",
       "<text font-family=\"Times,serif\" font-size=\"14.00\" text-anchor=\"middle\" x=\"112\" y=\"-261.3\">name=x1 TensorType(float64, scalar)</text>\n",
       "</g>\n",
       "<!-- 140224579266880&#45;&gt;140224579267160 -->\n",
       "<g class=\"edge\" id=\"edge1\"><title>140224579266880-&gt;140224579267160</title>\n",
       "<path d=\"M136.486,-246.799C155.097,-233.725 180.856,-215.63 201.081,-201.422\" fill=\"none\" stroke=\"black\"/>\n",
       "<polygon fill=\"black\" points=\"203.203,-204.209 209.374,-195.597 199.179,-198.481 203.203,-204.209\" stroke=\"black\"/>\n",
       "<text font-family=\"Times,serif\" font-size=\"14.00\" text-anchor=\"middle\" x=\"183.5\" y=\"-217.8\">0</text>\n",
       "</g>\n",
       "<!-- 140224579266936 -->\n",
       "<g class=\"node\" id=\"node3\"><title>140224579266936</title>\n",
       "<polygon fill=\"green\" points=\"466,-283 242,-283 242,-247 466,-247 466,-283\" stroke=\"black\"/>\n",
       "<text font-family=\"Times,serif\" font-size=\"14.00\" text-anchor=\"middle\" x=\"354\" y=\"-261.3\">name=y1 TensorType(float64, scalar)</text>\n",
       "</g>\n",
       "<!-- 140224579266936&#45;&gt;140224579267160 -->\n",
       "<g class=\"edge\" id=\"edge2\"><title>140224579266936-&gt;140224579267160</title>\n",
       "<path d=\"M329.514,-246.799C310.903,-233.725 285.144,-215.63 264.919,-201.422\" fill=\"none\" stroke=\"black\"/>\n",
       "<polygon fill=\"black\" points=\"266.821,-198.481 256.626,-195.597 262.797,-204.209 266.821,-198.481\" stroke=\"black\"/>\n",
       "<text font-family=\"Times,serif\" font-size=\"14.00\" text-anchor=\"middle\" x=\"304.5\" y=\"-217.8\">1</text>\n",
       "</g>\n",
       "<!-- 140224579267664 -->\n",
       "<g class=\"node\" id=\"node5\"><title>140224579267664</title>\n",
       "<polygon fill=\"blue\" points=\"317,-36 149,-36 149,-0 317,-0 317,-36\" stroke=\"black\"/>\n",
       "<text font-family=\"Times,serif\" font-size=\"14.00\" text-anchor=\"middle\" x=\"233\" y=\"-14.3\">TensorType(float64, scalar)</text>\n",
       "</g>\n",
       "<!-- 140224579267440&#45;&gt;140224579267664 -->\n",
       "<g class=\"edge\" id=\"edge4\"><title>140224579267440-&gt;140224579267664</title>\n",
       "<path d=\"M233,-72.8129C233,-64.7895 233,-55.0475 233,-46.0691\" fill=\"none\" stroke=\"black\"/>\n",
       "<polygon fill=\"black\" points=\"236.5,-46.0288 233,-36.0288 229.5,-46.0289 236.5,-46.0288\" stroke=\"black\"/>\n",
       "</g>\n",
       "</g>\n",
       "</svg>"
      ],
      "text/plain": [
       "<IPython.core.display.SVG object>"
      ]
     },
     "execution_count": 7,
     "metadata": {},
     "output_type": "execute_result"
    }
   ],
   "source": [
    "SVG(theano.printing.pydotprint(u1, return_image=True, format='svg'))"
   ]
  },
  {
   "cell_type": "code",
   "execution_count": 8,
   "metadata": {},
   "outputs": [],
   "source": [
    "X = T.dmatrix('X')\n",
    "w = T.dvector('w')\n",
    "b = T.dvector('b')\n",
    "\n",
    "y = T.dot(X, w) + b\n",
    "f1 = theano.function([X, w, b], y)\n"
   ]
  },
  {
   "cell_type": "code",
   "execution_count": 9,
   "metadata": {},
   "outputs": [],
   "source": [
    "iris = sns.load_dataset(\"iris\")"
   ]
  },
  {
   "cell_type": "code",
   "execution_count": 10,
   "metadata": {},
   "outputs": [
    {
     "data": {
      "text/plain": [
       "array([17.4, 15.7, 16. , 15.8, 17.6, 19.6, 16.8, 17.1, 14.9, 15.9, 18.4,\n",
       "       17. , 15.4, 14.6, 19.4, 21.2, 19.2, 17.6, 19.4, 18.6, 17.7, 18.5,\n",
       "       16.8, 17.7, 17.3, 16. , 17.6, 17.6, 17.2, 16.3, 16.1, 17.9, 19.2,\n",
       "       19.9, 16.1, 16.2, 17.7, 17.3, 15.1, 17.2, 17.4, 13.3, 15.7, 18.3,\n",
       "       19.2, 15.8, 18.5, 16. , 18.3, 16.7, 24.1, 23.5, 24.1, 19. , 22.5,\n",
       "       21.2, 24.1, 17.4, 22.5, 20. , 16.5, 22.1, 18.6, 22.3, 20.5, 23.2,\n",
       "       22.1, 20. , 20.3, 19.2, 23.9, 21.1, 21.7, 21.6, 22. , 22.8, 22.8,\n",
       "       24.1, 22.2, 19. , 18.7, 18.4, 20.2, 22.4, 21.9, 23.9, 23.7, 20.2,\n",
       "       21.3, 19.6, 20.1, 22.5, 20. , 17.2, 20.5, 21.3, 21.2, 21.8, 17.8,\n",
       "       20.8, 27.2, 22.8, 26.2, 24.2, 25.7, 27.4, 20.3, 25.9, 23.6, 29.1,\n",
       "       25.2, 23.6, 25.5, 22.2, 24.1, 25.9, 24.6, 30.2, 27. , 20.6, 26.8,\n",
       "       22.9, 26.8, 22.9, 26.5, 26.4, 23. , 23.6, 24.6, 25.2, 25.7, 29.7,\n",
       "       24.8, 22.8, 22.3, 27.4, 26.9, 24.8, 23.4, 25.8, 26.4, 25.9, 22.8,\n",
       "       26.9, 27.3, 25.5, 22.6, 24.7, 26.4, 23.6])"
      ]
     },
     "execution_count": 10,
     "metadata": {},
     "output_type": "execute_result"
    }
   ],
   "source": [
    "f1(iris.iloc[:,:-1].values, [1, 2, 1, 2], iris.iloc[:, 1])"
   ]
  },
  {
   "cell_type": "code",
   "execution_count": 11,
   "metadata": {},
   "outputs": [
    {
     "data": {
      "text/plain": [
       "array(0.73105858)"
      ]
     },
     "execution_count": 11,
     "metadata": {},
     "output_type": "execute_result"
    }
   ],
   "source": [
    "s1 = 1 / (1 + T.exp(-x1))\n",
    "logistic = theano.function([x1], s1)\n",
    "logistic(1)"
   ]
  },
  {
   "cell_type": "code",
   "execution_count": 12,
   "metadata": {},
   "outputs": [
    {
     "data": {
      "image/svg+xml": [
       "<svg height=\"451pt\" viewBox=\"0.00 0.00 473.00 451.00\" width=\"473pt\" xmlns=\"http://www.w3.org/2000/svg\" xmlns:xlink=\"http://www.w3.org/1999/xlink\">\n",
       "<g class=\"graph\" id=\"graph0\" transform=\"scale(1 1) rotate(0) translate(4 447)\">\n",
       "<title>G</title>\n",
       "<polygon fill=\"white\" points=\"-4,4 -4,-447 469,-447 469,4 -4,4\" stroke=\"none\"/>\n",
       "<!-- 140224577226064 -->\n",
       "<g class=\"node\" id=\"node1\"><title>140224577226064</title>\n",
       "<ellipse cx=\"313\" cy=\"-352\" fill=\"#ffaabb\" rx=\"108.581\" ry=\"18\" stroke=\"black\"/>\n",
       "<text font-family=\"Times,serif\" font-size=\"14.00\" text-anchor=\"middle\" x=\"313\" y=\"-348.3\">Elemwise{neg,no_inplace}</text>\n",
       "</g>\n",
       "<!-- 140224577224944 -->\n",
       "<g class=\"node\" id=\"node3\"><title>140224577224944</title>\n",
       "<ellipse cx=\"313\" cy=\"-265\" fill=\"#ffaabb\" rx=\"108.581\" ry=\"18\" stroke=\"black\"/>\n",
       "<text font-family=\"Times,serif\" font-size=\"14.00\" text-anchor=\"middle\" x=\"313\" y=\"-261.3\">Elemwise{exp,no_inplace}</text>\n",
       "</g>\n",
       "<!-- 140224577226064&#45;&gt;140224577224944 -->\n",
       "<g class=\"edge\" id=\"edge2\"><title>140224577226064-&gt;140224577224944</title>\n",
       "<path d=\"M313,-333.799C313,-322.163 313,-306.548 313,-293.237\" fill=\"none\" stroke=\"black\"/>\n",
       "<polygon fill=\"black\" points=\"316.5,-293.175 313,-283.175 309.5,-293.175 316.5,-293.175\" stroke=\"black\"/>\n",
       "<text font-family=\"Times,serif\" font-size=\"14.00\" text-anchor=\"middle\" x=\"389\" y=\"-304.8\">TensorType(float64, scalar)</text>\n",
       "</g>\n",
       "<!-- 140224577227688 -->\n",
       "<g class=\"node\" id=\"node2\"><title>140224577227688</title>\n",
       "<polygon fill=\"green\" points=\"425,-443 201,-443 201,-407 425,-407 425,-443\" stroke=\"black\"/>\n",
       "<text font-family=\"Times,serif\" font-size=\"14.00\" text-anchor=\"middle\" x=\"313\" y=\"-421.3\">name=x1 TensorType(float64, scalar)</text>\n",
       "</g>\n",
       "<!-- 140224577227688&#45;&gt;140224577226064 -->\n",
       "<g class=\"edge\" id=\"edge1\"><title>140224577227688-&gt;140224577226064</title>\n",
       "<path d=\"M313,-406.813C313,-398.789 313,-389.047 313,-380.069\" fill=\"none\" stroke=\"black\"/>\n",
       "<polygon fill=\"black\" points=\"316.5,-380.029 313,-370.029 309.5,-380.029 316.5,-380.029\" stroke=\"black\"/>\n",
       "</g>\n",
       "<!-- 140224577192792 -->\n",
       "<g class=\"node\" id=\"node4\"><title>140224577192792</title>\n",
       "<ellipse cx=\"227\" cy=\"-178\" fill=\"#ffaabb\" rx=\"108.581\" ry=\"18\" stroke=\"black\"/>\n",
       "<text font-family=\"Times,serif\" font-size=\"14.00\" text-anchor=\"middle\" x=\"227\" y=\"-174.3\">Elemwise{add,no_inplace}</text>\n",
       "</g>\n",
       "<!-- 140224577224944&#45;&gt;140224577192792 -->\n",
       "<g class=\"edge\" id=\"edge4\"><title>140224577224944-&gt;140224577192792</title>\n",
       "<path d=\"M296.009,-247.207C283.371,-234.715 265.93,-217.477 251.745,-203.457\" fill=\"none\" stroke=\"black\"/>\n",
       "<polygon fill=\"black\" points=\"253.823,-200.59 244.25,-196.049 248.902,-205.568 253.823,-200.59\" stroke=\"black\"/>\n",
       "<text font-family=\"Times,serif\" font-size=\"14.00\" text-anchor=\"middle\" x=\"356.5\" y=\"-217.8\">1 TensorType(float64, scalar)</text>\n",
       "</g>\n",
       "<!-- 140224577333232 -->\n",
       "<g class=\"node\" id=\"node6\"><title>140224577333232</title>\n",
       "<ellipse cx=\"134\" cy=\"-91\" fill=\"#ffaabb\" rx=\"124.578\" ry=\"18\" stroke=\"black\"/>\n",
       "<text font-family=\"Times,serif\" font-size=\"14.00\" text-anchor=\"middle\" x=\"134\" y=\"-87.3\">Elemwise{true_div,no_inplace}</text>\n",
       "</g>\n",
       "<!-- 140224577192792&#45;&gt;140224577333232 -->\n",
       "<g class=\"edge\" id=\"edge6\"><title>140224577192792-&gt;140224577333232</title>\n",
       "<path d=\"M208.626,-160.207C194.832,-147.599 175.749,-130.158 160.334,-116.068\" fill=\"none\" stroke=\"black\"/>\n",
       "<polygon fill=\"black\" points=\"162.397,-113.212 152.654,-109.049 157.674,-118.379 162.397,-113.212\" stroke=\"black\"/>\n",
       "<text font-family=\"Times,serif\" font-size=\"14.00\" text-anchor=\"middle\" x=\"267.5\" y=\"-130.8\">1 TensorType(float64, scalar)</text>\n",
       "</g>\n",
       "<!-- 140224577226232 -->\n",
       "<g class=\"node\" id=\"node5\"><title>140224577226232</title>\n",
       "<polygon fill=\"green\" points=\"186,-283 1.42109e-14,-283 1.42109e-14,-247 186,-247 186,-283\" stroke=\"black\"/>\n",
       "<text font-family=\"Times,serif\" font-size=\"14.00\" text-anchor=\"middle\" x=\"93\" y=\"-261.3\">val=1 TensorType(int8, scalar)</text>\n",
       "</g>\n",
       "<!-- 140224577226232&#45;&gt;140224577192792 -->\n",
       "<g class=\"edge\" id=\"edge3\"><title>140224577226232-&gt;140224577192792</title>\n",
       "<path d=\"M120.117,-246.799C140.911,-233.609 169.763,-215.307 192.251,-201.043\" fill=\"none\" stroke=\"black\"/>\n",
       "<polygon fill=\"black\" points=\"194.266,-203.909 200.835,-195.597 190.516,-197.998 194.266,-203.909\" stroke=\"black\"/>\n",
       "<text font-family=\"Times,serif\" font-size=\"14.00\" text-anchor=\"middle\" x=\"171.5\" y=\"-217.8\">0</text>\n",
       "</g>\n",
       "<!-- 140224577226232&#45;&gt;140224577333232 -->\n",
       "<g class=\"edge\" id=\"edge5\"><title>140224577226232-&gt;140224577333232</title>\n",
       "<path d=\"M92.652,-246.747C92.648,-225.849 93.9878,-189.749 102,-160 105.921,-145.443 112.821,-130.174 119.213,-117.801\" fill=\"none\" stroke=\"black\"/>\n",
       "<polygon fill=\"black\" points=\"122.31,-119.431 123.944,-108.963 116.138,-116.128 122.31,-119.431\" stroke=\"black\"/>\n",
       "<text font-family=\"Times,serif\" font-size=\"14.00\" text-anchor=\"middle\" x=\"105.5\" y=\"-174.3\">0</text>\n",
       "</g>\n",
       "<!-- 140224577331272 -->\n",
       "<g class=\"node\" id=\"node7\"><title>140224577331272</title>\n",
       "<polygon fill=\"blue\" points=\"218,-36 50,-36 50,-0 218,-0 218,-36\" stroke=\"black\"/>\n",
       "<text font-family=\"Times,serif\" font-size=\"14.00\" text-anchor=\"middle\" x=\"134\" y=\"-14.3\">TensorType(float64, scalar)</text>\n",
       "</g>\n",
       "<!-- 140224577333232&#45;&gt;140224577331272 -->\n",
       "<g class=\"edge\" id=\"edge7\"><title>140224577333232-&gt;140224577331272</title>\n",
       "<path d=\"M134,-72.8129C134,-64.7895 134,-55.0475 134,-46.0691\" fill=\"none\" stroke=\"black\"/>\n",
       "<polygon fill=\"black\" points=\"137.5,-46.0288 134,-36.0288 130.5,-46.0289 137.5,-46.0288\" stroke=\"black\"/>\n",
       "</g>\n",
       "</g>\n",
       "</svg>"
      ],
      "text/plain": [
       "<IPython.core.display.SVG object>"
      ]
     },
     "execution_count": 12,
     "metadata": {},
     "output_type": "execute_result"
    }
   ],
   "source": [
    "SVG(theano.printing.pydotprint(s1, return_image=True, format='svg'))"
   ]
  },
  {
   "cell_type": "markdown",
   "metadata": {},
   "source": [
    "theano.In으로 default값 설정"
   ]
  },
  {
   "cell_type": "code",
   "execution_count": 13,
   "metadata": {},
   "outputs": [],
   "source": [
    "x1, y1 = T.dscalars('x1', 'y1')\n",
    "z1 = x1 + y1\n",
    "f1 = theano.function([theano.In(x1, value=1), theano.In(y1, value=2)], z1)"
   ]
  },
  {
   "cell_type": "code",
   "execution_count": 14,
   "metadata": {},
   "outputs": [
    {
     "data": {
      "text/plain": [
       "array(3.)"
      ]
     },
     "execution_count": 14,
     "metadata": {},
     "output_type": "execute_result"
    }
   ],
   "source": [
    "f1()"
   ]
  }
 ],
 "metadata": {
  "kernelspec": {
   "display_name": "Python 3",
   "language": "python",
   "name": "python3"
  },
  "language_info": {
   "codemirror_mode": {
    "name": "ipython",
    "version": 3
   },
   "file_extension": ".py",
   "mimetype": "text/x-python",
   "name": "python",
   "nbconvert_exporter": "python",
   "pygments_lexer": "ipython3",
   "version": "3.6.4"
  }
 },
 "nbformat": 4,
 "nbformat_minor": 2
}
