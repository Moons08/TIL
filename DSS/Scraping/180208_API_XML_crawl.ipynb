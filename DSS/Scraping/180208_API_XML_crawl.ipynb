{
 "cells": [
  {
   "cell_type": "code",
   "execution_count": 5,
   "metadata": {
    "collapsed": true
   },
   "outputs": [],
   "source": [
    "import requests\n",
    "import time"
   ]
  },
  {
   "cell_type": "markdown",
   "metadata": {},
   "source": [
    "http://m.stock.naver.com/api/json/sise/siseListJson.nhn?menu=market_sum&sosok=0&pageSize=20&page=4"
   ]
  },
  {
   "cell_type": "code",
   "execution_count": 28,
   "metadata": {
    "collapsed": true
   },
   "outputs": [],
   "source": [
    "def make_url(pageSize=10, page=1):\n",
    "    return \"http://m.stock.naver.com/api/json/sise/siseListJson.nhn?menu=market_sum&sosok=0&pageSize=\"+str(pageSize) + \"&page=\"+str(page)\n",
    "\n",
    "def get_data(url):\n",
    "    response = requests.get(url)\n",
    "    json_info = response.json()\n",
    "    companys = json_info['result']['itemList']\n",
    "    print(type(json_info))\n",
    "    df = pd.DataFrame(columns=['종목','시세','전일비','등락율','시가총액','거래량'])\n",
    "    for company in companys:\n",
    "        df.loc[len(df)] ={\n",
    "            \"종목\":company[\"nm\"],\n",
    "            \"시세\":company[\"nv\"],\n",
    "            \"전일비\":company[\"cv\"],\n",
    "            \"등락율\":company[\"cr\"],\n",
    "            \"시가총액\":company[\"mks\"],\n",
    "            \"거래량\":company[\"aq\"],\n",
    "        }\n",
    "    return df"
   ]
  },
  {
   "cell_type": "code",
   "execution_count": 29,
   "metadata": {},
   "outputs": [
    {
     "name": "stdout",
     "output_type": "stream",
     "text": [
      "<class 'dict'>\n"
     ]
    },
    {
     "data": {
      "text/html": [
       "<div>\n",
       "<style>\n",
       "    .dataframe thead tr:only-child th {\n",
       "        text-align: right;\n",
       "    }\n",
       "\n",
       "    .dataframe thead th {\n",
       "        text-align: left;\n",
       "    }\n",
       "\n",
       "    .dataframe tbody tr th {\n",
       "        vertical-align: top;\n",
       "    }\n",
       "</style>\n",
       "<table border=\"1\" class=\"dataframe\">\n",
       "  <thead>\n",
       "    <tr style=\"text-align: right;\">\n",
       "      <th></th>\n",
       "      <th>종목</th>\n",
       "      <th>시세</th>\n",
       "      <th>전일비</th>\n",
       "      <th>등락율</th>\n",
       "      <th>시가총액</th>\n",
       "      <th>거래량</th>\n",
       "    </tr>\n",
       "  </thead>\n",
       "  <tbody>\n",
       "    <tr>\n",
       "      <th>0</th>\n",
       "      <td>삼성전자</td>\n",
       "      <td>2300000</td>\n",
       "      <td>10000</td>\n",
       "      <td>0.44</td>\n",
       "      <td>2952889</td>\n",
       "      <td>449477</td>\n",
       "    </tr>\n",
       "    <tr>\n",
       "      <th>1</th>\n",
       "      <td>SK하이닉스</td>\n",
       "      <td>73900</td>\n",
       "      <td>2800</td>\n",
       "      <td>3.94</td>\n",
       "      <td>537994</td>\n",
       "      <td>5561590</td>\n",
       "    </tr>\n",
       "    <tr>\n",
       "      <th>2</th>\n",
       "      <td>현대차</td>\n",
       "      <td>161000</td>\n",
       "      <td>3500</td>\n",
       "      <td>2.22</td>\n",
       "      <td>354645</td>\n",
       "      <td>881713</td>\n",
       "    </tr>\n",
       "    <tr>\n",
       "      <th>3</th>\n",
       "      <td>삼성전자우</td>\n",
       "      <td>1905000</td>\n",
       "      <td>24000</td>\n",
       "      <td>1.28</td>\n",
       "      <td>344283</td>\n",
       "      <td>40309</td>\n",
       "    </tr>\n",
       "    <tr>\n",
       "      <th>4</th>\n",
       "      <td>POSCO</td>\n",
       "      <td>360500</td>\n",
       "      <td>-4500</td>\n",
       "      <td>-1.23</td>\n",
       "      <td>314309</td>\n",
       "      <td>358853</td>\n",
       "    </tr>\n",
       "  </tbody>\n",
       "</table>\n",
       "</div>"
      ],
      "text/plain": [
       "       종목       시세    전일비   등락율     시가총액      거래량\n",
       "0    삼성전자  2300000  10000  0.44  2952889   449477\n",
       "1  SK하이닉스    73900   2800  3.94   537994  5561590\n",
       "2     현대차   161000   3500  2.22   354645   881713\n",
       "3   삼성전자우  1905000  24000  1.28   344283    40309\n",
       "4   POSCO   360500  -4500 -1.23   314309   358853"
      ]
     },
     "execution_count": 29,
     "metadata": {},
     "output_type": "execute_result"
    }
   ],
   "source": [
    "url = make_url()\n",
    "df = get_data(url)\n",
    "df.head()"
   ]
  },
  {
   "cell_type": "code",
   "execution_count": 6,
   "metadata": {
    "collapsed": true
   },
   "outputs": [],
   "source": [
    "from bs4 import BeautifulSoup"
   ]
  },
  {
   "cell_type": "code",
   "execution_count": 120,
   "metadata": {
    "collapsed": true
   },
   "outputs": [],
   "source": [
    "def make_url(date=20180208):\n",
    "    return \"http://sports.news.naver.com/ajax/pc2018/schedule.nhn?type=date&onlyKorea=true&date=\" +str(date)\n",
    "\n",
    "def get_data(url):\n",
    "    df = pd.DataFrame(columns=['경기시각', '종목','경기명','경기결과'])\n",
    "    response = requests.get(url)\n",
    "    soup = BeautifulSoup(response.text, features = 'lxml')\n",
    "    print(type(soup.p), soup.get('title'), soup)\n",
    "\n",
    "    return df"
   ]
  },
  {
   "cell_type": "markdown",
   "metadata": {},
   "source": [
    "it doesn't work..."
   ]
  },
  {
   "cell_type": "code",
   "execution_count": 121,
   "metadata": {},
   "outputs": [
    {
     "name": "stdout",
     "output_type": "stream",
     "text": [
      "<class 'bs4.element.Tag'> None <html><body><p>[{\"gameId\":\"CURXTEAM2PREL000103\",\"title\":\"믹스더블 예선 세션 1 시트 C\",\"videoFlag\":\"Y\",\"statusCode\":\"RESULT\",\"cancel\":\"N\",\"detailGameStatus\":\"RESULT\",\"disciplineCode\":\"CUR\",\"disciplineName\":\"컬링\",\"disciplineEnum\":{\"disciplineCode\":\"CUR\",\"disciplineName\":\"컬링\",\"disciplineShortName\":\"컬링\",\"disciplineEnglishName\":\"curling\",\"goldCount\":3,\"silverCount\":3,\"bronzeCount\":3,\"cssClass\":\"cu\",\"stadiumList\":[{\"stadiumCode\":\"GCC\",\"stadiumName\":\"강릉 컬링 센터\",\"region\":{\"id\":\"GNG\",\"name\":\"강릉\",\"fullName\":\"강릉 코스탈 클러스터\",\"cssClass\":\"gangneung\"},\"cssClass\":\"gn_cu\",\"stadiumNo\":12,\"mobileScheduleLeftStyle\":487,\"stadiumModifiedName\":\"강릉<br/>컬링 센터\"}],\"columnUrl\":\"http://m.post.naver.com/viewer/postView.nhn?volumeNo=10970382&amp;memberNo=39816655&amp;navigationType=push\"},\"eventCode\":\"CURXTEAM2\",\"eventName\":null,\"eventEnum\":{\"disciplineCode\":\"CUR\",\"gender\":\"X\",\"eventCode\":\"CURXTEAM2\",\"eventName\":\"믹스더블\",\"shortEventName\":\"믹스더블\",\"korea\":false},\"phaseCode\":null,\"phaseName\":null,\"isMedal\":\"N\",\"isTeam\":\"Y\",\"isKorea\":\"Y\",\"gameType\":\"match\",\"result\":{\"match\":{\"homeCode\":\"KOR\",\"homeName\":\"대한민국\",\"homeScore\":\"9\",\"awayCode\":\"FIN\",\"awayName\":\"핀란드\",\"awayScore\":\"4\",\"homeResult\":{\"medal\":\"\",\"ranking\":\"\",\"rankingTotal\":\"\",\"stats\":\"9\",\"recordAdd\":\"\",\"extraInfo\":\"승\",\"qmark\":\"\",\"newrecord\":\"\"},\"awayResult\":{\"medal\":\"\",\"ranking\":\"\",\"rankingTotal\":\"\",\"stats\":\"4\",\"recordAdd\":\"\",\"extraInfo\":\"패\",\"qmark\":\"\",\"newrecord\":\"\"},\"homePlayerList\":{\"player\":[{\"playerId\":\"NCR0076\",\"playerName\":\"이기정\"},{\"playerId\":\"NCR0075\",\"playerName\":\"장혜지\"}]},\"awayPlayerList\":{\"player\":[{\"playerId\":\"3026907\",\"playerName\":\"오오나 카우스테\"},{\"playerId\":\"3029091\",\"playerName\":\"토미 란타마에키\"}]}}},\"recordGameResult\":{\"record\":[]},\"koreanPlayerList\":{\"koreanPlayer\":[{\"playerId\":\"NCR0076\",\"playerName\":\"이기정\",\"playerBirth\":\"1995\",\"playerTeamName\":\"\",\"playerImageUrl\":\"http://dbscthumb.phinf.naver.net/5203_000_1/20180122171343099_ZI3RZGXV8.jpg/%EC%9D%B4%EA%B8%B0.jpg?type=m1500\"},{\"playerId\":\"NCR0075\",\"playerName\":\"장혜지\",\"playerBirth\":\"1997\",\"playerTeamName\":\"\",\"playerImageUrl\":\"http://dbscthumb.phinf.naver.net/5203_000_1/20180122171343058_R4UBJVM6I.jpg/%EC%9E%A5%ED%98%9C.jpg?type=m1500\"}]},\"koreanPlayerListText\":\"이기정, 장혜지\",\"date\":\"2018-02-08\",\"dateTime\":\"2018-02-08 09:05:00\",\"localDateOfDate\":null,\"formattedDateTime\":\"201802080905\",\"localDateTimeOfDateTime\":{\"monthValue\":2,\"nano\":0,\"hour\":9,\"minute\":5,\"second\":0,\"year\":2018,\"month\":\"FEBRUARY\",\"dayOfMonth\":8,\"dayOfWeek\":\"THURSDAY\",\"dayOfYear\":39,\"chronology\":{\"id\":\"ISO\",\"calendarType\":\"iso8601\"}},\"gender\":\"혼성\",\"genderEng\":\"WOMAN\",\"stadiumCode\":\"GCC\",\"stadium\":\"강릉 컬링 센터\",\"updateDateTime\":null,\"recordType\":null,\"isScheduledTv\":\"Y\",\"isOnAir\":\"N\",\"channelCode\":\"ad4,ad1,ad5,\",\"channelName\":\"MBC,SBS,KBS1,\",\"channelCodeList\":[\"ad4\",\"ad1\",\"ad5\"],\"channelNameList\":[\"MBC\",\"SBS\",\"KBS1\"],\"channelCount\":3,\"korea\":true},{\"gameId\":\"CURXTEAM2PREL000202\",\"title\":\"믹스더블 예선 세션 2 시트 B\",\"videoFlag\":\"N\",\"statusCode\":\"BEFORE\",\"cancel\":\"N\",\"detailGameStatus\":\"BEFORE\",\"disciplineCode\":\"CUR\",\"disciplineName\":\"컬링\",\"disciplineEnum\":{\"disciplineCode\":\"CUR\",\"disciplineName\":\"컬링\",\"disciplineShortName\":\"컬링\",\"disciplineEnglishName\":\"curling\",\"goldCount\":3,\"silverCount\":3,\"bronzeCount\":3,\"cssClass\":\"cu\",\"stadiumList\":[{\"stadiumCode\":\"GCC\",\"stadiumName\":\"강릉 컬링 센터\",\"region\":{\"id\":\"GNG\",\"name\":\"강릉\",\"fullName\":\"강릉 코스탈 클러스터\",\"cssClass\":\"gangneung\"},\"cssClass\":\"gn_cu\",\"stadiumNo\":12,\"mobileScheduleLeftStyle\":487,\"stadiumModifiedName\":\"강릉<br/>컬링 센터\"}],\"columnUrl\":\"http://m.post.naver.com/viewer/postView.nhn?volumeNo=10970382&amp;memberNo=39816655&amp;navigationType=push\"},\"eventCode\":\"CURXTEAM2\",\"eventName\":null,\"eventEnum\":{\"disciplineCode\":\"CUR\",\"gender\":\"X\",\"eventCode\":\"CURXTEAM2\",\"eventName\":\"믹스더블\",\"shortEventName\":\"믹스더블\",\"korea\":false},\"phaseCode\":null,\"phaseName\":null,\"isMedal\":\"N\",\"isTeam\":\"Y\",\"isKorea\":\"Y\",\"gameType\":\"match\",\"result\":{\"match\":{\"homeCode\":\"KOR\",\"homeName\":\"대한민국\",\"homeScore\":\"\",\"awayCode\":\"CHN\",\"awayName\":\"중국\",\"awayScore\":\"\",\"homeResult\":{\"medal\":null,\"ranking\":null,\"rankingTotal\":null,\"stats\":null,\"recordAdd\":null,\"extraInfo\":null,\"qmark\":null,\"newrecord\":null},\"awayResult\":{\"medal\":null,\"ranking\":null,\"rankingTotal\":null,\"stats\":null,\"recordAdd\":null,\"extraInfo\":null,\"qmark\":null,\"newrecord\":null},\"homePlayerList\":{\"player\":[{\"playerId\":\"NCR0076\",\"playerName\":\"이기정\"},{\"playerId\":\"NCR0075\",\"playerName\":\"장혜지\"}]},\"awayPlayerList\":{\"player\":[]}}},\"recordGameResult\":{\"record\":[]},\"koreanPlayerList\":{\"koreanPlayer\":[{\"playerId\":\"NCR0076\",\"playerName\":\"이기정\",\"playerBirth\":\"1995\",\"playerTeamName\":\"\",\"playerImageUrl\":\"http://dbscthumb.phinf.naver.net/5203_000_1/20180122171343099_ZI3RZGXV8.jpg/%EC%9D%B4%EA%B8%B0.jpg?type=m1500\"},{\"playerId\":\"NCR0075\",\"playerName\":\"장혜지\",\"playerBirth\":\"1997\",\"playerTeamName\":\"\",\"playerImageUrl\":\"http://dbscthumb.phinf.naver.net/5203_000_1/20180122171343058_R4UBJVM6I.jpg/%EC%9E%A5%ED%98%9C.jpg?type=m1500\"}]},\"koreanPlayerListText\":\"이기정, 장혜지\",\"date\":\"2018-02-08\",\"dateTime\":\"2018-02-08 20:05:00\",\"localDateOfDate\":null,\"formattedDateTime\":\"201802082005\",\"localDateTimeOfDateTime\":{\"monthValue\":2,\"nano\":0,\"hour\":20,\"minute\":5,\"second\":0,\"year\":2018,\"month\":\"FEBRUARY\",\"dayOfMonth\":8,\"dayOfWeek\":\"THURSDAY\",\"dayOfYear\":39,\"chronology\":{\"id\":\"ISO\",\"calendarType\":\"iso8601\"}},\"gender\":\"혼성\",\"genderEng\":\"WOMAN\",\"stadiumCode\":\"GCC\",\"stadium\":\"강릉 컬링 센터\",\"updateDateTime\":null,\"recordType\":null,\"isScheduledTv\":\"Y\",\"isOnAir\":\"N\",\"channelCode\":\"ad4,ad1,ad2,\",\"channelName\":\"KBS2,SBS,MBC,\",\"channelCodeList\":[\"ad4\",\"ad1\",\"ad2\"],\"channelNameList\":[\"KBS2\",\"SBS\",\"MBC\"],\"channelCount\":3,\"korea\":true},{\"gameId\":\"SJPMNHQUAL0001SJ\",\"title\":\"남자 노멀힐 개인 예선\",\"videoFlag\":\"N\",\"statusCode\":\"BEFORE\",\"cancel\":\"N\",\"detailGameStatus\":\"BEFORE\",\"disciplineCode\":\"SJP\",\"disciplineName\":\"스키점프\",\"disciplineEnum\":{\"disciplineCode\":\"SJP\",\"disciplineName\":\"스키점프\",\"disciplineShortName\":\"스키점프\",\"disciplineEnglishName\":\"ski jumping\",\"goldCount\":4,\"silverCount\":4,\"bronzeCount\":4,\"cssClass\":\"sj\",\"stadiumList\":[{\"stadiumCode\":\"ASJ\",\"stadiumName\":\"알펜시아 스키점프 센터\",\"region\":{\"id\":\"PYE\",\"name\":\"평창\",\"fullName\":\"평창 마운틴 클러스터\",\"cssClass\":\"pyeongchang\"},\"cssClass\":\"ap_sj\",\"stadiumNo\":3,\"mobileScheduleLeftStyle\":531,\"stadiumModifiedName\":\"알펜시아<br/>스키점프 센터\"}],\"columnUrl\":\"http://m.post.naver.com/viewer/postView.nhn?volumeNo=11300906&amp;memberNo=39816655&amp;navigationType=push\"},\"eventCode\":\"SJPMNH\",\"eventName\":null,\"eventEnum\":{\"disciplineCode\":\"SJP\",\"gender\":\"M\",\"eventCode\":\"SJPMNH\",\"eventName\":\"남자 노멀힐\",\"shortEventName\":\"노멀힐\",\"korea\":true},\"phaseCode\":null,\"phaseName\":null,\"isMedal\":\"N\",\"isTeam\":\"N\",\"isKorea\":\"Y\",\"gameType\":\"record\",\"result\":{\"record\":[{\"playerId\":\"NCR0021\",\"playerName\":\"김현기\",\"countryId\":\"KOR\",\"countryName\":\"대한민국\",\"result\":{\"medal\":\"\",\"ranking\":\"\",\"rankingTotal\":\"\",\"stats\":\"\",\"totalStats\":\"\",\"recordAdd\":\"\",\"recordManual\":null,\"extraInfo\":\"\",\"qmark\":\"\",\"newrecord\":\"\"}},{\"playerId\":\"NCR0022\",\"playerName\":\"최서우\",\"countryId\":\"KOR\",\"countryName\":\"대한민국\",\"result\":{\"medal\":\"\",\"ranking\":\"\",\"rankingTotal\":\"\",\"stats\":\"\",\"totalStats\":\"\",\"recordAdd\":\"\",\"recordManual\":null,\"extraInfo\":\"\",\"qmark\":\"\",\"newrecord\":\"\"}}]},\"recordGameResult\":{\"record\":[]},\"koreanPlayerList\":{\"koreanPlayer\":[{\"playerId\":\"NCR0021\",\"playerName\":\"김현기\",\"playerBirth\":\"1983.02.09\",\"playerTeamName\":\"\",\"playerImageUrl\":\"http://dbscthumb.phinf.naver.net/5203_000_1/20180124220950726_QV22HXND8.jpg/%EA%B9%80%ED%98%84.jpg?type=m1500\"},{\"playerId\":\"NCR0022\",\"playerName\":\"최서우\",\"playerBirth\":\"1982.12.03\",\"playerTeamName\":\"\",\"playerImageUrl\":\"http://dbscthumb.phinf.naver.net/5203_000_1/20180130142827311_GQZWVWY0S.jpg/%EC%B5%9C%EC%84%9C.jpg?type=m1500\"}]},\"koreanPlayerListText\":\"김현기, 최서우\",\"date\":\"2018-02-08\",\"dateTime\":\"2018-02-08 21:30:00\",\"localDateOfDate\":null,\"formattedDateTime\":\"201802082130\",\"localDateTimeOfDateTime\":{\"monthValue\":2,\"nano\":0,\"hour\":21,\"minute\":30,\"second\":0,\"year\":2018,\"month\":\"FEBRUARY\",\"dayOfMonth\":8,\"dayOfWeek\":\"THURSDAY\",\"dayOfYear\":39,\"chronology\":{\"id\":\"ISO\",\"calendarType\":\"iso8601\"}},\"gender\":\"남자\",\"genderEng\":\"MAN\",\"stadiumCode\":\"ASJ\",\"stadium\":\"알펜시아 스키점프 센터\",\"updateDateTime\":null,\"recordType\":null,\"isScheduledTv\":null,\"isOnAir\":null,\"channelCode\":\"\",\"channelName\":\"\",\"channelCodeList\":[],\"channelNameList\":[],\"channelCount\":0,\"korea\":true}]</p></body></html>\n"
     ]
    },
    {
     "data": {
      "text/html": [
       "<div>\n",
       "<style>\n",
       "    .dataframe thead tr:only-child th {\n",
       "        text-align: right;\n",
       "    }\n",
       "\n",
       "    .dataframe thead th {\n",
       "        text-align: left;\n",
       "    }\n",
       "\n",
       "    .dataframe tbody tr th {\n",
       "        vertical-align: top;\n",
       "    }\n",
       "</style>\n",
       "<table border=\"1\" class=\"dataframe\">\n",
       "  <thead>\n",
       "    <tr style=\"text-align: right;\">\n",
       "      <th></th>\n",
       "      <th>경기시각</th>\n",
       "      <th>종목</th>\n",
       "      <th>경기명</th>\n",
       "      <th>경기결과</th>\n",
       "    </tr>\n",
       "  </thead>\n",
       "  <tbody>\n",
       "  </tbody>\n",
       "</table>\n",
       "</div>"
      ],
      "text/plain": [
       "Empty DataFrame\n",
       "Columns: [경기시각, 종목, 경기명, 경기결과]\n",
       "Index: []"
      ]
     },
     "execution_count": 121,
     "metadata": {},
     "output_type": "execute_result"
    }
   ],
   "source": [
    "url = make_url()\n",
    "df = get_data(url)\n",
    "df.head()"
   ]
  },
  {
   "cell_type": "code",
   "execution_count": 38,
   "metadata": {
    "collapsed": true
   },
   "outputs": [],
   "source": [
    "import xml.etree.ElementTree as etree"
   ]
  },
  {
   "cell_type": "code",
   "execution_count": 43,
   "metadata": {
    "collapsed": true
   },
   "outputs": [
    {
     "ename": "OSError",
     "evalue": "[Errno 36] File name too long: b'[{\"gameId\":\"CURXTEAM2PREL000103\",\"title\":\"\\xeb\\xaf\\xb9\\xec\\x8a\\xa4\\xeb\\x8d\\x94\\xeb\\xb8\\x94 \\xec\\x98\\x88\\xec\\x84\\xa0 \\xec\\x84\\xb8\\xec\\x85\\x98 1 \\xec\\x8b\\x9c\\xed\\x8a\\xb8 C\",\"videoFlag\":\"Y\",\"statusCode\":\"RESULT\",\"cancel\":\"N\",\"detailGameStatus\":\"RESULT\",\"disciplineCode\":\"CUR\",\"disciplineName\":\"\\xec\\xbb\\xac\\xeb\\xa7\\x81\",\"disciplineEnum\":{\"disciplineCode\":\"CUR\",\"disciplineName\":\"\\xec\\xbb\\xac\\xeb\\xa7\\x81\",\"disciplineShortName\":\"\\xec\\xbb\\xac\\xeb\\xa7\\x81\",\"disciplineEnglishName\":\"curling\",\"goldCount\":3,\"silverCount\":3,\"bronzeCount\":3,\"cssClass\":\"cu\",\"stadiumList\":[{\"stadiumCode\":\"GCC\",\"stadiumName\":\"\\xea\\xb0\\x95\\xeb\\xa6\\x89 \\xec\\xbb\\xac\\xeb\\xa7\\x81 \\xec\\x84\\xbc\\xed\\x84\\xb0\",\"region\":{\"id\":\"GNG\",\"name\":\"\\xea\\xb0\\x95\\xeb\\xa6\\x89\",\"fullName\":\"\\xea\\xb0\\x95\\xeb\\xa6\\x89 \\xec\\xbd\\x94\\xec\\x8a\\xa4\\xed\\x83\\x88 \\xed\\x81\\xb4\\xeb\\x9f\\xac\\xec\\x8a\\xa4\\xed\\x84\\xb0\",\"cssClass\":\"gangneung\"},\"cssClass\":\"gn_cu\",\"stadiumNo\":12,\"mobileScheduleLeftStyle\":487,\"stadiumModifiedName\":\"\\xea\\xb0\\x95\\xeb\\xa6\\x89<br>\\xec\\xbb\\xac\\xeb\\xa7\\x81 \\xec\\x84\\xbc\\xed\\x84\\xb0\"}],\"columnUrl\":\"http://m.post.naver.com/viewer/postView.nhn?volumeNo=10970382&memberNo=39816655&navigationType=push\"},\"eventCode\":\"CURXTEAM2\",\"eventName\":null,\"eventEnum\":{\"disciplineCode\":\"CUR\",\"gender\":\"X\",\"eventCode\":\"CURXTEAM2\",\"eventName\":\"\\xeb\\xaf\\xb9\\xec\\x8a\\xa4\\xeb\\x8d\\x94\\xeb\\xb8\\x94\",\"shortEventName\":\"\\xeb\\xaf\\xb9\\xec\\x8a\\xa4\\xeb\\x8d\\x94\\xeb\\xb8\\x94\",\"korea\":false},\"phaseCode\":null,\"phaseName\":null,\"isMedal\":\"N\",\"isTeam\":\"Y\",\"isKorea\":\"Y\",\"gameType\":\"match\",\"result\":{\"match\":{\"homeCode\":\"KOR\",\"homeName\":\"\\xeb\\x8c\\x80\\xed\\x95\\x9c\\xeb\\xaf\\xbc\\xea\\xb5\\xad\",\"homeScore\":\"9\",\"awayCode\":\"FIN\",\"awayName\":\"\\xed\\x95\\x80\\xeb\\x9e\\x80\\xeb\\x93\\x9c\",\"awayScore\":\"4\",\"homeResult\":{\"medal\":\"\",\"ranking\":\"\",\"rankingTotal\":\"\",\"stats\":\"9\",\"recordAdd\":\"\",\"extraInfo\":\"\\xec\\x8a\\xb9\",\"qmark\":\"\",\"newrecord\":\"\"},\"awayResult\":{\"medal\":\"\",\"ranking\":\"\",\"rankingTotal\":\"\",\"stats\":\"4\",\"recordAdd\":\"\",\"extraInfo\":\"\\xed\\x8c\\xa8\",\"qmark\":\"\",\"newrecord\":\"\"},\"homePlayerList\":{\"player\":[{\"playerId\":\"NCR0076\",\"playerName\":\"\\xec\\x9d\\xb4\\xea\\xb8\\xb0\\xec\\xa0\\x95\"},{\"playerId\":\"NCR0075\",\"playerName\":\"\\xec\\x9e\\xa5\\xed\\x98\\x9c\\xec\\xa7\\x80\"}]},\"awayPlayerList\":{\"player\":[{\"playerId\":\"3026907\",\"playerName\":\"\\xec\\x98\\xa4\\xec\\x98\\xa4\\xeb\\x82\\x98 \\xec\\xb9\\xb4\\xec\\x9a\\xb0\\xec\\x8a\\xa4\\xed\\x85\\x8c\"},{\"playerId\":\"3029091\",\"playerName\":\"\\xed\\x86\\xa0\\xeb\\xaf\\xb8 \\xeb\\x9e\\x80\\xed\\x83\\x80\\xeb\\xa7\\x88\\xec\\x97\\x90\\xed\\x82\\xa4\"}]}}},\"recordGameResult\":{\"record\":[]},\"koreanPlayerList\":{\"koreanPlayer\":[{\"playerId\":\"NCR0076\",\"playerName\":\"\\xec\\x9d\\xb4\\xea\\xb8\\xb0\\xec\\xa0\\x95\",\"playerBirth\":\"1995\",\"playerTeamName\":\"\",\"playerImageUrl\":\"http://dbscthumb.phinf.naver.net/5203_000_1/20180122171343099_ZI3RZGXV8.jpg/%EC%9D%B4%EA%B8%B0.jpg?type=m1500\"},{\"playerId\":\"NCR0075\",\"playerName\":\"\\xec\\x9e\\xa5\\xed\\x98\\x9c\\xec\\xa7\\x80\",\"playerBirth\":\"1997\",\"playerTeamName\":\"\",\"playerImageUrl\":\"http://dbscthumb.phinf.naver.net/5203_000_1/20180122171343058_R4UBJVM6I.jpg/%EC%9E%A5%ED%98%9C.jpg?type=m1500\"}]},\"koreanPlayerListText\":\"\\xec\\x9d\\xb4\\xea\\xb8\\xb0\\xec\\xa0\\x95, \\xec\\x9e\\xa5\\xed\\x98\\x9c\\xec\\xa7\\x80\",\"date\":\"2018-02-08\",\"dateTime\":\"2018-02-08 09:05:00\",\"localDateOfDate\":null,\"formattedDateTime\":\"201802080905\",\"localDateTimeOfDateTime\":{\"hour\":9,\"minute\":5,\"second\":0,\"nano\":0,\"year\":2018,\"month\":\"FEBRUARY\",\"dayOfMonth\":8,\"dayOfWeek\":\"THURSDAY\",\"dayOfYear\":39,\"monthValue\":2,\"chronology\":{\"id\":\"ISO\",\"calendarType\":\"iso8601\"}},\"gender\":\"\\xed\\x98\\xbc\\xec\\x84\\xb1\",\"genderEng\":\"WOMAN\",\"stadiumCode\":\"GCC\",\"stadium\":\"\\xea\\xb0\\x95\\xeb\\xa6\\x89 \\xec\\xbb\\xac\\xeb\\xa7\\x81 \\xec\\x84\\xbc\\xed\\x84\\xb0\",\"updateDateTime\":null,\"recordType\":null,\"isScheduledTv\":\"Y\",\"isOnAir\":\"N\",\"channelCode\":\"ad4,ad1,ad5,\",\"channelName\":\"MBC,SBS,KBS1,\",\"channelCodeList\":[\"ad4\",\"ad1\",\"ad5\"],\"channelNameList\":[\"MBC\",\"SBS\",\"KBS1\"],\"channelCount\":3,\"korea\":true},{\"gameId\":\"CURXTEAM2PREL000202\",\"title\":\"\\xeb\\xaf\\xb9\\xec\\x8a\\xa4\\xeb\\x8d\\x94\\xeb\\xb8\\x94 \\xec\\x98\\x88\\xec\\x84\\xa0 \\xec\\x84\\xb8\\xec\\x85\\x98 2 \\xec\\x8b\\x9c\\xed\\x8a\\xb8 B\",\"videoFlag\":\"N\",\"statusCode\":\"BEFORE\",\"cancel\":\"N\",\"detailGameStatus\":\"BEFORE\",\"disciplineCode\":\"CUR\",\"disciplineName\":\"\\xec\\xbb\\xac\\xeb\\xa7\\x81\",\"disciplineEnum\":{\"disciplineCode\":\"CUR\",\"disciplineName\":\"\\xec\\xbb\\xac\\xeb\\xa7\\x81\",\"disciplineShortName\":\"\\xec\\xbb\\xac\\xeb\\xa7\\x81\",\"disciplineEnglishName\":\"curling\",\"goldCount\":3,\"silverCount\":3,\"bronzeCount\":3,\"cssClass\":\"cu\",\"stadiumList\":[{\"stadiumCode\":\"GCC\",\"stadiumName\":\"\\xea\\xb0\\x95\\xeb\\xa6\\x89 \\xec\\xbb\\xac\\xeb\\xa7\\x81 \\xec\\x84\\xbc\\xed\\x84\\xb0\",\"region\":{\"id\":\"GNG\",\"name\":\"\\xea\\xb0\\x95\\xeb\\xa6\\x89\",\"fullName\":\"\\xea\\xb0\\x95\\xeb\\xa6\\x89 \\xec\\xbd\\x94\\xec\\x8a\\xa4\\xed\\x83\\x88 \\xed\\x81\\xb4\\xeb\\x9f\\xac\\xec\\x8a\\xa4\\xed\\x84\\xb0\",\"cssClass\":\"gangneung\"},\"cssClass\":\"gn_cu\",\"stadiumNo\":12,\"mobileScheduleLeftStyle\":487,\"stadiumModifiedName\":\"\\xea\\xb0\\x95\\xeb\\xa6\\x89<br>\\xec\\xbb\\xac\\xeb\\xa7\\x81 \\xec\\x84\\xbc\\xed\\x84\\xb0\"}],\"columnUrl\":\"http://m.post.naver.com/viewer/postView.nhn?volumeNo=10970382&memberNo=39816655&navigationType=push\"},\"eventCode\":\"CURXTEAM2\",\"eventName\":null,\"eventEnum\":{\"disciplineCode\":\"CUR\",\"gender\":\"X\",\"eventCode\":\"CURXTEAM2\",\"eventName\":\"\\xeb\\xaf\\xb9\\xec\\x8a\\xa4\\xeb\\x8d\\x94\\xeb\\xb8\\x94\",\"shortEventName\":\"\\xeb\\xaf\\xb9\\xec\\x8a\\xa4\\xeb\\x8d\\x94\\xeb\\xb8\\x94\",\"korea\":false},\"phaseCode\":null,\"phaseName\":null,\"isMedal\":\"N\",\"isTeam\":\"Y\",\"isKorea\":\"Y\",\"gameType\":\"match\",\"result\":{\"match\":{\"homeCode\":\"KOR\",\"homeName\":\"\\xeb\\x8c\\x80\\xed\\x95\\x9c\\xeb\\xaf\\xbc\\xea\\xb5\\xad\",\"homeScore\":\"\",\"awayCode\":\"CHN\",\"awayName\":\"\\xec\\xa4\\x91\\xea\\xb5\\xad\",\"awayScore\":\"\",\"homeResult\":{\"medal\":null,\"ranking\":null,\"rankingTotal\":null,\"stats\":null,\"recordAdd\":null,\"extraInfo\":null,\"qmark\":null,\"newrecord\":null},\"awayResult\":{\"medal\":null,\"ranking\":null,\"rankingTotal\":null,\"stats\":null,\"recordAdd\":null,\"extraInfo\":null,\"qmark\":null,\"newrecord\":null},\"homePlayerList\":{\"player\":[{\"playerId\":\"NCR0076\",\"playerName\":\"\\xec\\x9d\\xb4\\xea\\xb8\\xb0\\xec\\xa0\\x95\"},{\"playerId\":\"NCR0075\",\"playerName\":\"\\xec\\x9e\\xa5\\xed\\x98\\x9c\\xec\\xa7\\x80\"}]},\"awayPlayerList\":{\"player\":[]}}},\"recordGameResult\":{\"record\":[]},\"koreanPlayerList\":{\"koreanPlayer\":[{\"playerId\":\"NCR0076\",\"playerName\":\"\\xec\\x9d\\xb4\\xea\\xb8\\xb0\\xec\\xa0\\x95\",\"playerBirth\":\"1995\",\"playerTeamName\":\"\",\"playerImageUrl\":\"http://dbscthumb.phinf.naver.net/5203_000_1/20180122171343099_ZI3RZGXV8.jpg/%EC%9D%B4%EA%B8%B0.jpg?type=m1500\"},{\"playerId\":\"NCR0075\",\"playerName\":\"\\xec\\x9e\\xa5\\xed\\x98\\x9c\\xec\\xa7\\x80\",\"playerBirth\":\"1997\",\"playerTeamName\":\"\",\"playerImageUrl\":\"http://dbscthumb.phinf.naver.net/5203_000_1/20180122171343058_R4UBJVM6I.jpg/%EC%9E%A5%ED%98%9C.jpg?type=m1500\"}]},\"koreanPlayerListText\":\"\\xec\\x9d\\xb4\\xea\\xb8\\xb0\\xec\\xa0\\x95, \\xec\\x9e\\xa5\\xed\\x98\\x9c\\xec\\xa7\\x80\",\"date\":\"2018-02-08\",\"dateTime\":\"2018-02-08 20:05:00\",\"localDateOfDate\":null,\"formattedDateTime\":\"201802082005\",\"localDateTimeOfDateTime\":{\"hour\":20,\"minute\":5,\"second\":0,\"nano\":0,\"year\":2018,\"month\":\"FEBRUARY\",\"dayOfMonth\":8,\"dayOfWeek\":\"THURSDAY\",\"dayOfYear\":39,\"monthValue\":2,\"chronology\":{\"id\":\"ISO\",\"calendarType\":\"iso8601\"}},\"gender\":\"\\xed\\x98\\xbc\\xec\\x84\\xb1\",\"genderEng\":\"WOMAN\",\"stadiumCode\":\"GCC\",\"stadium\":\"\\xea\\xb0\\x95\\xeb\\xa6\\x89 \\xec\\xbb\\xac\\xeb\\xa7\\x81 \\xec\\x84\\xbc\\xed\\x84\\xb0\",\"updateDateTime\":null,\"recordType\":null,\"isScheduledTv\":\"Y\",\"isOnAir\":\"N\",\"channelCode\":\"ad4,ad1,ad2,\",\"channelName\":\"KBS2,SBS,MBC,\",\"channelCodeList\":[\"ad4\",\"ad1\",\"ad2\"],\"channelNameList\":[\"KBS2\",\"SBS\",\"MBC\"],\"channelCount\":3,\"korea\":true},{\"gameId\":\"SJPMNHQUAL0001SJ\",\"title\":\"\\xeb\\x82\\xa8\\xec\\x9e\\x90 \\xeb\\x85\\xb8\\xeb\\xa9\\x80\\xed\\x9e\\x90 \\xea\\xb0\\x9c\\xec\\x9d\\xb8 \\xec\\x98\\x88\\xec\\x84\\xa0\",\"videoFlag\":\"N\",\"statusCode\":\"BEFORE\",\"cancel\":\"N\",\"detailGameStatus\":\"BEFORE\",\"disciplineCode\":\"SJP\",\"disciplineName\":\"\\xec\\x8a\\xa4\\xed\\x82\\xa4\\xec\\xa0\\x90\\xed\\x94\\x84\",\"disciplineEnum\":{\"disciplineCode\":\"SJP\",\"disciplineName\":\"\\xec\\x8a\\xa4\\xed\\x82\\xa4\\xec\\xa0\\x90\\xed\\x94\\x84\",\"disciplineShortName\":\"\\xec\\x8a\\xa4\\xed\\x82\\xa4\\xec\\xa0\\x90\\xed\\x94\\x84\",\"disciplineEnglishName\":\"ski jumping\",\"goldCount\":4,\"silverCount\":4,\"bronzeCount\":4,\"cssClass\":\"sj\",\"stadiumList\":[{\"stadiumCode\":\"ASJ\",\"stadiumName\":\"\\xec\\x95\\x8c\\xed\\x8e\\x9c\\xec\\x8b\\x9c\\xec\\x95\\x84 \\xec\\x8a\\xa4\\xed\\x82\\xa4\\xec\\xa0\\x90\\xed\\x94\\x84 \\xec\\x84\\xbc\\xed\\x84\\xb0\",\"region\":{\"id\":\"PYE\",\"name\":\"\\xed\\x8f\\x89\\xec\\xb0\\xbd\",\"fullName\":\"\\xed\\x8f\\x89\\xec\\xb0\\xbd \\xeb\\xa7\\x88\\xec\\x9a\\xb4\\xed\\x8b\\xb4 \\xed\\x81\\xb4\\xeb\\x9f\\xac\\xec\\x8a\\xa4\\xed\\x84\\xb0\",\"cssClass\":\"pyeongchang\"},\"cssClass\":\"ap_sj\",\"stadiumNo\":3,\"mobileScheduleLeftStyle\":531,\"stadiumModifiedName\":\"\\xec\\x95\\x8c\\xed\\x8e\\x9c\\xec\\x8b\\x9c\\xec\\x95\\x84<br>\\xec\\x8a\\xa4\\xed\\x82\\xa4\\xec\\xa0\\x90\\xed\\x94\\x84 \\xec\\x84\\xbc\\xed\\x84\\xb0\"}],\"columnUrl\":\"http://m.post.naver.com/viewer/postView.nhn?volumeNo=11300906&memberNo=39816655&navigationType=push\"},\"eventCode\":\"SJPMNH\",\"eventName\":null,\"eventEnum\":{\"disciplineCode\":\"SJP\",\"gender\":\"M\",\"eventCode\":\"SJPMNH\",\"eventName\":\"\\xeb\\x82\\xa8\\xec\\x9e\\x90 \\xeb\\x85\\xb8\\xeb\\xa9\\x80\\xed\\x9e\\x90\",\"shortEventName\":\"\\xeb\\x85\\xb8\\xeb\\xa9\\x80\\xed\\x9e\\x90\",\"korea\":true},\"phaseCode\":null,\"phaseName\":null,\"isMedal\":\"N\",\"isTeam\":\"N\",\"isKorea\":\"Y\",\"gameType\":\"record\",\"result\":{\"record\":[{\"playerId\":\"NCR0021\",\"playerName\":\"\\xea\\xb9\\x80\\xed\\x98\\x84\\xea\\xb8\\xb0\",\"countryId\":\"KOR\",\"countryName\":\"\\xeb\\x8c\\x80\\xed\\x95\\x9c\\xeb\\xaf\\xbc\\xea\\xb5\\xad\",\"result\":{\"medal\":\"\",\"ranking\":\"\",\"rankingTotal\":\"\",\"stats\":\"\",\"totalStats\":\"\",\"recordAdd\":\"\",\"recordManual\":null,\"extraInfo\":\"\",\"qmark\":\"\",\"newrecord\":\"\"}},{\"playerId\":\"NCR0022\",\"playerName\":\"\\xec\\xb5\\x9c\\xec\\x84\\x9c\\xec\\x9a\\xb0\",\"countryId\":\"KOR\",\"countryName\":\"\\xeb\\x8c\\x80\\xed\\x95\\x9c\\xeb\\xaf\\xbc\\xea\\xb5\\xad\",\"result\":{\"medal\":\"\",\"ranking\":\"\",\"rankingTotal\":\"\",\"stats\":\"\",\"totalStats\":\"\",\"recordAdd\":\"\",\"recordManual\":null,\"extraInfo\":\"\",\"qmark\":\"\",\"newrecord\":\"\"}}]},\"recordGameResult\":{\"record\":[]},\"koreanPlayerList\":{\"koreanPlayer\":[{\"playerId\":\"NCR0021\",\"playerName\":\"\\xea\\xb9\\x80\\xed\\x98\\x84\\xea\\xb8\\xb0\",\"playerBirth\":\"1983.02.09\",\"playerTeamName\":\"\",\"playerImageUrl\":\"http://dbscthumb.phinf.naver.net/5203_000_1/20180124220950726_QV22HXND8.jpg/%EA%B9%80%ED%98%84.jpg?type=m1500\"},{\"playerId\":\"NCR0022\",\"playerName\":\"\\xec\\xb5\\x9c\\xec\\x84\\x9c\\xec\\x9a\\xb0\",\"playerBirth\":\"1982.12.03\",\"playerTeamName\":\"\",\"playerImageUrl\":\"http://dbscthumb.phinf.naver.net/5203_000_1/20180130142827311_GQZWVWY0S.jpg/%EC%B5%9C%EC%84%9C.jpg?type=m1500\"}]},\"koreanPlayerListText\":\"\\xea\\xb9\\x80\\xed\\x98\\x84\\xea\\xb8\\xb0, \\xec\\xb5\\x9c\\xec\\x84\\x9c\\xec\\x9a\\xb0\",\"date\":\"2018-02-08\",\"dateTime\":\"2018-02-08 21:30:00\",\"localDateOfDate\":null,\"formattedDateTime\":\"201802082130\",\"localDateTimeOfDateTime\":{\"hour\":21,\"minute\":30,\"second\":0,\"nano\":0,\"year\":2018,\"month\":\"FEBRUARY\",\"dayOfMonth\":8,\"dayOfWeek\":\"THURSDAY\",\"dayOfYear\":39,\"monthValue\":2,\"chronology\":{\"id\":\"ISO\",\"calendarType\":\"iso8601\"}},\"gender\":\"\\xeb\\x82\\xa8\\xec\\x9e\\x90\",\"genderEng\":\"MAN\",\"stadiumCode\":\"ASJ\",\"stadium\":\"\\xec\\x95\\x8c\\xed\\x8e\\x9c\\xec\\x8b\\x9c\\xec\\x95\\x84 \\xec\\x8a\\xa4\\xed\\x82\\xa4\\xec\\xa0\\x90\\xed\\x94\\x84 \\xec\\x84\\xbc\\xed\\x84\\xb0\",\"updateDateTime\":null,\"recordType\":null,\"isScheduledTv\":null,\"isOnAir\":null,\"channelCode\":\"\",\"channelName\":\"\",\"channelCodeList\":[],\"channelNameList\":[],\"channelCount\":0,\"korea\":true}]'",
     "output_type": "error",
     "traceback": [
      "\u001b[0;31m---------------------------------------------------------------------------\u001b[0m",
      "\u001b[0;31mOSError\u001b[0m                                   Traceback (most recent call last)",
      "\u001b[0;32m<ipython-input-43-4e7eb585f772>\u001b[0m in \u001b[0;36m<module>\u001b[0;34m()\u001b[0m\n\u001b[1;32m      2\u001b[0m \u001b[0mresponse\u001b[0m \u001b[0;34m=\u001b[0m \u001b[0mrequests\u001b[0m\u001b[0;34m.\u001b[0m\u001b[0mget\u001b[0m\u001b[0;34m(\u001b[0m\u001b[0murl\u001b[0m\u001b[0;34m)\u001b[0m\u001b[0;34m\u001b[0m\u001b[0m\n\u001b[1;32m      3\u001b[0m \u001b[0msoup\u001b[0m \u001b[0;34m=\u001b[0m \u001b[0mBeautifulSoup\u001b[0m\u001b[0;34m(\u001b[0m\u001b[0mresponse\u001b[0m\u001b[0;34m.\u001b[0m\u001b[0mcontent\u001b[0m\u001b[0;34m,\u001b[0m \u001b[0;34m'lxml'\u001b[0m\u001b[0;34m)\u001b[0m\u001b[0;34m\u001b[0m\u001b[0m\n\u001b[0;32m----> 4\u001b[0;31m \u001b[0mxm\u001b[0m \u001b[0;34m=\u001b[0m \u001b[0metree\u001b[0m\u001b[0;34m.\u001b[0m\u001b[0mparse\u001b[0m\u001b[0;34m(\u001b[0m\u001b[0mresponse\u001b[0m\u001b[0;34m.\u001b[0m\u001b[0mcontent\u001b[0m\u001b[0;34m)\u001b[0m\u001b[0;34m\u001b[0m\u001b[0m\n\u001b[0m",
      "\u001b[0;32m~/anaconda3/lib/python3.6/xml/etree/ElementTree.py\u001b[0m in \u001b[0;36mparse\u001b[0;34m(source, parser)\u001b[0m\n\u001b[1;32m   1194\u001b[0m     \"\"\"\n\u001b[1;32m   1195\u001b[0m     \u001b[0mtree\u001b[0m \u001b[0;34m=\u001b[0m \u001b[0mElementTree\u001b[0m\u001b[0;34m(\u001b[0m\u001b[0;34m)\u001b[0m\u001b[0;34m\u001b[0m\u001b[0m\n\u001b[0;32m-> 1196\u001b[0;31m     \u001b[0mtree\u001b[0m\u001b[0;34m.\u001b[0m\u001b[0mparse\u001b[0m\u001b[0;34m(\u001b[0m\u001b[0msource\u001b[0m\u001b[0;34m,\u001b[0m \u001b[0mparser\u001b[0m\u001b[0;34m)\u001b[0m\u001b[0;34m\u001b[0m\u001b[0m\n\u001b[0m\u001b[1;32m   1197\u001b[0m     \u001b[0;32mreturn\u001b[0m \u001b[0mtree\u001b[0m\u001b[0;34m\u001b[0m\u001b[0m\n\u001b[1;32m   1198\u001b[0m \u001b[0;34m\u001b[0m\u001b[0m\n",
      "\u001b[0;32m~/anaconda3/lib/python3.6/xml/etree/ElementTree.py\u001b[0m in \u001b[0;36mparse\u001b[0;34m(self, source, parser)\u001b[0m\n\u001b[1;32m    584\u001b[0m         \u001b[0mclose_source\u001b[0m \u001b[0;34m=\u001b[0m \u001b[0;32mFalse\u001b[0m\u001b[0;34m\u001b[0m\u001b[0m\n\u001b[1;32m    585\u001b[0m         \u001b[0;32mif\u001b[0m \u001b[0;32mnot\u001b[0m \u001b[0mhasattr\u001b[0m\u001b[0;34m(\u001b[0m\u001b[0msource\u001b[0m\u001b[0;34m,\u001b[0m \u001b[0;34m\"read\"\u001b[0m\u001b[0;34m)\u001b[0m\u001b[0;34m:\u001b[0m\u001b[0;34m\u001b[0m\u001b[0m\n\u001b[0;32m--> 586\u001b[0;31m             \u001b[0msource\u001b[0m \u001b[0;34m=\u001b[0m \u001b[0mopen\u001b[0m\u001b[0;34m(\u001b[0m\u001b[0msource\u001b[0m\u001b[0;34m,\u001b[0m \u001b[0;34m\"rb\"\u001b[0m\u001b[0;34m)\u001b[0m\u001b[0;34m\u001b[0m\u001b[0m\n\u001b[0m\u001b[1;32m    587\u001b[0m             \u001b[0mclose_source\u001b[0m \u001b[0;34m=\u001b[0m \u001b[0;32mTrue\u001b[0m\u001b[0;34m\u001b[0m\u001b[0m\n\u001b[1;32m    588\u001b[0m         \u001b[0;32mtry\u001b[0m\u001b[0;34m:\u001b[0m\u001b[0;34m\u001b[0m\u001b[0m\n",
      "\u001b[0;31mOSError\u001b[0m: [Errno 36] File name too long: b'[{\"gameId\":\"CURXTEAM2PREL000103\",\"title\":\"\\xeb\\xaf\\xb9\\xec\\x8a\\xa4\\xeb\\x8d\\x94\\xeb\\xb8\\x94 \\xec\\x98\\x88\\xec\\x84\\xa0 \\xec\\x84\\xb8\\xec\\x85\\x98 1 \\xec\\x8b\\x9c\\xed\\x8a\\xb8 C\",\"videoFlag\":\"Y\",\"statusCode\":\"RESULT\",\"cancel\":\"N\",\"detailGameStatus\":\"RESULT\",\"disciplineCode\":\"CUR\",\"disciplineName\":\"\\xec\\xbb\\xac\\xeb\\xa7\\x81\",\"disciplineEnum\":{\"disciplineCode\":\"CUR\",\"disciplineName\":\"\\xec\\xbb\\xac\\xeb\\xa7\\x81\",\"disciplineShortName\":\"\\xec\\xbb\\xac\\xeb\\xa7\\x81\",\"disciplineEnglishName\":\"curling\",\"goldCount\":3,\"silverCount\":3,\"bronzeCount\":3,\"cssClass\":\"cu\",\"stadiumList\":[{\"stadiumCode\":\"GCC\",\"stadiumName\":\"\\xea\\xb0\\x95\\xeb\\xa6\\x89 \\xec\\xbb\\xac\\xeb\\xa7\\x81 \\xec\\x84\\xbc\\xed\\x84\\xb0\",\"region\":{\"id\":\"GNG\",\"name\":\"\\xea\\xb0\\x95\\xeb\\xa6\\x89\",\"fullName\":\"\\xea\\xb0\\x95\\xeb\\xa6\\x89 \\xec\\xbd\\x94\\xec\\x8a\\xa4\\xed\\x83\\x88 \\xed\\x81\\xb4\\xeb\\x9f\\xac\\xec\\x8a\\xa4\\xed\\x84\\xb0\",\"cssClass\":\"gangneung\"},\"cssClass\":\"gn_cu\",\"stadiumNo\":12,\"mobileScheduleLeftStyle\":487,\"stadiumModifiedName\":\"\\xea\\xb0\\x95\\xeb\\xa6\\x89<br>\\xec\\xbb\\xac\\xeb\\xa7\\x81 \\xec\\x84\\xbc\\xed\\x84\\xb0\"}],\"columnUrl\":\"http://m.post.naver.com/viewer/postView.nhn?volumeNo=10970382&memberNo=39816655&navigationType=push\"},\"eventCode\":\"CURXTEAM2\",\"eventName\":null,\"eventEnum\":{\"disciplineCode\":\"CUR\",\"gender\":\"X\",\"eventCode\":\"CURXTEAM2\",\"eventName\":\"\\xeb\\xaf\\xb9\\xec\\x8a\\xa4\\xeb\\x8d\\x94\\xeb\\xb8\\x94\",\"shortEventName\":\"\\xeb\\xaf\\xb9\\xec\\x8a\\xa4\\xeb\\x8d\\x94\\xeb\\xb8\\x94\",\"korea\":false},\"phaseCode\":null,\"phaseName\":null,\"isMedal\":\"N\",\"isTeam\":\"Y\",\"isKorea\":\"Y\",\"gameType\":\"match\",\"result\":{\"match\":{\"homeCode\":\"KOR\",\"homeName\":\"\\xeb\\x8c\\x80\\xed\\x95\\x9c\\xeb\\xaf\\xbc\\xea\\xb5\\xad\",\"homeScore\":\"9\",\"awayCode\":\"FIN\",\"awayName\":\"\\xed\\x95\\x80\\xeb\\x9e\\x80\\xeb\\x93\\x9c\",\"awayScore\":\"4\",\"homeResult\":{\"medal\":\"\",\"ranking\":\"\",\"rankingTotal\":\"\",\"stats\":\"9\",\"recordAdd\":\"\",\"extraInfo\":\"\\xec\\x8a\\xb9\",\"qmark\":\"\",\"newrecord\":\"\"},\"awayResult\":{\"medal\":\"\",\"ranking\":\"\",\"rankingTotal\":\"\",\"stats\":\"4\",\"recordAdd\":\"\",\"extraInfo\":\"\\xed\\x8c\\xa8\",\"qmark\":\"\",\"newrecord\":\"\"},\"homePlayerList\":{\"player\":[{\"playerId\":\"NCR0076\",\"playerName\":\"\\xec\\x9d\\xb4\\xea\\xb8\\xb0\\xec\\xa0\\x95\"},{\"playerId\":\"NCR0075\",\"playerName\":\"\\xec\\x9e\\xa5\\xed\\x98\\x9c\\xec\\xa7\\x80\"}]},\"awayPlayerList\":{\"player\":[{\"playerId\":\"3026907\",\"playerName\":\"\\xec\\x98\\xa4\\xec\\x98\\xa4\\xeb\\x82\\x98 \\xec\\xb9\\xb4\\xec\\x9a\\xb0\\xec\\x8a\\xa4\\xed\\x85\\x8c\"},{\"playerId\":\"3029091\",\"playerName\":\"\\xed\\x86\\xa0\\xeb\\xaf\\xb8 \\xeb\\x9e\\x80\\xed\\x83\\x80\\xeb\\xa7\\x88\\xec\\x97\\x90\\xed\\x82\\xa4\"}]}}},\"recordGameResult\":{\"record\":[]},\"koreanPlayerList\":{\"koreanPlayer\":[{\"playerId\":\"NCR0076\",\"playerName\":\"\\xec\\x9d\\xb4\\xea\\xb8\\xb0\\xec\\xa0\\x95\",\"playerBirth\":\"1995\",\"playerTeamName\":\"\",\"playerImageUrl\":\"http://dbscthumb.phinf.naver.net/5203_000_1/20180122171343099_ZI3RZGXV8.jpg/%EC%9D%B4%EA%B8%B0.jpg?type=m1500\"},{\"playerId\":\"NCR0075\",\"playerName\":\"\\xec\\x9e\\xa5\\xed\\x98\\x9c\\xec\\xa7\\x80\",\"playerBirth\":\"1997\",\"playerTeamName\":\"\",\"playerImageUrl\":\"http://dbscthumb.phinf.naver.net/5203_000_1/20180122171343058_R4UBJVM6I.jpg/%EC%9E%A5%ED%98%9C.jpg?type=m1500\"}]},\"koreanPlayerListText\":\"\\xec\\x9d\\xb4\\xea\\xb8\\xb0\\xec\\xa0\\x95, \\xec\\x9e\\xa5\\xed\\x98\\x9c\\xec\\xa7\\x80\",\"date\":\"2018-02-08\",\"dateTime\":\"2018-02-08 09:05:00\",\"localDateOfDate\":null,\"formattedDateTime\":\"201802080905\",\"localDateTimeOfDateTime\":{\"hour\":9,\"minute\":5,\"second\":0,\"nano\":0,\"year\":2018,\"month\":\"FEBRUARY\",\"dayOfMonth\":8,\"dayOfWeek\":\"THURSDAY\",\"dayOfYear\":39,\"monthValue\":2,\"chronology\":{\"id\":\"ISO\",\"calendarType\":\"iso8601\"}},\"gender\":\"\\xed\\x98\\xbc\\xec\\x84\\xb1\",\"genderEng\":\"WOMAN\",\"stadiumCode\":\"GCC\",\"stadium\":\"\\xea\\xb0\\x95\\xeb\\xa6\\x89 \\xec\\xbb\\xac\\xeb\\xa7\\x81 \\xec\\x84\\xbc\\xed\\x84\\xb0\",\"updateDateTime\":null,\"recordType\":null,\"isScheduledTv\":\"Y\",\"isOnAir\":\"N\",\"channelCode\":\"ad4,ad1,ad5,\",\"channelName\":\"MBC,SBS,KBS1,\",\"channelCodeList\":[\"ad4\",\"ad1\",\"ad5\"],\"channelNameList\":[\"MBC\",\"SBS\",\"KBS1\"],\"channelCount\":3,\"korea\":true},{\"gameId\":\"CURXTEAM2PREL000202\",\"title\":\"\\xeb\\xaf\\xb9\\xec\\x8a\\xa4\\xeb\\x8d\\x94\\xeb\\xb8\\x94 \\xec\\x98\\x88\\xec\\x84\\xa0 \\xec\\x84\\xb8\\xec\\x85\\x98 2 \\xec\\x8b\\x9c\\xed\\x8a\\xb8 B\",\"videoFlag\":\"N\",\"statusCode\":\"BEFORE\",\"cancel\":\"N\",\"detailGameStatus\":\"BEFORE\",\"disciplineCode\":\"CUR\",\"disciplineName\":\"\\xec\\xbb\\xac\\xeb\\xa7\\x81\",\"disciplineEnum\":{\"disciplineCode\":\"CUR\",\"disciplineName\":\"\\xec\\xbb\\xac\\xeb\\xa7\\x81\",\"disciplineShortName\":\"\\xec\\xbb\\xac\\xeb\\xa7\\x81\",\"disciplineEnglishName\":\"curling\",\"goldCount\":3,\"silverCount\":3,\"bronzeCount\":3,\"cssClass\":\"cu\",\"stadiumList\":[{\"stadiumCode\":\"GCC\",\"stadiumName\":\"\\xea\\xb0\\x95\\xeb\\xa6\\x89 \\xec\\xbb\\xac\\xeb\\xa7\\x81 \\xec\\x84\\xbc\\xed\\x84\\xb0\",\"region\":{\"id\":\"GNG\",\"name\":\"\\xea\\xb0\\x95\\xeb\\xa6\\x89\",\"fullName\":\"\\xea\\xb0\\x95\\xeb\\xa6\\x89 \\xec\\xbd\\x94\\xec\\x8a\\xa4\\xed\\x83\\x88 \\xed\\x81\\xb4\\xeb\\x9f\\xac\\xec\\x8a\\xa4\\xed\\x84\\xb0\",\"cssClass\":\"gangneung\"},\"cssClass\":\"gn_cu\",\"stadiumNo\":12,\"mobileScheduleLeftStyle\":487,\"stadiumModifiedName\":\"\\xea\\xb0\\x95\\xeb\\xa6\\x89<br>\\xec\\xbb\\xac\\xeb\\xa7\\x81 \\xec\\x84\\xbc\\xed\\x84\\xb0\"}],\"columnUrl\":\"http://m.post.naver.com/viewer/postView.nhn?volumeNo=10970382&memberNo=39816655&navigationType=push\"},\"eventCode\":\"CURXTEAM2\",\"eventName\":null,\"eventEnum\":{\"disciplineCode\":\"CUR\",\"gender\":\"X\",\"eventCode\":\"CURXTEAM2\",\"eventName\":\"\\xeb\\xaf\\xb9\\xec\\x8a\\xa4\\xeb\\x8d\\x94\\xeb\\xb8\\x94\",\"shortEventName\":\"\\xeb\\xaf\\xb9\\xec\\x8a\\xa4\\xeb\\x8d\\x94\\xeb\\xb8\\x94\",\"korea\":false},\"phaseCode\":null,\"phaseName\":null,\"isMedal\":\"N\",\"isTeam\":\"Y\",\"isKorea\":\"Y\",\"gameType\":\"match\",\"result\":{\"match\":{\"homeCode\":\"KOR\",\"homeName\":\"\\xeb\\x8c\\x80\\xed\\x95\\x9c\\xeb\\xaf\\xbc\\xea\\xb5\\xad\",\"homeScore\":\"\",\"awayCode\":\"CHN\",\"awayName\":\"\\xec\\xa4\\x91\\xea\\xb5\\xad\",\"awayScore\":\"\",\"homeResult\":{\"medal\":null,\"ranking\":null,\"rankingTotal\":null,\"stats\":null,\"recordAdd\":null,\"extraInfo\":null,\"qmark\":null,\"newrecord\":null},\"awayResult\":{\"medal\":null,\"ranking\":null,\"rankingTotal\":null,\"stats\":null,\"recordAdd\":null,\"extraInfo\":null,\"qmark\":null,\"newrecord\":null},\"homePlayerList\":{\"player\":[{\"playerId\":\"NCR0076\",\"playerName\":\"\\xec\\x9d\\xb4\\xea\\xb8\\xb0\\xec\\xa0\\x95\"},{\"playerId\":\"NCR0075\",\"playerName\":\"\\xec\\x9e\\xa5\\xed\\x98\\x9c\\xec\\xa7\\x80\"}]},\"awayPlayerList\":{\"player\":[]}}},\"recordGameResult\":{\"record\":[]},\"koreanPlayerList\":{\"koreanPlayer\":[{\"playerId\":\"NCR0076\",\"playerName\":\"\\xec\\x9d\\xb4\\xea\\xb8\\xb0\\xec\\xa0\\x95\",\"playerBirth\":\"1995\",\"playerTeamName\":\"\",\"playerImageUrl\":\"http://dbscthumb.phinf.naver.net/5203_000_1/20180122171343099_ZI3RZGXV8.jpg/%EC%9D%B4%EA%B8%B0.jpg?type=m1500\"},{\"playerId\":\"NCR0075\",\"playerName\":\"\\xec\\x9e\\xa5\\xed\\x98\\x9c\\xec\\xa7\\x80\",\"playerBirth\":\"1997\",\"playerTeamName\":\"\",\"playerImageUrl\":\"http://dbscthumb.phinf.naver.net/5203_000_1/20180122171343058_R4UBJVM6I.jpg/%EC%9E%A5%ED%98%9C.jpg?type=m1500\"}]},\"koreanPlayerListText\":\"\\xec\\x9d\\xb4\\xea\\xb8\\xb0\\xec\\xa0\\x95, \\xec\\x9e\\xa5\\xed\\x98\\x9c\\xec\\xa7\\x80\",\"date\":\"2018-02-08\",\"dateTime\":\"2018-02-08 20:05:00\",\"localDateOfDate\":null,\"formattedDateTime\":\"201802082005\",\"localDateTimeOfDateTime\":{\"hour\":20,\"minute\":5,\"second\":0,\"nano\":0,\"year\":2018,\"month\":\"FEBRUARY\",\"dayOfMonth\":8,\"dayOfWeek\":\"THURSDAY\",\"dayOfYear\":39,\"monthValue\":2,\"chronology\":{\"id\":\"ISO\",\"calendarType\":\"iso8601\"}},\"gender\":\"\\xed\\x98\\xbc\\xec\\x84\\xb1\",\"genderEng\":\"WOMAN\",\"stadiumCode\":\"GCC\",\"stadium\":\"\\xea\\xb0\\x95\\xeb\\xa6\\x89 \\xec\\xbb\\xac\\xeb\\xa7\\x81 \\xec\\x84\\xbc\\xed\\x84\\xb0\",\"updateDateTime\":null,\"recordType\":null,\"isScheduledTv\":\"Y\",\"isOnAir\":\"N\",\"channelCode\":\"ad4,ad1,ad2,\",\"channelName\":\"KBS2,SBS,MBC,\",\"channelCodeList\":[\"ad4\",\"ad1\",\"ad2\"],\"channelNameList\":[\"KBS2\",\"SBS\",\"MBC\"],\"channelCount\":3,\"korea\":true},{\"gameId\":\"SJPMNHQUAL0001SJ\",\"title\":\"\\xeb\\x82\\xa8\\xec\\x9e\\x90 \\xeb\\x85\\xb8\\xeb\\xa9\\x80\\xed\\x9e\\x90 \\xea\\xb0\\x9c\\xec\\x9d\\xb8 \\xec\\x98\\x88\\xec\\x84\\xa0\",\"videoFlag\":\"N\",\"statusCode\":\"BEFORE\",\"cancel\":\"N\",\"detailGameStatus\":\"BEFORE\",\"disciplineCode\":\"SJP\",\"disciplineName\":\"\\xec\\x8a\\xa4\\xed\\x82\\xa4\\xec\\xa0\\x90\\xed\\x94\\x84\",\"disciplineEnum\":{\"disciplineCode\":\"SJP\",\"disciplineName\":\"\\xec\\x8a\\xa4\\xed\\x82\\xa4\\xec\\xa0\\x90\\xed\\x94\\x84\",\"disciplineShortName\":\"\\xec\\x8a\\xa4\\xed\\x82\\xa4\\xec\\xa0\\x90\\xed\\x94\\x84\",\"disciplineEnglishName\":\"ski jumping\",\"goldCount\":4,\"silverCount\":4,\"bronzeCount\":4,\"cssClass\":\"sj\",\"stadiumList\":[{\"stadiumCode\":\"ASJ\",\"stadiumName\":\"\\xec\\x95\\x8c\\xed\\x8e\\x9c\\xec\\x8b\\x9c\\xec\\x95\\x84 \\xec\\x8a\\xa4\\xed\\x82\\xa4\\xec\\xa0\\x90\\xed\\x94\\x84 \\xec\\x84\\xbc\\xed\\x84\\xb0\",\"region\":{\"id\":\"PYE\",\"name\":\"\\xed\\x8f\\x89\\xec\\xb0\\xbd\",\"fullName\":\"\\xed\\x8f\\x89\\xec\\xb0\\xbd \\xeb\\xa7\\x88\\xec\\x9a\\xb4\\xed\\x8b\\xb4 \\xed\\x81\\xb4\\xeb\\x9f\\xac\\xec\\x8a\\xa4\\xed\\x84\\xb0\",\"cssClass\":\"pyeongchang\"},\"cssClass\":\"ap_sj\",\"stadiumNo\":3,\"mobileScheduleLeftStyle\":531,\"stadiumModifiedName\":\"\\xec\\x95\\x8c\\xed\\x8e\\x9c\\xec\\x8b\\x9c\\xec\\x95\\x84<br>\\xec\\x8a\\xa4\\xed\\x82\\xa4\\xec\\xa0\\x90\\xed\\x94\\x84 \\xec\\x84\\xbc\\xed\\x84\\xb0\"}],\"columnUrl\":\"http://m.post.naver.com/viewer/postView.nhn?volumeNo=11300906&memberNo=39816655&navigationType=push\"},\"eventCode\":\"SJPMNH\",\"eventName\":null,\"eventEnum\":{\"disciplineCode\":\"SJP\",\"gender\":\"M\",\"eventCode\":\"SJPMNH\",\"eventName\":\"\\xeb\\x82\\xa8\\xec\\x9e\\x90 \\xeb\\x85\\xb8\\xeb\\xa9\\x80\\xed\\x9e\\x90\",\"shortEventName\":\"\\xeb\\x85\\xb8\\xeb\\xa9\\x80\\xed\\x9e\\x90\",\"korea\":true},\"phaseCode\":null,\"phaseName\":null,\"isMedal\":\"N\",\"isTeam\":\"N\",\"isKorea\":\"Y\",\"gameType\":\"record\",\"result\":{\"record\":[{\"playerId\":\"NCR0021\",\"playerName\":\"\\xea\\xb9\\x80\\xed\\x98\\x84\\xea\\xb8\\xb0\",\"countryId\":\"KOR\",\"countryName\":\"\\xeb\\x8c\\x80\\xed\\x95\\x9c\\xeb\\xaf\\xbc\\xea\\xb5\\xad\",\"result\":{\"medal\":\"\",\"ranking\":\"\",\"rankingTotal\":\"\",\"stats\":\"\",\"totalStats\":\"\",\"recordAdd\":\"\",\"recordManual\":null,\"extraInfo\":\"\",\"qmark\":\"\",\"newrecord\":\"\"}},{\"playerId\":\"NCR0022\",\"playerName\":\"\\xec\\xb5\\x9c\\xec\\x84\\x9c\\xec\\x9a\\xb0\",\"countryId\":\"KOR\",\"countryName\":\"\\xeb\\x8c\\x80\\xed\\x95\\x9c\\xeb\\xaf\\xbc\\xea\\xb5\\xad\",\"result\":{\"medal\":\"\",\"ranking\":\"\",\"rankingTotal\":\"\",\"stats\":\"\",\"totalStats\":\"\",\"recordAdd\":\"\",\"recordManual\":null,\"extraInfo\":\"\",\"qmark\":\"\",\"newrecord\":\"\"}}]},\"recordGameResult\":{\"record\":[]},\"koreanPlayerList\":{\"koreanPlayer\":[{\"playerId\":\"NCR0021\",\"playerName\":\"\\xea\\xb9\\x80\\xed\\x98\\x84\\xea\\xb8\\xb0\",\"playerBirth\":\"1983.02.09\",\"playerTeamName\":\"\",\"playerImageUrl\":\"http://dbscthumb.phinf.naver.net/5203_000_1/20180124220950726_QV22HXND8.jpg/%EA%B9%80%ED%98%84.jpg?type=m1500\"},{\"playerId\":\"NCR0022\",\"playerName\":\"\\xec\\xb5\\x9c\\xec\\x84\\x9c\\xec\\x9a\\xb0\",\"playerBirth\":\"1982.12.03\",\"playerTeamName\":\"\",\"playerImageUrl\":\"http://dbscthumb.phinf.naver.net/5203_000_1/20180130142827311_GQZWVWY0S.jpg/%EC%B5%9C%EC%84%9C.jpg?type=m1500\"}]},\"koreanPlayerListText\":\"\\xea\\xb9\\x80\\xed\\x98\\x84\\xea\\xb8\\xb0, \\xec\\xb5\\x9c\\xec\\x84\\x9c\\xec\\x9a\\xb0\",\"date\":\"2018-02-08\",\"dateTime\":\"2018-02-08 21:30:00\",\"localDateOfDate\":null,\"formattedDateTime\":\"201802082130\",\"localDateTimeOfDateTime\":{\"hour\":21,\"minute\":30,\"second\":0,\"nano\":0,\"year\":2018,\"month\":\"FEBRUARY\",\"dayOfMonth\":8,\"dayOfWeek\":\"THURSDAY\",\"dayOfYear\":39,\"monthValue\":2,\"chronology\":{\"id\":\"ISO\",\"calendarType\":\"iso8601\"}},\"gender\":\"\\xeb\\x82\\xa8\\xec\\x9e\\x90\",\"genderEng\":\"MAN\",\"stadiumCode\":\"ASJ\",\"stadium\":\"\\xec\\x95\\x8c\\xed\\x8e\\x9c\\xec\\x8b\\x9c\\xec\\x95\\x84 \\xec\\x8a\\xa4\\xed\\x82\\xa4\\xec\\xa0\\x90\\xed\\x94\\x84 \\xec\\x84\\xbc\\xed\\x84\\xb0\",\"updateDateTime\":null,\"recordType\":null,\"isScheduledTv\":null,\"isOnAir\":null,\"channelCode\":\"\",\"channelName\":\"\",\"channelCodeList\":[],\"channelNameList\":[],\"channelCount\":0,\"korea\":true}]'"
     ]
    }
   ],
   "source": [
    "url = 'http://sports.news.naver.com/ajax/pc2018/schedule.nhn?type=date&onlyKorea=true&date=20180208'\n",
    "response = requests.get(url)\n",
    "soup = BeautifulSoup(response.content, 'lxml')\n",
    "xm = etree.parse(response.content)"
   ]
  }
 ],
 "metadata": {
  "kernelspec": {
   "display_name": "Python 3",
   "language": "python",
   "name": "python3"
  },
  "language_info": {
   "codemirror_mode": {
    "name": "ipython",
    "version": 3
   },
   "file_extension": ".py",
   "mimetype": "text/x-python",
   "name": "python",
   "nbconvert_exporter": "python",
   "pygments_lexer": "ipython3",
   "version": "3.6.4"
  }
 },
 "nbformat": 4,
 "nbformat_minor": 2
}
