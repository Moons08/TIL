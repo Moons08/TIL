{
 "cells": [
  {
   "cell_type": "code",
   "execution_count": 1,
   "metadata": {
    "collapsed": true
   },
   "outputs": [],
   "source": [
    "%matplotlib inline"
   ]
  },
  {
   "cell_type": "markdown",
   "metadata": {},
   "source": [
    "### 검정\n",
    "- 이항 검정 - 베르누이 분포 모수\n",
    "- 카이 제곱 검정 - 카테고리 분포 모수\n",
    "- 단일 표본 z-검정 - 분산값을 아는 경우 **정규 분포 기댓값 조사**\n",
    "- 단일 표본 t-검정 - **정규 분포 표본 기댓값 조사**\n",
    "- 독립 표본 t-검정 - 독립적 정규 분포에서 나온 두 데이터 셋의 **기댓값 일치 체크**\n",
    "- 대응 표본 t-검정 - 독립표본 t-검정 + 두집단의 샘플 1:1 대응\n",
    "- 카이 제곱 분산 검정 - 정규 분포의 샘플 분산 값은 정규화하면 카이 제곱 분포를 따른다."
   ]
  },
  {
   "cell_type": "markdown",
   "metadata": {},
   "source": [
    "### 이항검정\n",
    "이항분포를 통해 Bernoulli 분포 모수 검정"
   ]
  },
  {
   "cell_type": "code",
   "execution_count": 2,
   "metadata": {},
   "outputs": [
    {
     "data": {
      "text/plain": [
       "0.035156250000000014"
      ]
     },
     "execution_count": 2,
     "metadata": {},
     "output_type": "execute_result"
    }
   ],
   "source": [
    "#scipy  Binomial test\n",
    "sp.stats.binom_test(12,15) # 3.5%"
   ]
  },
  {
   "cell_type": "code",
   "execution_count": 3,
   "metadata": {},
   "outputs": [
    {
     "data": {
      "text/plain": [
       "0.0073852539062499983"
      ]
     },
     "execution_count": 3,
     "metadata": {},
     "output_type": "execute_result"
    }
   ],
   "source": [
    "sp.stats.binom_test(13,15) # 0.7%, 1% 유의수준이어도 기각"
   ]
  },
  {
   "cell_type": "markdown",
   "metadata": {},
   "source": [
    "N = 100, 유의수준1%, 언제부터 동전이 unfair?"
   ]
  },
  {
   "cell_type": "code",
   "execution_count": 4,
   "metadata": {},
   "outputs": [
    {
     "data": {
      "text/plain": [
       "0.012032975725363472"
      ]
     },
     "execution_count": 4,
     "metadata": {},
     "output_type": "execute_result"
    }
   ],
   "source": [
    "sp.stats.binom_test(37,100) # 1.2%, 1% 유의수준이일때, 채택"
   ]
  },
  {
   "cell_type": "code",
   "execution_count": 5,
   "metadata": {},
   "outputs": [
    {
     "data": {
      "text/plain": [
       "0.0066371205159261254"
      ]
     },
     "execution_count": 5,
     "metadata": {},
     "output_type": "execute_result"
    }
   ],
   "source": [
    "sp.stats.binom_test(36,100) # 0.6%, 1% 유의수준이일때, 기각"
   ]
  },
  {
   "cell_type": "code",
   "execution_count": 6,
   "metadata": {},
   "outputs": [
    {
     "data": {
      "text/plain": [
       "0.012032975725363472"
      ]
     },
     "execution_count": 6,
     "metadata": {},
     "output_type": "execute_result"
    }
   ],
   "source": [
    "sp.stats.binom_test(63,100) # 1.2%, 1% 유의수준이일때, 채택"
   ]
  },
  {
   "cell_type": "code",
   "execution_count": 7,
   "metadata": {},
   "outputs": [
    {
     "data": {
      "text/plain": [
       "0.0066371205159261254"
      ]
     },
     "execution_count": 7,
     "metadata": {},
     "output_type": "execute_result"
    }
   ],
   "source": [
    "sp.stats.binom_test(64,100) # 0.6%, 1% 유의수준이일때, 기각"
   ]
  },
  {
   "cell_type": "markdown",
   "metadata": {},
   "source": [
    "## 카이 제곱 검정\n",
    "goodness of fit, 카테고리 분포의 모수 검정\n",
    "\n",
    "$$\\sum_{k=1}^K \\dfrac{(x_k - m_k)^2}{m_k^2}$$"
   ]
  },
  {
   "cell_type": "code",
   "execution_count": 8,
   "metadata": {},
   "outputs": [
    {
     "data": {
      "text/plain": [
       "array([0, 3, 5, 2])"
      ]
     },
     "execution_count": 8,
     "metadata": {},
     "output_type": "execute_result"
    }
   ],
   "source": [
    "N = 10\n",
    "K = 4\n",
    "theta_0 = np.ones(K)/K\n",
    "np.random.seed(0)\n",
    "x = np.random.choice(K, N, p=theta_0)\n",
    "n = np.bincount(x, minlength=K)\n",
    "n"
   ]
  },
  {
   "cell_type": "code",
   "execution_count": 9,
   "metadata": {},
   "outputs": [
    {
     "data": {
      "text/plain": [
       "Power_divergenceResult(statistic=5.1999999999999993, pvalue=0.157724450396663)"
      ]
     },
     "execution_count": 9,
     "metadata": {},
     "output_type": "execute_result"
    }
   ],
   "source": [
    "sp.stats.chisquare(n)"
   ]
  },
  {
   "cell_type": "markdown",
   "metadata": {},
   "source": [
    "연습 문제 4\n",
    "\n",
    "4면체 주사위를 10번 던졌다.\n",
    "\n",
    "1. 만약 10번 모두 같은 면이 나왔다면 유의 확률은 얼마인가?\n",
    "1. 만약 9번이 같은 면이 나왔다면 유의 확률은 얼마인가?\n",
    "1. 만약 8번이 같은 면이 나오고 다른 면이 2번 나왔다면 유의 확률은 얼마인가?\n",
    "1. 만약 8번이 같은 면이 나오고 다른 두 면이 각각 1번씩 나왔다면 유의 확률은 얼마인가?\n",
    "1. 만약 7번이 같은 면이 나오고 다른 세 면이 각각 1번씩 나왔다면 유의 확률은 얼마인가?"
   ]
  },
  {
   "cell_type": "code",
   "execution_count": 10,
   "metadata": {},
   "outputs": [
    {
     "name": "stdout",
     "output_type": "stream",
     "text": [
      "Power_divergenceResult(statistic=30.0, pvalue=1.3800570312932553e-06)\n",
      "Power_divergenceResult(statistic=22.799999999999997, pvalue=4.4450736470606521e-05)\n",
      "Power_divergenceResult(statistic=17.199999999999999, pvalue=0.00064286025225389755)\n",
      "Power_divergenceResult(statistic=16.399999999999999, pvalue=0.00093874205504504134)\n",
      "Power_divergenceResult(statistic=13.363636363636363, pvalue=0.003912713985102536)\n"
     ]
    }
   ],
   "source": [
    "print(sp.stats.chisquare([0, 0, 0, 10])) #1\n",
    "print(sp.stats.chisquare([1, 0, 0, 9])) #2\n",
    "print(sp.stats.chisquare([2, 0, 0, 8])) #3 - 0.06%\n",
    "print(sp.stats.chisquare([1, 1, 0, 8])) #4 - 0.09%\n",
    "print(sp.stats.chisquare([1, 1, 1, 8])) #5 - 0.3%"
   ]
  },
  {
   "cell_type": "markdown",
   "metadata": {},
   "source": [
    "## 단일 표본 z-검정\n",
    "분산 값을 알고 있는 경우 정규 분포의 표본에 대해 기댓값 조사"
   ]
  },
  {
   "cell_type": "code",
   "execution_count": 11,
   "metadata": {},
   "outputs": [
    {
     "data": {
      "text/plain": [
       "array([ 1.76405235,  0.40015721,  0.97873798,  2.2408932 ,  1.86755799,\n",
       "       -0.97727788,  0.95008842, -0.15135721, -0.10321885,  0.4105985 ])"
      ]
     },
     "execution_count": 11,
     "metadata": {},
     "output_type": "execute_result"
    }
   ],
   "source": [
    "N = 10\n",
    "mu_0 = 0\n",
    "np.random.seed(0)\n",
    "x = sp.stats.norm(mu_0).rvs(N)\n",
    "x"
   ]
  },
  {
   "cell_type": "code",
   "execution_count": 12,
   "metadata": {
    "collapsed": true
   },
   "outputs": [],
   "source": [
    "def ztest_1samp(x, sigma2=1, mu=0):\n",
    "    z = (x.mean() - mu)/ np.sqrt(sigma2/len(x))\n",
    "    return z, 2 * sp.stats.norm().sf(np.abs(z))"
   ]
  },
  {
   "cell_type": "code",
   "execution_count": 13,
   "metadata": {},
   "outputs": [
    {
     "data": {
      "text/plain": [
       "(2.3338341854824276, 0.019604406021683538)"
      ]
     },
     "execution_count": 13,
     "metadata": {},
     "output_type": "execute_result"
    }
   ],
   "source": [
    "ztest_1samp(x) # 1.96% , 1% 유의수준일때 채택, 5% 유의수준일때 기각(=오류)"
   ]
  },
  {
   "cell_type": "code",
   "execution_count": 14,
   "metadata": {},
   "outputs": [
    {
     "data": {
      "text/plain": [
       "(0.59808015534484993, 0.54978645086241684)"
      ]
     },
     "execution_count": 14,
     "metadata": {},
     "output_type": "execute_result"
    }
   ],
   "source": [
    "N = 100\n",
    "mu_0 = 0\n",
    "np.random.seed(0)\n",
    "x = sp.stats.norm(mu_0).rvs(N)\n",
    "ztest_1samp(x) # 표본을 100개로 늘렸을 때, p-value 54% -> 귀무가설 채택"
   ]
  },
  {
   "cell_type": "markdown",
   "metadata": {},
   "source": [
    "## 단일 표본 t-검정\n",
    "정규분포의 표본에 대해 기댓값 조사"
   ]
  },
  {
   "cell_type": "code",
   "execution_count": 15,
   "metadata": {},
   "outputs": [
    {
     "data": {
      "image/png": "[encoded data removed]",
      "text/plain": [
       "<matplotlib.figure.Figure at 0x7f8998fd02e8>"
      ]
     },
     "metadata": {},
     "output_type": "display_data"
    }
   ],
   "source": [
    "N = 10\n",
    "mu_0 = 0\n",
    "np.random.seed(0)\n",
    "x = sp.stats.norm(mu_0).rvs(N)\n",
    "sns.distplot(x, kde=False, fit=sp.stats.norm)\n",
    "plt.show()"
   ]
  },
  {
   "cell_type": "code",
   "execution_count": 16,
   "metadata": {},
   "outputs": [
    {
     "data": {
      "text/plain": [
       "Ttest_1sampResult(statistic=2.2894396723896699, pvalue=0.047818464908570578)"
      ]
     },
     "execution_count": 16,
     "metadata": {},
     "output_type": "execute_result"
    }
   ],
   "source": [
    "sp.stats.ttest_1samp(x, popmean=0) #디폴트 모수가 없다, popmean으로 지정\n",
    "# 4.7%, 유의수준이 5%이상일 경우 오류 <- 데이터 수가 적기 때문!"
   ]
  },
  {
   "cell_type": "markdown",
   "metadata": {},
   "source": [
    "### 독립 표본 t-검정\n",
    "두 독립적인 정규 분포 데이터 셋의 기대값 일치 여부 검사"
   ]
  },
  {
   "cell_type": "code",
   "execution_count": 17,
   "metadata": {},
   "outputs": [
    {
     "data": {
      "image/png": "[encoded data removed]",
      "text/plain": [
       "<matplotlib.figure.Figure at 0x7f8998fd0160>"
      ]
     },
     "metadata": {},
     "output_type": "display_data"
    }
   ],
   "source": [
    "N_1 = 10; mu_1 = 0; sigma_1 = 1\n",
    "N_2 = 10; mu_2 = 0.5; sigma_2 = 1\n",
    "np.random.seed(0)\n",
    "x1 = sp.stats.norm(mu_1, sigma_1).rvs(N_1)\n",
    "x2 = sp.stats.norm(mu_2, sigma_2).rvs(N_2)\n",
    "sns.distplot(x1, kde=False, fit=sp.stats.norm)\n",
    "sns.distplot(x2, kde=False, fit=sp.stats.norm)\n",
    "plt.show()"
   ]
  },
  {
   "cell_type": "code",
   "execution_count": 18,
   "metadata": {},
   "outputs": [
    {
     "data": {
      "text/plain": [
       "Ttest_indResult(statistic=-0.41399685269886549, pvalue=0.68376768941164268)"
      ]
     },
     "execution_count": 18,
     "metadata": {},
     "output_type": "execute_result"
    }
   ],
   "source": [
    "# 분산이 다른 경우, equal_var = False 설정\n",
    "sp.stats.ttest_ind(x1, x2, equal_var=True)  # 68%, 채택 <- 오류! <- 샘플이 적어서"
   ]
  },
  {
   "cell_type": "markdown",
   "metadata": {},
   "source": [
    "연습5. \n",
    "\n",
    "1반과 2반 학생 들의 성적이 각각 다음과 같다고 가정하자.\n",
    "\n",
    "1반 : 80점, 75점, 85점, 50점, 60점, 75점, 45점, 70점, 90점, 95점, 85점, 80점\n",
    "\n",
    "2반 : 80점, 85점, 70점, 80점, 35점, 55점, 80점\n",
    "\n",
    "1반의 실력이 2반보다 좋다고 이야기 할 수 있는가?"
   ]
  },
  {
   "cell_type": "code",
   "execution_count": 19,
   "metadata": {},
   "outputs": [
    {
     "name": "stdout",
     "output_type": "stream",
     "text": [
      "74.1666666667 69.2857142857\n",
      "15.4968227438 18.1265393435\n"
     ]
    },
    {
     "data": {
      "image/png": "[encoded data removed]",
      "text/plain": [
       "<matplotlib.figure.Figure at 0x7f899803bd68>"
      ]
     },
     "metadata": {},
     "output_type": "display_data"
    }
   ],
   "source": [
    "x1 = np.array([80, 75, 85, 50, 60, 75, 45, 70, 90, 95, 85, 80])\n",
    "x2 = np.array([80, 85, 70, 80, 35, 55, 80])\n",
    "print(x1.mean(), x2.mean())\n",
    "print(x1.std(ddof=1), x2.std(ddof=1))\n",
    "X = sp.stats.norm(x1.mean(), x1.std(ddof=1)).rvs(len(x1))\n",
    "Y = sp.stats.norm(x2.mean(), x2.std(ddof=1)).rvs(len(x2))\n",
    "sns.distplot(X, kde=False, fit=sp.stats.norm)\n",
    "sns.distplot(Y, kde=False, fit=sp.stats.norm)\n",
    "plt.show()"
   ]
  },
  {
   "cell_type": "code",
   "execution_count": 20,
   "metadata": {},
   "outputs": [
    {
     "data": {
      "text/plain": [
       "Ttest_indResult(statistic=0.59651962131716696, pvalue=0.56279018021376603)"
      ]
     },
     "execution_count": 20,
     "metadata": {},
     "output_type": "execute_result"
    }
   ],
   "source": [
    "# 분산이 다른 경우, equal_var = False 설정\n",
    "sp.stats.ttest_ind(x1, x2, equal_var=False)  \n",
    "# 56%, 채택 <- 오류! <- 샘플이 적어서"
   ]
  },
  {
   "cell_type": "markdown",
   "metadata": {},
   "source": [
    "## 대응 표본 t-검정\n",
    "독립표본 + 샘플 1:1 대응"
   ]
  },
  {
   "cell_type": "code",
   "execution_count": 21,
   "metadata": {},
   "outputs": [
    {
     "name": "stdout",
     "output_type": "stream",
     "text": [
      "Ttest_relResult(statistic=-7.1723380661732756, pvalue=0.0020008849290622677)\n"
     ]
    },
    {
     "data": {
      "image/png": "[encoded data removed]",
      "text/plain": [
       "<matplotlib.figure.Figure at 0x7f899803b048>"
      ]
     },
     "metadata": {},
     "output_type": "display_data"
    }
   ],
   "source": [
    "N = 5\n",
    "mu_1 = 0\n",
    "mu_2 = 0.5\n",
    "np.random.seed(1)\n",
    "x1 = sp.stats.norm(mu_1).rvs(N)\n",
    "x2 = x1 + sp.stats.norm(mu_2, 0.1).rvs(N)\n",
    "sns.distplot(x1, kde=False, fit=sp.stats.norm)\n",
    "sns.distplot(x2, kde=False, fit=sp.stats.norm)\n",
    "print(sp.stats.ttest_rel(x1, x2))\n",
    "plt.show()"
   ]
  },
  {
   "cell_type": "markdown",
   "metadata": {},
   "source": [
    "연습 6\n",
    "\n",
    "어느 학급의 9월달 성적과 10월달 성적이 다음과 같다. 점수는 학생 번호 순으로 배열되어 있다.\n",
    "\n",
    "9월 : 80점, 75점, 85점, 50점, 60점, 75점, 45점, 70점, 90점, 95점, 85점, 80점\n",
    "\n",
    "10월: 90점, 70점, 90점, 65점, 80점, 85점, 65점, 75점, 80점, 90점, 95점, 95점\n",
    "\n",
    "이 학급의 실력은 더 향상되었다고 이야기 할 수 있는가?"
   ]
  },
  {
   "cell_type": "code",
   "execution_count": 35,
   "metadata": {},
   "outputs": [
    {
     "name": "stdout",
     "output_type": "stream",
     "text": [
      "74.1666666667 81.6666666667\n",
      "15.4968227438 10.9406110294\n",
      "Ttest_relResult(statistic=-2.6281127723493993, pvalue=0.023486192540203194)\n"
     ]
    },
    {
     "data": {
      "image/png": "[encoded data removed]",
      "text/plain": [
       "<matplotlib.figure.Figure at 0x7f898cc72eb8>"
      ]
     },
     "metadata": {},
     "output_type": "display_data"
    }
   ],
   "source": [
    "x1 = np.array([80, 75, 85, 50, 60, 75, 45, 70, 90, 95, 85, 80])\n",
    "x2 = np.array([90, 70, 90, 65, 80, 85, 65, 75, 80, 90, 95, 95])\n",
    "\n",
    "print(x1.mean(), x2.mean())\n",
    "print(x1.std(ddof=1), x2.std(ddof=1))\n",
    "\n",
    "X = sp.stats.norm(x1.mean(), x1.std(ddof=1)).rvs(len(x1))\n",
    "Y = sp.stats.norm(x2.mean(), x2.std(ddof=2)).rvs(len(x2))\n",
    "sns.distplot(X, kde=False, fit=sp.stats.norm)\n",
    "sns.distplot(Y, kde=False, fit=sp.stats.norm)\n",
    "# print(sp.stats.ttest_rel(X, Y))\n",
    "print(sp.stats.ttest_rel(x1, x2)) # 2% 정확도로 두 평균이 다르다는 것을 알아냄\n",
    "plt.show() # 향상되었다."
   ]
  },
  {
   "cell_type": "markdown",
   "metadata": {},
   "source": [
    "---"
   ]
  },
  {
   "cell_type": "markdown",
   "metadata": {},
   "source": [
    "## 카이 제곱 분산 검정\n",
    "정규 분포의 샘플 분산 값은 정규화하면 카이 제곱 분포를 따른다."
   ]
  },
  {
   "cell_type": "code",
   "execution_count": 23,
   "metadata": {
    "collapsed": true
   },
   "outputs": [],
   "source": [
    "def chi2var_test(x, sigma2=1):\n",
    "    v = x.var(ddof=1)\n",
    "    t = (len(x) - 1)*v/sigma2\n",
    "    return t, sp.stats.chi2(df=len(x)-1).sf(np.abs(t))"
   ]
  },
  {
   "cell_type": "code",
   "execution_count": 24,
   "metadata": {},
   "outputs": [
    {
     "data": {
      "image/png": "[encoded data removed]",
      "text/plain": [
       "<matplotlib.figure.Figure at 0x7f899baadda0>"
      ]
     },
     "metadata": {},
     "output_type": "display_data"
    },
    {
     "data": {
      "text/plain": [
       "1.0637871321863899"
      ]
     },
     "execution_count": 24,
     "metadata": {},
     "output_type": "execute_result"
    }
   ],
   "source": [
    "N = 10\n",
    "mu_0 = 0\n",
    "sigma_0 = 1.1\n",
    "np.random.seed(0)\n",
    "x = sp.stats.norm(mu_0, sigma_0).rvs(N)\n",
    "sns.distplot(x, kde=False, fit=sp.stats.norm)\n",
    "plt.show()\n",
    "x.std()"
   ]
  },
  {
   "cell_type": "code",
   "execution_count": 25,
   "metadata": {},
   "outputs": [
    {
     "data": {
      "text/plain": [
       "(11.316430626053437, 0.25464123584764542)"
      ]
     },
     "execution_count": 25,
     "metadata": {},
     "output_type": "execute_result"
    }
   ],
   "source": [
    "chi2var_test(x) # 25%"
   ]
  },
  {
   "cell_type": "markdown",
   "metadata": {},
   "source": [
    "## 등분산 검정\n",
    "두 정규 분포로부터 생성된 두 개의 데이터 집합으로부터 두 정규 분포의 분산 모수가 같은지 확인"
   ]
  },
  {
   "cell_type": "code",
   "execution_count": 26,
   "metadata": {},
   "outputs": [
    {
     "data": {
      "image/png": "[encoded data removed]",
      "text/plain": [
       "<matplotlib.figure.Figure at 0x7f899baad7b8>"
      ]
     },
     "metadata": {},
     "output_type": "display_data"
    },
    {
     "data": {
      "text/plain": [
       "(1.0078822447165796, 1.2416003969261071)"
      ]
     },
     "execution_count": 26,
     "metadata": {},
     "output_type": "execute_result"
    }
   ],
   "source": [
    "N1 = 100\n",
    "N2 = 100\n",
    "sigma_1 = 1\n",
    "sigma_2 = 1.2\n",
    "np.random.seed(0)\n",
    "x1 = sp.stats.norm(0, sigma_1).rvs(N1)\n",
    "x2 = sp.stats.norm(0, sigma_2).rvs(N2)\n",
    "sns.distplot(x1, kde=False, fit=sp.stats.norm)\n",
    "sns.distplot(x2, kde=False, fit=sp.stats.norm)\n",
    "plt.show()\n",
    "x1.std(), x2.std()"
   ]
  },
  {
   "cell_type": "code",
   "execution_count": 27,
   "metadata": {},
   "outputs": [
    {
     "name": "stdout",
     "output_type": "stream",
     "text": [
      "BartlettResult(statistic=4.2534738372322662, pvalue=0.039170128783651344)\n",
      "FlignerResult(statistic=7.2248419904094572, pvalue=0.0071901501067483673)\n",
      "LeveneResult(statistic=7.6807089476794372, pvalue=0.0061135154970207925)\n"
     ]
    }
   ],
   "source": [
    "print(sp.stats.bartlett(x1, x2)) # 3% , 유의수준 5%일 때 모두 기각\n",
    "print(sp.stats.fligner(x1, x2))  # 0.7%, 유의수준 1%일 때도 기각\n",
    "print(sp.stats.levene(x1, x2)) # 0.6%"
   ]
  },
  {
   "cell_type": "markdown",
   "metadata": {},
   "source": [
    "## 정규정 검정"
   ]
  },
  {
   "cell_type": "markdown",
   "metadata": {},
   "source": [
    "`statsmodels.stats.stattools.omni_normtest\n",
    "\n",
    "statsmodels.stats.stattools.jarque_bera\n",
    "\n",
    "statsmodels.stats.diagnostic.kstest_normal\n",
    "\n",
    "statsmodels.stats.diagnostic.lillifors'"
   ]
  },
  {
   "cell_type": "markdown",
   "metadata": {},
   "source": [
    "`scipy.stats.ks_2samp\n",
    "\n",
    "scipy.stats.shapiro\n",
    "\n",
    "scipy.stats.anderson\n",
    "\n",
    "scipy.stats.mstats.normaltest`"
   ]
  },
  {
   "cell_type": "code",
   "execution_count": 34,
   "metadata": {},
   "outputs": [
    {
     "name": "stdout",
     "output_type": "stream",
     "text": [
      "Ks_2sampResult(statistic=0.23000000000000004, pvalue=0.049516112814422863)\n"
     ]
    },
    {
     "data": {
      "image/png": "[encoded data removed]",
      "text/plain": [
       "<matplotlib.figure.Figure at 0x7f898cde25f8>"
      ]
     },
     "metadata": {},
     "output_type": "display_data"
    }
   ],
   "source": [
    "np.random.seed(0)\n",
    "N1 = 50\n",
    "N2 = 100\n",
    "x1 = sp.stats.norm(0, 1).rvs(N1)\n",
    "x2 = sp.stats.norm(0.5, 1.5).rvs(N2)\n",
    "sns.distplot(x1)\n",
    "sns.distplot(x2)\n",
    "print(sp.stats.ks_2samp(x1, x2))\n",
    "plt.show() # 4.95%, 유의수준 5%일 때 기각"
   ]
  },
  {
   "cell_type": "markdown",
   "metadata": {},
   "source": [
    "---"
   ]
  },
  {
   "cell_type": "markdown",
   "metadata": {},
   "source": [
    "### Q1. 어떤 동전을 15번 던졌더니 12번이 앞면이 나왔다. 이 동전은 휘어지지 않은 공정한 동전(fair coin)인가?\n",
    "\n",
    "$$\\text{Bin}(n \\geq 12;N=15, \\theta=0.5) = 1 - F(11;N=15, \\theta=0.5) = 0.017578125$$"
   ]
  },
  {
   "cell_type": "code",
   "execution_count": 28,
   "metadata": {},
   "outputs": [
    {
     "data": {
      "image/png": "[encoded data removed]",
      "text/plain": [
       "<matplotlib.figure.Figure at 0x7f898cf65a58>"
      ]
     },
     "metadata": {},
     "output_type": "display_data"
    }
   ],
   "source": [
    "rv = sp.stats.binom(15,0.5)\n",
    "xx = np.arange(16)\n",
    "plt.subplot(211)\n",
    "plt.bar(xx, rv.pmf(xx))\n",
    "plt.subplot(212)\n",
    "plt.bar(xx, rv.cdf(xx))\n",
    "plt.show()"
   ]
  },
  {
   "cell_type": "code",
   "execution_count": 29,
   "metadata": {},
   "outputs": [
    {
     "data": {
      "text/plain": [
       "0.017578125"
      ]
     },
     "execution_count": 29,
     "metadata": {},
     "output_type": "execute_result"
    }
   ],
   "source": [
    "1 - sp.stats.binom(15, 0.5).cdf(12-1) \n",
    "# 1% 보다 높고 5%보다 낮다\n",
    "# 유의수준이 1%면 채택, 5%면 기각"
   ]
  },
  {
   "cell_type": "markdown",
   "metadata": {},
   "source": [
    "### Q2. \n",
    "어떤 트레이더의 일주일 수익률은 다음과 같다\n",
    "\n",
    "-2.5%, -5%, 4.3%, -3.7% -5.6% \n",
    "\n",
    "이 트레이더는 계속해서 돈을 잃을 사람인가?"
   ]
  },
  {
   "cell_type": "code",
   "execution_count": 30,
   "metadata": {},
   "outputs": [
    {
     "name": "stdout",
     "output_type": "stream",
     "text": [
      "-0.025 0.0398559907668\n"
     ]
    },
    {
     "data": {
      "text/plain": [
       "(-1.4025921414082105, 0.11669216509589829)"
      ]
     },
     "execution_count": 30,
     "metadata": {},
     "output_type": "execute_result"
    }
   ],
   "source": [
    "x = np.array([-0.025, -0.05, 0.043, -0.037, -0.056])\n",
    "print(x.mean(), x.std(ddof=1))\n",
    "test = x.mean()/x.std(ddof=1)*np.sqrt(len(x))\n",
    "test, sp.stats.t(df=(5-1)*1).cdf(test)"
   ]
  },
  {
   "cell_type": "code",
   "execution_count": 31,
   "metadata": {},
   "outputs": [
    {
     "data": {
      "image/png": "[encoded data removed]",
      "text/plain": [
       "<matplotlib.figure.Figure at 0x7f898ce20f28>"
      ]
     },
     "metadata": {},
     "output_type": "display_data"
    }
   ],
   "source": [
    "xx = np.arange(6)\n",
    "rv = sp.stats.t(df=1*4)\n",
    "plt.subplot(211)\n",
    "plt.bar(xx, rv.pdf(xx))\n",
    "plt.subplot(212)\n",
    "plt.bar(xx, rv.cdf(xx))\n",
    "plt.show()"
   ]
  },
  {
   "cell_type": "markdown",
   "metadata": {},
   "source": [
    "---"
   ]
  },
  {
   "cell_type": "code",
   "execution_count": null,
   "metadata": {
    "collapsed": true
   },
   "outputs": [],
   "source": []
  },
  {
   "cell_type": "markdown",
   "metadata": {},
   "source": [
    "### MLE\n",
    "베르누이 분포 모수추정"
   ]
  },
  {
   "cell_type": "code",
   "execution_count": 32,
   "metadata": {},
   "outputs": [
    {
     "name": "stdout",
     "output_type": "stream",
     "text": [
      "344 656\n"
     ]
    },
    {
     "data": {
      "text/plain": [
       "0.65600000000000003"
      ]
     },
     "execution_count": 32,
     "metadata": {},
     "output_type": "execute_result"
    }
   ],
   "source": [
    "np.random.seed(0)\n",
    "theta0 = 0.65 # 모수 설정\n",
    "x = sp.stats.bernoulli(theta0).rvs(1000) #랜덤 샘플 생성\n",
    "N0, N1 = np.bincount(x, minlength=2) # 앞, 뒷면 갯수 카운트\n",
    "print(N0, N1)\n",
    "N = N0 + N1 # 전체 횟수 = 각 횟수 합\n",
    "theta = N1/N # \n",
    "theta"
   ]
  },
  {
   "cell_type": "markdown",
   "metadata": {},
   "source": [
    "카테고리 분포 모수 추정"
   ]
  },
  {
   "cell_type": "code",
   "execution_count": 33,
   "metadata": {},
   "outputs": [
    {
     "data": {
      "text/plain": [
       "array([ 0.098,  0.317,  0.585])"
      ]
     },
     "execution_count": 33,
     "metadata": {},
     "output_type": "execute_result"
    }
   ],
   "source": [
    "np.random.seed(0)\n",
    "theta0 = np.array([0.1, 0.3, 0.6]) # 모수 설정\n",
    "x = np.random.choice(np.arange(3), 1000, p=theta0) #랜덤 샘플 생성\n",
    "N0, N1, N2 = np.bincount(x, minlength=3) # 1, 2, 3 카운트\n",
    "N = N0 + N1 + N2 # 전체 횟수\n",
    "theta = np.array([N0, N1, N2]) / N\n",
    "theta"
   ]
  },
  {
   "cell_type": "code",
   "execution_count": null,
   "metadata": {
    "collapsed": true
   },
   "outputs": [],
   "source": []
  }
 ],
 "metadata": {
  "kernelspec": {
   "display_name": "Python 3",
   "language": "python",
   "name": "python3"
  },
  "language_info": {
   "codemirror_mode": {
    "name": "ipython",
    "version": 3
   },
   "file_extension": ".py",
   "mimetype": "text/x-python",
   "name": "python",
   "nbconvert_exporter": "python",
   "pygments_lexer": "ipython3",
   "version": "3.6.4"
  }
 },
 "nbformat": 4,
 "nbformat_minor": 2
}
