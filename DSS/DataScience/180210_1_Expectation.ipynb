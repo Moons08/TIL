{
 "cells": [
  {
   "cell_type": "markdown",
   "metadata": {},
   "source": [
    "## Sample mean"
   ]
  },
  {
   "cell_type": "markdown",
   "metadata": {},
   "source": [
    "우리가 보통 데이터의 평균(mean, average)라고 하는 것이 정확하게는 **샘플 평균**이다.\n",
    "\n",
    "다음과 같은 식을 사용하여 계산한다.\n",
    "$$ m = \\bar{x} = \\dfrac{1}{N}\\sum_{i=1}^{N} x_i $$\n",
    "\n",
    "위 식에서 $N$는 자료의 갯수, $i = 1, \\cdots, N$는 자료의 순서 혹은 인덱스(index)를 뜻하고, $x_i$ 는 $i$째 자료의 값을 뜻한다."
   ]
  },
  {
   "cell_type": "markdown",
   "metadata": {},
   "source": [
    "자료가 어떤 확률 분포를 따르는 확률 변수 $X$의 샘플이라고 가정하자. 이러한 경우, 확률 변수 위에 bar를 추가하여 $\\bar X$와 같이 샘플 평균을 나타내기도 한다. \n",
    "\n",
    "$$ \\bar{X} = \\dfrac{1}{N}\\sum_{i=1}^{N} X_i$$\n",
    "\n",
    "1. 샘플링을 한 번 해서 나온 자료 값의 집합에서 구한 샘플 평균 $\\bar X$이 있을 때, \n",
    "1. 샘플링을 다시 하여 또 다른 자료 값의 집합을 구하면, \n",
    "1. 이 자료는 먼저 있던 자료와 다르기 때문에,\n",
    "1. 여기에서 구한 샘플 평균은 앞서 구한 샘플 평균과 다른 값을 가진다.\n",
    "\n",
    "이렇게 샘플링을 할 때마다  샘플 평균이 다른(예측할 수 없는) 값이 나오기 때문에, **샘플 평균 $\\bar X$도 원래의 확률 변수 $X$와 밀접한 관계를 가지는 다른 하나의 확률 변수**라고 할 수 있다. 물론 이 확률 변수의 분포 또한 원래의 확률 변수 $X$와 다른 분포 형태를 가진다."
   ]
  },
  {
   "cell_type": "markdown",
   "metadata": {},
   "source": [
    "---"
   ]
  },
  {
   "cell_type": "markdown",
   "metadata": {},
   "source": [
    "## 확률 분포의 기댓값 $E[x]$"
   ]
  },
  {
   "cell_type": "markdown",
   "metadata": {},
   "source": [
    "확률 변수가 따르고 있는 확률 모형, 정확히는 확률 밀도 함수를 알고 있을 경우에는 다음과 같은 수식을 사용하여 이론적인 평균을 구할 수 있다. 이러한 이론적 평균을 확률 변수의 기댓값(expectiation)이라고 한다. 확률 모형이 존재한다는 것이 확실한 경우에는 단순히 평균(mean)이라고 말하기도 한다.\n",
    "\n",
    "이산 확률 변수의 경우, 다음과 같이 확률 질량 함수 $P(x) $를 가중치로 $x$를 더하여 기댓값을 구한다.\n",
    "$$\\mu_X = \\operatorname{E}[X] = \\sum xP(x)$$\n",
    "\n",
    "연속 확률 변수의 경우에는 다음과 같이 확률 밀도 함수 $f(x)$를 가중치로 $x$를 적분하여 기댓값을 구한다.\n",
    "$$\\mu_X = \\operatorname{E}[X] = \\int_{-\\infty}^{\\infty} x f(x) dx$$\n",
    "\n",
    "확률 변수가 하나밖에 없을 때는 생략하고 $\\mu$라고 쓸 수 있다."
   ]
  },
  {
   "cell_type": "markdown",
   "metadata": {},
   "source": [
    "### 확률 밀도 함수의 모양과 기댓값\n",
    "기댓값은 여러가지 가능한 $x$의 값들을 확률 밀도 값에 따라 가중합을 한 것이므로 가장 확률 밀도가 높은 $x$값 근처의 값이 된다. 즉, 확률 밀도가 모여있는 근처의 위치를 나타낸다."
   ]
  },
  {
   "cell_type": "markdown",
   "metadata": {},
   "source": [
    "### 기댓값의 성질\n",
    "기댓값은 확률 모형이라는 수식을 사용한 것이므로 다음과 같은 성질을 가진다는 것을 수학적으로 증명할 수 있다. 복잡한 수식을 가지는 확률 모형의 경우, 이러한 성질을 이용하여 기댓값 계산을 할 수 있다.\n",
    "\n",
    "- 고정된 값 c(상수)에 대해 \n",
    "$$ E[c] =c $$\n",
    "\n",
    "- 선형성\n",
    "$$ E[cX] = cE[X] $$\n",
    "\n",
    "$$ E[X+Y] = E[X]+ E[Y] $$"
   ]
  },
  {
   "cell_type": "markdown",
   "metadata": {},
   "source": [
    "## 기댓값과 샘플 평균의 관계\n",
    "샘플 평균도 하나의 확률 변수라고 했다. 따라서 샘플 평균에도 기댓값이 존재한다. 또한 샘플 평균의 기댓값은 원래의 확률 변수의 기댓값과 일치한다.\n",
    "\n",
    "$$ E[\\bar X] = E[X] $$\n",
    "\n",
    "$$\\operatorname{E}[X] = \\int_{-\\infty}^{\\infty} x f(x) dx = \\mu_X $$\n",
    "\n",
    "\n",
    "$$ \\bar{X} = \\dfrac{1}{N}\\sum_{i=1}^{N} X_i$$\n",
    "\n",
    "(증명)\n",
    "$$\\begin{eqnarray}\n",
    "\\operatorname{E}[\\bar{X}] \n",
    "&=& \\operatorname{E}\\left[\\dfrac{1}{N}\\sum_{1}^{N}X_i \\right]  \\\\\n",
    "&=& \\dfrac{1}{N}\\sum_{1}^{N}\\operatorname{E}[X_i]  \\\\\n",
    "&=& \\dfrac{1}{N}\\sum_{1}^{N}\\operatorname{E}[X]  \\\\\n",
    "&=& \\dfrac{1}{N} N \\operatorname{E}[X] \\\\ \n",
    "&=& \\operatorname{E}[X]  \\\\\n",
    "\\end{eqnarray}$$"
   ]
  },
  {
   "cell_type": "markdown",
   "metadata": {},
   "source": [
    "---"
   ]
  },
  {
   "cell_type": "markdown",
   "metadata": {},
   "source": [
    "연습1.\n",
    "1. NumPy를 사용하여 20개의 숫자를 무작위로 생성한 후 히스토그램을 그리고 샘플 평균을 구한다.\n",
    "1. 1번과 같이 20개의 숫자 생성 및 샘플 평균 계산을 10번 반복하여 10개의 샘플 평균을 구한다.\n",
    "1. 2번에서 구한 샘플 평균의 히스토그램을 그리고 샘플 평균을 구한다."
   ]
  },
  {
   "cell_type": "code",
   "execution_count": 1,
   "metadata": {
    "collapsed": true
   },
   "outputs": [],
   "source": [
    "%matplotlib inline\n",
    "sns.set()"
   ]
  },
  {
   "cell_type": "code",
   "execution_count": 2,
   "metadata": {},
   "outputs": [
    {
     "name": "stdout",
     "output_type": "stream",
     "text": [
      "0.62740197864 [[ 0.50960281  0.75062506  0.86068445  0.66006062  0.17937868  0.0112473\n",
      "   0.6017262   0.35915671  0.7418941   0.71507477  0.96858432  0.87611743\n",
      "   0.85538602  0.95073938  0.69189585  0.304061    0.75896372  0.10093846\n",
      "   0.90091137  0.75099132]]\n"
     ]
    },
    {
     "data": {
      "image/png": "[encoded data removed]",
      "text/plain": [
       "<matplotlib.figure.Figure at 0x7fd19ff367f0>"
      ]
     },
     "metadata": {},
     "output_type": "display_data"
    }
   ],
   "source": [
    "a  = np.random.rand(20, 1)\n",
    "a_mean = np.mean(a)\n",
    "print(a_mean, a.T)\n",
    "plt.hist(a)\n",
    "plt.show()"
   ]
  },
  {
   "cell_type": "code",
   "execution_count": 3,
   "metadata": {},
   "outputs": [
    {
     "name": "stdout",
     "output_type": "stream",
     "text": [
      "0.467550161699 [0.43041143149113675, 0.55259062356731525, 0.51914060102854587, 0.46437379933802703, 0.41150295726912195, 0.40493118514963405, 0.52947814604970456, 0.39198983375417756, 0.45631874865112787, 0.51476429069198049]\n"
     ]
    },
    {
     "data": {
      "image/png": "[encoded data removed]",
      "text/plain": [
       "<matplotlib.figure.Figure at 0x7fd1cc397208>"
      ]
     },
     "metadata": {},
     "output_type": "display_data"
    }
   ],
   "source": [
    "b = [np.mean(np.random.rand(20, 1)) for i in range (1, 10+1)]\n",
    "b_mean = np.mean(b)  \n",
    "print(b_mean, b)\n",
    "plt.hist(b)\n",
    "plt.show()"
   ]
  },
  {
   "cell_type": "markdown",
   "metadata": {},
   "source": [
    "---"
   ]
  },
  {
   "cell_type": "markdown",
   "metadata": {},
   "source": [
    "## median"
   ]
  },
  {
   "cell_type": "markdown",
   "metadata": {},
   "source": [
    "전체 자료를 크기별로 정렬하였을 때 가장 중앙에 위치하게 되는 값을 말한다.\n",
    "중앙값에도 샘플 중앙값과 확률 분포로부터 계산한 이론적 중앙값이 존재한다.\n",
    "\n",
    "전체 샘플의 갯수가 $N$인 경우,\n",
    "- N이 홀수 : 중간값은 $(n+1)/2$번째 샘플의 값\n",
    "- N이 짝수 : 중간값은 $n/2$번째 샘플의 값과 $n/2 + 1$번째 샘플 값의 평균\n",
    "\n",
    "이론적 중앙값은 그 값보다 큰 값, 작은 값이 나올 확률이 동일하게 0.5이다. 따라서 다음과 같이 누적 확률 분포 $F(x)$에서 계산할 수 있다.\n",
    "\n",
    "$$ \\text{median} = F^{-1}(0.5) $$\n",
    "\n",
    "$$ 0.5 = F(\\text{median}) $$"
   ]
  },
  {
   "cell_type": "markdown",
   "metadata": {},
   "source": [
    "## mode"
   ]
  },
  {
   "cell_type": "markdown",
   "metadata": {},
   "source": [
    "최빈값(mode)은 **가장 빈번**하게 나올 수 있는 값을 말한다. 하지만 연속 확률 분포인 경우, 어느 값에 대해서나 특정한 값이 나올 확률은 0이므로 다음과 같이 확률 밀도 함수의 값이 가장 큰 확률 변수의 값으로 정의한다. 다시말해 **확률 밀도 함수의 최댓값의 위치**이다.\n",
    "\n",
    "$$ \\text{mode} = \\arg \\max_x f(x) $$\n",
    "\n",
    "이산 샘플 자료에 대해서는 최빈값을 구할 수 있으나. 연속 샘플 자료는 최빈값이 존재하지 않거나 의미가 없기 때문에 히스토그램과 같이 구간을 분할하여 각 구간의 대표값으로 카테고리화 하여 최빈값을 구해야 한다."
   ]
  },
  {
   "cell_type": "markdown",
   "metadata": {},
   "source": [
    "## 기댓값, 중앙값, 최빈값의 비교"
   ]
  },
  {
   "cell_type": "markdown",
   "metadata": {},
   "source": [
    "확률 분포 즉, 확률 밀도 함수가 대칭인 경우 기댓값, 중앙값, 최빈값이 모두 같다. 그러나 분포가 어느 한쪽으로 찌그러진(skewed) 경우에는 달라질 수 있다.\n",
    "\n",
    "또한 찌그러진 경우(혹은 이상값, outliner이 있는경우)에는 기댓값, 중앙값, 최빈값 순으로 영향을 가장 많이 받는다.\n",
    "\n",
    "하지만 계산량 또한 같은 순서로 증가하기 때문에, 분석에는 가장 구하기 쉬운 기댓값을 주로 사용한다. "
   ]
  },
  {
   "cell_type": "markdown",
   "metadata": {},
   "source": [
    "---"
   ]
  },
  {
   "cell_type": "markdown",
   "metadata": {},
   "source": [
    "### python\n",
    "-  mean()\n",
    "-  nanmean()\n",
    "- median()\n",
    "- argmax()\n",
    "- histogram()"
   ]
  },
  {
   "cell_type": "code",
   "execution_count": 6,
   "metadata": {},
   "outputs": [
    {
     "data": {
      "text/plain": [
       "(-0.045256707490195384, -0.058028034799627745)"
      ]
     },
     "execution_count": 6,
     "metadata": {},
     "output_type": "execute_result"
    }
   ],
   "source": [
    "np.random.seed(0)\n",
    "x = np.random.normal(size=1000) #noraml distribution으로 난수 생성\n",
    "np.mean(x), np.median(x) # 기댓값, 중앙값"
   ]
  },
  {
   "cell_type": "code",
   "execution_count": 8,
   "metadata": {},
   "outputs": [
    {
     "data": {
      "text/plain": [
       "(-0.52631578947368496, 0.52631578947368318)"
      ]
     },
     "execution_count": 8,
     "metadata": {},
     "output_type": "execute_result"
    }
   ],
   "source": [
    "ns, bins = np.histogram(x, bins=np.linspace(-10,10,20))\n",
    "M = np.argmax(ns)\n",
    "bins[M], bins[M+1]"
   ]
  }
 ],
 "metadata": {
  "kernelspec": {
   "display_name": "Python 3",
   "language": "python",
   "name": "python3"
  },
  "language_info": {
   "codemirror_mode": {
    "name": "ipython",
    "version": 3
   },
   "file_extension": ".py",
   "mimetype": "text/x-python",
   "name": "python",
   "nbconvert_exporter": "python",
   "pygments_lexer": "ipython3",
   "version": "3.6.4"
  }
 },
 "nbformat": 4,
 "nbformat_minor": 2
}
