{
 "cells": [
  {
   "cell_type": "markdown",
   "metadata": {},
   "source": [
    "영 벡터가 아닌 모든 벡터 x $$ x^TAx > 0 $$\n",
    "위 조건을 충족하는 경우 양-정부호(positive definite)\n",
    "$$ x^TAx >= 0 $$ 이 조건인 경우에는 양-준정부호(positive semi-definite)"
   ]
  },
  {
   "cell_type": "code",
   "execution_count": 2,
   "metadata": {},
   "outputs": [
    {
     "data": {
      "text/plain": [
       "array([[-4, -3, -2],\n",
       "       [-1,  0,  1],\n",
       "       [ 2,  3,  4]])"
      ]
     },
     "execution_count": 2,
     "metadata": {},
     "output_type": "execute_result"
    }
   ],
   "source": [
    "A = (np.arange(9) - 4).reshape(3, 3)\n",
    "A"
   ]
  },
  {
   "cell_type": "markdown",
   "metadata": {},
   "source": [
    "### Norm: use to check size of Matrix or Vector \n",
    "Norm of A: $\\|A\\|$\n",
    "$$\\Vert A \\Vert_L = \\left( \\sum_{i=1}^M \\sum_{j=1}^N |a_{ij}|^L\\right)^{1/L}$$\n",
    "w/o significant L, usually $L = 2$, and called $\\Vert A \\Vert_F$\n",
    "$$\\Vert A \\Vert = \\Vert A \\Vert_F = \\sqrt {\\sum_{i=1}^M \\sum_{j=1}^N a_{ij}^2}$$\n",
    "F means Frobenius norm\n",
    " - when need to use median value, use $L=1$   "
   ]
  },
  {
   "cell_type": "code",
   "execution_count": 3,
   "metadata": {},
   "outputs": [
    {
     "data": {
      "text/plain": [
       "7.745966692414834"
      ]
     },
     "execution_count": 3,
     "metadata": {},
     "output_type": "execute_result"
    }
   ],
   "source": [
    "np.linalg.norm(A)"
   ]
  },
  {
   "cell_type": "code",
   "execution_count": 3,
   "metadata": {},
   "outputs": [
    {
     "name": "stdout",
     "output_type": "stream",
     "text": [
      "[[ 1.  0.  0.]\n",
      " [ 0.  1.  0.]\n",
      " [ 0.  0.  1.]]\n"
     ]
    },
    {
     "data": {
      "text/plain": [
       "3.0"
      ]
     },
     "execution_count": 3,
     "metadata": {},
     "output_type": "execute_result"
    }
   ],
   "source": [
    "print(np.eye(3)) # eye = identity matrix\n",
    "np.trace(np.eye(3))"
   ]
  },
  {
   "cell_type": "markdown",
   "metadata": {},
   "source": [
    "#### trace = 대각합"
   ]
  },
  {
   "cell_type": "code",
   "execution_count": 3,
   "metadata": {},
   "outputs": [
    {
     "data": {
      "text/plain": [
       "0"
      ]
     },
     "execution_count": 3,
     "metadata": {},
     "output_type": "execute_result"
    }
   ],
   "source": [
    "np.trace(A)"
   ]
  },
  {
   "cell_type": "markdown",
   "metadata": {},
   "source": [
    "$tr(cA) = c\\:\\ tr(A)$\n",
    "\n",
    "$tr(A^T) = tr(A) $\n",
    "\n",
    "$ tr(A + B) = tr(A) + tr(B) $\n",
    "\n",
    "#### Trace trick\n",
    "\n",
    "$tr(AB) = tr(BA)$\n",
    "\n",
    "$tr(ABC) = tr(BCA) = tr(CAB)$\n",
    "\n",
    "- quadratic form\n",
    "\n",
    "$$ x^TAx = tr(x^TAx) = tr(Axx^T) = tr(xx^TA) $$\n"
   ]
  },
  {
   "cell_type": "code",
   "execution_count": 1,
   "metadata": {},
   "outputs": [
    {
     "name": "stdout",
     "output_type": "stream",
     "text": [
      "[[21]]\n",
      "[[ 5 10]\n",
      " [ 8 16]]\n",
      "21 21\n"
     ]
    }
   ],
   "source": [
    "x = np.array([[1], [2]])\n",
    "A = np.array([[1, 2], [2, 3]])\n",
    "ans1 = np.dot(np.dot(x.T, A), x)\n",
    "print(ans1)\n",
    "ans2 = np.dot(np.dot(A, x), x.T)\n",
    "print(ans2)\n",
    "print(np.trace(ans1), np.trace(ans2))"
   ]
  },
  {
   "cell_type": "markdown",
   "metadata": {},
   "source": [
    "#### 행렬식 (determianant)\n",
    "- 정방행렬 A의 행렬식은 det(A) 혹은 $\\vert A \\vert $ 로 표기된다.\n",
    "- Cofactor(여인수) 전개로 불리는 재귀적 방법(recursive)으로 정의된다.\n",
    "\n",
    "\n",
    "$$det(A) = \\sum_{i=1}^N \\left\\{{(-1)^{i+j_0}M_{i,j_0}}\\right\\}a_{i,j_0}\n",
    " = \\sum_{j=1}^n\\left\\{(-1)^{i_0+j}M_{i_0,j}\\right\\}a_{i_0j}$$\n",
    "\n",
    "- $ M_{i,j} $는 마이너(minor, 소행렬식), 마이너 값도 행렬식\n",
    "\n",
    "\n",
    "- $C_{i,j}$은 마이너 값에 $(-1)^{i+j}$를 곱한 값. 즉,  \n",
    "\n",
    "$$ C_{i,j} = (-1)^{i+j}M_{i,j} $$\n",
    "\n",
    "- 코팩터로 표현한 행렬식\n",
    "$$det(A) = \\sum_{i=1}^N C_{i,j_0} a_{i,j_0} \n",
    "= \\sum_{j=1}^N C_{i_0,j} a_{i_0,j} $$\n",
    " \n",
    "\n"
   ]
  },
  {
   "cell_type": "code",
   "execution_count": 6,
   "metadata": {},
   "outputs": [
    {
     "data": {
      "text/plain": [
       "-9.5161973539299405e-16"
      ]
     },
     "execution_count": 6,
     "metadata": {},
     "output_type": "execute_result"
    }
   ],
   "source": [
    "A = (np.arange(9)+1).reshape(3, 3)\n",
    "np.linalg.det(A)"
   ]
  },
  {
   "cell_type": "markdown",
   "metadata": {},
   "source": [
    "#### 행렬식은 다음과 같은 성질을 만족\n",
    "$$det(A^T) = det(A) $$\n",
    "\n",
    "$$det(I) = 1 $$\n",
    "\n",
    "$$det(AB) = det(A)det(B) $$\n",
    "\n",
    "$$det(A^{-1}) = \\dfrac {1}{\\det(A)} $$"
   ]
  },
  {
   "cell_type": "code",
   "execution_count": 7,
   "metadata": {},
   "outputs": [
    {
     "data": {
      "text/plain": [
       "array([[  3.15251974e+15,  -6.30503948e+15,   3.15251974e+15],\n",
       "       [ -6.30503948e+15,   1.26100790e+16,  -6.30503948e+15],\n",
       "       [  3.15251974e+15,  -6.30503948e+15,   3.15251974e+15]])"
      ]
     },
     "execution_count": 7,
     "metadata": {},
     "output_type": "execute_result"
    }
   ],
   "source": [
    "A2 = np.linalg.inv(A)\n",
    "A2"
   ]
  },
  {
   "cell_type": "markdown",
   "metadata": {},
   "source": [
    "## 행렬식의 기하학적 의미\n",
    "정방 행렬의 행렬식의 절대값은 그 행렬의 벡터들이 이루는 평행사변형의 면적 또는 부피가 된다.\n",
    "$$\\text{det(A)}^2 = S^2$$\n",
    "\n",
    "예를 들어, 2 x 2 행렬\n",
    "\n",
    "$$\\begin{bmatrix}\n",
    "a_{11} && a_{12} \\\\\n",
    "a_{21} && a_{22} \\\\\n",
    "\\end{bmatrix}$$\n",
    "\n",
    "의 열벡터를 각각 a, b라고 할 때,\n",
    "$$\\| a^{\\perp b} \\|^2  =  \\| a \\|^2 - \\| a^{\\Vert b} \\|^2 = \\| a \\|^2 - \\dfrac{(a^Tb)^2}{\\|b\\|^2}$$\n",
    "\n",
    "\n",
    "$$ \\begin{eqnarray}\n",
    "S^2 = \\| b \\|^2 \\| a^{\\perp b} \\|^2\n",
    "&=& \\| b \\|^2 \\left( \\| a \\|^2 - \\dfrac{(a^Tb)^2}{\\|b\\|^2} \\right) \\\\\n",
    "&=& \\| a \\|^2 \\| b \\|^2 - (a^Tb)^2 \\\\\n",
    "&=& (a_{11}^2 + a_{21}^2)(a_{12}^2 + a_{22}^2) - (a_{11}a_{12} + a_{21}a_{22})^2 \\\\\n",
    "&=& a_{11}^2a_{12}^2 + a_{21}^2a_{12}^2 + a_{11}^2a_{22}^2 + a_{21}^2a_{22}^2 -\\\\\n",
    "& & (a_{11}^2a_{12}^2 + 2a_{11}a_{12}a_{21}a_{22} + a_{21}^2a_{22}^2) \\\\\n",
    "&=& (a_{11}a_{22} - a_{12}a_{21})^2 \\\\\n",
    "&=& \\det(A)^2\n",
    "\\end{eqnarray}$$\n",
    "\n",
    "전치 행렬의 행렬식 값도 동일하므로 열벡터가 아닌 행벡터로 이루어진 사각형에 대해서도 성립한다. 또한 고차원에서도 마찬가지로 성립한다."
   ]
  }
 ],
 "metadata": {
  "kernelspec": {
   "display_name": "Python 3",
   "language": "python",
   "name": "python3"
  },
  "language_info": {
   "codemirror_mode": {
    "name": "ipython",
    "version": 3
   },
   "file_extension": ".py",
   "mimetype": "text/x-python",
   "name": "python",
   "nbconvert_exporter": "python",
   "pygments_lexer": "ipython3",
   "version": "3.6.4"
  }
 },
 "nbformat": 4,
 "nbformat_minor": 2
}
