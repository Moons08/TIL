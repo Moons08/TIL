{
 "cells": [
  {
   "cell_type": "markdown",
   "metadata": {},
   "source": [
    "## 행렬 미분\n",
    "\n",
    " 함수도 행렬의 원소가 될 수 있다. 이는 함수의 종속 변수 $y$가 행렬인 경우라고 볼 수 있다.\n",
    "\n",
    "$$ f(x) = \\begin{bmatrix} x^2 & 2x \\\\ \\log x & e^{x^2} \\end{bmatrix} = y $$\n",
    "\n",
    " 반대로 여러개의 입력을 가지는 다변수 함수는 함수의 독립 변수가 벡터인 경우로 볼 수 있다.\n",
    "\n",
    "$$ f(x_1, x_2) = f\\left(\\begin{bmatrix} x_1 \\\\ x_2 \\end{bmatrix}\\right) = f(x)$$\n",
    "\n",
    "이처럼 행렬을 입력 혹은 출력으로 가지는 함수를 미분하는 하는 것을 행렬 미분(실제로는 편미분)이라고 한다. 데이터 분석에서는 주로 분모 중심 표현법(Denominator-layout notation)을 사용한다."
   ]
  },
  {
   "cell_type": "markdown",
   "metadata": {},
   "source": [
    "---"
   ]
  },
  {
   "cell_type": "markdown",
   "metadata": {},
   "source": [
    "## 스칼라를 벡터로 미분\n",
    "\n",
    "- gradient vector\n",
    "$$ \\nabla y = \\frac{\\partial y}{\\partial \\mathbf{x}}\n",
    "= \\begin{bmatrix}\n",
    "\\dfrac{\\partial y}{\\partial x_1}\\\\\n",
    "\\dfrac{\\partial y}{\\partial x_2}\\\\\n",
    "\\vdots\\\\\n",
    "\\dfrac{\\partial y}{\\partial x_N}\\\\\n",
    "\\end{bmatrix}$$"
   ]
  },
  {
   "cell_type": "markdown",
   "metadata": {},
   "source": [
    "practice\n",
    "- 1 $$ f(x, y, x) = x + y + z $$\n",
    "\n",
    "$$ \\nabla f = \\begin{bmatrix} 1 \\\\ 1 \\\\ 1 \\end{bmatrix}$$\n",
    "- 2  $$ f(x, y, x) = xyz $$\n",
    "\n",
    "$$ \\nabla f = \\begin{bmatrix} yz \\\\ xz \\\\ xy\n",
    "\\end{bmatrix}$$\n"
   ]
  },
  {
   "cell_type": "markdown",
   "metadata": {},
   "source": [
    "\n",
    "그레디언트 벡터는 2차원 상에서 countour plot 으로 나타낼 수 있으며, contour plot 상에 그레디언트 벡터를 화살표로 나타낸 것을 quiver plot이라고 한다. 또한 다음과 같은 특징이 있다.\n",
    "- 그레디언트 벡터의\n",
    "    - 방향은 함수 곡면의 기울기가 가장 큰 방향을 가리킨다.\n",
    "    - 방향은 등고선(isoline)의 방향과 직교한다.\n",
    "    - 크기는 기울기를 의미한다. "
   ]
  },
  {
   "cell_type": "markdown",
   "metadata": {},
   "source": [
    "---"
   ]
  },
  {
   "cell_type": "markdown",
   "metadata": {},
   "source": [
    "### 미분 규칙 1: 선형 모형\n",
    "- 선형 모형을 미분하면 가중치 벡터가 된다.\n",
    "\n",
    "$$ \\frac{\\partial w^Tx}{\\partial x} = \\frac{\\partial x^Tw}{\\partial x} = w $$\n",
    "\n",
    "\n",
    "\n",
    "### 미분 규칙 2: 이차 형식\n",
    "- 이차 형식을 미분하면 행렬과 벡터의 곱으로 나타난다.\n",
    "\n",
    "$$ \\frac{\\partial x^TAx}{\n",
    "\\partial x} = (A + A^T)x $$\n",
    "\n",
    "증명\n",
    "- https://datascienceschool.net/view-notebook/8595892721714eb68be24727b5323778/"
   ]
  },
  {
   "cell_type": "markdown",
   "metadata": {},
   "source": [
    "### 벡터를 스칼라로 미분\n",
    "함수의 종속 변수 $y$가 다차원벡터이고 독립 변수 $x$가 스칼라인 경우는 함수가 여러 개라고 보는 것과 마찬가지이다.\n",
    "\n",
    "$$\\mathbf{y} =\n",
    "\\begin{bmatrix}\n",
    "y_1 \\\\\n",
    "y_2 \\\\\n",
    "\\vdots\\\\\n",
    "y_M \\\\\n",
    "\\end{bmatrix}\n",
    "= \\mathbf{f}(x)$$\n",
    "\n",
    "벡터를 스칼라로 미분하는 경우에는 결과를 행 벡터로 표시한다.\n",
    "\n",
    "$$\n",
    "\\frac{\\partial \\mathbf{y}}{\\partial x} = \\left[\n",
    "\\frac{\\partial y_1}{\\partial x}\n",
    "\\frac{\\partial y_2}{\\partial x}\n",
    "\\cdots\n",
    "\\frac{\\partial y_M}{\\partial x}\n",
    "\\right]$$"
   ]
  },
  {
   "cell_type": "markdown",
   "metadata": {},
   "source": [
    "### 벡터를 벡터로 미분\n",
    "\n",
    "함수의 종속, 독립 변수가 모두 벡터인 경우, 각각의 조합에 대해 모두 미분이 존재. 따라서 도함수(derivative)는 행렬 형태가 되며 이를 자코비안 행렬(Jacobian matrix)이라고 한다. **자코비안 행렬의 경우** 벡터를 스칼라로, 스칼라를 벡터로 미분하는 경우와 **행/열의 방향이 다르다는 점에 유의**\n",
    "\n",
    "$$\n",
    "\\mathbf J = \\frac{d\\mathbf y}{d\\mathbf x} = \n",
    "\\begin{bmatrix}\n",
    "\\dfrac{\\partial y_1}{\\partial \\mathbf x}^T \\\\ \\vdots \\\\ \\dfrac{\\partial y_M}{\\partial \\mathbf x}^T \n",
    "\\end{bmatrix} =\n",
    "\\begin{bmatrix}\n",
    "\\nabla y_1^T \\\\ \\nabla y_2^T \\\\ \\vdots \\\\ \\nabla y_M^T \\\\ \n",
    "\\end{bmatrix} =\n",
    "\\begin{bmatrix}\n",
    "\\dfrac{\\partial y_1}{\\partial x_1} & \\cdots & \\dfrac{\\partial y_1}{\\partial x_N}\\\\\n",
    "\\vdots & \\ddots & \\vdots\\\\\n",
    "\\dfrac{\\partial y_M}{\\partial x_1} & \\cdots & \\dfrac{\\partial y_M}{\\partial x_N} \n",
    "\\end{bmatrix}\n",
    "$$"
   ]
  },
  {
   "cell_type": "markdown",
   "metadata": {},
   "source": [
    "- practice\n",
    "$$f_1(x) = \n",
    "\\begin{bmatrix}\n",
    "\\sum_i^3 x_i \\\\\n",
    "\\prod_i^3 x_i \n",
    "\\end{bmatrix}$$ \n",
    "\n",
    "$$ J =\n",
    "\\dfrac{df_1(x)}{dx} = \n",
    "\\begin{bmatrix}\n",
    "1 & 1& 1\\\\ \n",
    "x_2x_3&x_1x_3&x_2x_3\n",
    "\\end{bmatrix}\n",
    "$$\n",
    "\n",
    "\n",
    "$$f(x) = \n",
    "\\begin{bmatrix}\n",
    "\\sum_i^N x_i \\\\\n",
    "\\prod_i^N x_i \n",
    "\\end{bmatrix}$$ \n",
    "\n",
    "$$ J =\n",
    "\\dfrac{df(x)}{dx} = \n",
    "\\begin{bmatrix}\n",
    "1 & 1 & \\cdots & 1\\\\ \n",
    "\\dfrac{\\prod_i^N x_i}{\\partial x_1} & \\dfrac{\\prod_i^N x_i}{\\partial x_2} & \\cdots & \\dfrac{\\prod_i^N x_i}{\\partial x_n}\n",
    "\\end{bmatrix}\n",
    "$$\n",
    "\n"
   ]
  },
  {
   "cell_type": "markdown",
   "metadata": {},
   "source": [
    "다변수 함수의 2차 도함수는 그레디언트 벡터를 독립 변수 벡터로 미분한 것으로 다음과 같이 행렬로 나타낼 수 있으며, 해시안 행렬(Hessian matrix)이라고 한다. 일반적으로 대칭행렬이 되는 것이 특징.\n",
    "\n",
    "$$\n",
    "H = \\begin{bmatrix}\n",
    "  \\dfrac{\\partial^2 f}{\\partial x_1^2} & \\dfrac{\\partial^2 f}{\\partial x_2\\,\\partial x_1} & \\cdots & \\dfrac{\\partial^2 f}{\\partial x_N\\,\\partial x_1} \\\\\n",
    "  \\dfrac{\\partial^2 f}{\\partial x_1\\,\\partial x_2} & \\dfrac{\\partial^2 f}{\\partial x_2^2} & \\cdots & \\dfrac{\\partial^2 f}{\\partial x_N\\,\\partial x_2} \\\\\n",
    "  \\vdots & \\vdots & \\ddots & \\vdots \\\\\n",
    "  \\dfrac{\\partial^2 f}{\\partial x_1\\,\\partial x_N} & \\dfrac{\\partial^2 f}{\\partial x_2\\,\\partial x_N} & \\cdots & \\dfrac{\\partial^2 f}{\\partial x_N^2}\n",
    "\\end{bmatrix} $$"
   ]
  },
  {
   "cell_type": "markdown",
   "metadata": {},
   "source": [
    "practice \n",
    "- H?\n",
    "$$f(x) = \\sum_i^N x_i^2 $$\n",
    "\n",
    "$$ \n",
    "H = \\begin{bmatrix} \n",
    "2 & 0 &  \\cdots & 0 \\\\\n",
    "0 & 2 &  \\cdots & 0 \\\\\n",
    "\\vdots & \\vdots &\\ddots & \\vdots \\\\\n",
    "0 & 0 &  \\cdots & 2 \\\\\n",
    "\\end{bmatrix} $$"
   ]
  },
  {
   "cell_type": "markdown",
   "metadata": {},
   "source": [
    "---"
   ]
  },
  {
   "cell_type": "markdown",
   "metadata": {},
   "source": [
    "## 미분 규칙 3: 행렬 곱의 대각성분\n",
    "\n",
    "-\n",
    "$$\\dfrac{\\partial \\text{tr} (\\mathbf{B}\\mathbf{A})}{\\partial \\mathbf{A}} = \\mathbf{B}^T$$\n",
    "\n",
    "(증명)\n",
    "\n",
    "\n",
    "$$\\text{tr}(\\mathbf{B}\\mathbf{A}) = \\sum_{i=1}^N \\sum_{j=1}^N b_{ji} a_{ij}$$\n",
    "\n",
    "$$\\dfrac{\\partial \\text{tr} (\\mathbf{B}\\mathbf{A})}{\\partial a_{ij}} = b_{ji}$$\n",
    "\n",
    "\n",
    "추가\n",
    "- trace는 scalar 값이고, $ \\text{tr}(AB) = \\text{tr}(BA) $를 충족한다. 따라서 행렬의 순서에 관계없이 앞이나 뒤의 행렬로 미분할 경우, 다른 행렬의 전치 행렬이 나온다."
   ]
  },
  {
   "cell_type": "markdown",
   "metadata": {},
   "source": [
    "### 미분 규칙 4: 행렬식의 로그\n",
    "\n",
    "행렬식은 스칼라이고, 이 값의 로그 값 또한 스칼라. 이 값을 원래 행렬로 미분하면 원래 행렬의 역행렬의 전치 행렬이 된다.\n",
    "\n",
    "$$ \\frac{\\partial \\log \\det A}{\\partial A} = (A^{-1})^T $$\n",
    "\n",
    "(증명)\n",
    "\n",
    "- 규칙1. $ \\dfrac{\\partial w^Tx}{\\partial x} = \\dfrac{\\partial x^Tw}{\\partial x} = w $\n",
    "- 행렬식 정의 $A^{-1} = \\dfrac{1}{\\det A} C^T$\n",
    "\n",
    "\n",
    "1 | 행렬식 정의\n",
    "$$ \\det A = AC^T = A^TC $$\n",
    "$$ \\frac{\\partial\\det A}{\\partial A} = C $$\n",
    "\n",
    "\n",
    "\n",
    "2 | 행렬식과 역행렬 관계$$ C^T = \\det A (A)^{-1} $$\n",
    "$$ C = \\det A (A^{-1})^T $$\n",
    "\n",
    "\n",
    "3 | 로그 함수 대입$$ f(x) = \\det A $$\n",
    "\n",
    "\n",
    "$$\n",
    "\\begin{eqnarray}\n",
    "\\frac{d}{dx} \\log f(x) \n",
    "&=& \\frac{f'(x)}{f(x)}\n",
    "&=& \\frac{C}{\\det A} \n",
    "&=& \\frac{\\det A(A^{-1})^T}{\\det A}\n",
    "&=& \\left(A^{-1}\\right)^T\n",
    "\\end{eqnarray}$$\n",
    "\n"
   ]
  }
 ],
 "metadata": {
  "kernelspec": {
   "display_name": "Python 3",
   "language": "python",
   "name": "python3"
  },
  "language_info": {
   "codemirror_mode": {
    "name": "ipython",
    "version": 3
   },
   "file_extension": ".py",
   "mimetype": "text/x-python",
   "name": "python",
   "nbconvert_exporter": "python",
   "pygments_lexer": "ipython3",
   "version": "3.6.4"
  }
 },
 "nbformat": 4,
 "nbformat_minor": 2
}
