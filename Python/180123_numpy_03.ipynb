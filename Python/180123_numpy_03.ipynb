{
 "cells": [
  {
   "cell_type": "markdown",
   "metadata": {
    "collapsed": true
   },
   "source": [
    "### numpy tutorial\n",
    "http://aikorea.org/cs231n/python-numpy-tutorial/\n",
    "\n",
    "- index"
   ]
  },
  {
   "cell_type": "code",
   "execution_count": 1,
   "metadata": {},
   "outputs": [
    {
     "data": {
      "text/plain": [
       "array([[ 1,  2,  3,  4],\n",
       "       [ 5,  6,  7,  8],\n",
       "       [ 9, 10, 11, 12]])"
      ]
     },
     "execution_count": 1,
     "metadata": {},
     "output_type": "execute_result"
    }
   ],
   "source": [
    "a = np.array([[1,2,3,4], [5,6,7,8], [9,10,11,12]])\n",
    "a"
   ]
  },
  {
   "cell_type": "code",
   "execution_count": 2,
   "metadata": {},
   "outputs": [
    {
     "data": {
      "text/plain": [
       "(array([5, 6, 7, 8]), (4,))"
      ]
     },
     "execution_count": 2,
     "metadata": {},
     "output_type": "execute_result"
    }
   ],
   "source": [
    "row_r1 = a[1, :]\n",
    "row_r1, row_r1.shape"
   ]
  },
  {
   "cell_type": "markdown",
   "metadata": {},
   "source": [
    "### 정수 배열 인덱싱\n",
    "- 원본과 다른 배열을 만들 수 있음"
   ]
  },
  {
   "cell_type": "code",
   "execution_count": 3,
   "metadata": {},
   "outputs": [
    {
     "name": "stdout",
     "output_type": "stream",
     "text": [
      "[[1 2]\n",
      " [3 4]\n",
      " [5 6]]\n",
      "\n",
      " [2 3]\n"
     ]
    },
    {
     "data": {
      "text/plain": [
       "(array([1, 4, 5]), array([1, 4, 5]))"
      ]
     },
     "execution_count": 3,
     "metadata": {},
     "output_type": "execute_result"
    }
   ],
   "source": [
    "a = np.array([[1,2], [3,4], [5,6]])\n",
    "print(a)\n",
    "print(\"\\n\", a[[0,1], [1,0]])\n",
    "a[[0,1,2], [0,1,0]], np.array([a[0,0], a[1,1], a[2,0]])"
   ]
  },
  {
   "cell_type": "code",
   "execution_count": 4,
   "metadata": {},
   "outputs": [
    {
     "name": "stdout",
     "output_type": "stream",
     "text": [
      "[[ 1  2  3]\n",
      " [ 4  5  6]\n",
      " [ 7  8  9]\n",
      " [10 11 12]] \n",
      "\n",
      " [0 2 0 1]\n",
      "\n",
      " [ 1  6  7 11]\n"
     ]
    },
    {
     "data": {
      "text/plain": [
       "array([[11,  2,  3],\n",
       "       [ 4,  5, 16],\n",
       "       [17,  8,  9],\n",
       "       [10, 21, 12]])"
      ]
     },
     "execution_count": 4,
     "metadata": {},
     "output_type": "execute_result"
    }
   ],
   "source": [
    "a = np.array([[1,2,3], [4,5,6], [7,8,9], [10, 11, 12]])\n",
    "b = np.array([0,2,0,1])\n",
    "print(a, \"\\n\\n\" , b)\n",
    "print(\"\\n\", a[np.arange(4), b])\n",
    "a[np.arange(4), b] +=10\n",
    "a"
   ]
  },
  {
   "cell_type": "markdown",
   "metadata": {},
   "source": [
    "### Calculate"
   ]
  },
  {
   "cell_type": "code",
   "execution_count": 5,
   "metadata": {},
   "outputs": [
    {
     "name": "stdout",
     "output_type": "stream",
     "text": [
      "<class 'numpy.ndarray'> [ 3  6  9 12 15]\n"
     ]
    }
   ],
   "source": [
    "ls = [1,2,3,4,5]\n",
    "na = np.array(ls)\n",
    "na *= 3 \n",
    "print(type(na), na)"
   ]
  },
  {
   "cell_type": "code",
   "execution_count": 7,
   "metadata": {},
   "outputs": [
    {
     "data": {
      "text/plain": [
       "(array([False, False,  True, False, False], dtype=bool),\n",
       " array([False, False, False,  True,  True], dtype=bool))"
      ]
     },
     "execution_count": 7,
     "metadata": {},
     "output_type": "execute_result"
    }
   ],
   "source": [
    "na == 9, na > 10"
   ]
  },
  {
   "cell_type": "code",
   "execution_count": 9,
   "metadata": {},
   "outputs": [
    {
     "name": "stdout",
     "output_type": "stream",
     "text": [
      "[False  True False  True False]\n",
      "[ 6 12]\n"
     ]
    }
   ],
   "source": [
    "# 2의 배수만 남기기 - boolean 리스트를 offset으로\n",
    "idx = na % 2 ==0\n",
    "print(idx)\n",
    "print(na[idx])"
   ]
  },
  {
   "cell_type": "code",
   "execution_count": 11,
   "metadata": {},
   "outputs": [
    {
     "name": "stdout",
     "output_type": "stream",
     "text": [
      "[ True False  True  True False]\n",
      "[1 3 4]\n"
     ]
    }
   ],
   "source": [
    "# 리스트에서 같은 수 추출하기\n",
    "na1 = np.array([1,2,3,4,5])\n",
    "na2 = np.array([1,3,3,4,4])\n",
    "print(na1 == na2)\n",
    "print(na1[na1 == na2])"
   ]
  },
  {
   "cell_type": "code",
   "execution_count": 12,
   "metadata": {},
   "outputs": [
    {
     "name": "stdout",
     "output_type": "stream",
     "text": [
      "False\n",
      "True\n"
     ]
    }
   ],
   "source": [
    "# 전체 리스트 비교하기\n",
    "na1 = np.array([1,2,3,4,5])\n",
    "na2 = np.array([1,3,3,4,4])\n",
    "na3 = np.array([1,2,3,4,5])\n",
    "print(np.all(na1 == na2))\n",
    "print(np.all(na1 == na3))"
   ]
  },
  {
   "cell_type": "markdown",
   "metadata": {},
   "source": [
    "###  broadcasting\n",
    "- shape가 다른 배열 간에도 산술 연산 가능\n",
    "- 코드를 간결하는데 유용"
   ]
  },
  {
   "cell_type": "code",
   "execution_count": 61,
   "metadata": {},
   "outputs": [
    {
     "data": {
      "text/plain": [
       "array([[ 2,  2,  4],\n",
       "       [ 5,  5,  7],\n",
       "       [ 8,  8, 10],\n",
       "       [11, 11, 13]])"
      ]
     },
     "execution_count": 61,
     "metadata": {},
     "output_type": "execute_result"
    }
   ],
   "source": [
    "x = np.array([[1,2,3], [4,5,6], [7,8,9], [10,11,12]])\n",
    "y = np.array([1, 0, 1]) # 벡터 y를 행렬 x 각 행에 더하려고 함\n",
    "yy = np.tile(y, (4, 1)) # y의 복사본 4개를 쌓은 것이 yy\n",
    "yy = x + yy\n",
    "yy"
   ]
  },
  {
   "cell_type": "code",
   "execution_count": 62,
   "metadata": {},
   "outputs": [
    {
     "data": {
      "text/plain": [
       "array([[ 2,  2,  4],\n",
       "       [ 5,  5,  7],\n",
       "       [ 8,  8, 10],\n",
       "       [11, 11, 13]])"
      ]
     },
     "execution_count": 62,
     "metadata": {},
     "output_type": "execute_result"
    }
   ],
   "source": [
    "# broadcasting\n",
    "x = np.array([[1,2,3], [4,5,6], [7,8,9], [10,11,12]])\n",
    "y = np.array([1, 0, 1]) \n",
    "yy = x + y\n",
    "yy"
   ]
  },
  {
   "cell_type": "markdown",
   "metadata": {},
   "source": [
    "두 배열의 브로드캐스팅은 아래의 규칙을 따릅니다:\n",
    "\n",
    "- 두 배열이 동일한 rank를 가지고 있지 않다면, 낮은 rank의 1차원 배열이 높은 rank 배열의 shape로 간주합니다.\n",
    "- 특정 차원에서 두 배열이 동일한 크기를 갖거나, 두 배열 중 하나의 크기가 1이라면 그 두 배열은 특정 차원에서 compatible하다고 여겨집니다.\n",
    "- 두 행렬이 모든 차원에서 compatible하다면, 브로드캐스팅이 가능합니다.\n",
    "- 브로드캐스팅이 이뤄지면, 각 배열 shape의 요소별 최소공배수로 이루어진 shape가 두 배열의 shape로 간주합니다.\n",
    "- 차원에 상관없이 크기가 1인 배열과 1보다 큰 배열이 있을 때, 크기가 1인 배열은 자신의 차원 수만큼 복사되어 쌓인 것처럼 간주합니다.\n"
   ]
  },
  {
   "cell_type": "code",
   "execution_count": 94,
   "metadata": {},
   "outputs": [
    {
     "name": "stdout",
     "output_type": "stream",
     "text": [
      "[[1]\n",
      " [2]\n",
      " [3]]\n",
      "v.T * w : \n",
      "  [[ 4  5]\n",
      " [ 8 10]\n",
      " [12 15]] \n",
      "\n",
      "x + v : \n",
      " [[2 4 6]\n",
      " [5 7 9]] \n",
      "\n",
      "(x.T + w).T : \n",
      " [[1 4]\n",
      " [2 5]\n",
      " [3 6]] \n",
      " [[ 5  6  7]\n",
      " [ 9 10 11]] \n",
      "\n",
      "x + w.T : \n",
      " [[ 5  6  7]\n",
      " [ 9 10 11]]\n"
     ]
    }
   ],
   "source": [
    "#example\n",
    "\n",
    "#벡터 외적 계산\n",
    "\n",
    "v = np.array([1, 2, 3])\n",
    "w = np.array([4, 5])\n",
    "v_t = np.reshape(v, (3, 1))\n",
    "print(v_t)\n",
    "print(\"v.T * w : \\n \", v_t * w, \"\\n\")\n",
    "\n",
    "# 벡터를 행렬의 각 행에 더하기\n",
    "\n",
    "x = np.array([[1, 2, 3], [4, 5, 6]])\n",
    "print(\"x + v : \\n\", x + v, \"\\n\")\n",
    "\n",
    "print(\"(x.T + w).T : \\n\",x.T,\"\\n\" , (x.T + w).T, \"\\n\")\n",
    "\n",
    "print(\"x + w.T : \\n\", x+ np.reshape(w, (2, 1)))"
   ]
  },
  {
   "cell_type": "code",
   "execution_count": 24,
   "metadata": {
    "collapsed": true
   },
   "outputs": [
    {
     "name": "stdout",
     "output_type": "stream",
     "text": [
      "na1 : \n",
      "[ 0  1  2  3  4  5  6  7  8  9 10 11]\n",
      "na2 : \n",
      "[[ 0  1  2  3]\n",
      " [ 4  5  6  7]\n",
      " [ 8  9 10 11]]\n",
      "na3 : \n",
      "[[1 1 1 1]\n",
      " [1 1 1 1]\n",
      " [1 1 1 1]]\n",
      "na2 + 1 :\n",
      "[[ 1  2  3  4]\n",
      " [ 5  6  7  8]\n",
      " [ 9 10 11 12]]\n",
      "na2 + 1 :\n",
      "[[ 1  2  3  4]\n",
      " [ 5  6  7  8]\n",
      " [ 9 10 11 12]]\n"
     ]
    }
   ],
   "source": [
    "na1 = np.arange(12)\n",
    "na2 = na1.reshape(3, 4)\n",
    "print(\"na1 : \\n{}\".format(na1))\n",
    "print(\"na2 : \\n{}\".format(na2))\n",
    "\n",
    "na3 = np.ones_like(na1)\n",
    "na3 = na3.reshape(3,4)\n",
    "print(\"na3 : \\n{}\".format(na3))\n",
    "\n",
    "print(\"na2 + 1 :\\n{}\".format(na2 + 1))\n",
    "print(\"na2 + 1 :\\n{}\".format(na2 + na3))"
   ]
  },
  {
   "cell_type": "markdown",
   "metadata": {},
   "source": [
    "##### functions\n",
    "- min, max, argmin, argmax\n",
    "- sum, mean, median, std, var\n",
    "- all, any\n",
    "- quartile\n",
    "- exp, log"
   ]
  },
  {
   "cell_type": "code",
   "execution_count": 29,
   "metadata": {},
   "outputs": [
    {
     "name": "stdout",
     "output_type": "stream",
     "text": [
      "random matrix : \n",
      "[[3 9 4]\n",
      " [9 0 7]]\n",
      "min : 0\n",
      "max : 9\n",
      "argmin : 4\n",
      "argmax : 1\n",
      "mean : 5.333333333333333\n"
     ]
    }
   ],
   "source": [
    "r = np.random.rand(2,3)\n",
    "r_num = np.arange(5)\n",
    "r_num = (r*10).astype('int64')\n",
    "print(\"random matrix : \\n{}\".format(r_num))\n",
    "print(\"min : {}\".format(r_num.min()))\n",
    "print(\"max : {}\".format(r_num.max()))\n",
    "print(\"argmin : {}\".format(r_num.argmin())) # 최소값 위치\n",
    "print(\"argmax : {}\".format(r_num.argmax())) # 최대값 위치\n",
    "print(\"mean : {}\".format(r_num.mean()))"
   ]
  },
  {
   "cell_type": "markdown",
   "metadata": {},
   "source": [
    "https://docs.scipy.org/doc/numpy/reference/routines.math.html\n",
    "- math function"
   ]
  },
  {
   "cell_type": "code",
   "execution_count": 54,
   "metadata": {},
   "outputs": [
    {
     "name": "stdout",
     "output_type": "stream",
     "text": [
      "random matrix : \n",
      "[[8 7 3]\n",
      " [7 3 7]]\n",
      "sum : 35\n",
      "sum_axis_0 : [15 10 10]\n",
      "sum_axis_1 : [18 17]\n",
      "median : 7.0\n",
      "std : 2.034425935955617\n",
      "4.13888888889\n",
      "var : 4.138888888888888\n"
     ]
    }
   ],
   "source": [
    "r = np.random.rand(2,3)\n",
    "r_num = np.arange(5)\n",
    "r_num = (r*10).astype('int64')\n",
    "print(\"random matrix : \\n{}\".format(r_num))\n",
    "print(\"sum : {}\".format(np.sum(r_num)))\n",
    "print(\"sum_axis_0 : {}\".format(np.sum(r_num, axis=0)))\n",
    "print(\"sum_axis_1 : {}\".format(np.sum(r_num, axis=1)))\n",
    "print(\"median : {}\".format(np.median(r_num)))\n",
    "print(\"std : {}\".format(np.std(r_num))) # standard deviation (표준편차)\n",
    "print(np.std(r_num) **2)\n",
    "print(\"var : {}\".format(np.var(r_num))) # variance (분산)"
   ]
  },
  {
   "cell_type": "code",
   "execution_count": 26,
   "metadata": {},
   "outputs": [
    {
     "name": "stdout",
     "output_type": "stream",
     "text": [
      "[  0   1   2   3   4   5   6   7   8   9  10  11  12  13  14  15  16  17\n",
      "  18  19  20  21  22  23  24  25  26  27  28  29  30  31  32  33  34  35\n",
      "  36  37  38  39  40  41  42  43  44  45  46  47  48  49  50  51  52  53\n",
      "  54  55  56  57  58  59  60  61  62  63  64  65  66  67  68  69  70  71\n",
      "  72  73  74  75  76  77  78  79  80  81  82  83  84  85  86  87  88  89\n",
      "  90  91  92  93  94  95  96  97  98  99 100]\n"
     ]
    },
    {
     "data": {
      "text/plain": [
       "(25.0, 45.0)"
      ]
     },
     "execution_count": 26,
     "metadata": {},
     "output_type": "execute_result"
    }
   ],
   "source": [
    "# quartile (사분위수)\n",
    "na = np.array([num for num in range(0,101)])\n",
    "print(na)\n",
    "np.percentile(na, 25), np.percentile(na, 45)  "
   ]
  },
  {
   "cell_type": "markdown",
   "metadata": {},
   "source": [
    "#### exponential, log function"
   ]
  },
  {
   "cell_type": "code",
   "execution_count": 38,
   "metadata": {},
   "outputs": [
    {
     "name": "stdout",
     "output_type": "stream",
     "text": [
      "[ 1 31 61]\n",
      "[  2.71828183e+00   2.90488497e+13   3.10429794e+26] \n",
      " [ 0.          3.4339872   4.11087386]\n"
     ]
    }
   ],
   "source": [
    "na = np.arange(1, 90, 30)\n",
    "print(na)\n",
    "print(np.exp(na),\"\\n\", np.log(na))"
   ]
  },
  {
   "cell_type": "markdown",
   "metadata": {},
   "source": [
    "#### performance"
   ]
  },
  {
   "cell_type": "code",
   "execution_count": 39,
   "metadata": {
    "collapsed": true
   },
   "outputs": [],
   "source": [
    "ls = []\n",
    "size = int(1E7)\n",
    "for data in range(size):\n",
    "    ls.append(data)\n",
    "na = np.array(ls)"
   ]
  },
  {
   "cell_type": "code",
   "execution_count": 41,
   "metadata": {},
   "outputs": [
    {
     "name": "stdout",
     "output_type": "stream",
     "text": [
      "4666667\n",
      "CPU times: user 3.73 s, sys: 2.6 ms, total: 3.73 s\n",
      "Wall time: 3.73 s\n"
     ]
    }
   ],
   "source": [
    "%%time\n",
    "count = 0\n",
    "for idx in range(len(ls)):\n",
    "    if(ls[idx] % 3 == 0) or (ls[idx] % 5 == 0 ):\n",
    "        count += 1\n",
    "print(count)"
   ]
  },
  {
   "cell_type": "code",
   "execution_count": 42,
   "metadata": {},
   "outputs": [
    {
     "name": "stdout",
     "output_type": "stream",
     "text": [
      "4666667\n",
      "CPU times: user 496 ms, sys: 128 ms, total: 624 ms\n",
      "Wall time: 653 ms\n"
     ]
    }
   ],
   "source": [
    "%%time\n",
    "count = len(na[(na%3 == 0) | (na%5 == 0)])\n",
    "print(count)"
   ]
  },
  {
   "cell_type": "code",
   "execution_count": 47,
   "metadata": {},
   "outputs": [
    {
     "data": {
      "text/plain": [
       "(4666667, array([      0,       3,       5, ..., 9999995, 9999996, 9999999]))"
      ]
     },
     "execution_count": 47,
     "metadata": {},
     "output_type": "execute_result"
    }
   ],
   "source": [
    "a = na[(na%3 == 0) | (na%5 == 0)]\n",
    "len(a), a"
   ]
  },
  {
   "cell_type": "markdown",
   "metadata": {},
   "source": [
    "- np.c_ (colum +)\n",
    "- np.r_ (row +)"
   ]
  },
  {
   "cell_type": "code",
   "execution_count": 48,
   "metadata": {},
   "outputs": [
    {
     "data": {
      "text/plain": [
       "array([[1, 4],\n",
       "       [2, 5],\n",
       "       [3, 6]])"
      ]
     },
     "execution_count": 48,
     "metadata": {},
     "output_type": "execute_result"
    }
   ],
   "source": [
    "np.c_[np.array([1, 2, 3]), np.array([4, 5, 6])]"
   ]
  },
  {
   "cell_type": "code",
   "execution_count": 49,
   "metadata": {},
   "outputs": [
    {
     "data": {
      "text/plain": [
       "array([1, 2, 3, 4, 5, 6])"
      ]
     },
     "execution_count": 49,
     "metadata": {},
     "output_type": "execute_result"
    }
   ],
   "source": [
    "np.r_[np.array([1, 2, 3]), np.array([4, 5, 6])]"
   ]
  }
 ],
 "metadata": {
  "kernelspec": {
   "display_name": "Python 3",
   "language": "python",
   "name": "python3"
  },
  "language_info": {
   "codemirror_mode": {
    "name": "ipython",
    "version": 3
   },
   "file_extension": ".py",
   "mimetype": "text/x-python",
   "name": "python",
   "nbconvert_exporter": "python",
   "pygments_lexer": "ipython3",
   "version": "3.6.4"
  }
 },
 "nbformat": 4,
 "nbformat_minor": 2
}
