{
 "cells": [
  {
   "cell_type": "markdown",
   "metadata": {},
   "source": [
    "### Quiz 3. tips 데이터에서 팁을 많이 받으려면 어떤 데이터가 중요한지 인사이트를 찾아내세요\n",
    "- 정답은 없습니다. 자유롭게 분석해보세요. \n",
    "- size는 식사 인원인것 같네요.\n",
    "- 아래의 절차대로 Pandas를 이용하여 데이터를 분석해 보세요. (예시는 예시일 뿐입니다.)\n",
    "    - 가설설정 : 예) 주중보다 주말에 팁을 많이 줄것이다\n",
    "    - 분석과정설정 : 예) 주중 데이터와 주말데이터를 나눠 평균적 팁 금액의 데이터 프레임을 만든다.\n",
    "    - 결과확인 : 예) 주말과 주중데이터의 평균 팁에는 큰 차이가 없으므로 가설이 틀렸다. 그러므로 다시 가설설정!\n",
    "- 위의 가설을 여러개 세우셔서 어떤 데이터가 가장 팁에 대한 데이터에 영향을 많이 주는지 찾아보세요. (최소한 3개이상의 가설을 세워서 분석해보세요.)\n",
    "- 지금까지 배운내용안에서 분석해보세요.\n",
    "- 가설, 분석과정, 결과 확인에 대한 설명 주석을 달아주세요.\n",
    "- 적당한 그래프를 그려주시면 더 좋습니다.\n",
    "- 반별로 제가 판단해서 가장 잘하신 과제는 다른 분들께 공유하며 제가 스타벅스 커피 삽니다.^^"
   ]
  },
  {
   "cell_type": "code",
   "execution_count": 1,
   "metadata": {},
   "outputs": [
    {
     "data": {
      "text/html": [
       "<div>\n",
       "<style>\n",
       "    .dataframe thead tr:only-child th {\n",
       "        text-align: right;\n",
       "    }\n",
       "\n",
       "    .dataframe thead th {\n",
       "        text-align: left;\n",
       "    }\n",
       "\n",
       "    .dataframe tbody tr th {\n",
       "        vertical-align: top;\n",
       "    }\n",
       "</style>\n",
       "<table border=\"1\" class=\"dataframe\">\n",
       "  <thead>\n",
       "    <tr style=\"text-align: right;\">\n",
       "      <th></th>\n",
       "      <th>total_bill</th>\n",
       "      <th>tip</th>\n",
       "      <th>sex</th>\n",
       "      <th>smoker</th>\n",
       "      <th>day</th>\n",
       "      <th>time</th>\n",
       "      <th>size</th>\n",
       "    </tr>\n",
       "  </thead>\n",
       "  <tbody>\n",
       "    <tr>\n",
       "      <th>239</th>\n",
       "      <td>29.03</td>\n",
       "      <td>5.92</td>\n",
       "      <td>Male</td>\n",
       "      <td>No</td>\n",
       "      <td>Sat</td>\n",
       "      <td>Dinner</td>\n",
       "      <td>3</td>\n",
       "    </tr>\n",
       "    <tr>\n",
       "      <th>240</th>\n",
       "      <td>27.18</td>\n",
       "      <td>2.00</td>\n",
       "      <td>Female</td>\n",
       "      <td>Yes</td>\n",
       "      <td>Sat</td>\n",
       "      <td>Dinner</td>\n",
       "      <td>2</td>\n",
       "    </tr>\n",
       "    <tr>\n",
       "      <th>241</th>\n",
       "      <td>22.67</td>\n",
       "      <td>2.00</td>\n",
       "      <td>Male</td>\n",
       "      <td>Yes</td>\n",
       "      <td>Sat</td>\n",
       "      <td>Dinner</td>\n",
       "      <td>2</td>\n",
       "    </tr>\n",
       "    <tr>\n",
       "      <th>242</th>\n",
       "      <td>17.82</td>\n",
       "      <td>1.75</td>\n",
       "      <td>Male</td>\n",
       "      <td>No</td>\n",
       "      <td>Sat</td>\n",
       "      <td>Dinner</td>\n",
       "      <td>2</td>\n",
       "    </tr>\n",
       "    <tr>\n",
       "      <th>243</th>\n",
       "      <td>18.78</td>\n",
       "      <td>3.00</td>\n",
       "      <td>Female</td>\n",
       "      <td>No</td>\n",
       "      <td>Thur</td>\n",
       "      <td>Dinner</td>\n",
       "      <td>2</td>\n",
       "    </tr>\n",
       "  </tbody>\n",
       "</table>\n",
       "</div>"
      ],
      "text/plain": [
       "     total_bill   tip     sex smoker   day    time  size\n",
       "239       29.03  5.92    Male     No   Sat  Dinner     3\n",
       "240       27.18  2.00  Female    Yes   Sat  Dinner     2\n",
       "241       22.67  2.00    Male    Yes   Sat  Dinner     2\n",
       "242       17.82  1.75    Male     No   Sat  Dinner     2\n",
       "243       18.78  3.00  Female     No  Thur  Dinner     2"
      ]
     },
     "execution_count": 1,
     "metadata": {},
     "output_type": "execute_result"
    }
   ],
   "source": [
    "tips = sns.load_dataset(\"tips\")  \n",
    "tips.tail()"
   ]
  },
  {
   "cell_type": "markdown",
   "metadata": {},
   "source": [
    "## 가설\n",
    "1. total_bill 이 높을 수록 팁을 많이 줄 것이다.\n",
    "2. size 가 높을수록 팁을 많이 줄 것이다.\n",
    "3. Lunch 보다는 Dinner가 많이 줄 것이다.\n"
   ]
  },
  {
   "cell_type": "markdown",
   "metadata": {},
   "source": [
    "## 분석 과정 설정\n",
    "\n",
    "- 전체 데이터와 함께 팁 액수에 따른 구간별 그룹을 설정하여 분석한다.\n",
    "    - 평균 tip = 3 \n",
    "    - (3 미만, 3이상 5 이하, 5 초과)"
   ]
  },
  {
   "cell_type": "markdown",
   "metadata": {},
   "source": [
    "#### 초기 세팅"
   ]
  },
  {
   "cell_type": "code",
   "execution_count": 2,
   "metadata": {
    "collapsed": true
   },
   "outputs": [],
   "source": [
    "def rounder(number):\n",
    "    if number %10 > 4:\n",
    "        number = number//10 * 10 + 5\n",
    "    else:\n",
    "        number = number//10 * 10\n",
    "    return int(number)"
   ]
  },
  {
   "cell_type": "code",
   "execution_count": 3,
   "metadata": {
    "collapsed": true
   },
   "outputs": [],
   "source": [
    "tips[\"count\"] = 1\n",
    "total_bill = tips[\"total_bill\"] \n",
    "tip = tips[\"tip\"]\n",
    "tips['a_total'] = tips[\"total_bill\"].apply(rounder)"
   ]
  },
  {
   "cell_type": "markdown",
   "metadata": {},
   "source": [
    "#### 구간별 그룹 설정"
   ]
  },
  {
   "cell_type": "code",
   "execution_count": 4,
   "metadata": {
    "collapsed": true
   },
   "outputs": [],
   "source": [
    "tips_lower= tips[tips[\"tip\"]<3].reset_index()"
   ]
  },
  {
   "cell_type": "code",
   "execution_count": 5,
   "metadata": {
    "collapsed": true
   },
   "outputs": [],
   "source": [
    "tips_upper3= tips[tips[\"tip\"]>=3]\n",
    "tips_upper3= tips_upper3[tips_upper3[\"tip\"]<5].reset_index()"
   ]
  },
  {
   "cell_type": "code",
   "execution_count": 6,
   "metadata": {
    "collapsed": true
   },
   "outputs": [],
   "source": [
    "tips_upper5= tips[tips[\"tip\"]>5].reset_index()"
   ]
  },
  {
   "cell_type": "code",
   "execution_count": 7,
   "metadata": {},
   "outputs": [
    {
     "name": "stdout",
     "output_type": "stream",
     "text": [
      "total [mean: 3.0, median: 2.9]\n",
      "upper 3 [mean: 3.5, median: 3.48]\n",
      "upper 5 [mean: 6.27, median: 5.885]\n"
     ]
    }
   ],
   "source": [
    "mean_tip, median_tip = round(tips['tip'].mean(), 2), tips['tip'].median()\n",
    "print(\"total [mean: {}, median: {}]\".format(mean_tip, median_tip))\n",
    "\n",
    "mean_tip3, median_tip3 = round(tips_upper3['tip'].mean(), 2), tips_upper3['tip'].median()\n",
    "print(\"upper 3 [mean: {}, median: {}]\".format(mean_tip3, median_tip3))\n",
    "\n",
    "mean_tip5, median_tip5 = round(tips_upper5['tip'].mean(), 2), tips_upper5['tip'].median()\n",
    "print(\"upper 5 [mean: {}, median: {}]\".format(mean_tip5, median_tip5))"
   ]
  },
  {
   "cell_type": "markdown",
   "metadata": {},
   "source": [
    "---"
   ]
  },
  {
   "cell_type": "markdown",
   "metadata": {},
   "source": [
    "## 가설1. total_bill이 클수록 tip이 증가할 것이다."
   ]
  },
  {
   "cell_type": "code",
   "execution_count": 8,
   "metadata": {
    "collapsed": true
   },
   "outputs": [],
   "source": [
    "to = tips.pivot_table(index=\"a_total\", values=\"tip\", columns=\"count\", aggfunc='mean')\n",
    "to3 = tips_upper3.pivot_table(index=\"total_bill\", values=\"tip\", columns=\"count\", aggfunc='mean')\n",
    "to5 = tips_upper5.pivot_table(index=\"total_bill\", values=\"tip\", columns=\"count\", aggfunc='mean')\n",
    "to_lower = tips_lower.pivot_table(index=\"total_bill\", values=\"tip\", columns=\"count\", aggfunc='mean')"
   ]
  },
  {
   "cell_type": "code",
   "execution_count": 9,
   "metadata": {
    "collapsed": true
   },
   "outputs": [],
   "source": [
    "%matplotlib inline"
   ]
  },
  {
   "cell_type": "code",
   "execution_count": 10,
   "metadata": {
    "collapsed": true
   },
   "outputs": [],
   "source": [
    "sns.set()\n",
    "sns.set_style('whitegrid')\n",
    "sns.set_context('paper')\n",
    "sns.set_palette(\"muted\", 4)"
   ]
  },
  {
   "cell_type": "code",
   "execution_count": 11,
   "metadata": {},
   "outputs": [
    {
     "data": {
      "image/png": "[encoded data removed]",
      "text/plain": [
       "<matplotlib.figure.Figure at 0x7f0ac204a5c0>"
      ]
     },
     "metadata": {},
     "output_type": "display_data"
    }
   ],
   "source": [
    "plt.plot(to_lower, label = 'lower 3')\n",
    "plt.plot(to3, label= '3 - 5')\n",
    "plt.plot(to5, label = 'upper 5')\n",
    "plt.plot(to, lw=4,label= 'total')\n",
    "plt.legend(loc=0)\n",
    "plt.show()"
   ]
  },
  {
   "cell_type": "markdown",
   "metadata": {},
   "source": [
    "### a_total : total_bill 을 길이 5의 구간으로 나눔"
   ]
  },
  {
   "cell_type": "code",
   "execution_count": 12,
   "metadata": {
    "collapsed": true
   },
   "outputs": [],
   "source": [
    "to = tips.pivot_table(index=\"a_total\", values=\"tip\", columns=\"count\", aggfunc='mean')\n",
    "to3 = tips_upper3.pivot_table(index=\"a_total\", values=\"tip\", columns=\"count\", aggfunc='mean')\n",
    "to5 = tips_upper5.pivot_table(index=\"a_total\", values=\"tip\", columns=\"count\", aggfunc='mean')\n",
    "to_lower = tips_lower.pivot_table(index=\"a_total\", values=\"tip\", columns=\"count\", aggfunc='mean')"
   ]
  },
  {
   "cell_type": "code",
   "execution_count": 13,
   "metadata": {},
   "outputs": [
    {
     "data": {
      "image/png": "[encoded data removed]",
      "text/plain": [
       "<matplotlib.figure.Figure at 0x7f0ac0049c50>"
      ]
     },
     "metadata": {},
     "output_type": "display_data"
    }
   ],
   "source": [
    "plt.plot(to_lower, label = 'lower 3')\n",
    "plt.plot(to3, label= '3 - 5')\n",
    "plt.plot(to5, label = 'upper 5')\n",
    "plt.plot(to, lw= '4',label= 'total')\n",
    "plt.legend(loc=0)\n",
    "plt.show()"
   ]
  },
  {
   "cell_type": "markdown",
   "metadata": {},
   "source": [
    "#### 가설 1 검증:\n",
    "- 5 달러 이하의 팁을 낸 사람들은 total_bill과 tip간의 관계가 나타나지 않는다.\n",
    "- 다만, 5달러 초과의 팁을 낸 사람들은 total_bill이 증가할 수록 팁을 더 내는 경향이 보인다.\n",
    "\n",
    "--> 원래 많이 내는 놈만 많이 낸다\n"
   ]
  },
  {
   "cell_type": "markdown",
   "metadata": {},
   "source": [
    "## 가설 2. size가 커질수록 팁이 증가한다.\n",
    "- size와 (tip의 평균값)이 비례"
   ]
  },
  {
   "cell_type": "code",
   "execution_count": 14,
   "metadata": {
    "collapsed": true
   },
   "outputs": [],
   "source": [
    "s_to = tips.pivot_table(index=\"size\", values=\"tip\", columns='count', aggfunc='mean')\n",
    "s_3 = tips_upper3.pivot_table(index=\"size\", values=\"tip\", columns='count', aggfunc='mean')\n",
    "s_5 = tips_upper5.pivot_table(index=\"size\", values=\"tip\", columns='count', aggfunc='mean')\n",
    "s_lo = tips_lower.pivot_table(index=\"size\", values=\"tip\", columns='count', aggfunc='mean')"
   ]
  },
  {
   "cell_type": "code",
   "execution_count": 15,
   "metadata": {},
   "outputs": [
    {
     "data": {
      "image/png": "[encoded data removed]",
      "text/plain": [
       "<matplotlib.figure.Figure at 0x7f0ab619df28>"
      ]
     },
     "metadata": {},
     "output_type": "display_data"
    }
   ],
   "source": [
    "plt.plot(s_lo, label = 'lower 3')\n",
    "plt.plot(s_3, label= '3 - 5')\n",
    "plt.plot(s_5, label = 'upper 5')\n",
    "plt.plot(s_to, lw='4',label= 'total')\n",
    "plt.legend(loc=0)\n",
    "plt.show()"
   ]
  },
  {
   "cell_type": "markdown",
   "metadata": {},
   "source": [
    "#### 가설 2 검증:\n",
    "- 전체값이 가설1의 전체값과 비슷한 양상을 띄고 있다.\n",
    "- 구간별 그룹간의 차이를 분석하기에는 데이터 구간이 좁다."
   ]
  },
  {
   "cell_type": "markdown",
   "metadata": {},
   "source": [
    "### 가설 1& 2 의 상관 예상\n",
    "- 사람수가 많으면 많이 먹는다...\n",
    "- 따라서 size와 total_bill은 같은 방향의 feature"
   ]
  },
  {
   "cell_type": "code",
   "execution_count": 16,
   "metadata": {
    "collapsed": true
   },
   "outputs": [],
   "source": [
    "ts_t= tips.pivot_table(index=\"total_bill\", values=\"size\", columns=\"count\", aggfunc='mean')\n",
    "ts_l=tips_lower.pivot_table(index=\"total_bill\", values=\"size\", columns=\"count\", aggfunc='mean')\n",
    "ts_3=tips_upper3.pivot_table(index=\"total_bill\", values=\"size\", columns=\"count\", aggfunc='mean')\n",
    "ts_5=tips_upper5.pivot_table(index=\"total_bill\", values=\"size\", columns=\"count\", aggfunc='mean')"
   ]
  },
  {
   "cell_type": "code",
   "execution_count": 17,
   "metadata": {},
   "outputs": [
    {
     "data": {
      "image/png": "[encoded data removed]",
      "text/plain": [
       "<matplotlib.figure.Figure at 0x7f0ab6136e10>"
      ]
     },
     "metadata": {},
     "output_type": "display_data"
    }
   ],
   "source": [
    "plt.plot(ts_l, label = 'lower 3')\n",
    "plt.plot(ts_3, label= '3 - 5')\n",
    "plt.plot(ts_5, label = 'upper 5')\n",
    "plt.plot(ts_t, lw='1',label= 'total')\n",
    "plt.legend(loc=0)\n",
    "plt.show()"
   ]
  },
  {
   "cell_type": "markdown",
   "metadata": {},
   "source": [
    "분포값이 너무 다양해 a_total로 구간을 나누었다"
   ]
  },
  {
   "cell_type": "code",
   "execution_count": 18,
   "metadata": {
    "collapsed": true
   },
   "outputs": [],
   "source": [
    "ts_t= tips.pivot_table(index=\"a_total\", values=\"size\", columns=\"count\", aggfunc='mean')\n",
    "ts_l=tips_lower.pivot_table(index=\"a_total\", values=\"size\", columns=\"count\", aggfunc='mean')\n",
    "ts_3=tips_upper3.pivot_table(index=\"a_total\", values=\"size\", columns=\"count\", aggfunc='mean')\n",
    "ts_5=tips_upper5.pivot_table(index=\"a_total\", values=\"size\", columns=\"count\", aggfunc='mean')"
   ]
  },
  {
   "cell_type": "code",
   "execution_count": 19,
   "metadata": {},
   "outputs": [
    {
     "data": {
      "image/png": "[encoded data removed]",
      "text/plain": [
       "<matplotlib.figure.Figure at 0x7f0ab6039e10>"
      ]
     },
     "metadata": {},
     "output_type": "display_data"
    }
   ],
   "source": [
    "plt.plot(ts_l, label = 'lower 3')\n",
    "plt.plot(ts_3, label= '3 - 5')\n",
    "plt.plot(ts_5, label = 'upper 5')\n",
    "plt.plot(ts_t, lw='4',label= 'total')\n",
    "plt.legend(loc=0)\n",
    "plt.show()"
   ]
  },
  {
   "cell_type": "markdown",
   "metadata": {},
   "source": [
    "#### - 가설 1(total_bill)과 2(size)의 값은 서로 양의 상관을 가진다.\n",
    "- 일정 수치(그룹마다 상이)를 지나면 음의 상관으로 바뀐다.\n",
    "    - 머릿수에 따라 총 음식값이 증가하지만 일정 수준 이후에는 감소\n",
    "    \n",
    "    \n",
    "## 1&2 분석\n",
    "- 테이블의 사람이 많을 수록 음식 값이 많이 나온다.\n",
    "- 총 음식 값과 인원 수는 팁과는 큰 연관이 없다."
   ]
  },
  {
   "cell_type": "markdown",
   "metadata": {},
   "source": [
    "## 가설3. Lunch < Dinner"
   ]
  },
  {
   "cell_type": "code",
   "execution_count": 20,
   "metadata": {
    "collapsed": true
   },
   "outputs": [],
   "source": [
    "time_t = tips.pivot_table(index=\"time\", values=\"tip\", columns='count', aggfunc='mean')\n",
    "time_l = tips_lower.pivot_table(index=\"time\", values=\"tip\", columns='count', aggfunc='mean')\n",
    "time_3 = tips_upper3.pivot_table(index=\"time\", values=\"tip\", columns='count', aggfunc='mean')\n",
    "time_5 = tips_upper5.pivot_table(index=\"time\", values=\"tip\", columns='count', aggfunc='mean')"
   ]
  },
  {
   "cell_type": "code",
   "execution_count": 21,
   "metadata": {
    "collapsed": true
   },
   "outputs": [],
   "source": [
    "data = {\n",
    "   'lower 3': time_l[1],\n",
    "   'upper 3': time_3[1],\n",
    "   'upper 5':time_5[1],\n",
    "    }  \n",
    "result = pd.DataFrame(data)\n",
    "result['total'] = time_t[1]"
   ]
  },
  {
   "cell_type": "code",
   "execution_count": 22,
   "metadata": {},
   "outputs": [
    {
     "data": {
      "image/png": "[encoded data removed]",
      "text/plain": [
       "<matplotlib.figure.Figure at 0x7f0ab6048630>"
      ]
     },
     "metadata": {},
     "output_type": "display_data"
    }
   ],
   "source": [
    "sns.heatmap(result, cmap=sns.light_palette(\"seagreen\", as_cmap=True), annot=True, fmt=\".2f\")\n",
    "plt.show()"
   ]
  },
  {
   "cell_type": "markdown",
   "metadata": {},
   "source": [
    "가설 3 검증:\n",
    "- 팁을 많이 주는 그룹을 제외하고는, 점심과 저녁의 차이가 뚜렷하지 않다."
   ]
  },
  {
   "cell_type": "markdown",
   "metadata": {},
   "source": [
    "# 가설 재수립\n",
    "1. 성별\n",
    "1. 흡연여부\n",
    "1. 요일"
   ]
  },
  {
   "cell_type": "markdown",
   "metadata": {},
   "source": [
    "## 2 - 1. 성별\n",
    "- 마찬가지로 그룹별 분석\n",
    "- 결과값이 뚜렷하게 나타나지 않아 log와 exp로 조정"
   ]
  },
  {
   "cell_type": "code",
   "execution_count": 23,
   "metadata": {
    "collapsed": true
   },
   "outputs": [],
   "source": [
    "sex_t = tips.pivot_table(index=\"sex\", values=\"tip\", columns='count', aggfunc='mean')\n",
    "sex_l = tips_lower.pivot_table(index=\"sex\", values=\"tip\", columns='count', aggfunc='mean')\n",
    "sex_3 = tips_upper3.pivot_table(index=\"sex\", values=\"tip\", columns='count', aggfunc='mean')\n",
    "sex_5 = tips_upper5.pivot_table(index=\"sex\", values=\"tip\", columns='count', aggfunc='mean')"
   ]
  },
  {
   "cell_type": "code",
   "execution_count": 24,
   "metadata": {},
   "outputs": [
    {
     "data": {
      "text/html": [
       "<div>\n",
       "<style>\n",
       "    .dataframe thead tr:only-child th {\n",
       "        text-align: right;\n",
       "    }\n",
       "\n",
       "    .dataframe thead th {\n",
       "        text-align: left;\n",
       "    }\n",
       "\n",
       "    .dataframe tbody tr th {\n",
       "        vertical-align: top;\n",
       "    }\n",
       "</style>\n",
       "<table border=\"1\" class=\"dataframe\">\n",
       "  <thead>\n",
       "    <tr style=\"text-align: right;\">\n",
       "      <th></th>\n",
       "      <th>lower 3</th>\n",
       "      <th>upper 3</th>\n",
       "      <th>upper 5</th>\n",
       "      <th>total</th>\n",
       "    </tr>\n",
       "    <tr>\n",
       "      <th>sex</th>\n",
       "      <th></th>\n",
       "      <th></th>\n",
       "      <th></th>\n",
       "      <th></th>\n",
       "    </tr>\n",
       "  </thead>\n",
       "  <tbody>\n",
       "    <tr>\n",
       "      <th>Male</th>\n",
       "      <td>1.954267</td>\n",
       "      <td>3.509516</td>\n",
       "      <td>6.493571</td>\n",
       "      <td>3.089618</td>\n",
       "    </tr>\n",
       "    <tr>\n",
       "      <th>Female</th>\n",
       "      <td>2.003958</td>\n",
       "      <td>3.493871</td>\n",
       "      <td>5.502500</td>\n",
       "      <td>2.833448</td>\n",
       "    </tr>\n",
       "  </tbody>\n",
       "</table>\n",
       "</div>"
      ],
      "text/plain": [
       "         lower 3   upper 3   upper 5     total\n",
       "sex                                           \n",
       "Male    1.954267  3.509516  6.493571  3.089618\n",
       "Female  2.003958  3.493871  5.502500  2.833448"
      ]
     },
     "execution_count": 24,
     "metadata": {},
     "output_type": "execute_result"
    }
   ],
   "source": [
    "data = {\n",
    "   'lower 3': sex_l[1],\n",
    "   'upper 3': sex_3[1],\n",
    "   'upper 5':sex_5[1],\n",
    "    }  \n",
    "sex_result = pd.DataFrame(data)\n",
    "sex_result['total'] = sex_t[1]\n",
    "sex_result"
   ]
  },
  {
   "cell_type": "code",
   "execution_count": 25,
   "metadata": {},
   "outputs": [
    {
     "data": {
      "image/png": "[encoded data removed]",
      "text/plain": [
       "<matplotlib.figure.Figure at 0x7f0ab5edb7f0>"
      ]
     },
     "metadata": {},
     "output_type": "display_data"
    }
   ],
   "source": [
    "plt.subplot(311)\n",
    "sns.heatmap((sex_result), xticklabels=False, cmap='YlGnBu', annot=True, fmt=\".2f\")\n",
    "plt.subplot(312)\n",
    "sns.heatmap(np.log(sex_result), xticklabels=False ,cmap='YlGnBu', annot=True, fmt=\".2f\")\n",
    "plt.subplot(313)\n",
    "sns.heatmap(np.exp(sex_result), cmap='YlGnBu', annot=True, fmt=\".2f\")\n",
    "plt.show()"
   ]
  },
  {
   "cell_type": "markdown",
   "metadata": {},
   "source": [
    "### 가설 2-1 검증:\n",
    "- upper 5 그룹을 제외하고는 남여간의 팁 차이는 뚜렷하게 나타나지 않는다.\n",
    "- upper 5 그룹에서는 남성이 팁을 다소 더 주는 경향이 있다. "
   ]
  },
  {
   "cell_type": "markdown",
   "metadata": {},
   "source": [
    "## 2 - 2. 흡연\n",
    "- 성별 분석과 동일"
   ]
  },
  {
   "cell_type": "code",
   "execution_count": 26,
   "metadata": {
    "collapsed": true
   },
   "outputs": [],
   "source": [
    "smoker_t = tips.pivot_table(index=\"smoker\", values=\"tip\", columns='count', aggfunc='mean')\n",
    "smoker_l = tips_lower.pivot_table(index=\"smoker\", values=\"tip\", columns='count', aggfunc='mean')\n",
    "smoker_3 = tips_upper3.pivot_table(index=\"smoker\", values=\"tip\", columns='count', aggfunc='mean')\n",
    "smoker_5 = tips_upper5.pivot_table(index=\"smoker\", values=\"tip\", columns='count', aggfunc='mean')"
   ]
  },
  {
   "cell_type": "code",
   "execution_count": 27,
   "metadata": {},
   "outputs": [
    {
     "data": {
      "text/html": [
       "<div>\n",
       "<style>\n",
       "    .dataframe thead tr:only-child th {\n",
       "        text-align: right;\n",
       "    }\n",
       "\n",
       "    .dataframe thead th {\n",
       "        text-align: left;\n",
       "    }\n",
       "\n",
       "    .dataframe tbody tr th {\n",
       "        vertical-align: top;\n",
       "    }\n",
       "</style>\n",
       "<table border=\"1\" class=\"dataframe\">\n",
       "  <thead>\n",
       "    <tr style=\"text-align: right;\">\n",
       "      <th></th>\n",
       "      <th>lower 3</th>\n",
       "      <th>upper 3</th>\n",
       "      <th>upper 5</th>\n",
       "      <th>total</th>\n",
       "    </tr>\n",
       "    <tr>\n",
       "      <th>smoker</th>\n",
       "      <th></th>\n",
       "      <th></th>\n",
       "      <th></th>\n",
       "      <th></th>\n",
       "    </tr>\n",
       "  </thead>\n",
       "  <tbody>\n",
       "    <tr>\n",
       "      <th>Yes</th>\n",
       "      <td>1.912093</td>\n",
       "      <td>3.503171</td>\n",
       "      <td>6.493333</td>\n",
       "      <td>3.008710</td>\n",
       "    </tr>\n",
       "    <tr>\n",
       "      <th>No</th>\n",
       "      <td>2.006750</td>\n",
       "      <td>3.505192</td>\n",
       "      <td>6.163333</td>\n",
       "      <td>2.991854</td>\n",
       "    </tr>\n",
       "  </tbody>\n",
       "</table>\n",
       "</div>"
      ],
      "text/plain": [
       "         lower 3   upper 3   upper 5     total\n",
       "smoker                                        \n",
       "Yes     1.912093  3.503171  6.493333  3.008710\n",
       "No      2.006750  3.505192  6.163333  2.991854"
      ]
     },
     "execution_count": 27,
     "metadata": {},
     "output_type": "execute_result"
    }
   ],
   "source": [
    "data = {\n",
    "   'lower 3': smoker_l[1],\n",
    "   'upper 3': smoker_3[1],\n",
    "   'upper 5':smoker_5[1],\n",
    "    }  \n",
    "smoke_result = pd.DataFrame(data)\n",
    "smoke_result['total'] = smoker_t[1]\n",
    "smoke_result"
   ]
  },
  {
   "cell_type": "code",
   "execution_count": 28,
   "metadata": {},
   "outputs": [
    {
     "data": {
      "image/png": "[encoded data removed]",
      "text/plain": [
       "<matplotlib.figure.Figure at 0x7f0ab5d91dd8>"
      ]
     },
     "metadata": {},
     "output_type": "display_data"
    }
   ],
   "source": [
    "plt.subplot(311)\n",
    "sns.heatmap((smoke_result), xticklabels=False, cmap='YlGnBu', annot=True, fmt=\".2f\")\n",
    "plt.subplot(312)\n",
    "sns.heatmap(np.log(smoke_result), xticklabels=False ,cmap='YlGnBu', annot=True, fmt=\".2f\")\n",
    "plt.subplot(313)\n",
    "sns.heatmap(np.exp(smoke_result), cmap='YlGnBu', annot=True, fmt=\".2f\")\n",
    "plt.show()"
   ]
  },
  {
   "cell_type": "markdown",
   "metadata": {},
   "source": [
    "### 가설 2 - 2 검증:\n",
    "- 가설 2 - 1 과 유사하다"
   ]
  },
  {
   "cell_type": "code",
   "execution_count": 29,
   "metadata": {},
   "outputs": [
    {
     "data": {
      "image/png": "[encoded data removed]",
      "text/plain": [
       "<matplotlib.figure.Figure at 0x7f0ab5cca7b8>"
      ]
     },
     "metadata": {},
     "output_type": "display_data"
    }
   ],
   "source": [
    "#가설 2-1\n",
    "plt.subplot(321)\n",
    "sns.heatmap((sex_result), xticklabels=False, cbar=False, cmap='YlGnBu', annot=True, fmt=\".2f\")\n",
    "plt.subplot(323)\n",
    "sns.heatmap(np.log(sex_result), xticklabels=False ,cbar=False,cmap='YlGnBu', annot=True, fmt=\".2f\")\n",
    "plt.subplot(325)\n",
    "sns.heatmap(np.exp(sex_result), cbar=False,cmap='YlGnBu', annot=True, fmt=\".2f\")\n",
    "#가설 2-2\n",
    "plt.subplot(322)\n",
    "sns.heatmap((smoke_result), xticklabels=False,cbar=False, cmap='YlGnBu', annot=True, fmt=\".2f\")\n",
    "plt.subplot(324)\n",
    "sns.heatmap(np.log(smoke_result), xticklabels=False ,cbar=False,cmap='YlGnBu', annot=True, fmt=\".2f\")\n",
    "plt.subplot(326)\n",
    "sns.heatmap(np.exp(smoke_result), cbar=False,cmap='YlGnBu', annot=True, fmt=\".2f\")\n",
    "\n",
    "\n",
    "plt.show()"
   ]
  },
  {
   "cell_type": "markdown",
   "metadata": {},
   "source": [
    "### 가설 2-1 & 2-2\n",
    "실제로 성별 결과와 흡연 결과의 큰 차이가 없어 보인다."
   ]
  },
  {
   "cell_type": "markdown",
   "metadata": {},
   "source": [
    "## 가설 2 - 3. 요일"
   ]
  },
  {
   "cell_type": "code",
   "execution_count": 30,
   "metadata": {
    "collapsed": true
   },
   "outputs": [],
   "source": [
    "day_t = tips.pivot_table(index=\"day\", values=\"tip\", columns=\"count\", aggfunc='mean')\n",
    "day_3 = tips_upper3.pivot_table(index=\"day\", values=\"tip\", columns=\"count\", aggfunc='mean')\n",
    "day_5 = tips_upper5.pivot_table(index=\"day\", values=\"tip\", columns=\"count\", aggfunc='mean')\n",
    "day_l = tips_lower.pivot_table(index=\"day\", values=\"tip\", columns=\"count\", aggfunc='mean')"
   ]
  },
  {
   "cell_type": "code",
   "execution_count": 31,
   "metadata": {},
   "outputs": [
    {
     "data": {
      "text/html": [
       "<div>\n",
       "<style>\n",
       "    .dataframe thead tr:only-child th {\n",
       "        text-align: right;\n",
       "    }\n",
       "\n",
       "    .dataframe thead th {\n",
       "        text-align: left;\n",
       "    }\n",
       "\n",
       "    .dataframe tbody tr th {\n",
       "        vertical-align: top;\n",
       "    }\n",
       "</style>\n",
       "<table border=\"1\" class=\"dataframe\">\n",
       "  <thead>\n",
       "    <tr style=\"text-align: right;\">\n",
       "      <th></th>\n",
       "      <th>lower 3</th>\n",
       "      <th>upper 3</th>\n",
       "      <th>upper 5</th>\n",
       "      <th>total</th>\n",
       "    </tr>\n",
       "    <tr>\n",
       "      <th>day</th>\n",
       "      <th></th>\n",
       "      <th></th>\n",
       "      <th></th>\n",
       "      <th></th>\n",
       "    </tr>\n",
       "  </thead>\n",
       "  <tbody>\n",
       "    <tr>\n",
       "      <th>Thur</th>\n",
       "      <td>2.008500</td>\n",
       "      <td>3.584667</td>\n",
       "      <td>5.906667</td>\n",
       "      <td>2.771452</td>\n",
       "    </tr>\n",
       "    <tr>\n",
       "      <th>Fri</th>\n",
       "      <td>1.855556</td>\n",
       "      <td>3.526000</td>\n",
       "      <td>NaN</td>\n",
       "      <td>2.734737</td>\n",
       "    </tr>\n",
       "    <tr>\n",
       "      <th>Sat</th>\n",
       "      <td>1.931778</td>\n",
       "      <td>3.411515</td>\n",
       "      <td>7.270000</td>\n",
       "      <td>2.993103</td>\n",
       "    </tr>\n",
       "    <tr>\n",
       "      <th>Sun</th>\n",
       "      <td>2.027241</td>\n",
       "      <td>3.551143</td>\n",
       "      <td>5.538750</td>\n",
       "      <td>3.255132</td>\n",
       "    </tr>\n",
       "  </tbody>\n",
       "</table>\n",
       "</div>"
      ],
      "text/plain": [
       "       lower 3   upper 3   upper 5     total\n",
       "day                                         \n",
       "Thur  2.008500  3.584667  5.906667  2.771452\n",
       "Fri   1.855556  3.526000       NaN  2.734737\n",
       "Sat   1.931778  3.411515  7.270000  2.993103\n",
       "Sun   2.027241  3.551143  5.538750  3.255132"
      ]
     },
     "execution_count": 31,
     "metadata": {},
     "output_type": "execute_result"
    }
   ],
   "source": [
    "data = {\n",
    "   'lower 3': day_l[1],\n",
    "   'upper 3': day_3[1],\n",
    "   'upper 5':day_5[1],\n",
    "    }  \n",
    "day_result = pd.DataFrame(data)\n",
    "day_result['total'] = day_t[1]\n",
    "day_result"
   ]
  },
  {
   "cell_type": "code",
   "execution_count": 32,
   "metadata": {},
   "outputs": [
    {
     "data": {
      "image/png": "[encoded data removed]",
      "text/plain": [
       "<matplotlib.figure.Figure at 0x7f0ab5c94c88>"
      ]
     },
     "metadata": {},
     "output_type": "display_data"
    }
   ],
   "source": [
    "sns.heatmap((day_result), cmap='YlGnBu', annot=True, fmt=\".2f\")\n",
    "plt.show()"
   ]
  },
  {
   "cell_type": "markdown",
   "metadata": {},
   "source": [
    "###  가설 2-3 검증:\n",
    "- 요일간의 차이가 미미하다."
   ]
  },
  {
   "cell_type": "markdown",
   "metadata": {},
   "source": [
    "---"
   ]
  },
  {
   "cell_type": "markdown",
   "metadata": {},
   "source": [
    "## 가설 3. upper 5 그룹의 특징이 있을 것이다."
   ]
  },
  {
   "cell_type": "code",
   "execution_count": 33,
   "metadata": {},
   "outputs": [
    {
     "data": {
      "text/html": [
       "<div>\n",
       "<style>\n",
       "    .dataframe thead tr:only-child th {\n",
       "        text-align: right;\n",
       "    }\n",
       "\n",
       "    .dataframe thead th {\n",
       "        text-align: left;\n",
       "    }\n",
       "\n",
       "    .dataframe tbody tr th {\n",
       "        vertical-align: top;\n",
       "    }\n",
       "</style>\n",
       "<table border=\"1\" class=\"dataframe\">\n",
       "  <thead>\n",
       "    <tr style=\"text-align: right;\">\n",
       "      <th></th>\n",
       "      <th>index</th>\n",
       "      <th>total_bill</th>\n",
       "      <th>tip</th>\n",
       "      <th>sex</th>\n",
       "      <th>smoker</th>\n",
       "      <th>day</th>\n",
       "      <th>time</th>\n",
       "      <th>size</th>\n",
       "      <th>count</th>\n",
       "      <th>a_total</th>\n",
       "    </tr>\n",
       "  </thead>\n",
       "  <tbody>\n",
       "    <tr>\n",
       "      <th>0</th>\n",
       "      <td>23</td>\n",
       "      <td>39.42</td>\n",
       "      <td>7.58</td>\n",
       "      <td>Male</td>\n",
       "      <td>No</td>\n",
       "      <td>Sat</td>\n",
       "      <td>Dinner</td>\n",
       "      <td>4</td>\n",
       "      <td>1</td>\n",
       "      <td>35</td>\n",
       "    </tr>\n",
       "    <tr>\n",
       "      <th>1</th>\n",
       "      <td>44</td>\n",
       "      <td>30.40</td>\n",
       "      <td>5.60</td>\n",
       "      <td>Male</td>\n",
       "      <td>No</td>\n",
       "      <td>Sun</td>\n",
       "      <td>Dinner</td>\n",
       "      <td>4</td>\n",
       "      <td>1</td>\n",
       "      <td>30</td>\n",
       "    </tr>\n",
       "    <tr>\n",
       "      <th>2</th>\n",
       "      <td>47</td>\n",
       "      <td>32.40</td>\n",
       "      <td>6.00</td>\n",
       "      <td>Male</td>\n",
       "      <td>No</td>\n",
       "      <td>Sun</td>\n",
       "      <td>Dinner</td>\n",
       "      <td>4</td>\n",
       "      <td>1</td>\n",
       "      <td>30</td>\n",
       "    </tr>\n",
       "    <tr>\n",
       "      <th>3</th>\n",
       "      <td>52</td>\n",
       "      <td>34.81</td>\n",
       "      <td>5.20</td>\n",
       "      <td>Female</td>\n",
       "      <td>No</td>\n",
       "      <td>Sun</td>\n",
       "      <td>Dinner</td>\n",
       "      <td>4</td>\n",
       "      <td>1</td>\n",
       "      <td>35</td>\n",
       "    </tr>\n",
       "    <tr>\n",
       "      <th>4</th>\n",
       "      <td>59</td>\n",
       "      <td>48.27</td>\n",
       "      <td>6.73</td>\n",
       "      <td>Male</td>\n",
       "      <td>No</td>\n",
       "      <td>Sat</td>\n",
       "      <td>Dinner</td>\n",
       "      <td>4</td>\n",
       "      <td>1</td>\n",
       "      <td>45</td>\n",
       "    </tr>\n",
       "    <tr>\n",
       "      <th>5</th>\n",
       "      <td>85</td>\n",
       "      <td>34.83</td>\n",
       "      <td>5.17</td>\n",
       "      <td>Female</td>\n",
       "      <td>No</td>\n",
       "      <td>Thur</td>\n",
       "      <td>Lunch</td>\n",
       "      <td>4</td>\n",
       "      <td>1</td>\n",
       "      <td>35</td>\n",
       "    </tr>\n",
       "    <tr>\n",
       "      <th>6</th>\n",
       "      <td>88</td>\n",
       "      <td>24.71</td>\n",
       "      <td>5.85</td>\n",
       "      <td>Male</td>\n",
       "      <td>No</td>\n",
       "      <td>Thur</td>\n",
       "      <td>Lunch</td>\n",
       "      <td>2</td>\n",
       "      <td>1</td>\n",
       "      <td>25</td>\n",
       "    </tr>\n",
       "    <tr>\n",
       "      <th>7</th>\n",
       "      <td>116</td>\n",
       "      <td>29.93</td>\n",
       "      <td>5.07</td>\n",
       "      <td>Male</td>\n",
       "      <td>No</td>\n",
       "      <td>Sun</td>\n",
       "      <td>Dinner</td>\n",
       "      <td>4</td>\n",
       "      <td>1</td>\n",
       "      <td>25</td>\n",
       "    </tr>\n",
       "    <tr>\n",
       "      <th>8</th>\n",
       "      <td>141</td>\n",
       "      <td>34.30</td>\n",
       "      <td>6.70</td>\n",
       "      <td>Male</td>\n",
       "      <td>No</td>\n",
       "      <td>Thur</td>\n",
       "      <td>Lunch</td>\n",
       "      <td>6</td>\n",
       "      <td>1</td>\n",
       "      <td>35</td>\n",
       "    </tr>\n",
       "    <tr>\n",
       "      <th>9</th>\n",
       "      <td>155</td>\n",
       "      <td>29.85</td>\n",
       "      <td>5.14</td>\n",
       "      <td>Female</td>\n",
       "      <td>No</td>\n",
       "      <td>Sun</td>\n",
       "      <td>Dinner</td>\n",
       "      <td>5</td>\n",
       "      <td>1</td>\n",
       "      <td>25</td>\n",
       "    </tr>\n",
       "    <tr>\n",
       "      <th>10</th>\n",
       "      <td>170</td>\n",
       "      <td>50.81</td>\n",
       "      <td>10.00</td>\n",
       "      <td>Male</td>\n",
       "      <td>Yes</td>\n",
       "      <td>Sat</td>\n",
       "      <td>Dinner</td>\n",
       "      <td>3</td>\n",
       "      <td>1</td>\n",
       "      <td>50</td>\n",
       "    </tr>\n",
       "    <tr>\n",
       "      <th>11</th>\n",
       "      <td>172</td>\n",
       "      <td>7.25</td>\n",
       "      <td>5.15</td>\n",
       "      <td>Male</td>\n",
       "      <td>Yes</td>\n",
       "      <td>Sun</td>\n",
       "      <td>Dinner</td>\n",
       "      <td>2</td>\n",
       "      <td>1</td>\n",
       "      <td>5</td>\n",
       "    </tr>\n",
       "    <tr>\n",
       "      <th>12</th>\n",
       "      <td>181</td>\n",
       "      <td>23.33</td>\n",
       "      <td>5.65</td>\n",
       "      <td>Male</td>\n",
       "      <td>Yes</td>\n",
       "      <td>Sun</td>\n",
       "      <td>Dinner</td>\n",
       "      <td>2</td>\n",
       "      <td>1</td>\n",
       "      <td>20</td>\n",
       "    </tr>\n",
       "    <tr>\n",
       "      <th>13</th>\n",
       "      <td>183</td>\n",
       "      <td>23.17</td>\n",
       "      <td>6.50</td>\n",
       "      <td>Male</td>\n",
       "      <td>Yes</td>\n",
       "      <td>Sun</td>\n",
       "      <td>Dinner</td>\n",
       "      <td>4</td>\n",
       "      <td>1</td>\n",
       "      <td>20</td>\n",
       "    </tr>\n",
       "    <tr>\n",
       "      <th>14</th>\n",
       "      <td>211</td>\n",
       "      <td>25.89</td>\n",
       "      <td>5.16</td>\n",
       "      <td>Male</td>\n",
       "      <td>Yes</td>\n",
       "      <td>Sat</td>\n",
       "      <td>Dinner</td>\n",
       "      <td>4</td>\n",
       "      <td>1</td>\n",
       "      <td>25</td>\n",
       "    </tr>\n",
       "    <tr>\n",
       "      <th>15</th>\n",
       "      <td>212</td>\n",
       "      <td>48.33</td>\n",
       "      <td>9.00</td>\n",
       "      <td>Male</td>\n",
       "      <td>No</td>\n",
       "      <td>Sat</td>\n",
       "      <td>Dinner</td>\n",
       "      <td>4</td>\n",
       "      <td>1</td>\n",
       "      <td>45</td>\n",
       "    </tr>\n",
       "    <tr>\n",
       "      <th>16</th>\n",
       "      <td>214</td>\n",
       "      <td>28.17</td>\n",
       "      <td>6.50</td>\n",
       "      <td>Female</td>\n",
       "      <td>Yes</td>\n",
       "      <td>Sat</td>\n",
       "      <td>Dinner</td>\n",
       "      <td>3</td>\n",
       "      <td>1</td>\n",
       "      <td>25</td>\n",
       "    </tr>\n",
       "    <tr>\n",
       "      <th>17</th>\n",
       "      <td>239</td>\n",
       "      <td>29.03</td>\n",
       "      <td>5.92</td>\n",
       "      <td>Male</td>\n",
       "      <td>No</td>\n",
       "      <td>Sat</td>\n",
       "      <td>Dinner</td>\n",
       "      <td>3</td>\n",
       "      <td>1</td>\n",
       "      <td>25</td>\n",
       "    </tr>\n",
       "  </tbody>\n",
       "</table>\n",
       "</div>"
      ],
      "text/plain": [
       "    index  total_bill    tip     sex smoker   day    time  size  count  \\\n",
       "0      23       39.42   7.58    Male     No   Sat  Dinner     4      1   \n",
       "1      44       30.40   5.60    Male     No   Sun  Dinner     4      1   \n",
       "2      47       32.40   6.00    Male     No   Sun  Dinner     4      1   \n",
       "3      52       34.81   5.20  Female     No   Sun  Dinner     4      1   \n",
       "4      59       48.27   6.73    Male     No   Sat  Dinner     4      1   \n",
       "5      85       34.83   5.17  Female     No  Thur   Lunch     4      1   \n",
       "6      88       24.71   5.85    Male     No  Thur   Lunch     2      1   \n",
       "7     116       29.93   5.07    Male     No   Sun  Dinner     4      1   \n",
       "8     141       34.30   6.70    Male     No  Thur   Lunch     6      1   \n",
       "9     155       29.85   5.14  Female     No   Sun  Dinner     5      1   \n",
       "10    170       50.81  10.00    Male    Yes   Sat  Dinner     3      1   \n",
       "11    172        7.25   5.15    Male    Yes   Sun  Dinner     2      1   \n",
       "12    181       23.33   5.65    Male    Yes   Sun  Dinner     2      1   \n",
       "13    183       23.17   6.50    Male    Yes   Sun  Dinner     4      1   \n",
       "14    211       25.89   5.16    Male    Yes   Sat  Dinner     4      1   \n",
       "15    212       48.33   9.00    Male     No   Sat  Dinner     4      1   \n",
       "16    214       28.17   6.50  Female    Yes   Sat  Dinner     3      1   \n",
       "17    239       29.03   5.92    Male     No   Sat  Dinner     3      1   \n",
       "\n",
       "    a_total  \n",
       "0        35  \n",
       "1        30  \n",
       "2        30  \n",
       "3        35  \n",
       "4        45  \n",
       "5        35  \n",
       "6        25  \n",
       "7        25  \n",
       "8        35  \n",
       "9        25  \n",
       "10       50  \n",
       "11        5  \n",
       "12       20  \n",
       "13       20  \n",
       "14       25  \n",
       "15       45  \n",
       "16       25  \n",
       "17       25  "
      ]
     },
     "execution_count": 33,
     "metadata": {},
     "output_type": "execute_result"
    }
   ],
   "source": [
    "tips_upper5"
   ]
  },
  {
   "cell_type": "markdown",
   "metadata": {},
   "source": [
    "### 3 - 1. 흡연 특징"
   ]
  },
  {
   "cell_type": "code",
   "execution_count": 34,
   "metadata": {
    "collapsed": true
   },
   "outputs": [],
   "source": [
    "tips_upper5['smoker2'] = tips_upper5['smoker'].apply(lambda x: 0 if len(x) == 2 else 1)"
   ]
  },
  {
   "cell_type": "code",
   "execution_count": 35,
   "metadata": {},
   "outputs": [
    {
     "data": {
      "text/html": [
       "<div>\n",
       "<style>\n",
       "    .dataframe thead tr:only-child th {\n",
       "        text-align: right;\n",
       "    }\n",
       "\n",
       "    .dataframe thead th {\n",
       "        text-align: left;\n",
       "    }\n",
       "\n",
       "    .dataframe tbody tr th {\n",
       "        vertical-align: top;\n",
       "    }\n",
       "</style>\n",
       "<table border=\"1\" class=\"dataframe\">\n",
       "  <thead>\n",
       "    <tr style=\"text-align: right;\">\n",
       "      <th>smoker</th>\n",
       "      <th>Yes</th>\n",
       "      <th>No</th>\n",
       "    </tr>\n",
       "    <tr>\n",
       "      <th>smoker2</th>\n",
       "      <th></th>\n",
       "      <th></th>\n",
       "    </tr>\n",
       "  </thead>\n",
       "  <tbody>\n",
       "    <tr>\n",
       "      <th>1</th>\n",
       "      <td>6.0</td>\n",
       "      <td>NaN</td>\n",
       "    </tr>\n",
       "    <tr>\n",
       "      <th>0</th>\n",
       "      <td>NaN</td>\n",
       "      <td>12.0</td>\n",
       "    </tr>\n",
       "  </tbody>\n",
       "</table>\n",
       "</div>"
      ],
      "text/plain": [
       "smoker   Yes    No\n",
       "smoker2           \n",
       "1        6.0   NaN\n",
       "0        NaN  12.0"
      ]
     },
     "execution_count": 35,
     "metadata": {},
     "output_type": "execute_result"
    }
   ],
   "source": [
    "sr = tips_upper5.pivot_table(index=\"smoker2\", values = 'count', columns='smoker', aggfunc=np.sum )\n",
    "sr"
   ]
  },
  {
   "cell_type": "code",
   "execution_count": 36,
   "metadata": {
    "collapsed": true
   },
   "outputs": [],
   "source": [
    "tips['smoker2'] = tips['smoker'].apply(lambda x: 0 if len(x) == 2 else 1)"
   ]
  },
  {
   "cell_type": "code",
   "execution_count": 37,
   "metadata": {},
   "outputs": [
    {
     "data": {
      "text/html": [
       "<div>\n",
       "<style>\n",
       "    .dataframe thead tr:only-child th {\n",
       "        text-align: right;\n",
       "    }\n",
       "\n",
       "    .dataframe thead th {\n",
       "        text-align: left;\n",
       "    }\n",
       "\n",
       "    .dataframe tbody tr th {\n",
       "        vertical-align: top;\n",
       "    }\n",
       "</style>\n",
       "<table border=\"1\" class=\"dataframe\">\n",
       "  <thead>\n",
       "    <tr style=\"text-align: right;\">\n",
       "      <th>smoker</th>\n",
       "      <th>Yes</th>\n",
       "      <th>No</th>\n",
       "    </tr>\n",
       "    <tr>\n",
       "      <th>smoker2</th>\n",
       "      <th></th>\n",
       "      <th></th>\n",
       "    </tr>\n",
       "  </thead>\n",
       "  <tbody>\n",
       "    <tr>\n",
       "      <th>1</th>\n",
       "      <td>93.0</td>\n",
       "      <td>NaN</td>\n",
       "    </tr>\n",
       "    <tr>\n",
       "      <th>0</th>\n",
       "      <td>NaN</td>\n",
       "      <td>151.0</td>\n",
       "    </tr>\n",
       "  </tbody>\n",
       "</table>\n",
       "</div>"
      ],
      "text/plain": [
       "smoker    Yes     No\n",
       "smoker2             \n",
       "1        93.0    NaN\n",
       "0         NaN  151.0"
      ]
     },
     "execution_count": 37,
     "metadata": {},
     "output_type": "execute_result"
    }
   ],
   "source": [
    "srt = tips.pivot_table(index=\"smoker2\", values = 'count', columns='smoker', aggfunc=np.sum )\n",
    "srt"
   ]
  },
  {
   "cell_type": "code",
   "execution_count": 38,
   "metadata": {},
   "outputs": [
    {
     "data": {
      "text/plain": [
       "(38.114754098360997, 33.333333333333002)"
      ]
     },
     "execution_count": 38,
     "metadata": {},
     "output_type": "execute_result"
    }
   ],
   "source": [
    "smoke_rate_t = round(srt.iloc[0,0]/(srt.iloc[0,0] + srt.iloc[1,1]) * 100, 12)\n",
    "smoke_rate_5 =round(sr.iloc[0,0]/(sr.iloc[0,0] + sr.iloc[1,1]) * 100, 12)\n",
    "smoke_rate_t, smoke_rate_5"
   ]
  },
  {
   "cell_type": "code",
   "execution_count": 39,
   "metadata": {},
   "outputs": [
    {
     "data": {
      "text/plain": [
       "(7.9500000000000002, 6.4500000000000002)"
      ]
     },
     "execution_count": 39,
     "metadata": {},
     "output_type": "execute_result"
    }
   ],
   "source": [
    "round(sr.iloc[1,1]/srt.iloc[1,1]*100,2), round(sr.iloc[0,0]/srt.iloc[0,0]*100, 2)"
   ]
  },
  {
   "cell_type": "markdown",
   "metadata": {},
   "source": [
    "### 가설 3 - 검증1. \n",
    "- 전체 흡연율에 비해 팁을 많이 주는 그룹의 흡연율이 5%p 낮다.\n",
    "- 비흡연자 고객이 upper_5그룹일 확률 12/151, 7.95%\n",
    "- 흡연자 고객이 upper_5그룹일 확률 6/93, 6.45%\n",
    "\n",
    "\n",
    "## 비흡연자 고객에게 팁을 많이 받을 확률이 1.5%p 더 높다."
   ]
  },
  {
   "cell_type": "code",
   "execution_count": 40,
   "metadata": {},
   "outputs": [
    {
     "data": {
      "image/png": "[encoded data removed]",
      "text/plain": [
       "<matplotlib.figure.Figure at 0x7f0ab5ef2b38>"
      ]
     },
     "metadata": {},
     "output_type": "display_data"
    }
   ],
   "source": [
    "sns.heatmap(sr/srt*100, cmap=sns.light_palette(\"lightgreen\", as_cmap=True), annot=True, fmt=\".2f\")\n",
    "plt.show()"
   ]
  },
  {
   "cell_type": "markdown",
   "metadata": {},
   "source": [
    "---"
   ]
  },
  {
   "cell_type": "markdown",
   "metadata": {},
   "source": [
    "### 3 - 2. 시간 특징"
   ]
  },
  {
   "cell_type": "code",
   "execution_count": 41,
   "metadata": {
    "collapsed": true
   },
   "outputs": [],
   "source": [
    "tips_upper5['time2'] = tips_upper5['time'].apply(lambda x: 0 if len(x) == 5 else 1)"
   ]
  },
  {
   "cell_type": "code",
   "execution_count": 42,
   "metadata": {},
   "outputs": [
    {
     "data": {
      "text/html": [
       "<div>\n",
       "<style>\n",
       "    .dataframe thead tr:only-child th {\n",
       "        text-align: right;\n",
       "    }\n",
       "\n",
       "    .dataframe thead th {\n",
       "        text-align: left;\n",
       "    }\n",
       "\n",
       "    .dataframe tbody tr th {\n",
       "        vertical-align: top;\n",
       "    }\n",
       "</style>\n",
       "<table border=\"1\" class=\"dataframe\">\n",
       "  <thead>\n",
       "    <tr style=\"text-align: right;\">\n",
       "      <th>time</th>\n",
       "      <th>Lunch</th>\n",
       "      <th>Dinner</th>\n",
       "    </tr>\n",
       "    <tr>\n",
       "      <th>time2</th>\n",
       "      <th></th>\n",
       "      <th></th>\n",
       "    </tr>\n",
       "  </thead>\n",
       "  <tbody>\n",
       "    <tr>\n",
       "      <th>0</th>\n",
       "      <td>3.0</td>\n",
       "      <td>NaN</td>\n",
       "    </tr>\n",
       "    <tr>\n",
       "      <th>1</th>\n",
       "      <td>NaN</td>\n",
       "      <td>15.0</td>\n",
       "    </tr>\n",
       "  </tbody>\n",
       "</table>\n",
       "</div>"
      ],
      "text/plain": [
       "time   Lunch  Dinner\n",
       "time2               \n",
       "0        3.0     NaN\n",
       "1        NaN    15.0"
      ]
     },
     "execution_count": 42,
     "metadata": {},
     "output_type": "execute_result"
    }
   ],
   "source": [
    "LD = tips_upper5.pivot_table(index=\"time2\", values = 'count', columns='time', aggfunc=np.sum )\n",
    "LD"
   ]
  },
  {
   "cell_type": "code",
   "execution_count": 43,
   "metadata": {
    "collapsed": true
   },
   "outputs": [],
   "source": [
    "tips['time2'] = tips['time'].apply(lambda x: 0 if len(x) == 5 else 1)"
   ]
  },
  {
   "cell_type": "code",
   "execution_count": 44,
   "metadata": {},
   "outputs": [
    {
     "data": {
      "text/html": [
       "<div>\n",
       "<style>\n",
       "    .dataframe thead tr:only-child th {\n",
       "        text-align: right;\n",
       "    }\n",
       "\n",
       "    .dataframe thead th {\n",
       "        text-align: left;\n",
       "    }\n",
       "\n",
       "    .dataframe tbody tr th {\n",
       "        vertical-align: top;\n",
       "    }\n",
       "</style>\n",
       "<table border=\"1\" class=\"dataframe\">\n",
       "  <thead>\n",
       "    <tr style=\"text-align: right;\">\n",
       "      <th>time</th>\n",
       "      <th>Lunch</th>\n",
       "      <th>Dinner</th>\n",
       "    </tr>\n",
       "    <tr>\n",
       "      <th>time2</th>\n",
       "      <th></th>\n",
       "      <th></th>\n",
       "    </tr>\n",
       "  </thead>\n",
       "  <tbody>\n",
       "    <tr>\n",
       "      <th>0</th>\n",
       "      <td>68.0</td>\n",
       "      <td>NaN</td>\n",
       "    </tr>\n",
       "    <tr>\n",
       "      <th>1</th>\n",
       "      <td>NaN</td>\n",
       "      <td>176.0</td>\n",
       "    </tr>\n",
       "  </tbody>\n",
       "</table>\n",
       "</div>"
      ],
      "text/plain": [
       "time   Lunch  Dinner\n",
       "time2               \n",
       "0       68.0     NaN\n",
       "1        NaN   176.0"
      ]
     },
     "execution_count": 44,
     "metadata": {},
     "output_type": "execute_result"
    }
   ],
   "source": [
    "LDt = tips.pivot_table(index=\"time2\", values = 'count', columns='time', aggfunc=np.sum )\n",
    "LDt"
   ]
  },
  {
   "cell_type": "code",
   "execution_count": 45,
   "metadata": {},
   "outputs": [
    {
     "data": {
      "text/plain": [
       "(27.868852459016001, 16.666666666666998)"
      ]
     },
     "execution_count": 45,
     "metadata": {},
     "output_type": "execute_result"
    }
   ],
   "source": [
    "LD_rate_t = round(LDt.iloc[0,0]/(LDt.iloc[0,0] + LDt.iloc[1,1]) * 100, 12)\n",
    "LD_rate_5 =round(LD.iloc[0,0]/(LD.iloc[0,0] + LD.iloc[1,1]) * 100, 12)\n",
    "LD_rate_t, LD_rate_5"
   ]
  },
  {
   "cell_type": "code",
   "execution_count": 46,
   "metadata": {},
   "outputs": [
    {
     "data": {
      "text/plain": [
       "(8.5199999999999996, 4.4100000000000001)"
      ]
     },
     "execution_count": 46,
     "metadata": {},
     "output_type": "execute_result"
    }
   ],
   "source": [
    "round(LD.iloc[1,1]/LDt.iloc[1,1]*100,2), round(LD.iloc[0,0]/LDt.iloc[0,0]*100, 2)"
   ]
  },
  {
   "cell_type": "markdown",
   "metadata": {},
   "source": [
    "### 가설 3 - 검증2. \n",
    "- 점심시간에 비해 저녁시간에 upper_5그룹이 올 확률이 높다.\n",
    "- Dinner에 온 고객이 upper_5그룹일 확률 8.51%\n",
    "- Lunch에 온 고객이 upper_5그룹일 확률 4.41%\n",
    "\n",
    "## 저녁시간에 온 고객에게 팁을 많이 받을 확률이 4%p 높다."
   ]
  },
  {
   "cell_type": "code",
   "execution_count": 47,
   "metadata": {},
   "outputs": [
    {
     "data": {
      "image/png": "[encoded data removed]",
      "text/plain": [
       "<matplotlib.figure.Figure at 0x7f0ab6062438>"
      ]
     },
     "metadata": {},
     "output_type": "display_data"
    }
   ],
   "source": [
    "sns.heatmap(LD/LDt*100, cmap=sns.light_palette(\"skyblue\", as_cmap=True), annot=True, fmt=\".2f\")\n",
    "plt.show()"
   ]
  },
  {
   "cell_type": "code",
   "execution_count": null,
   "metadata": {
    "collapsed": true
   },
   "outputs": [],
   "source": []
  }
 ],
 "metadata": {
  "kernelspec": {
   "display_name": "Python 3",
   "language": "python",
   "name": "python3"
  },
  "language_info": {
   "codemirror_mode": {
    "name": "ipython",
    "version": 3
   },
   "file_extension": ".py",
   "mimetype": "text/x-python",
   "name": "python",
   "nbconvert_exporter": "python",
   "pygments_lexer": "ipython3",
   "version": "3.6.4"
  }
 },
 "nbformat": 4,
 "nbformat_minor": 2
}
