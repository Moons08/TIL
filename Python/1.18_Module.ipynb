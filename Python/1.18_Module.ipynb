{
 "cells": [
  {
   "cell_type": "markdown",
   "metadata": {},
   "source": [
    "#### Module\n",
    "- 함수, 변수, 클래스를 모아놓은 파일\n",
    "- pep8 \n",
    "    - 모듈명은 짧은 소문자로 구성되며 필요하다면 밑줄 사용\n",
    "    - c기반 확장모듈은 밑줄로 시작"
   ]
  },
  {
   "cell_type": "markdown",
   "metadata": {},
   "source": [
    "#### Package\n",
    "\n",
    "- 디렉토리와 모듈로 이루어져 있음 (모듈의 집합)"
   ]
  },
  {
   "cell_type": "markdown",
   "metadata": {},
   "source": [
    "##### alias : 이름이 긴 패키지는 alias 사용이 적절"
   ]
  },
  {
   "cell_type": "code",
   "execution_count": null,
   "metadata": {
    "collapsed": true
   },
   "outputs": [],
   "source": [
    "import quiz.game.lotto as lotto"
   ]
  },
  {
   "cell_type": "markdown",
   "metadata": {},
   "source": [
    "```\n",
    "quiz\n",
    "└── game\n",
    "│   ├── lotto.py\n",
    "│   ├── random_number.py\n",
    "└── star\n",
    "    ├── disp.py\n",
    "```"
   ]
  },
  {
   "cell_type": "markdown",
   "metadata": {},
   "source": [
    "- import시 가장 마지막은 module이여야 한다.\n",
    "- directory (x)"
   ]
  },
  {
   "cell_type": "code",
   "execution_count": null,
   "metadata": {
    "collapsed": true
   },
   "outputs": [],
   "source": [
    "import quiz.game as game\n",
    "\n",
    "game.lotto.get_lotto_number() # 실행 불가능"
   ]
  },
  {
   "cell_type": "markdown",
   "metadata": {},
   "source": [
    "- 특정 모듈이나 함수만 호출할 경우 \n",
    "- from 을 사용한다.\n",
    "- from 모듈(함수)의 경로 import 모듈(함수)의 이름"
   ]
  },
  {
   "cell_type": "code",
   "execution_count": null,
   "metadata": {
    "collapsed": true
   },
   "outputs": [],
   "source": [
    "from quiz.star import disp"
   ]
  },
  {
   "cell_type": "code",
   "execution_count": null,
   "metadata": {
    "collapsed": true
   },
   "outputs": [],
   "source": [
    "from quiz.star.disp import disp_star3, disp_star4"
   ]
  },
  {
   "cell_type": "markdown",
   "metadata": {},
   "source": [
    "#### 모듈 경로 찾기"
   ]
  },
  {
   "cell_type": "code",
   "execution_count": 1,
   "metadata": {
    "collapsed": true
   },
   "outputs": [],
   "source": [
    "import sys"
   ]
  },
  {
   "cell_type": "code",
   "execution_count": 2,
   "metadata": {},
   "outputs": [
    {
     "name": "stdout",
     "output_type": "stream",
     "text": [
      "\n",
      "C:\\Users\\S\\Anaconda3\\python36.zip\n",
      "C:\\Users\\S\\Anaconda3\\DLLs\n",
      "C:\\Users\\S\\Anaconda3\\lib\n",
      "C:\\Users\\S\\Anaconda3\n",
      "C:\\Users\\S\\Anaconda3\\lib\\site-packages\n",
      "C:\\Users\\S\\Anaconda3\\lib\\site-packages\\Babel-2.5.0-py3.6.egg\n",
      "C:\\Users\\S\\Anaconda3\\lib\\site-packages\\win32\n",
      "C:\\Users\\S\\Anaconda3\\lib\\site-packages\\win32\\lib\n",
      "C:\\Users\\S\\Anaconda3\\lib\\site-packages\\Pythonwin\n",
      "C:\\Users\\S\\Anaconda3\\lib\\site-packages\\IPython\\extensions\n",
      "C:\\Users\\S\\.ipython\n"
     ]
    }
   ],
   "source": [
    "for place in sys.path:\n",
    "    print(place)"
   ]
  }
 ],
 "metadata": {
  "kernelspec": {
   "display_name": "Python 3",
   "language": "python",
   "name": "python3"
  },
  "language_info": {
   "codemirror_mode": {
    "name": "ipython",
    "version": 3
   },
   "file_extension": ".py",
   "mimetype": "text/x-python",
   "name": "python",
   "nbconvert_exporter": "python",
   "pygments_lexer": "ipython3",
   "version": "3.6.3"
  }
 },
 "nbformat": 4,
 "nbformat_minor": 2
}
