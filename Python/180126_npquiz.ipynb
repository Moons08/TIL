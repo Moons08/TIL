{
 "cells": [
  {
   "cell_type": "markdown",
   "metadata": {},
   "source": [
    "### Quiz"
   ]
  },
  {
   "cell_type": "code",
   "execution_count": 1,
   "metadata": {
    "collapsed": true
   },
   "outputs": [],
   "source": [
    "import numpy as np"
   ]
  },
  {
   "cell_type": "markdown",
   "metadata": {},
   "source": [
    "##### 1. 5개의 1로 이루어진 정수데이터 타입의 벡터를 만드세요"
   ]
  },
  {
   "cell_type": "code",
   "execution_count": 3,
   "metadata": {},
   "outputs": [
    {
     "data": {
      "text/plain": [
       "array([1, 1, 1, 1, 1])"
      ]
     },
     "execution_count": 3,
     "metadata": {},
     "output_type": "execute_result"
    }
   ],
   "source": [
    "data = np.ones(5, dtype = int)\n",
    "data"
   ]
  },
  {
   "cell_type": "markdown",
   "metadata": {},
   "source": [
    "##### 2. 10개의 1로 이루어진 정수 데이터 타입의 벡터에서 마지막 3개의 데이터는 5가 들어있는 벡터를 만드세요"
   ]
  },
  {
   "cell_type": "code",
   "execution_count": 8,
   "metadata": {},
   "outputs": [
    {
     "data": {
      "text/plain": [
       "array([1, 1, 1, 1, 1, 1, 1, 5, 5, 5])"
      ]
     },
     "execution_count": 8,
     "metadata": {},
     "output_type": "execute_result"
    }
   ],
   "source": [
    "data = np.ones(10, dtype = int)\n",
    "data[-3:] = 5\n",
    "data"
   ]
  },
  {
   "cell_type": "markdown",
   "metadata": {},
   "source": [
    "##### 3. 10에서 20까지의 데이터를 가지는 벡터를 만드세요"
   ]
  },
  {
   "cell_type": "code",
   "execution_count": 1,
   "metadata": {},
   "outputs": [
    {
     "data": {
      "text/plain": [
       "array([10, 11, 12, 13, 14, 15, 16, 17, 18, 19, 20])"
      ]
     },
     "execution_count": 1,
     "metadata": {},
     "output_type": "execute_result"
    }
   ],
   "source": [
    "data = np.arange(10,20+1)\n",
    "data"
   ]
  },
  {
   "cell_type": "markdown",
   "metadata": {},
   "source": [
    "##### 4. 위 벡터의 순서를 바꾸세요"
   ]
  },
  {
   "cell_type": "code",
   "execution_count": 3,
   "metadata": {},
   "outputs": [
    {
     "data": {
      "text/plain": [
       "array([20, 19, 18, 17, 16, 15, 14, 13, 12, 11, 10])"
      ]
     },
     "execution_count": 3,
     "metadata": {},
     "output_type": "execute_result"
    }
   ],
   "source": [
    "data[::-1]"
   ]
  },
  {
   "cell_type": "markdown",
   "metadata": {},
   "source": [
    "##### 5. 0부터 8까지의 값을 가지는 3x3 행렬을 만드세요"
   ]
  },
  {
   "cell_type": "code",
   "execution_count": 5,
   "metadata": {},
   "outputs": [
    {
     "data": {
      "text/plain": [
       "array([[0, 1, 2],\n",
       "       [3, 4, 5],\n",
       "       [6, 7, 8]])"
      ]
     },
     "execution_count": 5,
     "metadata": {},
     "output_type": "execute_result"
    }
   ],
   "source": [
    "data1 = np.arange(0, 8+1).reshape(3, 3)\n",
    "data1"
   ]
  },
  {
   "cell_type": "markdown",
   "metadata": {},
   "source": [
    "##### 6. 위의 벡터에서  `[[4,5],[7,8]]`  행렬을 만드세요"
   ]
  },
  {
   "cell_type": "code",
   "execution_count": 7,
   "metadata": {},
   "outputs": [
    {
     "data": {
      "text/plain": [
       "array([[4, 5],\n",
       "       [7, 8]])"
      ]
     },
     "execution_count": 7,
     "metadata": {},
     "output_type": "execute_result"
    }
   ],
   "source": [
    "data1[1:, 1:]"
   ]
  },
  {
   "cell_type": "markdown",
   "metadata": {},
   "source": [
    "##### 7. 1에서 10까지의 데이터를 랜덤하게 가지는 3*4 행렬을 만드세요"
   ]
  },
  {
   "cell_type": "code",
   "execution_count": 17,
   "metadata": {},
   "outputs": [
    {
     "data": {
      "text/plain": [
       "array([[ 6,  8,  8,  6],\n",
       "       [ 7,  7,  3,  7],\n",
       "       [10,  3,  5,  1]])"
      ]
     },
     "execution_count": 17,
     "metadata": {},
     "output_type": "execute_result"
    }
   ],
   "source": [
    "rdata = np.random.randint(1, 10+1, (3, 4))\n",
    "rdata"
   ]
  },
  {
   "cell_type": "markdown",
   "metadata": {},
   "source": [
    "##### 8. 위에서 만든 행렬의 unique 한 숫자들 리스트와 각숫자의 갯수를 리스트로 나타내세요"
   ]
  },
  {
   "cell_type": "code",
   "execution_count": 23,
   "metadata": {},
   "outputs": [
    {
     "data": {
      "text/plain": [
       "(array([ 1,  3,  5,  6,  7,  8, 10]), array([1, 2, 1, 2, 3, 2, 1]))"
      ]
     },
     "execution_count": 23,
     "metadata": {},
     "output_type": "execute_result"
    }
   ],
   "source": [
    "np.unique(rdata, return_counts=True)"
   ]
  },
  {
   "cell_type": "markdown",
   "metadata": {},
   "source": [
    "##### 9. 1에서 12까지에 숫자가 들어간 3*4 행렬을 만드시고 행과 열에 관계없이 데이터를 섞으세요"
   ]
  },
  {
   "cell_type": "code",
   "execution_count": 72,
   "metadata": {},
   "outputs": [
    {
     "name": "stdout",
     "output_type": "stream",
     "text": [
      "[[ 1  2  3  4]\n",
      " [ 5  6  7  8]\n",
      " [ 9 10 11 12]]\n"
     ]
    },
    {
     "data": {
      "text/plain": [
       "array([[ 5,  9, 12,  6],\n",
       "       [10,  3,  1,  4],\n",
       "       [ 8,  7,  2, 11]])"
      ]
     },
     "execution_count": 72,
     "metadata": {},
     "output_type": "execute_result"
    }
   ],
   "source": [
    "a = np.arange(1,12+1).reshape(3, 4)\n",
    "print(a)\n",
    "np.random.shuffle(a.reshape(1,12)[0])\n",
    "a"
   ]
  },
  {
   "cell_type": "markdown",
   "metadata": {},
   "source": [
    "##### 10. 1부터 10까지의 랜덤한 데이터가 들어가는 `3*3`행렬을 만드시고 가장 아래에 위의 데이터를 모두 합한 `1*3`행렬을 추가해서 `4*3`행렬을 만드세요"
   ]
  },
  {
   "cell_type": "code",
   "execution_count": 131,
   "metadata": {},
   "outputs": [
    {
     "name": "stdout",
     "output_type": "stream",
     "text": [
      "[[2 4 4]\n",
      " [9 3 1]\n",
      " [7 8 7]]\n"
     ]
    },
    {
     "data": {
      "text/plain": [
       "array([[ 2,  4,  4],\n",
       "       [ 9,  3,  1],\n",
       "       [ 7,  8,  7],\n",
       "       [18, 15, 12]])"
      ]
     },
     "execution_count": 131,
     "metadata": {},
     "output_type": "execute_result"
    }
   ],
   "source": [
    "data = np.random.randint(1, 10+1, (3, 3))\n",
    "print(data)\n",
    "sdata = data.sum(axis=0)\n",
    "a = np.vstack((data, sdata))\n",
    "a"
   ]
  },
  {
   "cell_type": "markdown",
   "metadata": {},
   "source": [
    "##### 11. 10번문제의 결과로 나온 행렬데이터에서 평균값을 출력하고 평균값보다 큰 숫자들만 유니크한 리스트로 나열하세요 (평균값은 소수 둘째 자리까지만 나타내세요)"
   ]
  },
  {
   "cell_type": "code",
   "execution_count": 145,
   "metadata": {},
   "outputs": [
    {
     "name": "stdout",
     "output_type": "stream",
     "text": [
      "avg : 7.5\n"
     ]
    },
    {
     "data": {
      "text/plain": [
       "array([ 8,  9, 12, 15, 18])"
      ]
     },
     "execution_count": 145,
     "metadata": {},
     "output_type": "execute_result"
    }
   ],
   "source": [
    "print(\"avg :\", round(a.mean(), 2))\n",
    "np.unique(a[a>a.mean()])"
   ]
  },
  {
   "cell_type": "markdown",
   "metadata": {},
   "source": [
    "##### 12. 1부터 20까지의 랜덤숫자를 가지는 5*5 행렬을 만드시고 최대값에는 숫자(MAX), 최소값에는 숫자(MIN)으로 행렬을 바꾸세요"
   ]
  },
  {
   "cell_type": "code",
   "execution_count": 93,
   "metadata": {},
   "outputs": [
    {
     "name": "stdout",
     "output_type": "stream",
     "text": [
      "[[ 5 10 19 10  3]\n",
      " [20 12 11 14 18]\n",
      " [ 3 18  8  3 18]\n",
      " [ 8 10 20 12 17]\n",
      " [15  4  7 11 19]]\n"
     ]
    },
    {
     "data": {
      "text/plain": [
       "array([['5', '10', '19', '10', '3(MIN)'],\n",
       "       ['20(MAX)', '12', '11', '14', '18'],\n",
       "       ['3', '18', '8', '3', '18'],\n",
       "       ['8', '10', '20', '12', '17'],\n",
       "       ['15', '4', '7', '11', '19']],\n",
       "      dtype='<U21')"
      ]
     },
     "execution_count": 93,
     "metadata": {},
     "output_type": "execute_result"
    }
   ],
   "source": [
    "a = np.random.randint(1,20+1, (5, 5))\n",
    "print(a)\n",
    "\n",
    "am = a.argmax()\n",
    "m = a.max()\n",
    "an = a.argmin()\n",
    "n = a.min()\n",
    "\n",
    "b = a.astype('U21').reshape(25, 1)\n",
    "\n",
    "\n",
    "b[am] =  '{}(MAX)'.format(m)\n",
    "b[an] = '{}(MIN)'.format(n)\n",
    "b = b.reshape(5, 5)\n",
    "b"
   ]
  },
  {
   "cell_type": "markdown",
   "metadata": {},
   "source": [
    "##### 13. 100에서 130까지의 랜덤 숫자를 가지는 8*8행렬을 만드시고 3의 배수에는 fiz, 5의 배수에는 buz, 3과 5의 배수는 fbz 문자를 출력하세요"
   ]
  },
  {
   "cell_type": "code",
   "execution_count": 134,
   "metadata": {},
   "outputs": [
    {
     "data": {
      "text/plain": [
       "array([['buz', 'fiz', 'fiz', '109', '119', '109', 'buz', 'buz'],\n",
       "       ['fiz', 'buz', '118', 'fiz', '104', 'fiz', '118', 'fiz'],\n",
       "       ['103', '127', 'buz', '106', 'fiz', '113', '109', 'fiz'],\n",
       "       ['fbz', 'buz', '112', 'fiz', '124', '116', 'buz', 'fbz'],\n",
       "       ['106', '119', '121', 'buz', '112', 'fiz', 'fiz', 'fiz'],\n",
       "       ['109', 'fiz', 'buz', 'buz', '103', 'fiz', '121', 'fbz'],\n",
       "       ['fiz', 'fiz', 'fiz', 'buz', '101', '103', 'fbz', 'fiz'],\n",
       "       ['118', 'buz', 'buz', 'fiz', '106', 'fiz', '106', 'fbz']],\n",
       "      dtype='<U21')"
      ]
     },
     "execution_count": 134,
     "metadata": {},
     "output_type": "execute_result"
    }
   ],
   "source": [
    "a = np.random.randint(100, 130+1, (8, 8))\n",
    "# count = len(na[(na%3 == 0) | (na%5 == 0)])\n",
    "b = a.astype('U21')\n",
    "b[(a%3 == 0)] = 'fiz'\n",
    "b[(a%5 == 0)] = 'buz'\n",
    "b[(a%15 == 0)] = 'fbz'\n",
    "\n",
    "b"
   ]
  },
  {
   "cell_type": "markdown",
   "metadata": {},
   "source": [
    "##### 14. 리스트 컴프리헨션을 이용하여 아래와 같은 규칙을 갖는 행렬을 만드세요"
   ]
  },
  {
   "cell_type": "code",
   "execution_count": 214,
   "metadata": {},
   "outputs": [
    {
     "name": "stdout",
     "output_type": "stream",
     "text": [
      "number: 7\n"
     ]
    },
    {
     "data": {
      "text/plain": [
       "array([[ 1,  2,  3,  4,  5,  6,  7],\n",
       "       [ 2,  4,  6,  8, 10, 12, 14],\n",
       "       [ 3,  6,  9, 12, 15, 18, 21],\n",
       "       [ 4,  8, 12, 16, 20, 24, 28],\n",
       "       [ 5, 10, 15, 20, 25, 30, 35],\n",
       "       [ 6, 12, 18, 24, 30, 36, 42],\n",
       "       [ 7, 14, 21, 28, 35, 42, 49]])"
      ]
     },
     "execution_count": 214,
     "metadata": {},
     "output_type": "execute_result"
    }
   ],
   "source": [
    "input_number = int(input(\"number: \"))\n",
    "a1= np.ones((input_number, input_number))\n",
    "\n",
    "for i in range (1, input_number+1):\n",
    "    a = np.arange(i, input_number*i+1, i)\n",
    "    a1[i-1] = a\n",
    "\n",
    "a1 = a1.astype('int')\n",
    "a1"
   ]
  },
  {
   "cell_type": "code",
   "execution_count": 250,
   "metadata": {},
   "outputs": [
    {
     "name": "stdout",
     "output_type": "stream",
     "text": [
      "number: 7\n"
     ]
    },
    {
     "data": {
      "text/plain": [
       "array([[ 1,  2,  3,  4,  5,  6,  7],\n",
       "       [ 2,  4,  6,  8, 10, 12, 14],\n",
       "       [ 3,  6,  9, 12, 15, 18, 21],\n",
       "       [ 4,  8, 12, 16, 20, 24, 28],\n",
       "       [ 5, 10, 15, 20, 25, 30, 35],\n",
       "       [ 6, 12, 18, 24, 30, 36, 42],\n",
       "       [ 7, 14, 21, 28, 35, 42, 49]])"
      ]
     },
     "execution_count": 250,
     "metadata": {},
     "output_type": "execute_result"
    }
   ],
   "source": [
    "input_number = int(input(\"number: \"))\n",
    "\n",
    "a1 =np.stack([list(range(i, input_number*i+1, i)) \n",
    "              for i in range(1, input_number+1)])\n",
    "a1"
   ]
  }
 ],
 "metadata": {
  "kernelspec": {
   "display_name": "Python 3",
   "language": "python",
   "name": "python3"
  },
  "language_info": {
   "codemirror_mode": {
    "name": "ipython",
    "version": 3
   },
   "file_extension": ".py",
   "mimetype": "text/x-python",
   "name": "python",
   "nbconvert_exporter": "python",
   "pygments_lexer": "ipython3",
   "version": "3.6.4"
  }
 },
 "nbformat": 4,
 "nbformat_minor": 2
}
