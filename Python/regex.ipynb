{
 "cells": [
  {
   "cell_type": "code",
   "execution_count": 1,
   "metadata": {
    "collapsed": true
   },
   "outputs": [],
   "source": [
    "import re"
   ]
  },
  {
   "cell_type": "code",
   "execution_count": 24,
   "metadata": {
    "collapsed": true
   },
   "outputs": [],
   "source": [
    "s = \"string great chair greater fighter great\""
   ]
  },
  {
   "cell_type": "markdown",
   "metadata": {},
   "source": [
    "#### match, search, findall"
   ]
  },
  {
   "cell_type": "code",
   "execution_count": 3,
   "metadata": {},
   "outputs": [
    {
     "name": "stdout",
     "output_type": "stream",
     "text": [
      "None\n",
      "<_sre.SRE_Match object; span=(0, 6), match='string'>\n"
     ]
    }
   ],
   "source": [
    "result = re.match('chair', s)\n",
    "print(result)\n",
    "result = re.match('string', s)\n",
    "print(result)"
   ]
  },
  {
   "cell_type": "code",
   "execution_count": 4,
   "metadata": {},
   "outputs": [
    {
     "name": "stdout",
     "output_type": "stream",
     "text": [
      "string 0 6 (0, 6)\n"
     ]
    }
   ],
   "source": [
    "print(result.group(), result.start(), result.end(), result.span())"
   ]
  },
  {
   "cell_type": "code",
   "execution_count": 28,
   "metadata": {},
   "outputs": [
    {
     "name": "stdout",
     "output_type": "stream",
     "text": [
      "<_sre.SRE_Match object; span=(7, 12), match='great'>\n"
     ]
    }
   ],
   "source": [
    "result = re.search('great', s)\n",
    "print(result)"
   ]
  },
  {
   "cell_type": "code",
   "execution_count": 6,
   "metadata": {},
   "outputs": [
    {
     "name": "stdout",
     "output_type": "stream",
     "text": [
      "['great', 'great', 'great']\n"
     ]
    }
   ],
   "source": [
    "result = re.findall('great', s)\n",
    "print(result) # list 형으로 반환"
   ]
  },
  {
   "cell_type": "markdown",
   "metadata": {},
   "source": [
    "#### split\n",
    "- 패턴으로 나누기\n",
    "\n",
    "#### sub\n",
    "- 일치하는 패턴 대체"
   ]
  },
  {
   "cell_type": "code",
   "execution_count": 9,
   "metadata": {},
   "outputs": [
    {
     "name": "stdout",
     "output_type": "stream",
     "text": [
      "string great chair greater fighter great\n",
      "['string ', 'eat chair ', 'eater fighter ', 'eat']\n"
     ]
    },
    {
     "data": {
      "text/plain": [
       "['strin', ' ', 'reat chair ', 'reater fi', 'hter ', 'reat']"
      ]
     },
     "execution_count": 9,
     "metadata": {},
     "output_type": "execute_result"
    }
   ],
   "source": [
    "result = re.split('g', s)\n",
    "result2 = re.split('gr', s)\n",
    "print(s)\n",
    "print(result2)\n",
    "result"
   ]
  },
  {
   "cell_type": "code",
   "execution_count": 10,
   "metadata": {},
   "outputs": [
    {
     "name": "stdout",
     "output_type": "stream",
     "text": [
      "string great chair greater fighter great\n"
     ]
    },
    {
     "data": {
      "text/plain": [
       "'string gram chair gramer fighter gram'"
      ]
     },
     "execution_count": 10,
     "metadata": {},
     "output_type": "execute_result"
    }
   ],
   "source": [
    "print(s)\n",
    "result = re.sub('eat', 'am', s)\n",
    "result"
   ]
  },
  {
   "cell_type": "markdown",
   "metadata": {},
   "source": [
    "### pattern \n",
    "\n",
    "문자\n",
    "- `\\d` : 숫자\n",
    "- `\\D` : 비숫자\n",
    "- `\\w` : 숫자 문자 _(언더스코어)\n",
    "- `\\W` : 비알파벳 문자\n",
    "- `\\s` : 공백 문자\n",
    "- `\\S` : 비공백 문자\n",
    "\n",
    "지정자\n",
    "- `[]` : 문자\n",
    "- `-` : 범위\n",
    "- `.` : 하나의 문자\n",
    "- `?` : 0회 또는 1회 반복\n",
    "- `*` : 0회 이상 반복\n",
    "- `+` : 1회 이상 반복\n",
    "- `{m,n}` : m~n회 반복\n",
    "- `()` : 그룹핑\n"
   ]
  },
  {
   "cell_type": "code",
   "execution_count": 12,
   "metadata": {
    "collapsed": true
   },
   "outputs": [],
   "source": [
    "import string"
   ]
  },
  {
   "cell_type": "code",
   "execution_count": 14,
   "metadata": {},
   "outputs": [
    {
     "data": {
      "text/plain": [
       "('0123456789abcdefghijklmnopqrstuvwxyzABCDEFGHIJKLMNOPQRSTUVWXYZ!\"#$%&\\'()*+,-./:;<=>?@[\\\\]^_`{|}~ \\t\\n\\r\\x0b\\x0c',\n",
       " 100)"
      ]
     },
     "execution_count": 14,
     "metadata": {},
     "output_type": "execute_result"
    }
   ],
   "source": [
    "pt = string.printable\n",
    "pt, len(pt)"
   ]
  },
  {
   "cell_type": "code",
   "execution_count": 18,
   "metadata": {},
   "outputs": [
    {
     "name": "stdout",
     "output_type": "stream",
     "text": [
      "['0', '1', '2', '3', '4', '5', '6', '7', '8', '9']\n",
      "abcdefghijklmnopqrstuvwxyzABCDEFGHIJKLMNOPQRSTUVWXYZ!\"#$%&'()*+,-./:;<=>?@[\\]^_`{|}~ \t\n",
      "\r",
      "\u000b",
      "\f",
      "\n"
     ]
    }
   ],
   "source": [
    "result = re.findall('\\d', pt)\n",
    "print(result)\n",
    "result = re.findall('\\D', pt)\n",
    "print(''.join(result))"
   ]
  },
  {
   "cell_type": "code",
   "execution_count": 20,
   "metadata": {},
   "outputs": [
    {
     "name": "stdout",
     "output_type": "stream",
     "text": [
      "0123456789abcdefghijklmnopqrstuvwxyzABCDEFGHIJKLMNOPQRSTUVWXYZ\n"
     ]
    }
   ],
   "source": [
    "result = re.findall('[0-9a-zA-Z]', pt)\n",
    "print(''.join(result))"
   ]
  },
  {
   "cell_type": "markdown",
   "metadata": {},
   "source": [
    "### . 문자 하나\n",
    "- ? : 0회 또는 1회 반복\n",
    "- \\* : 0회 이상 반복\n",
    "- \\+ : 1회 이상 반복\n",
    "- {m,n} : m~n회 반복\n",
    "- () : 그룹핑"
   ]
  },
  {
   "cell_type": "code",
   "execution_count": 21,
   "metadata": {},
   "outputs": [
    {
     "name": "stdout",
     "output_type": "stream",
     "text": [
      "aab ['aab']\n",
      "a0b ['a0b']\n",
      "abc []\n"
     ]
    }
   ],
   "source": [
    "ls = ['aab', 'a0b', 'abc']\n",
    "for s in ls:\n",
    "    result = re.findall('a.b', s)\n",
    "    print(s, result)"
   ]
  },
  {
   "cell_type": "markdown",
   "metadata": {},
   "source": [
    "ex"
   ]
  },
  {
   "cell_type": "code",
   "execution_count": 52,
   "metadata": {},
   "outputs": [
    {
     "name": "stdout",
     "output_type": "stream",
     "text": [
      "True ['pdj1224@daum.com', 'radajin1224@gmail.com']\n"
     ]
    }
   ],
   "source": [
    "# 이메일 주소 찾기\n",
    "s = \"저의 이메일 주소는 pdj1224@daum.com 입니다. 또한 radajin1224@gmail.com 역시 마찬가지 입니다.\" \n",
    "p = \"\"\n",
    "result = True if re.search(p, s) else False\n",
    "print(result, re.findall(p, s))"
   ]
  },
  {
   "cell_type": "code",
   "execution_count": 57,
   "metadata": {},
   "outputs": [
    {
     "data": {
      "text/plain": [
       "'저의 전화번호는 010-1111-2222이고 주민등록번호는 871211-******* 입니다'"
      ]
     },
     "execution_count": 57,
     "metadata": {},
     "output_type": "execute_result"
    }
   ],
   "source": [
    "# 주민등록번호 : group으로 나눠서 변경하기\n",
    "s = \"저의 전화번호는 010-1111-2222이고 주민등록번호는 871211-4029348 입니다\"\n",
    "p = \"\"\n",
    "re.sub()"
   ]
  },
  {
   "cell_type": "code",
   "execution_count": null,
   "metadata": {
    "collapsed": true
   },
   "outputs": [],
   "source": []
  }
 ],
 "metadata": {
  "kernelspec": {
   "display_name": "Python 3",
   "language": "python",
   "name": "python3"
  },
  "language_info": {
   "codemirror_mode": {
    "name": "ipython",
    "version": 3
   },
   "file_extension": ".py",
   "mimetype": "text/x-python",
   "name": "python",
   "nbconvert_exporter": "python",
   "pygments_lexer": "ipython3",
   "version": "3.6.4"
  }
 },
 "nbformat": 4,
 "nbformat_minor": 2
}
