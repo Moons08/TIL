{
 "cells": [
  {
   "cell_type": "markdown",
   "metadata": {},
   "source": [
    "## np.random"
   ]
  },
  {
   "cell_type": "code",
   "execution_count": 2,
   "metadata": {},
   "outputs": [
    {
     "name": "stdout",
     "output_type": "stream",
     "text": [
      "[ 0.5488135   0.71518937  0.60276338]\n",
      "[-2.2683282   1.33354538 -0.84272405]\n"
     ]
    }
   ],
   "source": [
    "np.random.seed(0) # control random number\n",
    "rd = np.random.rand(3) #uniform\n",
    "rdn = np.random.randn(3) #normal, gaussian distribution\n",
    "print(rd)\n",
    "print(rdn)"
   ]
  },
  {
   "cell_type": "code",
   "execution_count": 3,
   "metadata": {},
   "outputs": [
    {
     "data": {
      "text/plain": [
       "array([[6, 8, 8, 1],\n",
       "       [6, 7, 7, 8],\n",
       "       [1, 5, 9, 8]])"
      ]
     },
     "execution_count": 3,
     "metadata": {},
     "output_type": "execute_result"
    }
   ],
   "source": [
    "r = np.random.randint(10, size=(3, 4)) #integer, uniform\n",
    "r"
   ]
  },
  {
   "cell_type": "markdown",
   "metadata": {},
   "source": [
    "#### shuffle "
   ]
  },
  {
   "cell_type": "code",
   "execution_count": 30,
   "metadata": {},
   "outputs": [
    {
     "name": "stdout",
     "output_type": "stream",
     "text": [
      "[[7 0 3 8]\n",
      " [7 7 1 8]\n",
      " [4 7 0 4]]\n",
      "[[4 7 0 4]\n",
      " [7 0 3 8]\n",
      " [7 7 1 8]]\n"
     ]
    },
    {
     "data": {
      "text/plain": [
       "array([[6, 4, 2, 4],\n",
       "       [6, 3, 3, 7],\n",
       "       [8, 5, 0, 8]])"
      ]
     },
     "execution_count": 30,
     "metadata": {},
     "output_type": "execute_result"
    }
   ],
   "source": [
    "r = np.random.randint(10, size=(3, 4))\n",
    "print(r)\n",
    "\n",
    "np.random.shuffle(r)\n",
    "print(r)\n",
    "\n",
    "r = np.random.randint(10, size=(3, 4))\n",
    "np.random.shuffle(r.reshape(1, 12))\n",
    "r"
   ]
  },
  {
   "cell_type": "markdown",
   "metadata": {},
   "source": [
    "#### choice"
   ]
  },
  {
   "cell_type": "code",
   "execution_count": 35,
   "metadata": {},
   "outputs": [
    {
     "data": {
      "text/plain": [
       "array([1, 3, 3, 4, 4, 4, 4, 0, 3, 3])"
      ]
     },
     "execution_count": 35,
     "metadata": {},
     "output_type": "execute_result"
    }
   ],
   "source": [
    "np.random.choice(5, 10, p=[0.1, 0.2, 0, 0.3, 0.4])\n",
    "# p의 확률로 range(5)를 10개 추출"
   ]
  },
  {
   "cell_type": "markdown",
   "metadata": {},
   "source": [
    "#### unique\n",
    "- 데이터 구성 값과 값의 갯수 추출 (리스트형)"
   ]
  },
  {
   "cell_type": "code",
   "execution_count": 38,
   "metadata": {},
   "outputs": [
    {
     "name": "stdout",
     "output_type": "stream",
     "text": [
      "[[6 4 2 4]\n",
      " [6 3 3 7]\n",
      " [8 5 0 8]]\n",
      "[0 2 3 4 5 6 7 8]\n",
      "[1 1 2 2 1 2 1 2]\n"
     ]
    }
   ],
   "source": [
    "print(r)\n",
    "index, count = np.unique(r, return_counts=True)\n",
    "print(index) # 구성 값 리스트\n",
    "print(count) # 각 값에 대한 갯수 리스트"
   ]
  },
  {
   "cell_type": "markdown",
   "metadata": {},
   "source": [
    "#### stack"
   ]
  },
  {
   "cell_type": "code",
   "execution_count": 42,
   "metadata": {},
   "outputs": [
    {
     "name": "stdout",
     "output_type": "stream",
     "text": [
      "[0 1 2 3 4 5] (6,)\n",
      "[ 6  7  8  9 10 11] (6,)\n",
      "[[ 0  1  2  3  4  5]\n",
      " [ 6  7  8  9 10 11]] (2, 6)\n"
     ]
    },
    {
     "data": {
      "text/plain": [
       "array([[ 0,  6],\n",
       "       [ 1,  7],\n",
       "       [ 2,  8],\n",
       "       [ 3,  9],\n",
       "       [ 4, 10],\n",
       "       [ 5, 11]])"
      ]
     },
     "execution_count": 42,
     "metadata": {},
     "output_type": "execute_result"
    }
   ],
   "source": [
    "na1 = np.arange(6)\n",
    "na2 = np.arange(6, 12)\n",
    "print(na1, na1.shape)\n",
    "print(na2, na2.shape)\n",
    "\n",
    "na3 = np.stack((na1, na2)) #default axis = 0\n",
    "print(na3, na3.shape)\n",
    "\n",
    "na3 = np.stack((na1, na2), axis=1) #axis =1 -> vertically\n",
    "na3"
   ]
  },
  {
   "cell_type": "markdown",
   "metadata": {},
   "source": [
    "### vstack, hstack, concatenate"
   ]
  },
  {
   "cell_type": "code",
   "execution_count": 87,
   "metadata": {},
   "outputs": [
    {
     "name": "stdout",
     "output_type": "stream",
     "text": [
      "[[[13 12 10  3]\n",
      "  [14 10  5 10]]\n",
      "\n",
      " [[14 12  2  4]\n",
      "  [ 3  5 14 10]]]\n"
     ]
    }
   ],
   "source": [
    "na1 = np.random.randint(1, 16, (2, 2, 4))\n",
    "print(na1)"
   ]
  },
  {
   "cell_type": "code",
   "execution_count": 88,
   "metadata": {},
   "outputs": [
    {
     "name": "stdout",
     "output_type": "stream",
     "text": [
      "[[[13 12 10  3]\n",
      "  [14 10  5 10]]\n",
      "\n",
      " [[14 12  2  4]\n",
      "  [ 3  5 14 10]]] (2, 2, 4)\n"
     ]
    },
    {
     "data": {
      "text/plain": [
       "(array([[13, 12, 10,  3],\n",
       "        [14, 10,  5, 10],\n",
       "        [14, 12,  2,  4],\n",
       "        [ 3,  5, 14, 10]]), (4, 4))"
      ]
     },
     "execution_count": 88,
     "metadata": {},
     "output_type": "execute_result"
    }
   ],
   "source": [
    "print(na1, na1.shape)\n",
    "a = np.vstack(na1)\n",
    "a, a.shape"
   ]
  },
  {
   "cell_type": "code",
   "execution_count": 90,
   "metadata": {},
   "outputs": [
    {
     "data": {
      "text/plain": [
       "(array([[13, 12, 10,  3, 14, 12,  2,  4],\n",
       "        [14, 10,  5, 10,  3,  5, 14, 10]]), (2, 8))"
      ]
     },
     "execution_count": 90,
     "metadata": {},
     "output_type": "execute_result"
    }
   ],
   "source": [
    "a = np.hstack(na1)\n",
    "a, a.shape"
   ]
  },
  {
   "cell_type": "code",
   "execution_count": 93,
   "metadata": {},
   "outputs": [
    {
     "data": {
      "text/plain": [
       "array([[13, 12, 10,  3],\n",
       "       [14, 10,  5, 10],\n",
       "       [14, 12,  2,  4],\n",
       "       [ 3,  5, 14, 10]])"
      ]
     },
     "execution_count": 93,
     "metadata": {},
     "output_type": "execute_result"
    }
   ],
   "source": [
    "np.concatenate(na1)"
   ]
  },
  {
   "cell_type": "code",
   "execution_count": 94,
   "metadata": {},
   "outputs": [
    {
     "data": {
      "text/plain": [
       "array([[13, 12, 10,  3, 14, 12,  2,  4],\n",
       "       [14, 10,  5, 10,  3,  5, 14, 10]])"
      ]
     },
     "execution_count": 94,
     "metadata": {},
     "output_type": "execute_result"
    }
   ],
   "source": [
    "np.concatenate(na1, axis=1)"
   ]
  },
  {
   "cell_type": "markdown",
   "metadata": {},
   "source": [
    "### split"
   ]
  },
  {
   "cell_type": "code",
   "execution_count": 109,
   "metadata": {},
   "outputs": [
    {
     "name": "stdout",
     "output_type": "stream",
     "text": [
      "[ 5  6  7  8  9 10 11 12 13 14 15 16 17 18 19]\n"
     ]
    },
    {
     "data": {
      "text/plain": [
       "(array([5, 6, 7]),\n",
       " array([ 8,  9, 10, 11]),\n",
       " array([12, 13, 14, 15, 16, 17, 18, 19]))"
      ]
     },
     "execution_count": 109,
     "metadata": {},
     "output_type": "execute_result"
    }
   ],
   "source": [
    "r = np.arange(5, 20)\n",
    "print(r)\n",
    "r1, r2, r3 = np.split(r, [3, 7])\n",
    "r1, r2, r3"
   ]
  },
  {
   "cell_type": "markdown",
   "metadata": {},
   "source": [
    "#### vsplit, hsplit"
   ]
  },
  {
   "cell_type": "code",
   "execution_count": 123,
   "metadata": {},
   "outputs": [
    {
     "name": "stdout",
     "output_type": "stream",
     "text": [
      "[[8 1 5]\n",
      " [7 0 1]] \n",
      "\n",
      " [[3 9 2]\n",
      " [8 2 4]] \n",
      "\n",
      "[[8 1]\n",
      " [7 0]\n",
      " [3 9]\n",
      " [8 2]] \n",
      "\n",
      " [[5]\n",
      " [1]\n",
      " [2]\n",
      " [4]]\n"
     ]
    }
   ],
   "source": [
    "r = np.random.randint(10, size=(4, 3))\n",
    "r1, r2 = np.vsplit(r, [2])\n",
    "print(r1, \"\\n\\n\", r2, \"\\n\")\n",
    "r3, r4 = np.hsplit(r, [2])\n",
    "print(r3, \"\\n\\n\", r4)"
   ]
  },
  {
   "cell_type": "markdown",
   "metadata": {},
   "source": [
    "### sort"
   ]
  },
  {
   "cell_type": "code",
   "execution_count": 126,
   "metadata": {},
   "outputs": [
    {
     "name": "stdout",
     "output_type": "stream",
     "text": [
      "[[2 2 6]\n",
      " [4 6 0]\n",
      " [4 9 2]] \n",
      "\n",
      "[[2 2 6]\n",
      " [0 4 6]\n",
      " [2 4 9]] \n",
      "\n",
      "[[0 2 6]\n",
      " [2 4 6]\n",
      " [2 4 9]] \n",
      "\n"
     ]
    }
   ],
   "source": [
    "r1 = np.random.randint(10, size=(3, 3))\n",
    "print(r1, \"\\n\")\n",
    "r1.sort()          #horizontal\n",
    "print(r1, '\\n')\n",
    "r1.sort(axis=0)   # vertical\n",
    "print(r1, '\\n')"
   ]
  },
  {
   "cell_type": "markdown",
   "metadata": {},
   "source": [
    "### Datatype\n",
    "- np data needs dtype to check datatype"
   ]
  },
  {
   "cell_type": "code",
   "execution_count": 127,
   "metadata": {},
   "outputs": [
    {
     "data": {
      "text/plain": [
       "(dtype('bool'), numpy.ndarray)"
      ]
     },
     "execution_count": 127,
     "metadata": {},
     "output_type": "execute_result"
    }
   ],
   "source": [
    "na = np.array([True, False])\n",
    "na.dtype, type(na)"
   ]
  }
 ],
 "metadata": {
  "kernelspec": {
   "display_name": "Python 3",
   "language": "python",
   "name": "python3"
  },
  "language_info": {
   "codemirror_mode": {
    "name": "ipython",
    "version": 3
   },
   "file_extension": ".py",
   "mimetype": "text/x-python",
   "name": "python",
   "nbconvert_exporter": "python",
   "pygments_lexer": "ipython3",
   "version": "3.6.4"
  }
 },
 "nbformat": 4,
 "nbformat_minor": 2
}
